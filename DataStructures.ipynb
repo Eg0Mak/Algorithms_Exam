{
  "nbformat": 4,
  "nbformat_minor": 0,
  "metadata": {
    "colab": {
      "provenance": [],
      "collapsed_sections": [
        "ppbiwyOL2o6U",
        "RiS8I0Qpi0h2",
        "UOODozXqbDsR",
        "9cIqKyBmbneZ",
        "y3WFd7tndWkd",
        "jDOvGwLJexJ3",
        "BptXaIuyNCsK",
        "wuBv0vbtNg5f",
        "CjUmZYJkNrUg",
        "pDsVb__MNxci",
        "zZXsDym-N9z2",
        "eTFImxzjOOBz",
        "-R7fKYQhOVyp"
      ]
    },
    "kernelspec": {
      "name": "python3",
      "display_name": "Python 3"
    },
    "language_info": {
      "name": "python"
    }
  },
  "cells": [
    {
      "cell_type": "markdown",
      "source": [
        "### Linked List"
      ],
      "metadata": {
        "id": "ppbiwyOL2o6U"
      }
    },
    {
      "cell_type": "code",
      "execution_count": null,
      "metadata": {
        "id": "UVIIPyAeF8hQ"
      },
      "outputs": [],
      "source": [
        "class Node:\n",
        "    def __init__(self, data):\n",
        "        self.data = data\n",
        "        self.next = None\n",
        "\n",
        "class LinkedList:\n",
        "    def __init__(self):\n",
        "        self.head = None\n",
        "        self.size = 0\n",
        "\n",
        "    def __len__(self):\n",
        "        return self.size\n",
        "\n",
        "    def is_empty(self):\n",
        "        return self.size == 0\n",
        "\n",
        "    def append(self, data):\n",
        "        new_node = Node(data)\n",
        "        if self.head == None:\n",
        "            self.head = new_node\n",
        "        else:\n",
        "            current = self.head\n",
        "            while current.next is not None:\n",
        "                current = current.next\n",
        "            current.next = new_node\n",
        "        self.size += 1\n",
        "\n",
        "    def prepend(self, data):\n",
        "        new_node = Node(data)\n",
        "        new_node.next = self.head\n",
        "        self.head = new_node\n",
        "        self.size += 1\n",
        "\n",
        "    def __str__(self):\n",
        "        elements = []\n",
        "        current = self.head\n",
        "        while current is not None:\n",
        "            elements.append(str(current.data))\n",
        "            current = current.next\n",
        "        return \" -> \".join(elements) + \" -> None\""
      ]
    },
    {
      "cell_type": "code",
      "source": [
        "ll = LinkedList()\n",
        "\n",
        "ll.append(10)\n",
        "ll.append(20)\n",
        "ll.prepend(5)\n",
        "\n",
        "\n",
        "print(\"Список:\", ll)\n",
        "print(\"Длина списка:\", len(ll))"
      ],
      "metadata": {
        "id": "KfHc4ucc9JKV",
        "colab": {
          "base_uri": "https://localhost:8080/"
        },
        "outputId": "97c1c792-b5b4-4b31-9c3a-927d24f65e10"
      },
      "execution_count": null,
      "outputs": [
        {
          "output_type": "stream",
          "name": "stdout",
          "text": [
            "Список: 5 -> 10 -> 20 -> None\n",
            "Длина списка: 3\n"
          ]
        }
      ]
    },
    {
      "cell_type": "markdown",
      "source": [
        "### DoubleLinked List"
      ],
      "metadata": {
        "id": "RiS8I0Qpi0h2"
      }
    },
    {
      "cell_type": "code",
      "source": [
        "class Node:\n",
        "    def __init__(self, data):\n",
        "        self.data = data  # Данные узла\n",
        "        self.next = None  # Ссылка на следующий узел\n",
        "        self.prev = None  # Ссылка на предыдущий узел\n",
        "\n",
        "\n",
        "class DoublyLinkedList:\n",
        "    def __init__(self):\n",
        "        self.head = None  # Головной узел\n",
        "        self.tail = None  # Хвостовой узел\n",
        "\n",
        "    def append(self, data):\n",
        "        new_node = Node(data)\n",
        "        if self.head is None:  # Если список пуст\n",
        "            self.head = new_node\n",
        "            self.tail = new_node\n",
        "        else:\n",
        "            new_node.prev = self.tail\n",
        "            self.tail.next = new_node\n",
        "            self.tail = new_node\n",
        "\n",
        "    def prepend(self, data):\n",
        "        new_node = Node(data)\n",
        "        if self.head is None:  # Если список пуст\n",
        "            self.head = new_node\n",
        "            self.tail = new_node\n",
        "        else:\n",
        "            new_node.next = self.head\n",
        "            self.head.prev = new_node\n",
        "            self.head = new_node\n",
        "\n",
        "    def insert_after(self, prev_node, data):\n",
        "        if prev_node is None:\n",
        "            print(\"Указанный узел не существует\")\n",
        "            return\n",
        "\n",
        "        new_node = Node(data)\n",
        "        new_node.next = prev_node.next\n",
        "        prev_node.next = new_node\n",
        "        new_node.prev = prev_node\n",
        "\n",
        "        if new_node.next is not None:\n",
        "            new_node.next.prev = new_node\n",
        "        else:\n",
        "            self.tail = new_node\n",
        "\n",
        "    def delete(self, node):\n",
        "        if self.head is None or node is None:\n",
        "            return\n",
        "\n",
        "        # Если удаляемый узел - головной\n",
        "        if self.head == node:\n",
        "            self.head = node.next\n",
        "\n",
        "        # Если удаляемый узел - хвостовой\n",
        "        if self.tail == node:\n",
        "            self.tail = node.prev\n",
        "\n",
        "        # Изменяем ссылки соседних узлов\n",
        "        if node.next is not None:\n",
        "            node.next.prev = node.prev\n",
        "        if node.prev is not None:\n",
        "            node.prev.next = node.next\n",
        "\n",
        "    def display(self):\n",
        "        current = self.head\n",
        "        while current:\n",
        "            print(current.data, end=\" <-> \")\n",
        "            current = current.next\n",
        "        print(\"None\")"
      ],
      "metadata": {
        "id": "r89sIqzIMxO7"
      },
      "execution_count": 1,
      "outputs": []
    },
    {
      "cell_type": "code",
      "source": [
        "dll = DoublyLinkedList()\n",
        "\n",
        "dll.append(1)\n",
        "dll.append(2)\n",
        "dll.append(3)\n",
        "dll.prepend(0)\n",
        "\n",
        "\n",
        "dll.display()"
      ],
      "metadata": {
        "colab": {
          "base_uri": "https://localhost:8080/"
        },
        "id": "WCvmua95auz1",
        "outputId": "422e1320-81e0-4a7b-c57a-9f90aed9b39c"
      },
      "execution_count": 2,
      "outputs": [
        {
          "output_type": "stream",
          "name": "stdout",
          "text": [
            "0 <-> 1 <-> 2 <-> 3 <-> None\n"
          ]
        }
      ]
    },
    {
      "cell_type": "markdown",
      "source": [
        "### Cycled DoubleLinked List"
      ],
      "metadata": {
        "id": "UOODozXqbDsR"
      }
    },
    {
      "cell_type": "code",
      "source": [
        "class Node:\n",
        "    def __init__(self, data):\n",
        "        self.data = data  # Данные узла\n",
        "        self.next = None  # Ссылка на следующий узел\n",
        "        self.prev = None  # Ссылка на предыдущий узел\n",
        "\n",
        "\n",
        "class CircularDoublyLinkedList:\n",
        "    def __init__(self):\n",
        "        self.head = None  # Головной узел\n",
        "\n",
        "    def append(self, data):\n",
        "        \"\"\"Добавление элемента в конец списка\"\"\"\n",
        "        new_node = Node(data)\n",
        "\n",
        "        if self.head is None:  # Если список пуст\n",
        "            self.head = new_node\n",
        "            new_node.next = new_node\n",
        "            new_node.prev = new_node\n",
        "        else:\n",
        "            # Получаем последний узел (перед head)\n",
        "            last_node = self.head.prev\n",
        "\n",
        "            # Настраиваем связи нового узла\n",
        "            new_node.next = self.head\n",
        "            new_node.prev = last_node\n",
        "\n",
        "            # Обновляем связи соседних узлов\n",
        "            last_node.next = new_node\n",
        "            self.head.prev = new_node\n",
        "\n",
        "    def prepend(self, data):\n",
        "        \"\"\"Добавление элемента в начало списка\"\"\"\n",
        "        self.append(data)  # Просто добавляем в конец\n",
        "        self.head = self.head.prev  # И делаем новый узел головным\n",
        "\n",
        "    def insert_after(self, prev_node, data):\n",
        "        \"\"\"Вставка элемента после указанного узла\"\"\"\n",
        "        if prev_node is None:\n",
        "            print(\"Указанный узел не существует\")\n",
        "            return\n",
        "\n",
        "        new_node = Node(data)\n",
        "\n",
        "        # Настраиваем связи нового узла\n",
        "        new_node.next = prev_node.next\n",
        "        new_node.prev = prev_node\n",
        "\n",
        "        # Обновляем связи соседних узлов\n",
        "        prev_node.next.prev = new_node\n",
        "        prev_node.next = new_node\n",
        "\n",
        "    def delete(self, node):\n",
        "        \"\"\"Удаление указанного узла\"\"\"\n",
        "        if self.head is None or node is None:\n",
        "            return\n",
        "\n",
        "        # Если удаляется единственный узел\n",
        "        if self.head.next == self.head and self.head == node:\n",
        "            self.head = None\n",
        "            return\n",
        "\n",
        "        # Если удаляется головной узел\n",
        "        if self.head == node:\n",
        "            self.head = node.next\n",
        "\n",
        "        # Перенаправляем ссылки соседних узлов\n",
        "        node.prev.next = node.next\n",
        "        node.next.prev = node.prev\n",
        "\n",
        "    def display(self):\n",
        "        \"\"\"Вывод списка от начала до конца\"\"\"\n",
        "        if self.head is None:\n",
        "            print(\"Список пуст\")\n",
        "            return\n",
        "\n",
        "        current = self.head\n",
        "        while True:\n",
        "            print(current.data, end=\" <-> \")\n",
        "            current = current.next\n",
        "            if current == self.head:\n",
        "                break\n",
        "        print(\"(head)\")\n",
        "\n"
      ],
      "metadata": {
        "id": "myWM2cUzbCeX"
      },
      "execution_count": null,
      "outputs": []
    },
    {
      "cell_type": "code",
      "source": [
        "cdll = CircularDoublyLinkedList()\n",
        "\n",
        "cdll.append(1)\n",
        "cdll.append(2)\n",
        "cdll.append(3)\n",
        "cdll.prepend(0)\n",
        "\n",
        "cdll.display()"
      ],
      "metadata": {
        "colab": {
          "base_uri": "https://localhost:8080/"
        },
        "id": "c-9A1wtzbemy",
        "outputId": "87a954ee-938f-4d4c-d0da-0101920245c7"
      },
      "execution_count": null,
      "outputs": [
        {
          "output_type": "stream",
          "name": "stdout",
          "text": [
            "0 <-> 1 <-> 2 <-> 3 <-> (head)\n"
          ]
        }
      ]
    },
    {
      "cell_type": "markdown",
      "source": [
        "### Trees"
      ],
      "metadata": {
        "id": "9cIqKyBmbneZ"
      }
    },
    {
      "cell_type": "markdown",
      "source": [
        "#### Binary Tree"
      ],
      "metadata": {
        "id": "yR-OdNk0b4Ih"
      }
    },
    {
      "cell_type": "code",
      "source": [
        "class TreeNode:\n",
        "    \"\"\"Узел бинарного дерева\"\"\"\n",
        "    def __init__(self, value):\n",
        "        self.value = value  # Значение узла\n",
        "        self.left = None    # Левый потомок\n",
        "        self.right = None   # Правый потомок\n",
        "\n",
        "\n",
        "class BinaryTree:\n",
        "    \"\"\"Бинарное дерево\"\"\"\n",
        "    def __init__(self):\n",
        "        self.root = None  # Корень дерева\n",
        "\n",
        "    def insert(self, value):\n",
        "        \"\"\"Вставка значения в дерево\"\"\"\n",
        "        if self.root is None:\n",
        "            self.root = TreeNode(value)\n",
        "        else:\n",
        "            self._insert_recursive(self.root, value)\n",
        "\n",
        "    def _insert_recursive(self, node, value):\n",
        "        \"\"\"Рекурсивная вспомогательная функция для вставки\"\"\"\n",
        "        if value < node.value:\n",
        "            if node.left is None:\n",
        "                node.left = TreeNode(value)\n",
        "            else:\n",
        "                self._insert_recursive(node.left, value)\n",
        "        else:\n",
        "            if node.right is None:\n",
        "                node.right = TreeNode(value)\n",
        "            else:\n",
        "                self._insert_recursive(node.right, value)\n",
        "\n",
        "    def search(self, value):\n",
        "        \"\"\"Поиск значения в дереве\"\"\"\n",
        "        return self._search_recursive(self.root, value)\n",
        "\n",
        "    def _search_recursive(self, node, value):\n",
        "        \"\"\"Рекурсивная вспомогательная функция для поиска\"\"\"\n",
        "        if node is None:\n",
        "            return False\n",
        "        if node.value == value:\n",
        "            return True\n",
        "        elif value < node.value:\n",
        "            return self._search_recursive(node.left, value)\n",
        "        else:\n",
        "            return self._search_recursive(node.right, value)\n",
        "\n",
        "    def inorder_traversal(self):\n",
        "        \"\"\"Обход дерева в порядке in-order (левый, корень, правый)\"\"\"\n",
        "        result = []\n",
        "        self._inorder_recursive(self.root, result)\n",
        "        return result\n",
        "\n",
        "    def _inorder_recursive(self, node, result):\n",
        "        \"\"\"Рекурсивный вспомогательный метод для in-order обхода\"\"\"\n",
        "        if node:\n",
        "            self._inorder_recursive(node.left, result)\n",
        "            result.append(node.value)\n",
        "            self._inorder_recursive(node.right, result)\n",
        "\n",
        "    def preorder_traversal(self):\n",
        "        \"\"\"Обход дерева в порядке pre-order (корень, левый, правый)\"\"\"\n",
        "        result = []\n",
        "        self._preorder_recursive(self.root, result)\n",
        "        return result\n",
        "\n",
        "    def _preorder_recursive(self, node, result):\n",
        "        \"\"\"Рекурсивный вспомогательный метод для pre-order обхода\"\"\"\n",
        "        if node:\n",
        "            result.append(node.value)\n",
        "            self._preorder_recursive(node.left, result)\n",
        "            self._preorder_recursive(node.right, result)\n",
        "\n",
        "    def postorder_traversal(self):\n",
        "        \"\"\"Обход дерева в порядке post-order (левый, правый, корень)\"\"\"\n",
        "        result = []\n",
        "        self._postorder_recursive(self.root, result)\n",
        "        return result\n",
        "\n",
        "    def _postorder_recursive(self, node, result):\n",
        "        \"\"\"Рекурсивный вспомогательный метод для post-order обхода\"\"\"\n",
        "        if node:\n",
        "            self._postorder_recursive(node.left, result)\n",
        "            self._postorder_recursive(node.right, result)\n",
        "            result.append(node.value)\n",
        "\n",
        "    def height(self):\n",
        "        \"\"\"Вычисление высоты дерева\"\"\"\n",
        "        return self._height_recursive(self.root)\n",
        "\n",
        "    def _height_recursive(self, node):\n",
        "        \"\"\"Рекурсивный вспомогательный метод для вычисления высоты\"\"\"\n",
        "        if node is None:\n",
        "            return -1\n",
        "        left_height = self._height_recursive(node.left)\n",
        "        right_height = self._height_recursive(node.right)\n",
        "        return max(left_height, right_height) + 1"
      ],
      "metadata": {
        "id": "9wM3Vll0bhzi"
      },
      "execution_count": null,
      "outputs": []
    },
    {
      "cell_type": "code",
      "source": [
        "tree = BinaryTree()\n",
        "\n",
        "# Вставляем значения в дерево\n",
        "values = [50, 30, 70, 20, 40, 60, 80]\n",
        "for value in values:\n",
        "    tree.insert(value)\n",
        "\n",
        "print(\"In-order обход:\", tree.inorder_traversal())\n",
        "print(\"Pre-order обход:\", tree.preorder_traversal())\n",
        "print(\"Post-order обход:\", tree.postorder_traversal())\n",
        "\n",
        "print(\"\\nПоиск значений:\")\n",
        "print(\"40 в дереве?\", tree.search(40))\n",
        "print(\"100 в дереве?\", tree.search(100))\n",
        "\n",
        "print(\"\\nВысота дерева:\", tree.height())"
      ],
      "metadata": {
        "colab": {
          "base_uri": "https://localhost:8080/"
        },
        "id": "Zp_J7ThxcykS",
        "outputId": "45add736-b705-4c60-c482-bb644c9dd746"
      },
      "execution_count": null,
      "outputs": [
        {
          "output_type": "stream",
          "name": "stdout",
          "text": [
            "In-order обход: [20, 30, 40, 50, 60, 70, 80]\n",
            "Pre-order обход: [50, 30, 20, 40, 70, 60, 80]\n",
            "Post-order обход: [20, 40, 30, 60, 80, 70, 50]\n",
            "\n",
            "Поиск значений:\n",
            "40 в дереве? True\n",
            "100 в дереве? False\n",
            "\n",
            "Высота дерева: 2\n"
          ]
        }
      ]
    },
    {
      "cell_type": "markdown",
      "source": [
        "#### Binary Tree Search"
      ],
      "metadata": {
        "id": "p4l7fYvtc65e"
      }
    },
    {
      "cell_type": "code",
      "source": [
        "class TreeNode:\n",
        "    \"\"\"Узел бинарного дерева поиска\"\"\"\n",
        "    def __init__(self, key):\n",
        "        self.key = key        # Ключ узла\n",
        "        self.left = None      # Левый потомок\n",
        "        self.right = None     # Правый потомок\n",
        "        self.parent = None    # Родительский узел (опционально)\n",
        "\n",
        "\n",
        "class BinarySearchTree:\n",
        "    \"\"\"Бинарное дерево поиска (BST)\"\"\"\n",
        "    def __init__(self):\n",
        "        self.root = None\n",
        "\n",
        "    def insert(self, key):\n",
        "        \"\"\"Вставка ключа в дерево\"\"\"\n",
        "        if self.root is None:\n",
        "            self.root = TreeNode(key)\n",
        "        else:\n",
        "            self._insert_recursive(self.root, key)\n",
        "\n",
        "    def _insert_recursive(self, node, key):\n",
        "        \"\"\"Рекурсивная вставка ключа\"\"\"\n",
        "        if key < node.key:\n",
        "            if node.left is None:\n",
        "                node.left = TreeNode(key)\n",
        "                node.left.parent = node\n",
        "            else:\n",
        "                self._insert_recursive(node.left, key)\n",
        "        else:\n",
        "            if node.right is None:\n",
        "                node.right = TreeNode(key)\n",
        "                node.right.parent = node\n",
        "            else:\n",
        "                self._insert_recursive(node.right, key)\n",
        "\n",
        "    def search(self, key):\n",
        "        \"\"\"Поиск ключа в дереве\"\"\"\n",
        "        return self._search_recursive(self.root, key)\n",
        "\n",
        "    def _search_recursive(self, node, key):\n",
        "        \"\"\"Рекурсивный поиск ключа\"\"\"\n",
        "        if node is None:\n",
        "            return None\n",
        "        if node.key == key:\n",
        "            return node\n",
        "        elif key < node.key:\n",
        "            return self._search_recursive(node.left, key)\n",
        "        else:\n",
        "            return self._search_recursive(node.right, key)\n",
        "\n",
        "    def delete(self, key):\n",
        "        \"\"\"Удаление ключа из дерева\"\"\"\n",
        "        node = self.search(key)\n",
        "        if node is None:\n",
        "            return False\n",
        "\n",
        "        # Случай 1: У узла нет потомков\n",
        "        if node.left is None and node.right is None:\n",
        "            self._replace_node(node, None)\n",
        "\n",
        "        # Случай 2: У узла один потомок\n",
        "        elif node.left is None:\n",
        "            self._replace_node(node, node.right)\n",
        "        elif node.right is None:\n",
        "            self._replace_node(node, node.left)\n",
        "\n",
        "        # Случай 3: У узла два потомка\n",
        "        else:\n",
        "            successor = self._find_min(node.right)\n",
        "            node.key = successor.key\n",
        "            self._replace_node(successor, successor.right)\n",
        "\n",
        "        return True\n",
        "\n",
        "    def _replace_node(self, node, new_node):\n",
        "        \"\"\"Замена узла в дереве\"\"\"\n",
        "        if node.parent is None:\n",
        "            self.root = new_node\n",
        "        elif node == node.parent.left:\n",
        "            node.parent.left = new_node\n",
        "        else:\n",
        "            node.parent.right = new_node\n",
        "\n",
        "        if new_node is not None:\n",
        "            new_node.parent = node.parent\n",
        "\n",
        "    def _find_min(self, node):\n",
        "        \"\"\"Поиск узла с минимальным ключом в поддереве\"\"\"\n",
        "        while node.left is not None:\n",
        "            node = node.left\n",
        "        return node\n",
        "\n",
        "    def inorder_traversal(self):\n",
        "        \"\"\"Центрированный обход (возвращает отсортированный список)\"\"\"\n",
        "        result = []\n",
        "        self._inorder_recursive(self.root, result)\n",
        "        return result\n",
        "\n",
        "    def _inorder_recursive(self, node, result):\n",
        "        \"\"\"Рекурсивный центрированный обход\"\"\"\n",
        "        if node:\n",
        "            self._inorder_recursive(node.left, result)\n",
        "            result.append(node.key)\n",
        "            self._inorder_recursive(node.right, result)\n",
        "\n",
        "    def print_tree(self):\n",
        "        \"\"\"Визуализация дерева\"\"\"\n",
        "        self._print_recursive(self.root, 0)\n",
        "\n",
        "    def _print_recursive(self, node, level):\n",
        "        \"\"\"Рекурсивная визуализация\"\"\"\n",
        "        if node is not None:\n",
        "            self._print_recursive(node.right, level + 1)\n",
        "            print(' ' * 4 * level + '->', node.key)\n",
        "            self._print_recursive(node.left, level + 1)\n"
      ],
      "metadata": {
        "id": "6mrCxwlRczqT"
      },
      "execution_count": null,
      "outputs": []
    },
    {
      "cell_type": "code",
      "source": [
        "bst = BinarySearchTree()\n",
        "\n",
        "# Вставка элементов\n",
        "keys = [50, 30, 70, 20, 40, 60, 80]\n",
        "for key in keys:\n",
        "    bst.insert(key)\n",
        "\n",
        "print(\"In-order обход (отсортированный список):\", bst.inorder_traversal())\n",
        "\n",
        "print(\"\\nПоиск элементов:\")\n",
        "print(\"40 в дереве:\", \"Да\" if bst.search(40) else \"Нет\")\n",
        "print(\"100 в дереве:\", \"Да\" if bst.search(100) else \"Нет\")\n",
        "\n",
        "print(\"\\nДерево до удаления:\")\n",
        "bst.print_tree()\n",
        "\n",
        "# Удаление элемента\n",
        "bst.delete(30)\n",
        "print(\"\\nДерево после удаления 30:\")\n",
        "bst.print_tree()\n",
        "\n",
        "print(\"\\nIn-order обход после удаления:\", bst.inorder_traversal())"
      ],
      "metadata": {
        "colab": {
          "base_uri": "https://localhost:8080/"
        },
        "id": "JokgTP5FdSgt",
        "outputId": "f32d137d-45a0-487c-818f-a563fc9055c6"
      },
      "execution_count": null,
      "outputs": [
        {
          "output_type": "stream",
          "name": "stdout",
          "text": [
            "In-order обход (отсортированный список): [20, 30, 40, 50, 60, 70, 80]\n",
            "\n",
            "Поиск элементов:\n",
            "40 в дереве: Да\n",
            "100 в дереве: Нет\n",
            "\n",
            "Дерево до удаления:\n",
            "        -> 80\n",
            "    -> 70\n",
            "        -> 60\n",
            "-> 50\n",
            "        -> 40\n",
            "    -> 30\n",
            "        -> 20\n",
            "\n",
            "Дерево после удаления 30:\n",
            "        -> 80\n",
            "    -> 70\n",
            "        -> 60\n",
            "-> 50\n",
            "    -> 40\n",
            "        -> 20\n",
            "\n",
            "In-order обход после удаления: [20, 40, 50, 60, 70, 80]\n"
          ]
        }
      ]
    },
    {
      "cell_type": "markdown",
      "source": [
        "### Двоичная куча"
      ],
      "metadata": {
        "id": "y3WFd7tndWkd"
      }
    },
    {
      "cell_type": "code",
      "source": [
        "class BinaryHeap:\n",
        "    \"\"\"Двоичная куча (минимальная по умолчанию)\"\"\"\n",
        "    def __init__(self, max_heap=False):\n",
        "        self.heap = []\n",
        "        self.max_heap = max_heap  # Если True, то это максимальная куча\n",
        "\n",
        "    def parent(self, i):\n",
        "        \"\"\"Индекс родителя для узла i\"\"\"\n",
        "        return (i - 1) // 2\n",
        "\n",
        "    def left_child(self, i):\n",
        "        \"\"\"Индекс левого потомка для узла i\"\"\"\n",
        "        return 2 * i + 1\n",
        "\n",
        "    def right_child(self, i):\n",
        "        \"\"\"Индекс правого потомка для узла i\"\"\"\n",
        "        return 2 * i + 2\n",
        "\n",
        "    def compare(self, a, b):\n",
        "        \"\"\"Сравнение элементов в зависимости от типа кучи\"\"\"\n",
        "        if self.max_heap:\n",
        "            return a > b\n",
        "        else:\n",
        "            return a < b\n",
        "\n",
        "    def insert(self, key):\n",
        "        \"\"\"Вставка элемента в кучу\"\"\"\n",
        "        self.heap.append(key)\n",
        "        self.sift_up(len(self.heap) - 1)\n",
        "\n",
        "    def sift_up(self, i):\n",
        "        \"\"\"Всплытие элемента\"\"\"\n",
        "        while i > 0 and self.compare(self.heap[i], self.heap[self.parent(i)]):\n",
        "            self.heap[i], self.heap[self.parent(i)] = self.heap[self.parent(i)], self.heap[i]\n",
        "            i = self.parent(i)\n",
        "\n",
        "    def extract(self):\n",
        "        \"\"\"Извлечение корневого элемента (min или max)\"\"\"\n",
        "        if not self.heap:\n",
        "            return None\n",
        "\n",
        "        root = self.heap[0]\n",
        "        last = self.heap.pop()\n",
        "\n",
        "        if self.heap:\n",
        "            self.heap[0] = last\n",
        "            self.sift_down(0)\n",
        "\n",
        "        return root\n",
        "\n",
        "    def sift_down(self, i):\n",
        "        \"\"\"Погружение элемента\"\"\"\n",
        "        min_max_index = i\n",
        "        left = self.left_child(i)\n",
        "        right = self.right_child(i)\n",
        "\n",
        "        if left < len(self.heap) and self.compare(self.heap[left], self.heap[min_max_index]):\n",
        "            min_max_index = left\n",
        "\n",
        "        if right < len(self.heap) and self.compare(self.heap[right], self.heap[min_max_index]):\n",
        "            min_max_index = right\n",
        "\n",
        "        if i != min_max_index:\n",
        "            self.heap[i], self.heap[min_max_index] = self.heap[min_max_index], self.heap[i]\n",
        "            self.sift_down(min_max_index)\n",
        "\n",
        "    def peek(self):\n",
        "        \"\"\"Получение корневого элемента без извлечения\"\"\"\n",
        "        return self.heap[0] if self.heap else None\n",
        "\n",
        "    def size(self):\n",
        "        \"\"\"Размер кучи\"\"\"\n",
        "        return len(self.heap)\n",
        "\n",
        "    def is_empty(self):\n",
        "        \"\"\"Проверка на пустоту\"\"\"\n",
        "        return len(self.heap) == 0\n",
        "\n",
        "    def build_heap(self, array):\n",
        "        \"\"\"Построение кучи из массива\"\"\"\n",
        "        self.heap = array.copy()\n",
        "        for i in range(len(self.heap) // 2, -1, -1):\n",
        "            self.sift_down(i)\n",
        "\n",
        "    def __str__(self):\n",
        "        \"\"\"Визуализация кучи\"\"\"\n",
        "        levels = []\n",
        "        level = 0\n",
        "        i = 0\n",
        "        while i < len(self.heap):\n",
        "            level_nodes = []\n",
        "            level_size = 2 ** level\n",
        "            for j in range(level_size):\n",
        "                if i + j < len(self.heap):\n",
        "                    level_nodes.append(str(self.heap[i + j]))\n",
        "            levels.append(' '.join(level_nodes))\n",
        "            i += level_size\n",
        "            level += 1\n",
        "        return '\\n'.join(levels)"
      ],
      "metadata": {
        "id": "pbmwFuRQdTT3"
      },
      "execution_count": null,
      "outputs": []
    },
    {
      "cell_type": "code",
      "source": [
        "print(\"Минимальная куча:\")\n",
        "min_heap = BinaryHeap()\n",
        "for num in [4, 2, 8, 1, 5, 7]:\n",
        "    min_heap.insert(num)\n",
        "\n",
        "print(min_heap)\n",
        "print(\"Минимальный элемент:\", min_heap.peek())\n",
        "print(\"Извлеченный элемент:\", min_heap.extract())\n",
        "print(\"Куча после извлечения:\")\n",
        "print(min_heap)\n",
        "\n",
        "print(\"\\nМаксимальная куча:\")\n",
        "max_heap = BinaryHeap(max_heap=True)\n",
        "for num in [4, 2, 8, 1, 5, 7]:\n",
        "    max_heap.insert(num)\n",
        "\n",
        "print(max_heap)\n",
        "print(\"Максимальный элемент:\", max_heap.peek())\n",
        "print(\"Извлеченный элемент:\", max_heap.extract())\n",
        "print(\"Куча после извлечения:\")\n",
        "print(max_heap)\n",
        "\n",
        "print(\"\\nПостроение кучи из массива:\")\n",
        "arr = [9, 3, 6, 2, 7, 1, 5]\n",
        "heap = BinaryHeap()\n",
        "heap.build_heap(arr)\n",
        "print(heap)"
      ],
      "metadata": {
        "colab": {
          "base_uri": "https://localhost:8080/"
        },
        "id": "aYFuDN-Ydyn6",
        "outputId": "a821fc76-3c8b-4090-f1fa-f46d8a1db2a9"
      },
      "execution_count": null,
      "outputs": [
        {
          "output_type": "stream",
          "name": "stdout",
          "text": [
            "Минимальная куча:\n",
            "1\n",
            "2 7\n",
            "4 5 8\n",
            "Минимальный элемент: 1\n",
            "Извлеченный элемент: 1\n",
            "Куча после извлечения:\n",
            "2\n",
            "4 7\n",
            "8 5\n",
            "\n",
            "Максимальная куча:\n",
            "8\n",
            "5 7\n",
            "1 2 4\n",
            "Максимальный элемент: 8\n",
            "Извлеченный элемент: 8\n",
            "Куча после извлечения:\n",
            "7\n",
            "5 4\n",
            "1 2\n",
            "\n",
            "Построение кучи из массива:\n",
            "1\n",
            "2 5\n",
            "3 7 6 9\n"
          ]
        }
      ]
    },
    {
      "cell_type": "markdown",
      "source": [
        "#### Очередь с приоритетом"
      ],
      "metadata": {
        "id": "7E97et_bd3j6"
      }
    },
    {
      "cell_type": "code",
      "source": [
        "class PriorityQueue:\n",
        "    \"\"\"Очередь с приоритетом (на основе двоичной кучи)\"\"\"\n",
        "    def __init__(self, max_priority=False):\n",
        "        \"\"\"\n",
        "        Инициализация очереди с приоритетом\n",
        "        :param max_priority: Если True, то первыми извлекаются элементы с наибольшим приоритетом\n",
        "        \"\"\"\n",
        "        self.heap = []\n",
        "        self.max_priority = max_priority\n",
        "\n",
        "    def _compare(self, a, b):\n",
        "        \"\"\"Сравнение приоритетов\"\"\"\n",
        "        if self.max_priority:\n",
        "            return a[0] > b[0]  # Для максимального приоритета\n",
        "        else:\n",
        "            return a[0] < b[0]  # Для минимального приоритета\n",
        "\n",
        "    def push(self, priority, item):\n",
        "        \"\"\"Добавление элемента в очередь с приоритетом\"\"\"\n",
        "        entry = (priority, item)\n",
        "        self.heap.append(entry)\n",
        "        self._sift_up(len(self.heap) - 1)\n",
        "\n",
        "    def pop(self):\n",
        "        \"\"\"Извлечение элемента с наивысшим приоритетом\"\"\"\n",
        "        if not self.heap:\n",
        "            raise IndexError(\"Очередь пуста\")\n",
        "\n",
        "        # Сохраняем элемент с наивысшим приоритетом\n",
        "        root = self.heap[0]\n",
        "\n",
        "        # Перемещаем последний элемент в корень и выполняем sift-down\n",
        "        last = self.heap.pop()\n",
        "        if self.heap:\n",
        "            self.heap[0] = last\n",
        "            self._sift_down(0)\n",
        "\n",
        "        return root[1]  # Возвращаем только элемент, без приоритета\n",
        "\n",
        "    def peek(self):\n",
        "        \"\"\"Просмотр элемента с наивысшим приоритетом без извлечения\"\"\"\n",
        "        if not self.heap:\n",
        "            raise IndexError(\"Очередь пуста\")\n",
        "        return self.heap[0][1]\n",
        "\n",
        "    def _sift_up(self, index):\n",
        "        \"\"\"Всплытие элемента\"\"\"\n",
        "        parent = (index - 1) // 2\n",
        "        while index > 0 and self._compare(self.heap[index], self.heap[parent]):\n",
        "            self.heap[index], self.heap[parent] = self.heap[parent], self.heap[index]\n",
        "            index = parent\n",
        "            parent = (index - 1) // 2\n",
        "\n",
        "    def _sift_down(self, index):\n",
        "        \"\"\"Погружение элемента\"\"\"\n",
        "        size = len(self.heap)\n",
        "        while True:\n",
        "            left = 2 * index + 1\n",
        "            right = 2 * index + 2\n",
        "            smallest_or_largest = index\n",
        "\n",
        "            if left < size and self._compare(self.heap[left], self.heap[smallest_or_largest]):\n",
        "                smallest_or_largest = left\n",
        "\n",
        "            if right < size and self._compare(self.heap[right], self.heap[smallest_or_largest]):\n",
        "                smallest_or_largest = right\n",
        "\n",
        "            if smallest_or_largest == index:\n",
        "                break\n",
        "\n",
        "            self.heap[index], self.heap[smallest_or_largest] = self.heap[smallest_or_largest], self.heap[index]\n",
        "            index = smallest_or_largest\n",
        "\n",
        "    def __len__(self):\n",
        "        \"\"\"Количество элементов в очереди\"\"\"\n",
        "        return len(self.heap)\n",
        "\n",
        "    def is_empty(self):\n",
        "        \"\"\"Проверка на пустоту\"\"\"\n",
        "        return len(self.heap) == 0\n",
        "\n",
        "    def __str__(self):\n",
        "        \"\"\"Строковое представление очереди\"\"\"\n",
        "        return str([(priority, item) for priority, item in self.heap])"
      ],
      "metadata": {
        "id": "Us8xe3qQdzTm"
      },
      "execution_count": null,
      "outputs": []
    },
    {
      "cell_type": "code",
      "source": [
        "\n",
        "print(\"Очередь с приоритетом (min):\")\n",
        "pq_min = PriorityQueue()\n",
        "\n",
        "# Добавляем элементы с приоритетами\n",
        "pq_min.push(3, \"Задача 1\")\n",
        "pq_min.push(1, \"Задача 2\")\n",
        "pq_min.push(2, \"Задача 3\")\n",
        "pq_min.push(4, \"Задача 4\")\n",
        "\n",
        "print(\"Состояние очереди:\", pq_min)\n",
        "print(\"Размер очереди:\", len(pq_min))\n",
        "\n",
        "print(\"\\nИзвлечение элементов:\")\n",
        "while not pq_min.is_empty():\n",
        "    print(\"Извлечено:\", pq_min.pop())\n",
        "\n",
        "print(\"\\nОчередь с приоритетом (max):\")\n",
        "pq_max = PriorityQueue(max_priority=True)\n",
        "\n",
        "# Добавляем элементы с приоритетами\n",
        "pq_max.push(3, \"Задача A\")\n",
        "pq_max.push(1, \"Задача B\")\n",
        "pq_max.push(2, \"Задача C\")\n",
        "pq_max.push(4, \"Задача D\")\n",
        "\n",
        "print(\"Состояние очереди:\", pq_max)\n",
        "\n",
        "print(\"\\nИзвлечение элементов:\")\n",
        "while not pq_max.is_empty():\n",
        "    print(\"Извлечено:\", pq_max.pop())"
      ],
      "metadata": {
        "colab": {
          "base_uri": "https://localhost:8080/"
        },
        "id": "vFnvxufAeWlz",
        "outputId": "f5c29b82-1b3c-4de6-c9ca-59835ecb5d2b"
      },
      "execution_count": null,
      "outputs": [
        {
          "output_type": "stream",
          "name": "stdout",
          "text": [
            "Очередь с приоритетом (min):\n",
            "Состояние очереди: [(1, 'Задача 2'), (3, 'Задача 1'), (2, 'Задача 3'), (4, 'Задача 4')]\n",
            "Размер очереди: 4\n",
            "\n",
            "Извлечение элементов:\n",
            "Извлечено: Задача 2\n",
            "Извлечено: Задача 3\n",
            "Извлечено: Задача 1\n",
            "Извлечено: Задача 4\n",
            "\n",
            "Очередь с приоритетом (max):\n",
            "Состояние очереди: [(4, 'Задача D'), (3, 'Задача A'), (2, 'Задача C'), (1, 'Задача B')]\n",
            "\n",
            "Извлечение элементов:\n",
            "Извлечено: Задача D\n",
            "Извлечено: Задача A\n",
            "Извлечено: Задача C\n",
            "Извлечено: Задача B\n"
          ]
        }
      ]
    },
    {
      "cell_type": "markdown",
      "source": [
        "#### Очередь с приоритетом на основе кучи"
      ],
      "metadata": {
        "id": "La-T-wBDeeVW"
      }
    },
    {
      "cell_type": "code",
      "source": [
        "class PriorityQueue:\n",
        "    \"\"\"Очередь с приоритетом, реализованная на основе двоичной кучи\"\"\"\n",
        "\n",
        "    def __init__(self, max_heap=False):\n",
        "        \"\"\"\n",
        "        Инициализация очереди с приоритетом\n",
        "        :param max_heap: если True, то максимальный элемент имеет высший приоритет\n",
        "        \"\"\"\n",
        "        self.heap = []\n",
        "        self.max_heap = max_heap\n",
        "\n",
        "    def _parent(self, i):\n",
        "        \"\"\"Возвращает индекс родителя для узла i\"\"\"\n",
        "        return (i - 1) // 2\n",
        "\n",
        "    def _left_child(self, i):\n",
        "        \"\"\"Возвращает индекс левого потомка для узла i\"\"\"\n",
        "        return 2 * i + 1\n",
        "\n",
        "    def _right_child(self, i):\n",
        "        \"\"\"Возвращает индекс правого потомка для узла i\"\"\"\n",
        "        return 2 * i + 2\n",
        "\n",
        "    def _should_swap(self, a, b):\n",
        "        \"\"\"Определяет, нужно ли менять местами элементы a и b\"\"\"\n",
        "        if self.max_heap:\n",
        "            return a > b  # Для максимальной кучи\n",
        "        return a < b  # Для минимальной кучи\n",
        "\n",
        "    def push(self, priority, value):\n",
        "        \"\"\"Добавляет элемент в очередь с приоритетом\"\"\"\n",
        "        entry = (priority, value)\n",
        "        self.heap.append(entry)\n",
        "        self._sift_up(len(self.heap) - 1)\n",
        "\n",
        "    def pop(self):\n",
        "        \"\"\"Извлекает и возвращает элемент с наивысшим приоритетом\"\"\"\n",
        "        if not self.heap:\n",
        "            raise IndexError(\"Queue is empty\")\n",
        "\n",
        "        # Сохраняем корневой элемент\n",
        "        root = self.heap[0]\n",
        "\n",
        "        # Перемещаем последний элемент в корень\n",
        "        last = self.heap.pop()\n",
        "        if self.heap:\n",
        "            self.heap[0] = last\n",
        "            self._sift_down(0)\n",
        "\n",
        "        return root[1]  # Возвращаем только значение\n",
        "\n",
        "    def peek(self):\n",
        "        \"\"\"Возвращает элемент с наивысшим приоритетом без извлечения\"\"\"\n",
        "        if not self.heap:\n",
        "            raise IndexError(\"Queue is empty\")\n",
        "        return self.heap[0][1]\n",
        "\n",
        "    def _sift_up(self, i):\n",
        "        \"\"\"Поднимает элемент на правильную позицию в куче\"\"\"\n",
        "        while i > 0 and self._should_swap(\n",
        "            self.heap[i][0],\n",
        "            self.heap[self._parent(i)][0]\n",
        "        ):\n",
        "            parent_idx = self._parent(i)\n",
        "            self.heap[i], self.heap[parent_idx] = self.heap[parent_idx], self.heap[i]\n",
        "            i = parent_idx\n",
        "\n",
        "    def _sift_down(self, i):\n",
        "        \"\"\"Опускает элемент на правильную позицию в куче\"\"\"\n",
        "        size = len(self.heap)\n",
        "        while True:\n",
        "            left = self._left_child(i)\n",
        "            right = self._right_child(i)\n",
        "            candidate = i\n",
        "\n",
        "            if left < size and self._should_swap(\n",
        "                self.heap[left][0],\n",
        "                self.heap[candidate][0]\n",
        "            ):\n",
        "                candidate = left\n",
        "\n",
        "            if right < size and self._should_swap(\n",
        "                self.heap[right][0],\n",
        "                self.heap[candidate][0]\n",
        "            ):\n",
        "                candidate = right\n",
        "\n",
        "            if candidate == i:\n",
        "                break\n",
        "\n",
        "            self.heap[i], self.heap[candidate] = self.heap[candidate], self.heap[i]\n",
        "            i = candidate\n",
        "\n",
        "    def __len__(self):\n",
        "        \"\"\"Возвращает количество элементов в очереди\"\"\"\n",
        "        return len(self.heap)\n",
        "\n",
        "    def is_empty(self):\n",
        "        \"\"\"Проверяет, пуста ли очередь\"\"\"\n",
        "        return len(self.heap) == 0\n",
        "\n",
        "    def __str__(self):\n",
        "        \"\"\"Строковое представление очереди\"\"\"\n",
        "        return str([f\"{priority}:{value}\" for priority, value in self.heap])"
      ],
      "metadata": {
        "id": "S5YmkXMUeYQF"
      },
      "execution_count": null,
      "outputs": []
    },
    {
      "cell_type": "code",
      "source": [
        "print(\"Очередь с приоритетом (min-heap):\")\n",
        "pq = PriorityQueue()\n",
        "\n",
        "# Добавляем элементы\n",
        "pq.push(3, \"Task 1\")\n",
        "pq.push(1, \"Task 2\")\n",
        "pq.push(4, \"Task 3\")\n",
        "pq.push(2, \"Task 4\")\n",
        "pq.push(5, \"Task 5\")\n",
        "\n",
        "print(f\"Состояние очереди: {pq}\")\n",
        "print(f\"Размер очереди: {len(pq)}\")\n",
        "print(f\"Следующий элемент: {pq.peek()}\")\n",
        "\n",
        "print(\"\\nИзвлечение элементов:\")\n",
        "while not pq.is_empty():\n",
        "    print(f\"Извлечено: {pq.pop()}\")\n",
        "\n",
        "print(\"\\nОчередь с приоритетом (max-heap):\")\n",
        "pq_max = PriorityQueue(max_heap=True)\n",
        "\n",
        "# Добавляем элементы\n",
        "pq_max.push(3, \"Task A\")\n",
        "pq_max.push(1, \"Task B\")\n",
        "pq_max.push(4, \"Task C\")\n",
        "pq_max.push(2, \"Task D\")\n",
        "\n",
        "print(f\"Состояние очереди: {pq_max}\")\n",
        "\n",
        "print(\"\\nИзвлечение элементов:\")\n",
        "while not pq_max.is_empty():\n",
        "    print(f\"Извлечено: {pq_max.pop()}\")"
      ],
      "metadata": {
        "colab": {
          "base_uri": "https://localhost:8080/"
        },
        "id": "byQ21-peevfY",
        "outputId": "186d418b-dbdf-4452-8f62-c758d1209b4f"
      },
      "execution_count": null,
      "outputs": [
        {
          "output_type": "stream",
          "name": "stdout",
          "text": [
            "Очередь с приоритетом (min-heap):\n",
            "Состояние очереди: ['1:Task 2', '2:Task 4', '4:Task 3', '3:Task 1', '5:Task 5']\n",
            "Размер очереди: 5\n",
            "Следующий элемент: Task 2\n",
            "\n",
            "Извлечение элементов:\n",
            "Извлечено: Task 2\n",
            "Извлечено: Task 4\n",
            "Извлечено: Task 1\n",
            "Извлечено: Task 3\n",
            "Извлечено: Task 5\n",
            "\n",
            "Очередь с приоритетом (max-heap):\n",
            "Состояние очереди: ['4:Task C', '2:Task D', '3:Task A', '1:Task B']\n",
            "\n",
            "Извлечение элементов:\n",
            "Извлечено: Task C\n",
            "Извлечено: Task A\n",
            "Извлечено: Task D\n",
            "Извлечено: Task B\n"
          ]
        }
      ]
    },
    {
      "cell_type": "markdown",
      "source": [
        "### Хеш-Таблицы"
      ],
      "metadata": {
        "id": "jDOvGwLJexJ3"
      }
    },
    {
      "cell_type": "code",
      "source": [
        "class HashTable:\n",
        "    def __init__(self, size=11):\n",
        "        self.size = size\n",
        "        self.table = [[] for _ in range(size)]\n",
        "\n",
        "    def _hash(self, key):\n",
        "        return hash(key) % self.size\n",
        "\n",
        "    def insert(self, key, value): # Метод цепочек\n",
        "        index = self._hash(key)\n",
        "        for i, (k, _) in enumerate(self.table[index]):\n",
        "            if k == key:\n",
        "                self.table[index][i] = (key, value)\n",
        "                return\n",
        "        self.table[index].append((key, value))\n",
        "\n",
        "    def delete(self, key):\n",
        "        index = self._hash(key)\n",
        "        for i, (k, _) in enumerate(self.table[index]):\n",
        "            if k == key:\n",
        "                del self.table[index][i]\n",
        "                return\n",
        "        raise KeyError(f'Ключ {key} не найден')\n",
        "\n",
        "    def get(self, key):\n",
        "        index = self._hash(key)\n",
        "        for i, (k, v) in enumerate(self.table[index]):\n",
        "            if k == key:\n",
        "                return v\n",
        "        raise KeyError(f'Ключ {key} не найден')\n",
        "\n",
        "    def __str__(self):\n",
        "        lines = []\n",
        "        for i, chain in enumerate(self.table):\n",
        "            if chain:\n",
        "                line = \", \".join(f\"{k}: {v}\" for k, v in chain)\n",
        "                lines.append(f\"{i}: {line}\")\n",
        "            else:\n",
        "                lines.append(f\"{i}: empty\")\n",
        "        return \"\\n\".join(lines)"
      ],
      "metadata": {
        "id": "4jfaTRhJewJu"
      },
      "execution_count": null,
      "outputs": []
    },
    {
      "cell_type": "code",
      "source": [
        "ht = HashTable()\n",
        "\n",
        "for key, value in zip([54, 26, 93, 17, 77, 31, 44, 20, 55], 'abcdefghi'):\n",
        "    ht.insert(key, value)\n",
        "\n",
        "print(ht)"
      ],
      "metadata": {
        "colab": {
          "base_uri": "https://localhost:8080/"
        },
        "id": "IRSInKPDrBJ0",
        "outputId": "8814107a-2ebf-4cb8-bb37-5f3e26283571"
      },
      "execution_count": null,
      "outputs": [
        {
          "output_type": "stream",
          "name": "stdout",
          "text": [
            "0: 77: e, 44: g, 55: i\n",
            "1: empty\n",
            "2: empty\n",
            "3: empty\n",
            "4: 26: b\n",
            "5: 93: c\n",
            "6: 17: d\n",
            "7: empty\n",
            "8: empty\n",
            "9: 31: f, 20: h\n",
            "10: 54: a\n"
          ]
        }
      ]
    },
    {
      "cell_type": "code",
      "source": [
        "class OpenAddressingHashTable:\n",
        "    def __init__(self, size=11):\n",
        "        self.size = size\n",
        "        self.table = [None] * size\n",
        "        self.DELETED = object()\n",
        "\n",
        "    def _hash(self, key, i):\n",
        "        return (key + i) % self.size\n",
        "\n",
        "    def insert(self, key, value):\n",
        "        for i in range(self.size):\n",
        "            j = self._hash(key, i)\n",
        "            if self.table[j] is None or self.table[j] is self.DELETED:\n",
        "                self.table[j] = (key, value)\n",
        "                return\n",
        "            if self.table[j][0] == key:\n",
        "                self.table[j] = (key, value)\n",
        "                return\n",
        "        raise Exception('Хеш-таблица переполнена')\n",
        "\n",
        "    def get(self, key):\n",
        "        for i in range(self.size):\n",
        "            j = self._hash(key, i)\n",
        "            if self.table[j] is None:\n",
        "                break\n",
        "            if self.table[j] is not self.DELETED and self.table[j][0] == key:\n",
        "                return self.table[j][1]\n",
        "        raise KeyError(f'Ключ {key} не найден')\n",
        "\n",
        "    def delete(self, key):\n",
        "        for i in range(self.size):\n",
        "            j = self._hash(key, i)\n",
        "            if self.table[j] is None:\n",
        "                break\n",
        "            if self.table[j] is not self.DELETED and self.table[j][0] == key:\n",
        "                self.table[j] = self.DELETED\n",
        "                return\n",
        "        raise KeyError(f'Ключ {key} не найден')\n",
        "\n",
        "    def display(self):\n",
        "        for i, slot in enumerate(self.table):\n",
        "            if slot is None:\n",
        "                print(f'{i}: ∅')\n",
        "            elif slot is self.DELETED:\n",
        "                print(f'{i}: DEL')\n",
        "            else:\n",
        "                print(f'{i}: {slot[0]}:{slot[1]}')"
      ],
      "metadata": {
        "id": "LcKhddvksbsV"
      },
      "execution_count": null,
      "outputs": []
    },
    {
      "cell_type": "markdown",
      "source": [
        "### Bubble sort"
      ],
      "metadata": {
        "id": "BptXaIuyNCsK"
      }
    },
    {
      "cell_type": "code",
      "source": [
        "def bubble_sort(arr, ascending=True):\n",
        "    n = len(arr)\n",
        "    for i in range(n-1):\n",
        "        for j in range(n - 1 - i):\n",
        "            if (arr[j] > arr[j+1]) == ascending:\n",
        "                arr[j], arr[j+1] = arr[j+1], arr[j]\n",
        "    return arr"
      ],
      "metadata": {
        "id": "3Z4YJv_-GeQL"
      },
      "execution_count": null,
      "outputs": []
    },
    {
      "cell_type": "markdown",
      "source": [
        "### Binary search"
      ],
      "metadata": {
        "id": "wuBv0vbtNg5f"
      }
    },
    {
      "cell_type": "code",
      "source": [
        "def binary_search(arr, x):\n",
        "    low = 0\n",
        "    high = len(arr) - 1\n",
        "    while low <= high:\n",
        "        mid = (low + high) // 2\n",
        "        if arr[mid] == x:\n",
        "            return mid\n",
        "        elif arr[mid] < x:\n",
        "            low = mid + 1\n",
        "        else:\n",
        "            high = mid - 1\n",
        "    return -1"
      ],
      "metadata": {
        "id": "Lt1nJgEVNjqh"
      },
      "execution_count": 3,
      "outputs": []
    },
    {
      "cell_type": "markdown",
      "source": [
        "### Selection sort"
      ],
      "metadata": {
        "id": "CjUmZYJkNrUg"
      }
    },
    {
      "cell_type": "code",
      "source": [
        "def selection_sort(arr, reverse=False):\n",
        "    n = len(arr)\n",
        "    for i in range(n):\n",
        "        min_idx = i\n",
        "        for j in range(i + 1, n):\n",
        "            if reverse:\n",
        "                if arr[j] > arr[min_idx]:\n",
        "                    min_idx = j\n",
        "            else:\n",
        "                if arr[j] < arr[min_idx]:\n",
        "                    min_idx = j\n",
        "        arr[i], arr[min_idx] = arr[min_idx], arr[i]\n",
        "    return arr"
      ],
      "metadata": {
        "id": "HQSNdpLANll1"
      },
      "execution_count": 4,
      "outputs": []
    },
    {
      "cell_type": "markdown",
      "source": [
        "### Insertion Sort"
      ],
      "metadata": {
        "id": "pDsVb__MNxci"
      }
    },
    {
      "cell_type": "code",
      "source": [
        "def insertion_sort(arr, reverse=False):\n",
        "    for i in range(1, len(arr)):\n",
        "        key = arr[i]\n",
        "        j = i - 1\n",
        "        while j >= 0 and ((not reverse and arr[j] > key) or (reverse and arr[j] < key)):\n",
        "            arr[j + 1] = arr[j]\n",
        "            j -= 1\n",
        "        arr[j + 1] = key\n",
        "    return arr"
      ],
      "metadata": {
        "id": "hltksTpdNw4O"
      },
      "execution_count": 5,
      "outputs": []
    },
    {
      "cell_type": "markdown",
      "source": [
        "### Quick Sort"
      ],
      "metadata": {
        "id": "zZXsDym-N9z2"
      }
    },
    {
      "cell_type": "code",
      "source": [
        "def _quick_sort(data, ascending=True):\n",
        "    if len(data) <= 1:\n",
        "        return data\n",
        "    pivot = data[0]\n",
        "    less = [x for x in data[1:] if (x < pivot) == ascending]\n",
        "    greater = [x for x in data[1:] if (x >= pivot) == ascending]\n",
        "    return _quick_sort(less, ascending) + [pivot] + _quick_sort(greater, ascending)\n",
        "\n",
        "\n",
        "def quick_sort(data, ascending=True):\n",
        "    return _quick_sort(data, ascending)"
      ],
      "metadata": {
        "id": "rHl2KYkKN7R8"
      },
      "execution_count": 7,
      "outputs": []
    },
    {
      "cell_type": "markdown",
      "source": [
        "### Shell Sort"
      ],
      "metadata": {
        "id": "eTFImxzjOOBz"
      }
    },
    {
      "cell_type": "code",
      "source": [
        "def shell_sort(arr, reverse=False):\n",
        "    gap = len(arr) // 2\n",
        "    while gap > 0:\n",
        "        for i in range(gap, len(arr)):\n",
        "            temp = arr[i]\n",
        "            j = i\n",
        "            while j >= gap and ((not reverse and arr[j - gap] > temp)\n",
        "                           or (reverse and arr[j - gap] < temp)):\n",
        "                arr[j] = arr[j - gap]\n",
        "                j -= gap\n",
        "            arr[j] = temp\n",
        "        gap //= 2\n",
        "    return arr"
      ],
      "metadata": {
        "id": "RZ1nQw7COLxY"
      },
      "execution_count": 8,
      "outputs": []
    },
    {
      "cell_type": "markdown",
      "source": [
        "### Merge Sort"
      ],
      "metadata": {
        "id": "-R7fKYQhOVyp"
      }
    },
    {
      "cell_type": "code",
      "source": [
        "def merge_sort(arr, reverse=False):\n",
        "    if len(arr) <= 1:\n",
        "        return arr\n",
        "\n",
        "    mid = len(arr) // 2\n",
        "    left_half = arr[:mid]\n",
        "    right_half = arr[mid:]\n",
        "\n",
        "    left_half = merge_sort(left_half, reverse=reverse)\n",
        "    right_half = merge_sort(right_half, reverse=reverse)\n",
        "\n",
        "    return merge(left_half, right_half, reverse=reverse)\n",
        "\n",
        "def merge(left_half, right_half, reverse=False):\n",
        "    result = []\n",
        "    i = 0\n",
        "    j = 0\n",
        "\n",
        "    while i < len(left_half) and j < len(right_half):\n",
        "        if (not reverse and left_half[i] <= right_half[j]) or (reverse and left_half[i] >= right_half[j]):\n",
        "            result.append(left_half[i])\n",
        "            i += 1\n",
        "        else:\n",
        "            result.append(right_half[j])\n",
        "            j += 1\n",
        "\n",
        "    result += left_half[i:]\n",
        "    result += right_half[j:]\n",
        "\n",
        "    return result"
      ],
      "metadata": {
        "id": "FiOBYQIhOUed"
      },
      "execution_count": 9,
      "outputs": []
    },
    {
      "cell_type": "code",
      "source": [],
      "metadata": {
        "id": "27_-IW4WObWP"
      },
      "execution_count": null,
      "outputs": []
    }
  ]
}