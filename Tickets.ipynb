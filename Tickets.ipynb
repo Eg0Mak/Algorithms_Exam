{
 "cells": [
  {
   "cell_type": "markdown",
   "id": "ee9bbde2-b06d-46f8-8d4b-2bbec6cc4ffa",
   "metadata": {
    "jp-MarkdownHeadingCollapsed": true
   },
   "source": [
    "# Билет №13"
   ]
  },
  {
   "cell_type": "markdown",
   "id": "c8069479-10d7-40a1-9464-bf2568880ff4",
   "metadata": {},
   "source": [
    "**1 вопрос (20 баллов)** <br>\n",
    "Взаимодействие с Excel из Python с помощью XLWings: принципы работы и примеры\n",
    "использования"
   ]
  },
  {
   "cell_type": "markdown",
   "id": "e744705c-8f02-4813-8f4a-c0a85a255868",
   "metadata": {},
   "source": [
    "----\n",
    "**Принципы работы XLWings**\n",
    "* XLWings — это библиотека Python, которая позволяет управлять Microsoft Excel напрямую из Python-кода\n",
    "* Она использует COM-интерфейс на Windows и AppleScript на Mac, чтобы взаимодействовать с уже запущенным Excel или запускать новый процесс\n",
    "* Позволяет:\n",
    "    * читать и записывать данные в ячейки,\n",
    "    * запускать макросы VBA,\n",
    "    * форматировать таблицы,\n",
    "    * работать с книгами, листами, диаграммами и др.\n",
    "* XLWings удобна для автоматизации рутинных задач, анализа данных и интеграции Python-скриптов с Excel\n",
    "\n",
    "----\n",
    "**Основные компоненты XLWings**\n",
    "* `Book` - объект книги Excel (.xlsx)\n",
    "* `Sheet` — лист в книге\n",
    "* `Range` — диапазон ячеек (одна или несколько)\n",
    "* `App` — объект приложения Excel (управление самим Excel)\n",
    "\n",
    "\n",
    "------\n",
    "**Пример на Python**\n",
    "\n",
    "```python\n",
    "import xlwings as xw\n",
    "\n",
    "# Запуск Excel и создание новой книги\n",
    "app = xw.App(visible=True)       # visible=True — чтобы увидеть Excel окно\n",
    "wb = app.books.add()             # Создание новой книги\n",
    "sheet = wb.sheets[0]             # Первый лист\n",
    "\n",
    "# Запись данных в ячейку A1\n",
    "sheet.range('A1').value = 'Привет из Python!'\n",
    "\n",
    "# Запись списка в столбец\n",
    "sheet.range('A2').value = [10, 20, 30, 40]\n",
    "\n",
    "# Чтение значения из ячейки\n",
    "val = sheet.range('A1').value\n",
    "print(val)  # Выведет: Привет из Python!\n",
    "\n",
    "# Сохранение книги\n",
    "wb.save('example.xlsx')\n",
    "\n",
    "# Закрытие книги и Excel\n",
    "wb.close()\n",
    "app.quit()\n",
    "\n",
    "```\n",
    "\n",
    "\n",
    "---- \n",
    "\n",
    "**Важные моменты**\n",
    "* Чтобы использовать XLWings, нужно иметь установленный Microsoft Excel.\n",
    "* На Windows и Mac команды немного отличаются из-за разных систем взаимодействия.\n",
    "* Можно работать с существующими файлами Excel (открывать и изменять).\n",
    "* Поддерживается работа с большими объемами данных, удобная интеграция с pandas."
   ]
  },
  {
   "cell_type": "markdown",
   "id": "85e21cb9-fc04-45a4-9e65-d6a229350839",
   "metadata": {},
   "source": [
    "**2 вопрос (20 баллов)** <br>\n",
    "Загрузите данные из файла 'sp500hst.txt' и обозначьте столбцы в соответствии ссодержимым: \\\"date\\\", \"\\ticker\\\", \"\\open\\\", \"\\high\\\", \"\\lowl\\\", \"\\close\\\", \"\\volume\\\". Добавьте столбец с расшифровкой названия тикера, используя данные из файла 'sp_data2.csv' В случае нехватки данных об именах тикеров корректно обработать их"
   ]
  },
  {
   "cell_type": "code",
   "execution_count": 613,
   "id": "9163f8b0-efef-4010-84f0-3451cc08991b",
   "metadata": {},
   "outputs": [],
   "source": [
    "import pandas as pd\n",
    "import numpy as np"
   ]
  },
  {
   "cell_type": "code",
   "execution_count": 742,
   "id": "bccf6bb5-a6c0-4c71-a1f5-69c239714db7",
   "metadata": {},
   "outputs": [],
   "source": [
    "df_hst = pd.read_csv('sp500hst.txt', header=None, names=[\"date\", \"ticker\", \"open\", \"high\", \"low\", \"close\", \"volume\"])\n",
    "\n",
    "df_names = pd.read_csv('sp_data2.csv')\n",
    "\n",
    "df_merged = pd.merge(\n",
    "    df_hst,\n",
    "    df_names[['ticker', 'name']],\n",
    "    on='ticker',\n",
    "    how='left'\n",
    ")\n",
    "\n",
    "df_merged['name'] = df_merged['name'].fillna('Unknown')\n",
    "\n",
    "df_merged.to_csv('merged_sp500_data.csv', index=False)\n",
    "\n",
    "\n",
    "df_merged.head()"
   ]
  },
  {
   "cell_type": "markdown",
   "id": "6b388b80-16fd-4e58-a448-e2c3f30a135f",
   "metadata": {},
   "source": [
    "**3 вопрос (20 баллов)** <br>\n",
    "В файлах 'recipes_sample.csv' и reviews_sample.csv' находится информация об рецептах\n",
    "блюд и отзывах на эти рецепты соответственно. Загрузите данные из файлов в виде\n",
    "pd.DataFrame' с названиями 'recipes' и 'reviews'. Обратите внимание на корректное\n",
    "считывание столбца с индексами в таблице 'reviews (безымянный столбец)."
   ]
  },
  {
   "cell_type": "code",
   "execution_count": 618,
   "id": "1ea14223-4ca0-4552-b75c-9eb2f3f7f966",
   "metadata": {},
   "outputs": [],
   "source": [
    "import pandas as pd"
   ]
  },
  {
   "cell_type": "code",
   "execution_count": 620,
   "id": "0e853490-4f56-4373-aac7-49afb915ff7f",
   "metadata": {},
   "outputs": [
    {
     "data": {
      "text/html": [
       "<div>\n",
       "<style scoped>\n",
       "    .dataframe tbody tr th:only-of-type {\n",
       "        vertical-align: middle;\n",
       "    }\n",
       "\n",
       "    .dataframe tbody tr th {\n",
       "        vertical-align: top;\n",
       "    }\n",
       "\n",
       "    .dataframe thead th {\n",
       "        text-align: right;\n",
       "    }\n",
       "</style>\n",
       "<table border=\"1\" class=\"dataframe\">\n",
       "  <thead>\n",
       "    <tr style=\"text-align: right;\">\n",
       "      <th></th>\n",
       "      <th>name</th>\n",
       "      <th>id</th>\n",
       "      <th>minutes</th>\n",
       "      <th>contributor_id</th>\n",
       "      <th>submitted</th>\n",
       "      <th>n_steps</th>\n",
       "      <th>description</th>\n",
       "      <th>n_ingredients</th>\n",
       "    </tr>\n",
       "  </thead>\n",
       "  <tbody>\n",
       "    <tr>\n",
       "      <th>0</th>\n",
       "      <td>george s at the cove  black bean soup</td>\n",
       "      <td>44123</td>\n",
       "      <td>90</td>\n",
       "      <td>35193</td>\n",
       "      <td>2002-10-25</td>\n",
       "      <td>NaN</td>\n",
       "      <td>an original recipe created by chef scott meska...</td>\n",
       "      <td>18.0</td>\n",
       "    </tr>\n",
       "    <tr>\n",
       "      <th>1</th>\n",
       "      <td>healthy for them  yogurt popsicles</td>\n",
       "      <td>67664</td>\n",
       "      <td>10</td>\n",
       "      <td>91970</td>\n",
       "      <td>2003-07-26</td>\n",
       "      <td>NaN</td>\n",
       "      <td>my children and their friends ask for my homem...</td>\n",
       "      <td>NaN</td>\n",
       "    </tr>\n",
       "    <tr>\n",
       "      <th>2</th>\n",
       "      <td>i can t believe it s spinach</td>\n",
       "      <td>38798</td>\n",
       "      <td>30</td>\n",
       "      <td>1533</td>\n",
       "      <td>2002-08-29</td>\n",
       "      <td>NaN</td>\n",
       "      <td>these were so go, it surprised even me.</td>\n",
       "      <td>8.0</td>\n",
       "    </tr>\n",
       "    <tr>\n",
       "      <th>3</th>\n",
       "      <td>italian  gut busters</td>\n",
       "      <td>35173</td>\n",
       "      <td>45</td>\n",
       "      <td>22724</td>\n",
       "      <td>2002-07-27</td>\n",
       "      <td>NaN</td>\n",
       "      <td>my sister-in-law made these for us at a family...</td>\n",
       "      <td>NaN</td>\n",
       "    </tr>\n",
       "    <tr>\n",
       "      <th>4</th>\n",
       "      <td>love is in the air  beef fondue   sauces</td>\n",
       "      <td>84797</td>\n",
       "      <td>25</td>\n",
       "      <td>4470</td>\n",
       "      <td>2004-02-23</td>\n",
       "      <td>4.0</td>\n",
       "      <td>i think a fondue is a very romantic casual din...</td>\n",
       "      <td>NaN</td>\n",
       "    </tr>\n",
       "  </tbody>\n",
       "</table>\n",
       "</div>"
      ],
      "text/plain": [
       "                                       name     id  minutes  contributor_id  \\\n",
       "0     george s at the cove  black bean soup  44123       90           35193   \n",
       "1        healthy for them  yogurt popsicles  67664       10           91970   \n",
       "2              i can t believe it s spinach  38798       30            1533   \n",
       "3                      italian  gut busters  35173       45           22724   \n",
       "4  love is in the air  beef fondue   sauces  84797       25            4470   \n",
       "\n",
       "    submitted  n_steps                                        description  \\\n",
       "0  2002-10-25      NaN  an original recipe created by chef scott meska...   \n",
       "1  2003-07-26      NaN  my children and their friends ask for my homem...   \n",
       "2  2002-08-29      NaN            these were so go, it surprised even me.   \n",
       "3  2002-07-27      NaN  my sister-in-law made these for us at a family...   \n",
       "4  2004-02-23      4.0  i think a fondue is a very romantic casual din...   \n",
       "\n",
       "   n_ingredients  \n",
       "0           18.0  \n",
       "1            NaN  \n",
       "2            8.0  \n",
       "3            NaN  \n",
       "4            NaN  "
      ]
     },
     "execution_count": 620,
     "metadata": {},
     "output_type": "execute_result"
    }
   ],
   "source": [
    "recipes = pd.read_csv(\"data/recipes_sample.csv\")\n",
    "recipes.head()"
   ]
  },
  {
   "cell_type": "code",
   "execution_count": 622,
   "id": "bcaf0590-ef27-41a3-bc12-df5c02988f1e",
   "metadata": {},
   "outputs": [
    {
     "data": {
      "text/html": [
       "<div>\n",
       "<style scoped>\n",
       "    .dataframe tbody tr th:only-of-type {\n",
       "        vertical-align: middle;\n",
       "    }\n",
       "\n",
       "    .dataframe tbody tr th {\n",
       "        vertical-align: top;\n",
       "    }\n",
       "\n",
       "    .dataframe thead th {\n",
       "        text-align: right;\n",
       "    }\n",
       "</style>\n",
       "<table border=\"1\" class=\"dataframe\">\n",
       "  <thead>\n",
       "    <tr style=\"text-align: right;\">\n",
       "      <th></th>\n",
       "      <th>user_id</th>\n",
       "      <th>recipe_id</th>\n",
       "      <th>date</th>\n",
       "      <th>rating</th>\n",
       "      <th>review</th>\n",
       "    </tr>\n",
       "  </thead>\n",
       "  <tbody>\n",
       "    <tr>\n",
       "      <th>370476</th>\n",
       "      <td>21752</td>\n",
       "      <td>57993</td>\n",
       "      <td>2003-05-01</td>\n",
       "      <td>5</td>\n",
       "      <td>Last week whole sides of frozen salmon fillet ...</td>\n",
       "    </tr>\n",
       "    <tr>\n",
       "      <th>624300</th>\n",
       "      <td>431813</td>\n",
       "      <td>142201</td>\n",
       "      <td>2007-09-16</td>\n",
       "      <td>5</td>\n",
       "      <td>So simple and so tasty!  I used a yellow capsi...</td>\n",
       "    </tr>\n",
       "    <tr>\n",
       "      <th>187037</th>\n",
       "      <td>400708</td>\n",
       "      <td>252013</td>\n",
       "      <td>2008-01-10</td>\n",
       "      <td>4</td>\n",
       "      <td>Very nice breakfast HH, easy to make and yummy...</td>\n",
       "    </tr>\n",
       "    <tr>\n",
       "      <th>706134</th>\n",
       "      <td>2001852463</td>\n",
       "      <td>404716</td>\n",
       "      <td>2017-12-11</td>\n",
       "      <td>5</td>\n",
       "      <td>These are a favorite for the holidays and so e...</td>\n",
       "    </tr>\n",
       "    <tr>\n",
       "      <th>312179</th>\n",
       "      <td>95810</td>\n",
       "      <td>129396</td>\n",
       "      <td>2008-03-14</td>\n",
       "      <td>5</td>\n",
       "      <td>Excellent soup!  The tomato flavor is just gre...</td>\n",
       "    </tr>\n",
       "  </tbody>\n",
       "</table>\n",
       "</div>"
      ],
      "text/plain": [
       "           user_id  recipe_id        date  rating  \\\n",
       "370476       21752      57993  2003-05-01       5   \n",
       "624300      431813     142201  2007-09-16       5   \n",
       "187037      400708     252013  2008-01-10       4   \n",
       "706134  2001852463     404716  2017-12-11       5   \n",
       "312179       95810     129396  2008-03-14       5   \n",
       "\n",
       "                                                   review  \n",
       "370476  Last week whole sides of frozen salmon fillet ...  \n",
       "624300  So simple and so tasty!  I used a yellow capsi...  \n",
       "187037  Very nice breakfast HH, easy to make and yummy...  \n",
       "706134  These are a favorite for the holidays and so e...  \n",
       "312179  Excellent soup!  The tomato flavor is just gre...  "
      ]
     },
     "execution_count": 622,
     "metadata": {},
     "output_type": "execute_result"
    }
   ],
   "source": [
    "reviews = pd.read_csv(\"data/reviews_sample.csv\", index_col=0)\n",
    "reviews.head()"
   ]
  },
  {
   "cell_type": "markdown",
   "id": "03b8606c-b657-481d-b3d5-2401ee4d7f16",
   "metadata": {
    "jp-MarkdownHeadingCollapsed": true
   },
   "source": [
    "# Билет №7"
   ]
  },
  {
   "cell_type": "markdown",
   "id": "6c1b59a9-58e6-40f3-9b85-eb6f9ee3a913",
   "metadata": {},
   "source": [
    "**1 вопрос (20 баллов)** <br>\n",
    "Расстояние Левенштейна: определение, алгоритм эффективного поиска оптимального\n",
    "редакционного предписания, пример поиска на Python"
   ]
  },
  {
   "cell_type": "markdown",
   "id": "19a2d6ca-a703-42fa-9a50-e9b13d0ac748",
   "metadata": {},
   "source": [
    "---\n",
    "__Расстояние Левенштейна__ (редакционное расстояние, дистанция редактирования) - __минимальное__ количество операций необходимых для превращения одной строки в другую. Рассматриваются следующие операции:\n",
    "* вставка одного символа\n",
    "* удаление одного символа \n",
    "* замена одного символа на другим.\n",
    "\n",
    "----\n",
    "**Поиск оптимального редакционного предписания** <br>\n",
    "Для восстановления самого преобразования (последовательности операций), дополнительно сохраняют путь выбора минимального шага при заполнении матрицы и потом делают обратный проход.\n",
    "\n",
    "---\n",
    "\n",
    "\n",
    "**Пример поиска на Python**\n"
   ]
  },
  {
   "cell_type": "code",
   "execution_count": 626,
   "id": "c68a699d-49b4-42fe-a4d9-4c30d8439424",
   "metadata": {},
   "outputs": [
    {
     "name": "stdout",
     "output_type": "stream",
     "text": [
      "2\n"
     ]
    }
   ],
   "source": [
    "from nltk import edit_distance\n",
    "\n",
    "\n",
    "print(edit_distance(\"kitten\", \"kitchen\"))"
   ]
  },
  {
   "cell_type": "markdown",
   "id": "94331b39-be60-444e-b18e-8a107ad85ec2",
   "metadata": {},
   "source": [
    "**2 вопрос (20 баллов)** <br>\n",
    "Решить матричное уравнение $А*Х*В=-С$ - найти матрицу $X$. <br>\n",
    "<br>\n",
    "Где $A = \\begin{bmatrix}\n",
    "         -1,2,4\\\\\n",
    "         -3,1,2\\\\\n",
    "         -3,0,1\n",
    "         \\end{bmatrix}$,\n",
    "    $B = \\begin{bmatrix}\n",
    "          3,-1\\\\\n",
    "          2,1\n",
    "         \\end{bmatrix}$, \n",
    "    $C = \\begin{bmatrix}\n",
    "         7, 21\\\\\n",
    "         11,8\\\\\n",
    "         8,4\n",
    "         \\end{bmatrix}$"
   ]
  },
  {
   "cell_type": "code",
   "execution_count": 629,
   "id": "5ac3e497-3bb6-4e1d-bddb-0a0949811962",
   "metadata": {},
   "outputs": [],
   "source": [
    "import numpy as np"
   ]
  },
  {
   "cell_type": "code",
   "execution_count": 631,
   "id": "d88ad56d-fa17-4cf1-b7d8-1510eaa05f24",
   "metadata": {},
   "outputs": [
    {
     "data": {
      "text/plain": [
       "array([[ 1.00000000e+00,  5.32907052e-16],\n",
       "       [-2.00000000e+00,  1.00000000e+00],\n",
       "       [ 3.00000000e+00, -4.00000000e+00]])"
      ]
     },
     "execution_count": 631,
     "metadata": {},
     "output_type": "execute_result"
    }
   ],
   "source": [
    "A = np.array([\n",
    "    [-1,2,4],\n",
    "    [-3,1,2],\n",
    "    [-3,0,1]\n",
    "])\n",
    "\n",
    "B = np.array([\n",
    "    [3, -1],\n",
    "    [2, 1]\n",
    "])\n",
    "\n",
    "C = np.array([\n",
    "    [7, 21],\n",
    "    [11, 8],\n",
    "    [8, 4]\n",
    "])\n",
    "\n",
    "X = np.dot(np.dot(np.linalg.inv(A),-C), np.linalg.inv(B))\n",
    "\n",
    "X"
   ]
  },
  {
   "cell_type": "markdown",
   "id": "52142343-75c2-47ae-a69f-950b27663733",
   "metadata": {},
   "source": [
    "**3 вопрос (20 баллов)** <br>\n",
    "В файле 'average_ratings.nру' содержится информация о среднем рейтинге 3 рецептов за\n",
    "период с 01.01.2019 по 30.12.2021. При помощи пакета 'matplotlib' в _одной системе\n",
    "координат_ (на одной картинке) изобразите три временных ряда, соответствующих\n",
    "средним рейтингам этих рецептов."
   ]
  },
  {
   "cell_type": "code",
   "execution_count": 634,
   "id": "765da5b5-254f-4c03-895d-8debe40d13b5",
   "metadata": {},
   "outputs": [],
   "source": [
    "import numpy as np\n",
    "import matplotlib.pyplot as plt"
   ]
  },
  {
   "cell_type": "code",
   "execution_count": 636,
   "id": "5ee778f9-3430-48e7-890b-cd05b7a1de89",
   "metadata": {},
   "outputs": [
    {
     "data": {
      "image/png": "[encoded data removed]",
      "text/plain": [
       "<Figure size 1000x600 with 1 Axes>"
      ]
     },
     "metadata": {},
     "output_type": "display_data"
    }
   ],
   "source": [
    "ratings = np.load('data/average_ratings.npy')\n",
    "\n",
    "plt.figure(figsize=(10, 6))\n",
    "days = np.arange(ratings.shape[1])\n",
    "for i in range(3):\n",
    "    plt.plot(days, ratings[i], label=f\"recipe_{i}\", color=['red', 'blue', 'green'][i])\n",
    "\n",
    "plt.xlabel('Номер дня')\n",
    "plt.ylabel('Средний рейтинг')\n",
    "plt.title('Изменение среднего рейтинга трех рецептов')\n",
    "plt.legend()\n",
    "\n",
    "\n",
    "plt.show()"
   ]
  },
  {
   "cell_type": "markdown",
   "id": "97290fc6-191d-476a-a109-ad4d9d17be7e",
   "metadata": {
    "jp-MarkdownHeadingCollapsed": true
   },
   "source": [
    "# Билет №17"
   ]
  },
  {
   "cell_type": "markdown",
   "id": "a990c58c-a1a3-4e05-bd6a-b1381f7a52a6",
   "metadata": {},
   "source": [
    "**1 вопрос (20 баллов)** <br>\n",
    "Операция GroupBy в Pandas DataFrame и реализация в ней подхода «разбиение,\n",
    "применение и объединение»"
   ]
  },
  {
   "cell_type": "markdown",
   "id": "da4aeca0-a9f1-411c-86a6-188140ceacdf",
   "metadata": {},
   "source": [
    "----\n",
    "**GroupBy** — это мощный инструмент в библиотеке Pandas для группировки данных по одному или нескольким признакам с последующим применением функций агрегирования, трансформации или фильтрации\n",
    "\n",
    "---\n",
    "\n",
    "**Подход «Разбиение, Применение, Объединение» (Split-Apply-Combine)**\n",
    "\n",
    "Этот концептуальный подход описывает, как работает операция groupby:\n",
    "* Разбиение (Split): данные разбиваются на группы по одному или нескольким ключам\n",
    "* Применение (Apply): к каждой группе применяется функция (агрегирующая, трансформирующая или фильтрующая)\n",
    "* Объединение (Combine): результаты применения функций к группам собираются в один объект (например, DataFrame или Series)\n",
    "\n",
    "---\n",
    "\n",
    "**Пример на Python** "
   ]
  },
  {
   "cell_type": "code",
   "execution_count": 641,
   "id": "954e7991-db40-4109-8a1f-08ea3e2f4621",
   "metadata": {},
   "outputs": [
    {
     "data": {
      "text/plain": [
       "Город\n",
       "Казань             300\n",
       "Москва             250\n",
       "Санкт-Петербург    450\n",
       "Name: Продажи, dtype: int64"
      ]
     },
     "execution_count": 641,
     "metadata": {},
     "output_type": "execute_result"
    }
   ],
   "source": [
    "import pandas as pd\n",
    "\n",
    "data = {\n",
    "    'Город': ['Москва', 'Москва', 'Санкт-Петербург', 'Санкт-Петербург', 'Казань'],\n",
    "    'Магазин': ['А', 'Б', 'А', 'Б', 'А'],\n",
    "    'Продажи': [100, 150, 200, 250, 300]\n",
    "}\n",
    "\n",
    "df = pd.DataFrame(data)\n",
    "\n",
    "grouped = df.groupby('Город')\n",
    "\n",
    "sales_sum = grouped['Продажи'].sum()\n",
    "\n",
    "sales_sum"
   ]
  },
  {
   "cell_type": "markdown",
   "id": "f4706b4b-1923-4b01-ae54-8aae7e484d31",
   "metadata": {},
   "source": [
    "----"
   ]
  },
  {
   "cell_type": "markdown",
   "id": "61bd01f4-9822-4de8-8329-4af78634c464",
   "metadata": {},
   "source": [
    "**2 вопрос (20 баллов)** <br>\n",
    "Сгенерировать двухмерный массив `arr`\n",
    "размерности (4, 7), состоящий из случайных\n",
    "действительных чисел, равномерно распределенных в диапазоне от 0 до 20.\n",
    "Нормализовать значения массива с помощью преобразования вида $axes+b$ так, что после\n",
    "нормализации максимальный элемент массива будет равен 1.0, минимальный 0.0"
   ]
  },
  {
   "cell_type": "code",
   "execution_count": 645,
   "id": "8d9ed692-5da0-4659-8e76-7471fc427728",
   "metadata": {},
   "outputs": [
    {
     "name": "stdout",
     "output_type": "stream",
     "text": [
      "[[ 6.32396431  2.30963469  7.20117257  2.96486057 13.30636994 17.19435064\n",
      "  10.11299603]\n",
      " [ 3.90905089  6.46761909 18.60200932 12.94549756  7.21917564 17.48067329\n",
      "  17.59272475]\n",
      " [18.34538872 14.78961041 14.10073397 19.9048311  12.94860874  2.45805188\n",
      "  10.5279856 ]\n",
      " [10.61271928 11.81540565 18.44754521  3.02229401  7.73570997 18.80393234\n",
      "  19.48772557]]\n"
     ]
    }
   ],
   "source": [
    "import numpy as np\n",
    "\n",
    "\n",
    "arr = np.random.uniform(0, 20, size=(4, 7))\n",
    "\n",
    "arr_norm = (arr - np.min(arr)) / (np.max(arr) - np.min(arr))\n",
    "\n",
    "print(arr)"
   ]
  },
  {
   "cell_type": "code",
   "execution_count": 647,
   "id": "1ec28370-8515-45a3-971d-8f7e64e0f72e",
   "metadata": {},
   "outputs": [
    {
     "name": "stdout",
     "output_type": "stream",
     "text": [
      "[[0.22814918 0.         0.27800416 0.03723891 0.62498508 0.84595338\n",
      "  0.44349385]\n",
      " [0.09090073 0.23631361 0.92595583 0.60447537 0.27902735 0.86222616\n",
      "  0.86859446]\n",
      " [0.91137113 0.70928312 0.67013172 1.         0.60465219 0.0084351\n",
      "  0.46707924]\n",
      " [0.47189496 0.54024807 0.91717706 0.04050306 0.3083839  0.93743186\n",
      "  0.97629435]]\n"
     ]
    }
   ],
   "source": [
    "print(arr_norm)"
   ]
  },
  {
   "cell_type": "markdown",
   "id": "f1541c9e-967e-4971-9a44-ad8607fa6f5d",
   "metadata": {},
   "source": [
    "**З вопрос (20 баллов)** <br>\n",
    "По данным из файла `addres-book-q.xml` сформировать список словарей с телефонами\n",
    "каждого из людей"
   ]
  },
  {
   "cell_type": "code",
   "execution_count": 812,
   "id": "24830a1c-789c-4662-9e29-68879f1fbcec",
   "metadata": {},
   "outputs": [
    {
     "name": "stdout",
     "output_type": "stream",
     "text": [
      "Имя: Иван Иванов\n",
      "  Телефон (mobile): +7 123 456-78-90\n",
      "  Телефон (work): +7 987 654-32-10\n",
      "\n",
      "Имя: Петр Петров\n",
      "  Телефон (mobile): +7 555 123-45-67\n",
      "\n"
     ]
    }
   ],
   "source": [
    "from bs4 import BeautifulSoup\n",
    "\n",
    "\n",
    "with open('data/addres-book-q.xml', 'r', encoding='utf-8') as file:\n",
    "    xml_content = file.read()\n",
    "\n",
    "\n",
    "soup = BeautifulSoup(xml_content, 'xml')\n",
    "\n",
    "people_phones = []\n",
    "\n",
    "\n",
    "for person in soup.find_all('person'):\n",
    "    person_data = {\n",
    "        'name': person.get('name'), \n",
    "        'phones': []                \n",
    "    }\n",
    "    \n",
    "    \n",
    "    for phone in person.find_all('phone'):\n",
    "        phone_data = {\n",
    "            'type': phone.get('type'),  \n",
    "            'number': phone.text       \n",
    "        }\n",
    "        person_data['phones'].append(phone_data)\n",
    "    \n",
    "    people_phones.append(person_data)\n",
    "\n",
    "\n",
    "for person in people_phones:\n",
    "    print(f\"Имя: {person['name']}\")\n",
    "    for phone in person['phones']:\n",
    "        print(f\"  Телефон ({phone['type']}): {phone['number']}\")\n",
    "    print()"
   ]
  },
  {
   "cell_type": "markdown",
   "id": "9f6eb6e4-8e54-460e-a07e-324245740554",
   "metadata": {
    "jp-MarkdownHeadingCollapsed": true
   },
   "source": [
    "# Билет №11"
   ]
  },
  {
   "cell_type": "markdown",
   "id": "8f923b03-b1fb-4a02-9934-53a0ee992383",
   "metadata": {},
   "source": [
    "**1 вопрос (20 баллов)** <br>\n",
    "Применение универсальных функций и работа с пустыми значениями в Pandas"
   ]
  },
  {
   "cell_type": "markdown",
   "id": "e276a3a5-b046-4971-acf4-e384e92a3207",
   "metadata": {},
   "source": [
    "-----\n",
    "\n",
    "**Универсальные функции (ufunc)** — это функции из библиотеки NumPy, которые применяются поэлементно к данным в объектах Series и DataFrame\n",
    "\n",
    "- Примеры универсальных функций: `np.sqrt`, `np.exp`, `np.log`, `np.abs`, `np.sin`, `np.round` и др.\n",
    "\n",
    "Пример на Python: "
   ]
  },
  {
   "cell_type": "code",
   "execution_count": 802,
   "id": "60acd3fe-e292-477d-b1fb-758049a9919e",
   "metadata": {},
   "outputs": [
    {
     "name": "stdout",
     "output_type": "stream",
     "text": [
      "0    1.0\n",
      "1    2.0\n",
      "2    3.0\n",
      "3    4.0\n",
      "4    NaN\n",
      "dtype: float64\n"
     ]
    }
   ],
   "source": [
    "import pandas as pd\n",
    "import numpy as np\n",
    "\n",
    "s = pd.Series([1, 4, 9, 16, np.nan])\n",
    "\n",
    "result = np.sqrt(s)\n",
    "print(result)"
   ]
  },
  {
   "cell_type": "markdown",
   "id": "417bcfff-3a5b-4782-acfc-243852a47769",
   "metadata": {},
   "source": [
    "----\n",
    "\n",
    "\n",
    "**Работа с пустыми значениями (NaN)**\n",
    "\n",
    "В Pandas отсутствующие значения обозначаются как NaN (Not a Number) — специальное значение, представляющее пропущенные или некорректные данные\n",
    "\n",
    "**Проверка наличия пропусков:**\n",
    "```python\n",
    "df.isna()        # True для NaN\n",
    "df.isnull()      # То же самое\n",
    "df.notna()       # True для НЕ NaN\n",
    "```\n",
    "**Удаление пустых значений:**\n",
    "\n",
    "```python\n",
    "df.dropna()      # Удаляет строки с хотя бы одним NaN\n",
    "df.dropna(axis=1)  # Удаляет столбцы с NaN\n",
    "```\n",
    "\n",
    "\n",
    "**Заполнение пустых значений:**\n",
    "\n",
    "```python\n",
    "df.fillna(0)            # Заменить NaN на 0\n",
    "df.fillna(method=\"ffill\")  # Прямое заполнение (вперёд)\n",
    "df.fillna(method=\"bfill\")  # Обратное заполнение (назад)\n",
    "\n",
    "```\n",
    "\n",
    "---\n",
    "\n",
    "- Универсальные функции позволяют удобно и эффективно выполнять поэлементные операции.\n",
    "\n",
    "- Pandas предоставляет удобные средства для:\n",
    "\n",
    "    - выявления пропущенных данных\n",
    "    \n",
    "    * удаления или заполнения NaN\n",
    "    \n",
    "    - комбинирования с NumPy-функциями, которые корректно работают с NaN\n",
    "\n",
    "---"
   ]
  },
  {
   "cell_type": "markdown",
   "id": "92ed9e2f-e00d-49b9-ac37-d282348d3b31",
   "metadata": {},
   "source": [
    "**2 вопрос (20 баллов)** <br>\n",
    "Файл `minutes_n_ingredients.csv` содержит информацию об идентификаторе рецепта,\n",
    "времени его выполнения в минутах и количестве необходимых ингредиентов. Считайте\n",
    "данные из этого файла в виде массива `numpy` типа `int32`, используя `np.loadtxt`.\n",
    "Выведите на экран первые 5 строк массива"
   ]
  },
  {
   "cell_type": "code",
   "execution_count": 655,
   "id": "02978d84-e126-4c4a-a0d1-dd26cfbe092b",
   "metadata": {},
   "outputs": [],
   "source": [
    "import numpy as np"
   ]
  },
  {
   "cell_type": "code",
   "execution_count": 657,
   "id": "509c967b-f016-4fc9-8e4a-d411001ce181",
   "metadata": {},
   "outputs": [
    {
     "data": {
      "text/plain": [
       "['id', 'minutes', 'n_ingredients']"
      ]
     },
     "execution_count": 657,
     "metadata": {},
     "output_type": "execute_result"
    }
   ],
   "source": [
    "with open(\"data/minutes_n_ingredients.csv\") as file:\n",
    "    headers = file.readline().replace(\"\\n\", \"\").split(\",\")\n",
    "\n",
    "headers"
   ]
  },
  {
   "cell_type": "code",
   "execution_count": 659,
   "id": "0b8ec7b8-962e-4560-8492-2bc90735bdd9",
   "metadata": {},
   "outputs": [
    {
     "data": {
      "text/plain": [
       "array([[127244,     60,     16],\n",
       "       [ 23891,     25,      7],\n",
       "       [ 94746,     10,      6],\n",
       "       [ 67660,      5,      6],\n",
       "       [162911,     60,     14]], dtype=int32)"
      ]
     },
     "execution_count": 659,
     "metadata": {},
     "output_type": "execute_result"
    }
   ],
   "source": [
    "arr = np.loadtxt(\"data/minutes_n_ingredients.csv\", delimiter=\",\", skiprows=1, dtype=np.int32)\n",
    "arr[:5, :]"
   ]
  },
  {
   "cell_type": "markdown",
   "id": "6df77556-1b74-4188-afc3-f6d8dc7bb957",
   "metadata": {},
   "source": [
    "**З вопрос (20 баллов)** <br>\n",
    "По данным файла `steps_sample.xml` сформируйте словарь с шагами по каждому рецепту\n",
    "вида `{id_рецепта: [\"шаг1\\\", \\\"шаг2\\\"]}`. Сохраните этот словарь в файл\n",
    "`steps_sample.json`"
   ]
  },
  {
   "cell_type": "code",
   "execution_count": 831,
   "id": "37012430-4070-4bc4-b344-fdf9578086a0",
   "metadata": {},
   "outputs": [],
   "source": [
    "from bs4 import BeautifulSoup\n",
    "import json\n",
    "\n",
    "\n",
    "with open('data/steps_sample.xml', 'r', encoding='utf-8') as file:\n",
    "    soup = BeautifulSoup(file, 'xml')\n",
    "    \n",
    "recipes = soup.find_all('recipe')"
   ]
  },
  {
   "cell_type": "code",
   "execution_count": 832,
   "id": "29331f9b-5773-484e-a505-04f580128c52",
   "metadata": {},
   "outputs": [],
   "source": [
    "slov_steps = dict()\n",
    "\n",
    "for recipe in recipes_sp:\n",
    "    id = recipe.find(\"id\").text\n",
    "    steps = []\n",
    "    step_elements = recipe.find_all(\"step\")\n",
    "    for step in step_elements:\n",
    "        steps.append(step.text.strip())\n",
    "    slov_steps[id] = steps\n",
    "\n",
    "with open(\"data/steps_sample.json\", \"w\") as file:\n",
    "    json.dump(slov_steps, file, ensure_ascii=False, indent=4)"
   ]
  },
  {
   "cell_type": "markdown",
   "id": "169ee4de-9681-43ce-a3d8-b8f8de8e3f3e",
   "metadata": {
    "jp-MarkdownHeadingCollapsed": true
   },
   "source": [
    "# Билет №8"
   ]
  },
  {
   "cell_type": "markdown",
   "id": "0519a8ec-911f-44d5-8558-3ab5a5336086",
   "metadata": {},
   "source": [
    "**1 вопрос (20 баллов)** <br>\n",
    "Задача сериализации и десериализации, описание формата файла JSON и пример\n",
    "описания данных в этом формате и взаимодействия с ним в Python"
   ]
  },
  {
   "cell_type": "markdown",
   "id": "72582650-5175-4409-8e1a-7b0bf0e4b61c",
   "metadata": {},
   "source": [
    "----\n",
    "**Сериализация/Десериализация** \n",
    "\n",
    "* Сериализация - это процесс преобразования структуры данных или объекта в формат, пригодный для хранения или передачи\n",
    "* Десериализация - это процесс преобразования данных, сериализованных в определённом формате, обратно в объекты или структуры данных, которые они представляют\n",
    "\n",
    "**Цели сериализации:**\n",
    "* Сохранение состояния объектов\n",
    "* Передача данных по сети\n",
    "* Обмен данными между приложениями\n",
    "* Кэширование\n",
    "\n",
    "\n",
    "**Формат `JSON` - JavaScript Object Notation**\n",
    "* JSON — это текстовый формат обмена данными, основанный на синтаксисе JavaScript, но независимый от языка. Он широко используется благодаря своей простоте и читаемости.\n",
    "\n",
    "Пример JSON: \n",
    "\n",
    "```json\n",
    "{\n",
    "  \"name\": \"Егор\",\n",
    "  \"age\": 19,\n",
    "  \"skills\": [\"Python\", \"Machine Learning\", \"Data Analysis\"],\n",
    "  \"student\": true\n",
    "}\n",
    "```\n",
    "\n",
    "**Работа с JSON в Python**\n",
    "\n",
    "```python\n",
    "import json\n",
    "\n",
    "data = {\n",
    "    \"name\": \"Егор\",\n",
    "    \"age\": 21,\n",
    "    \"skills\": [\"Python\", \"Machine Learning\", \"Data Analysis\"],\n",
    "    \"student\": True\n",
    "}\n",
    "\n",
    "# Сериаализация\n",
    "json_string = json.dumps(data, ensure_ascii=False, indent=2)\n",
    "\n",
    "with open(\"data.json\", \"w\", encoding=\"utf-8\") as f:\n",
    "    json.dump(data, f, ensure_ascii=False, indent=2)\n",
    "\n",
    "# Десериализация\n",
    "with open(\"data.json\", \"r\", encoding=\"utf-8\") as f:\n",
    "    loaded_data = json.load(f)\n",
    "```\n",
    "\n"
   ]
  },
  {
   "cell_type": "markdown",
   "id": "85eb528e-26d9-4c3a-9837-a6daec204c34",
   "metadata": {},
   "source": [
    "**2 вопрос (20 баллов)** <br>\n",
    "По данным файла `steps_sample.xml` сформируйте словарь с шагами по каждому рецепту\n",
    "вида `{id_рецепта: [\"шаг1\\\", \\\"шаг2\\\"]}`. Сохраните этот словарь в файл\n",
    "`steps_sample.json`"
   ]
  },
  {
   "cell_type": "code",
   "execution_count": 836,
   "id": "68c954df-03a5-4e8e-9783-279235d45411",
   "metadata": {},
   "outputs": [],
   "source": [
    "from bs4 import BeautifulSoup\n",
    "import json\n",
    "\n",
    "\n",
    "with open('data/steps_sample.xml', 'r', encoding='utf-8') as file:\n",
    "    soup = BeautifulSoup(file, 'xml')\n",
    "    \n",
    "recipes = soup.find_all('recipe')"
   ]
  },
  {
   "cell_type": "code",
   "execution_count": 837,
   "id": "a5463959-0181-4ccf-96f6-2207d0b05a25",
   "metadata": {},
   "outputs": [],
   "source": [
    "slov_steps = dict()\n",
    "\n",
    "for recipe in recipes_sp:\n",
    "    id = recipe.find(\"id\").text\n",
    "    steps = []\n",
    "    step_elements = recipe.find_all(\"step\")\n",
    "    for step in step_elements:\n",
    "        steps.append(step.text.strip())\n",
    "    slov_steps[id] = steps\n",
    "\n",
    "with open(\"data/steps_sample.json\", \"w\") as file:\n",
    "    json.dump(slov_steps, file, ensure_ascii=False, indent=4)"
   ]
  },
  {
   "cell_type": "markdown",
   "id": "8a12cd8d-affd-4def-9f99-26416ae51bca",
   "metadata": {},
   "source": [
    "**З вопрос (20 баллов)** <br>\n",
    "В файле `average_ratings.npy` содержится информация о среднем рейтинге 3 рецептов за\n",
    "период с 01.01.2019 по 30.12.2021. При помощи пакета `matplotlib` в одной системе\n",
    "координат_ (на одной картинке) изобразите три временных ряда, соответствующих\n",
    "средним рейтингам этих рецептов."
   ]
  },
  {
   "cell_type": "code",
   "execution_count": 669,
   "id": "9060a7c5-3330-406d-8085-61cacee62b78",
   "metadata": {},
   "outputs": [],
   "source": [
    "import numpy as np\n",
    "import matplotlib.pyplot as plt"
   ]
  },
  {
   "cell_type": "code",
   "execution_count": 671,
   "id": "5b264696-6035-4a66-a62e-73aae3680171",
   "metadata": {},
   "outputs": [
    {
     "data": {
      "image/png": "[encoded data removed]",
      "text/plain": [
       "<Figure size 1000x600 with 1 Axes>"
      ]
     },
     "metadata": {},
     "output_type": "display_data"
    }
   ],
   "source": [
    "ratings = np.load('data/average_ratings.npy')\n",
    "\n",
    "plt.figure(figsize=(10, 6))\n",
    "days = np.arange(ratings.shape[1])\n",
    "for i in range(3):\n",
    "    plt.plot(days, ratings[i], label=f\"recipe_{i}\", color=['red', 'blue', 'green'][i])\n",
    "\n",
    "plt.xlabel('Номер дня')\n",
    "plt.ylabel('Средний рейтинг')\n",
    "plt.title('Изменение среднего рейтинга трех рецептов')\n",
    "plt.legend()\n",
    "\n",
    "\n",
    "plt.show()"
   ]
  },
  {
   "cell_type": "markdown",
   "id": "5db2d64f-ed19-42ab-b5c9-5fd18ef6cf86",
   "metadata": {
    "jp-MarkdownHeadingCollapsed": true
   },
   "source": [
    "# Билет №1"
   ]
  },
  {
   "cell_type": "markdown",
   "id": "9ea34029-c97c-4121-8f4b-32f3f63d290f",
   "metadata": {},
   "source": [
    "**1 вопрос (20 баллов)** <br>\n",
    "Технологический стек Python для обработки и анализа данных, Python\n",
    "как glue language, специфика библиотеки NumPy и ее роль в экосистеме Python"
   ]
  },
  {
   "cell_type": "markdown",
   "id": "ba2b4b26-d373-4824-9207-5a0162bddd42",
   "metadata": {},
   "source": [
    "----\n",
    "\n",
    "**Python как glue language:** <br>\n",
    "Python называют \"клеящим языком\" благодаря способности легко интегрировать компоненты,\n",
    "написанные на разных языках программирования. Это достигается через:\n",
    "* C-расширения (CPython API)\n",
    "* Биндинги к библиотекам на C/C++/Fortran\n",
    "* Простой синтаксис для вызова внешних программ\n",
    "\n",
    "\n",
    "**Основные компоненты стека:**\n",
    "1. NumPy - базовая библиотека для работы с многомерными массивами\n",
    "2. Pandas - анализ и манипуляция структурированными данными\n",
    "3. Matplotlib/Seaborn - визуализация данных\n",
    "4. SciPy - научные вычисления\n",
    "5. Scikit-learn - машинное обучение\n",
    "6. Jupyter - интерактивная разработка\n",
    "\n",
    "**Специфика NumPy:** <br>\n",
    "* Производительность: операции выполняются в скомпилированном коде C\n",
    "* Векторизация: операции применяются ко всему массиву сразу\n",
    "* Эффективная память: непрерывное размещение данных в памяти\n",
    "* Основа экосистемы: большинство библиотек использует массивы NumPy\n",
    "* Роль в экосистеме:\n",
    "    * NumPy предоставляет единый интерфейс для работы с числовыми данными, что позволяет\n",
    "различным библиотекам эффективно взаимодействовать друг с другом\n",
    "\n",
    "----"
   ]
  },
  {
   "cell_type": "markdown",
   "id": "16fcac90-e0a6-41fc-88a2-e8cecae70f28",
   "metadata": {},
   "source": [
    "**2 вопрос (20 баллов)** <br> \n",
    "Без непосредственного задания элементов матрицы создать в питру\n",
    "матрицу 11 на 6 вида: [[1, 2, 4, 7, 8, 9). [I1, 12, 14, 17, 18, 191. [21, 22, 24, 27, 28, 29], .... ,[101,\n",
    "102, 104, 107, 108, 109]]"
   ]
  },
  {
   "cell_type": "code",
   "execution_count": 679,
   "id": "21e5bb79-a35f-4877-92c0-3a409a3bf10e",
   "metadata": {},
   "outputs": [
    {
     "name": "stdout",
     "output_type": "stream",
     "text": [
      "[[  1   2   4   7   8   9]\n",
      " [ 11  12  14  17  18  19]\n",
      " [ 21  22  24  27  28  29]\n",
      " [ 31  32  34  37  38  39]\n",
      " [ 41  42  44  47  48  49]\n",
      " [ 51  52  54  57  58  59]\n",
      " [ 61  62  64  67  68  69]\n",
      " [ 71  72  74  77  78  79]\n",
      " [ 81  82  84  87  88  89]\n",
      " [ 91  92  94  97  98  99]\n",
      " [101 102 104 107 108 109]]\n"
     ]
    }
   ],
   "source": [
    "import numpy as np\n",
    "\n",
    "\n",
    "base_row = np.array([1, 2, 4, 7, 8, 9])\n",
    "\n",
    "matrix = base_row + 10 * np.arange(11).reshape(-1, 1)\n",
    "\n",
    "\n",
    "print(matrix)"
   ]
  },
  {
   "cell_type": "markdown",
   "id": "174e0e7e-276c-407b-bb44-96bac572de8c",
   "metadata": {},
   "source": [
    "**3 вопрос (20 баллов)** <br>\n",
    "Задайте двумерный массив аг1 размерности, состоящий из случайных\n",
    "целых чисел в пределах от 0 до 15 размерности (10,8). Получите массив, в котором нечетные\n",
    "элементы заменены на -1. Решить задачу средствами numpy и/или pandas. Не использовать\n",
    "циклы и конструкции стандартного Python там, где можно использовать возможности данных\n",
    "библиотек"
   ]
  },
  {
   "cell_type": "code",
   "execution_count": 682,
   "id": "96b75a7c-ceb6-4172-b1f9-c754a5db912d",
   "metadata": {},
   "outputs": [
    {
     "data": {
      "text/plain": [
       "array([[ 6, 10, 10,  5,  1,  2, 14, 10],\n",
       "       [ 8,  1,  4, 10,  8,  9,  3, 14],\n",
       "       [11,  3,  7,  8,  7,  9,  4, 13],\n",
       "       [ 0, 13,  8, 11,  7,  8, 15,  4],\n",
       "       [ 0,  8, 11, 10,  3,  5,  9, 11],\n",
       "       [ 1,  5,  3,  5, 13,  5,  0, 15],\n",
       "       [ 4,  6,  3, 10, 12,  9,  9,  1],\n",
       "       [11,  7, 10,  2,  3,  1,  0,  1],\n",
       "       [ 2, 11,  3,  4, 12,  2,  1, 11],\n",
       "       [11,  0,  5, 14,  1, 14,  4, 14]])"
      ]
     },
     "execution_count": 682,
     "metadata": {},
     "output_type": "execute_result"
    }
   ],
   "source": [
    "import numpy as np\n",
    "\n",
    "arr1 = np.random.randint(0, 16, size=(10, 8))\n",
    "\n",
    "arr1"
   ]
  },
  {
   "cell_type": "code",
   "execution_count": 684,
   "id": "7616a94b-b1ad-4cd3-8f2a-681edcb594f6",
   "metadata": {},
   "outputs": [
    {
     "data": {
      "text/plain": [
       "array([[ 6, 10, 10, -1, -1,  2, 14, 10],\n",
       "       [ 8, -1,  4, 10,  8, -1, -1, 14],\n",
       "       [-1, -1, -1,  8, -1, -1,  4, -1],\n",
       "       [ 0, -1,  8, -1, -1,  8, -1,  4],\n",
       "       [ 0,  8, -1, 10, -1, -1, -1, -1],\n",
       "       [-1, -1, -1, -1, -1, -1,  0, -1],\n",
       "       [ 4,  6, -1, 10, 12, -1, -1, -1],\n",
       "       [-1, -1, 10,  2, -1, -1,  0, -1],\n",
       "       [ 2, -1, -1,  4, 12,  2, -1, -1],\n",
       "       [-1,  0, -1, 14, -1, 14,  4, 14]])"
      ]
     },
     "execution_count": 684,
     "metadata": {},
     "output_type": "execute_result"
    }
   ],
   "source": [
    "arr1[arr1 % 2 != 0] = -1\n",
    "\n",
    "arr1"
   ]
  },
  {
   "cell_type": "markdown",
   "id": "dfe8fb99-35a2-4a9f-9077-7a6ff1a780f0",
   "metadata": {
    "jp-MarkdownHeadingCollapsed": true
   },
   "source": [
    "# Билет №12"
   ]
  },
  {
   "cell_type": "markdown",
   "id": "06993a0e-df5e-4817-9d5b-45703d9916d2",
   "metadata": {},
   "source": [
    "**1 вопрос (20 баллов)** <br>\n",
    "Основы работы с регулярными выражениями: базовый синтаксис,\n",
    "примеры использования модуля re в Python"
   ]
  },
  {
   "cell_type": "markdown",
   "id": "88228679-aa59-42e6-8789-9f00e817380e",
   "metadata": {},
   "source": [
    "\n",
    "\n",
    "\n",
    "----\n",
    "**Что такое регулярные выражения:** <br>\n",
    "Регулярные выражения (regex) - это мощный инструмент для поиска, сопоставления и\n",
    "манипуляции текстом на основе шаблонов\n",
    "\n",
    "----\n",
    "\n",
    "**Основные метасимволы**\n",
    "\n",
    "```python\n",
    ". # любой символ (кроме новой строки)\n",
    "^ # начало строки\n",
    "$ # конец строки\n",
    "* # 0 или более повторений предыдущего символа\n",
    "+ # 1 или более повторений\n",
    "? # 0 или 1 повторение (опциональный символ)\n",
    "\\ # экранирование метасимволов\n",
    "| # логическое ИЛИ\n",
    "```\n",
    "----\n",
    "\n",
    "**Символьные классы** \n",
    "\n",
    "```python\n",
    "[abc] # любой из символов a, b, c\n",
    "[a-z] # любая строчная буква\n",
    "[A-Z] # любая заглавная буква\n",
    "[0-9] # любая цифра\n",
    "[a-zA-Z] # любая буква\n",
    "[^abc] # любой символ КРОМЕ a, b, c\n",
    "\n",
    "# Предопределенные классы\n",
    "\\d # цифра [0-9]\n",
    "\\D # не цифра [^0-9]\n",
    "\\w # буква, цифра или подчеркивание [a-zA-Z0-9_]\n",
    "\\W # не буква, не цифра, не подчеркивание\n",
    "\\s # пробельный символ (пробел, табуляция, новая строка)\n",
    "\\S # не пробельный символ\n",
    "\n",
    "```\n",
    "----\n",
    "**Кванитификаторы**\n",
    "\n",
    "```python\n",
    "{n} # точно n повторений\n",
    "{n,} {n,m} # n или более повторений\n",
    "# от n до m повторений\n",
    "{,m} # до m повторений\n",
    "\n",
    "# Примеры\n",
    "\\d{3} # ровно 3 цифры\n",
    "\\d{2,4} # от 2 до 4 цифр\n",
    "\\d{3,} # 3 или более цифр\n",
    "[a-z]{1,5} # от 1 до 5 строчных букв\n",
    "```\n",
    "\n",
    "\n",
    "-----\n",
    "\n",
    "**Примеры использоания модуля re**\n",
    "\n",
    "* Модуль re предоставляет поддержку регулярных выражений в Python - инструмента для поиска, сопоставления и\n",
    "обработки текстовых данных по шаблона\n",
    "\n",
    "**Основные функции**\n",
    "\n",
    "* `re.search(pattern, string)` - поиск первого вхождения\n",
    "* `re.match(pattern, string)` - проверка с начала строки\n",
    "* `re.findall(pattern, string)` - все совпадения в виде списка\n",
    "* `re.sub(pattern, repl, string)` - замена совпадений\n",
    "* `re.split(pattern, string)` - разделение строки\n",
    "\n",
    "**Примеры на Python**\n",
    "\n"
   ]
  },
  {
   "cell_type": "code",
   "execution_count": 689,
   "id": "422a3543-955c-4f5b-b795-08b7b0a22cc4",
   "metadata": {},
   "outputs": [
    {
     "name": "stdout",
     "output_type": "stream",
     "text": [
      "+7(495)123-45-67\n"
     ]
    }
   ],
   "source": [
    "import re \n",
    "\n",
    "text = \"Телефон: +7(495)123-45-67\" \n",
    "pattern = r\"\\+7\\(\\d{3}\\)\\d{3}-\\d{2}-\\d{2}\" \n",
    "result = re.search(pattern, text) \n",
    "\n",
    "print(result.group())"
   ]
  },
  {
   "cell_type": "code",
   "execution_count": 691,
   "id": "22e7084d-6060-4fd0-bc02-83db5a6dc105",
   "metadata": {},
   "outputs": [
    {
     "data": {
      "text/plain": [
       "['100', '250', '75']"
      ]
     },
     "execution_count": 691,
     "metadata": {},
     "output_type": "execute_result"
    }
   ],
   "source": [
    "text = \"Цены: 100р, 250р, 75р\" \n",
    "prices = re.findall(r\"\\d+\", text)\n",
    "\n",
    "prices"
   ]
  },
  {
   "cell_type": "markdown",
   "id": "7e6a72cd-7f96-4766-b408-318319d0c233",
   "metadata": {},
   "source": [
    "----"
   ]
  },
  {
   "cell_type": "markdown",
   "id": "cf2064d6-6bd5-488f-929f-65c5614a3062",
   "metadata": {},
   "source": [
    "**2 вопрос (20 баллов)** <br> \n",
    "Без непосредственного задания элементов матрицы создать в питру\n",
    "матрицу 11 на 6 вида: [[1, 2, 4, 7, 8, 9], [11, 12, 14, 17, 18, 191. [21, 22, 24, 27, 28, 29], .... ,[101,\n",
    "102, 104, 107, 108, 109]]"
   ]
  },
  {
   "cell_type": "code",
   "execution_count": 695,
   "id": "9caa7b20-a182-4837-96d6-68c5908290ca",
   "metadata": {},
   "outputs": [
    {
     "data": {
      "text/plain": [
       "array([[  1,   2,   3,   4,   5,   6,   7,   8,   9],\n",
       "       [ 11,  12,  13,  14,  15,  16,  17,  18,  19],\n",
       "       [ 21,  22,  23,  24,  25,  26,  27,  28,  29],\n",
       "       [ 31,  32,  33,  34,  35,  36,  37,  38,  39],\n",
       "       [ 41,  42,  43,  44,  45,  46,  47,  48,  49],\n",
       "       [ 51,  52,  53,  54,  55,  56,  57,  58,  59],\n",
       "       [ 61,  62,  63,  64,  65,  66,  67,  68,  69],\n",
       "       [ 71,  72,  73,  74,  75,  76,  77,  78,  79],\n",
       "       [ 81,  82,  83,  84,  85,  86,  87,  88,  89],\n",
       "       [ 91,  92,  93,  94,  95,  96,  97,  98,  99],\n",
       "       [101, 102, 103, 104, 105, 106, 107, 108, 109]])"
      ]
     },
     "execution_count": 695,
     "metadata": {},
     "output_type": "execute_result"
    }
   ],
   "source": [
    "base_row = [1, 2, 3, 4, 5, 6, 7, 8, 9]\n",
    "\n",
    "matrix = base_row + 10 * np.arange(11).reshape(-1, 1)\n",
    "\n",
    "matrix"
   ]
  },
  {
   "cell_type": "markdown",
   "id": "c0af4066-43d6-459e-8c05-26091a6d5a70",
   "metadata": {},
   "source": [
    "**3 вопрос (20 баллов)** <br>\n",
    "Постройте кривые синуса, косинуса, тангенса, функции $x^2$ и $x^3$ на четырех графиках в два ряда и два столбца, задайте им разные цвета и стили линий.\n",
    "Задайте решетку и общий заголовок."
   ]
  },
  {
   "cell_type": "code",
   "execution_count": 698,
   "id": "2e4387b4-6921-4a67-aad3-84c4ba2ce5d6",
   "metadata": {},
   "outputs": [],
   "source": [
    "import numpy as np\n",
    "import matplotlib.pyplot as plt"
   ]
  },
  {
   "cell_type": "code",
   "execution_count": 700,
   "id": "5702d46f-dc8f-4c4c-844c-1381aced9ade",
   "metadata": {},
   "outputs": [
    {
     "data": {
      "image/png": "[encoded data removed]",
      "text/plain": [
       "<Figure size 1500x1000 with 4 Axes>"
      ]
     },
     "metadata": {},
     "output_type": "display_data"
    }
   ],
   "source": [
    "x = np.linspace(-2*np.pi, 2*np.pi, 400)\n",
    "\n",
    "fig, axes = plt.subplots(nrows=2, ncols=2, figsize=(15, 10))\n",
    "fig.suptitle('Графики  функций', fontsize=16)\n",
    "\n",
    "axes[0, 0].plot(x, np.sin(x), color='red', linestyle='-', linewidth=3, label=r'$\\sin(x)$')\n",
    "axes[0, 0].set_title('Синус')\n",
    "axes[0, 0].grid(True)\n",
    "axes[0, 0].legend()\n",
    "\n",
    "\n",
    "axes[0, 1].plot(x, np.cos(x), color='blue', linestyle='--', linewidth=3, label=r\"$cos(x)$\")\n",
    "axes[0, 1].set_title('Косинус')\n",
    "axes[0, 1].grid(True)\n",
    "axes[0, 1].legend()\n",
    "\n",
    "\n",
    "tan_x = []\n",
    "tan_y = []\n",
    "for xi in x:\n",
    "    if np.abs(np.cos(xi)) > 0.01:\n",
    "        tan_x.append(xi)\n",
    "        tan_y.append(np.tan(xi))\n",
    "        \n",
    "x_tan = x[np.abs(np.cos(x)) > 0.01]\n",
    "axes[1, 0].plot(tan_x, tan_y, color='green', linestyle=':', linewidth=2, label=r'$tan(x)$')\n",
    "axes[1, 0].set_title('Тангенс')\n",
    "axes[1, 0].grid(True)\n",
    "axes[1, 0].legend()\n",
    "axes[1, 0].set_ylim(-10, 10)\n",
    "\n",
    "\n",
    "\n",
    "x_poly = np.linspace(-10, 10, 1000)\n",
    "axes[1, 1].plot(x_poly, x_poly**2, color='purple', linestyle='-.', linewidth=2, label=r'$x^2$')\n",
    "axes[1, 1].plot(x_poly, x_poly**3, color='orange', linestyle='-', linewidth=2, label=r'$x^3$')\n",
    "axes[1, 1].set_title('Квадрат и куб')\n",
    "axes[1, 1].grid(True)\n",
    "axes[1, 1].legend()\n",
    "axes[1,1].set_xlim(-10, 10)\n",
    "axes[1,1].set_ylim(-10, 10)\n",
    "\n",
    "\n",
    "for ax in axes.flat:\n",
    "    ax.set_xlabel('x')\n",
    "    ax.set_ylabel('y')\n",
    "\n",
    "plt.tight_layout()\n",
    "plt.show()"
   ]
  },
  {
   "cell_type": "markdown",
   "id": "7787f4d4-ddb1-4018-a879-3ad6839388c1",
   "metadata": {
    "jp-MarkdownHeadingCollapsed": true
   },
   "source": [
    "# Билет №16"
   ]
  },
  {
   "cell_type": "markdown",
   "id": "22400bd7-b6ff-4988-aa05-218e7e0d4703",
   "metadata": {},
   "source": [
    "**1 вопрос (20 баллов)** <br> Применение универсальных функций и работа с пустыми значениями в\n",
    "Pandas"
   ]
  },
  {
   "cell_type": "markdown",
   "id": "33bba3d8-e910-4bfa-86f8-0851419330ad",
   "metadata": {},
   "source": [
    "-----\n",
    "\n",
    "**Универсальные функции (ufunc)** — это функции из библиотеки NumPy, которые применяются поэлементно к данным в объектах Series и DataFrame\n",
    "\n",
    "- Примеры универсальных функций: `np.sqrt`, `np.exp`, `np.log`, `np.abs`, `np.sin`, `np.round` и др.\n",
    "\n",
    "Пример на Python: "
   ]
  },
  {
   "cell_type": "code",
   "execution_count": 800,
   "id": "0671a84c-c491-4e02-a00f-1effa1ee5ffd",
   "metadata": {},
   "outputs": [
    {
     "name": "stdout",
     "output_type": "stream",
     "text": [
      "0    1.0\n",
      "1    2.0\n",
      "2    3.0\n",
      "3    4.0\n",
      "4    NaN\n",
      "dtype: float64\n"
     ]
    }
   ],
   "source": [
    "import pandas as pd\n",
    "import numpy as np\n",
    "\n",
    "s = pd.Series([1, 4, 9, 16, np.nan])\n",
    "\n",
    "result = np.sqrt(s)\n",
    "print(result)"
   ]
  },
  {
   "cell_type": "markdown",
   "id": "49f2321d-f886-44af-a24d-e13e81a5f7aa",
   "metadata": {},
   "source": [
    "----\n",
    "\n",
    "\n",
    "**Работа с пустыми значениями (NaN)**\n",
    "\n",
    "В Pandas отсутствующие значения обозначаются как NaN (Not a Number) — специальное значение, представляющее пропущенные или некорректные данные\n",
    "\n",
    "**Проверка наличия пропусков:**\n",
    "```python\n",
    "df.isna()        # True для NaN\n",
    "df.isnull()      # То же самое\n",
    "df.notna()       # True для НЕ NaN\n",
    "```\n",
    "**Удаление пустых значений:**\n",
    "\n",
    "```python\n",
    "df.dropna()      # Удаляет строки с хотя бы одним NaN\n",
    "df.dropna(axis=1)  # Удаляет столбцы с NaN\n",
    "```\n",
    "\n",
    "\n",
    "**Заполнение пустых значений:**\n",
    "\n",
    "```python\n",
    "df.fillna(0)            # Заменить NaN на 0\n",
    "df.fillna(method=\"ffill\")  # Прямое заполнение (вперёд)\n",
    "df.fillna(method=\"bfill\")  # Обратное заполнение (назад)\n",
    "\n",
    "```\n",
    "\n",
    "---\n",
    "\n",
    "- Универсальные функции позволяют удобно и эффективно выполнять поэлементные операции.\n",
    "\n",
    "- Pandas предоставляет удобные средства для:\n",
    "\n",
    "    - выявления пропущенных данных\n",
    "    \n",
    "    * удаления или заполнения NaN\n",
    "    \n",
    "    - комбинирования с NumPy-функциями, которые корректно работают с NaN\n",
    "\n",
    "---"
   ]
  },
  {
   "cell_type": "markdown",
   "id": "599041ef-40ae-46c5-a1b5-186962e3c919",
   "metadata": {},
   "source": [
    "**2 вопрос (20 баллов)** <br> Загрузите названия рецептов из файла preprocessed_descriptions.csv\n",
    "(первая колонка). Получите набор уникальных слов в названиях. Получите набор из 5\n",
    "ближайших слов к слову 'black'. (Близость слов измеряется с помощью расстояния\n",
    "Левенштейна)."
   ]
  },
  {
   "cell_type": "code",
   "execution_count": 706,
   "id": "384ccfd5-71e4-4cac-8122-209b143a42c8",
   "metadata": {},
   "outputs": [
    {
     "data": {
      "text/html": [
       "<div>\n",
       "<style scoped>\n",
       "    .dataframe tbody tr th:only-of-type {\n",
       "        vertical-align: middle;\n",
       "    }\n",
       "\n",
       "    .dataframe tbody tr th {\n",
       "        vertical-align: top;\n",
       "    }\n",
       "\n",
       "    .dataframe thead th {\n",
       "        text-align: right;\n",
       "    }\n",
       "</style>\n",
       "<table border=\"1\" class=\"dataframe\">\n",
       "  <thead>\n",
       "    <tr style=\"text-align: right;\">\n",
       "      <th></th>\n",
       "      <th>name</th>\n",
       "      <th>id</th>\n",
       "      <th>minutes</th>\n",
       "      <th>contributor_id</th>\n",
       "      <th>submitted</th>\n",
       "      <th>n_steps</th>\n",
       "      <th>description</th>\n",
       "      <th>n_ingredients</th>\n",
       "    </tr>\n",
       "  </thead>\n",
       "  <tbody>\n",
       "    <tr>\n",
       "      <th>0</th>\n",
       "      <td>george s at the cove  black bean soup</td>\n",
       "      <td>44123</td>\n",
       "      <td>90</td>\n",
       "      <td>35193</td>\n",
       "      <td>2002-10-25</td>\n",
       "      <td>NaN</td>\n",
       "      <td>an original recipe created by chef scott meska...</td>\n",
       "      <td>18.0</td>\n",
       "    </tr>\n",
       "    <tr>\n",
       "      <th>1</th>\n",
       "      <td>healthy for them  yogurt popsicles</td>\n",
       "      <td>67664</td>\n",
       "      <td>10</td>\n",
       "      <td>91970</td>\n",
       "      <td>2003-07-26</td>\n",
       "      <td>NaN</td>\n",
       "      <td>my children and their friends ask for my homem...</td>\n",
       "      <td>NaN</td>\n",
       "    </tr>\n",
       "    <tr>\n",
       "      <th>2</th>\n",
       "      <td>i can t believe it s spinach</td>\n",
       "      <td>38798</td>\n",
       "      <td>30</td>\n",
       "      <td>1533</td>\n",
       "      <td>2002-08-29</td>\n",
       "      <td>NaN</td>\n",
       "      <td>these were so go, it surprised even me.</td>\n",
       "      <td>8.0</td>\n",
       "    </tr>\n",
       "    <tr>\n",
       "      <th>3</th>\n",
       "      <td>italian  gut busters</td>\n",
       "      <td>35173</td>\n",
       "      <td>45</td>\n",
       "      <td>22724</td>\n",
       "      <td>2002-07-27</td>\n",
       "      <td>NaN</td>\n",
       "      <td>my sister-in-law made these for us at a family...</td>\n",
       "      <td>NaN</td>\n",
       "    </tr>\n",
       "    <tr>\n",
       "      <th>4</th>\n",
       "      <td>love is in the air  beef fondue   sauces</td>\n",
       "      <td>84797</td>\n",
       "      <td>25</td>\n",
       "      <td>4470</td>\n",
       "      <td>2004-02-23</td>\n",
       "      <td>4.0</td>\n",
       "      <td>i think a fondue is a very romantic casual din...</td>\n",
       "      <td>NaN</td>\n",
       "    </tr>\n",
       "  </tbody>\n",
       "</table>\n",
       "</div>"
      ],
      "text/plain": [
       "                                       name     id  minutes  contributor_id  \\\n",
       "0     george s at the cove  black bean soup  44123       90           35193   \n",
       "1        healthy for them  yogurt popsicles  67664       10           91970   \n",
       "2              i can t believe it s spinach  38798       30            1533   \n",
       "3                      italian  gut busters  35173       45           22724   \n",
       "4  love is in the air  beef fondue   sauces  84797       25            4470   \n",
       "\n",
       "    submitted  n_steps                                        description  \\\n",
       "0  2002-10-25      NaN  an original recipe created by chef scott meska...   \n",
       "1  2003-07-26      NaN  my children and their friends ask for my homem...   \n",
       "2  2002-08-29      NaN            these were so go, it surprised even me.   \n",
       "3  2002-07-27      NaN  my sister-in-law made these for us at a family...   \n",
       "4  2004-02-23      4.0  i think a fondue is a very romantic casual din...   \n",
       "\n",
       "   n_ingredients  \n",
       "0           18.0  \n",
       "1            NaN  \n",
       "2            8.0  \n",
       "3            NaN  \n",
       "4            NaN  "
      ]
     },
     "execution_count": 706,
     "metadata": {},
     "output_type": "execute_result"
    }
   ],
   "source": [
    "from nltk import edit_distance\n",
    "from nltk.tokenize import word_tokenize\n",
    "import pandas as pd\n",
    "import re\n",
    "\n",
    "\n",
    "recipes = pd.read_csv(\"data/recipes_sample.csv\")\n",
    "\n",
    "recipes.head()"
   ]
  },
  {
   "cell_type": "code",
   "execution_count": 708,
   "id": "3b41843c-5c77-4924-8a74-dcfcd2a00e6c",
   "metadata": {},
   "outputs": [
    {
     "data": {
      "text/plain": [
       "['camino',\n",
       " 'irish',\n",
       " 'benny',\n",
       " 'katie',\n",
       " 'described',\n",
       " 'anonymous',\n",
       " 'jerez',\n",
       " 'zmail',\n",
       " 'kiwi',\n",
       " 'bousel']"
      ]
     },
     "execution_count": 708,
     "metadata": {},
     "output_type": "execute_result"
    }
   ],
   "source": [
    "descriptions = recipes[\"description\"].dropna().str.lower()\n",
    "\n",
    "words = set()\n",
    "for word in descriptions:\n",
    "    tokens = word_tokenize(word)\n",
    "    words.update(w for w in tokens if re.match(r'^[a-zA-Z]+$', w))\n",
    "\n",
    "list(words)[:10]"
   ]
  },
  {
   "cell_type": "code",
   "execution_count": 709,
   "id": "23a8b627-0553-4aff-ab97-763436c66097",
   "metadata": {},
   "outputs": [],
   "source": [
    "def find_closest_words(data, word: str, n=5): \n",
    "    result = [(w, edit_distance(word, w)) for w in data]\n",
    "    return result[:n]"
   ]
  },
  {
   "cell_type": "code",
   "execution_count": 710,
   "id": "34fef9d6-95af-44d1-be38-aaf1f474709c",
   "metadata": {},
   "outputs": [
    {
     "data": {
      "text/plain": [
       "[('camino', 6), ('irish', 5), ('benny', 4), ('katie', 5), ('described', 8)]"
      ]
     },
     "execution_count": 710,
     "metadata": {},
     "output_type": "execute_result"
    }
   ],
   "source": [
    "res = find_closest_words(words, \"black\", 5)\n",
    "res"
   ]
  },
  {
   "cell_type": "markdown",
   "id": "64b37678-138e-487e-a071-8e2bf734b060",
   "metadata": {},
   "source": [
    "**3 вопрос (20 баллов)** <br> Задайте двумерный массив аг1 размерности (5, 4), состоящий из\n",
    "случайных целых чисел в пределах от 0 до 5. Определите, в каких столбцах не менее 2 раз\n",
    "встречается значение, максимальное по своей строке и распечатайте массив с заменой\n",
    "элементов остальных столбцов на - 1. Решить задачу средствами numpy и/или pandas. Не\n",
    "использовать циклы и конструкции стандартного Python там, где можно использовать\n",
    "возможности данных библиотек."
   ]
  },
  {
   "cell_type": "code",
   "execution_count": 715,
   "id": "3154c63a-791f-458a-9b11-94c7e3ec413a",
   "metadata": {},
   "outputs": [
    {
     "name": "stdout",
     "output_type": "stream",
     "text": [
      "[[ 4  3 -1 -1]\n",
      " [ 2  4 -1 -1]\n",
      " [ 3  3 -1 -1]\n",
      " [ 5  0 -1 -1]\n",
      " [ 4  5 -1 -1]]\n"
     ]
    }
   ],
   "source": [
    "import numpy as np\n",
    "\n",
    "ar1 = np.random.randint(0, 6, size=(5, 4))\n",
    "\n",
    "max_in_rows = np.max(ar1, axis=1, keepdims=True)\n",
    "\n",
    "max_counts = np.sum(ar1 == max_in_rows, axis=0)\n",
    "\n",
    "valid_cols = max_counts >= 2\n",
    "\n",
    "result = np.where(valid_cols, ar1, -1)\n",
    "\n",
    "print(result)"
   ]
  },
  {
   "cell_type": "markdown",
   "id": "f2c86bd8-aab5-42f3-b436-6adb31cde8a0",
   "metadata": {
    "jp-MarkdownHeadingCollapsed": true
   },
   "source": [
    "# Билет №26"
   ]
  },
  {
   "cell_type": "markdown",
   "id": "e6c884f0-6ca0-497b-ad22-faf134cfd09d",
   "metadata": {},
   "source": [
    "**1 вопрос (20 баллов)** <br>\n",
    "Форматирование данных в Python, f-строки"
   ]
  },
  {
   "cell_type": "markdown",
   "id": "44347dbf-1341-4356-b1e6-2bba65a43d24",
   "metadata": {},
   "source": [
    "----\n",
    "**F-строки (или форматированные строковые литералы)** — это способ форматирования строк, представленный в Python 3.6+. Они позволяют встраивать переменные и выражения прямо внутрь строки, обрамляя их фигурными скобками {}\n",
    "\n",
    "Синтаксис: \n",
    "```python\n",
    "name = \"Егор\"\n",
    "age = 19\n",
    "print(f\"Меня зовут {name}, мне {age} год.\")\n",
    "\n",
    "```\n",
    "\n",
    "---\n",
    "\n",
    "**Преимущества f-строк**\n",
    "\n",
    "- Краткость и читаемость\n",
    "- Быстродействие (f-строки быстрее, чем .format() и %)\n",
    "- Поддержка вычислений и выражений внутри фигурных скобок\n",
    "\n",
    "\n",
    "Можно управлять точностью, выравниванием, шириной поля, добавлением нулей и т.д: \n",
    "\n",
    "----"
   ]
  },
  {
   "cell_type": "code",
   "execution_count": 772,
   "id": "a573c91c-ff1e-431b-9c49-fb837afd95c3",
   "metadata": {},
   "outputs": [
    {
     "name": "stdout",
     "output_type": "stream",
     "text": [
      "123.46\n",
      "    123.46\n",
      "0000123.46\n"
     ]
    }
   ],
   "source": [
    "num = 123.4567\n",
    "\n",
    "print(f\"{num:.2f}\")     \n",
    "print(f\"{num:10.2f}\")       \n",
    "print(f\"{num:010.2f}\")      "
   ]
  },
  {
   "cell_type": "code",
   "execution_count": 774,
   "id": "f9dfb2e0-3387-4be2-a77f-2c4ba010c3e0",
   "metadata": {},
   "outputs": [
    {
     "name": "stdout",
     "output_type": "stream",
     "text": [
      "      Anna\n",
      "Anna      \n",
      "   Anna   \n"
     ]
    }
   ],
   "source": [
    "name = \"Anna\"\n",
    "\n",
    "print(f\"{name:>10}\")       \n",
    "print(f\"{name:<10}\")       \n",
    "print(f\"{name:^10}\")       "
   ]
  },
  {
   "cell_type": "markdown",
   "id": "4d80d449-a54d-4901-9b3c-28e3daa97b37",
   "metadata": {},
   "source": [
    "---\n",
    "\n",
    "Вложенные выражения и функции: "
   ]
  },
  {
   "cell_type": "code",
   "execution_count": 777,
   "id": "8eebd05a-e799-492d-bc89-2eb5f93f43c6",
   "metadata": {},
   "outputs": [
    {
     "name": "stdout",
     "output_type": "stream",
     "text": [
      "Площадь круга с радиусом 5 равна 78.54\n"
     ]
    }
   ],
   "source": [
    "import math\n",
    "radius = 5\n",
    "print(f\"Площадь круга с радиусом {radius} равна {math.pi * radius**2:.2f}\")"
   ]
  },
  {
   "cell_type": "markdown",
   "id": "34a2264b-0607-4476-94a3-8c185e557f7c",
   "metadata": {},
   "source": [
    "----"
   ]
  },
  {
   "cell_type": "markdown",
   "id": "92383387-cf4c-455e-bdbc-ebd7ee8c9139",
   "metadata": {},
   "source": [
    "**2 вопрос (20 баллов)** <br>\n",
    "Задать два двумерных массива аг1 и ar2 размерности (10, 4), состоящих\n",
    "из случайных целых чисел в пределах от -5 до 5. Удвоить все значения аг1, которые больше\n",
    "значений аг2, расположенных на аналогичных позициях, остальные значения сделать равными\n",
    "0."
   ]
  },
  {
   "cell_type": "code",
   "execution_count": 721,
   "id": "e635c250-82fe-42a7-8951-392cf092bef2",
   "metadata": {},
   "outputs": [
    {
     "data": {
      "text/plain": [
       "(array([[-3,  3, -1,  4],\n",
       "        [-5, -4,  3,  1],\n",
       "        [-2,  0,  1,  0],\n",
       "        [ 4, -4, -2, -3],\n",
       "        [-5, -1,  2, -2],\n",
       "        [-1,  0,  2, -3],\n",
       "        [-4,  0, -3,  2],\n",
       "        [-1, -5,  2, -3],\n",
       "        [-5, -5,  1,  2],\n",
       "        [-2, -5,  1,  4]]),\n",
       " array([[-2,  0,  0, -3],\n",
       "        [ 4, -1,  2, -1],\n",
       "        [ 1,  0, -4, -1],\n",
       "        [-5,  2, -5,  4],\n",
       "        [ 2, -2,  2,  3],\n",
       "        [ 2, -2, -1, -2],\n",
       "        [-2, -4,  0,  0],\n",
       "        [ 0,  1, -1, -1],\n",
       "        [ 0,  0, -1, -4],\n",
       "        [ 4,  4,  4, -5]]))"
      ]
     },
     "execution_count": 721,
     "metadata": {},
     "output_type": "execute_result"
    }
   ],
   "source": [
    "import numpy as np\n",
    "\n",
    "ar1 = np.random.randint(-5, 5, size=(10, 4))\n",
    "ar2 = np.random.randint(-5, 5, size=(10, 4))\n",
    "\n",
    "\n",
    "ar1, ar2"
   ]
  },
  {
   "cell_type": "code",
   "execution_count": 723,
   "id": "50b81cd6-75a0-402f-ba45-35ed028b3754",
   "metadata": {},
   "outputs": [
    {
     "data": {
      "text/plain": [
       "array([[ 0,  6,  0,  8],\n",
       "       [ 0,  0,  6,  2],\n",
       "       [ 0,  0,  2,  0],\n",
       "       [ 8,  0, -4,  0],\n",
       "       [ 0, -2,  0,  0],\n",
       "       [ 0,  0,  4,  0],\n",
       "       [ 0,  0,  0,  4],\n",
       "       [ 0,  0,  4,  0],\n",
       "       [ 0,  0,  2,  4],\n",
       "       [ 0,  0,  0,  8]])"
      ]
     },
     "execution_count": 723,
     "metadata": {},
     "output_type": "execute_result"
    }
   ],
   "source": [
    "result = np.where(ar1 > ar2, ar1 * 2, 0)\n",
    "result"
   ]
  },
  {
   "cell_type": "markdown",
   "id": "180c3fec-ebe4-4d7a-a830-b3f5b6861b6f",
   "metadata": {},
   "source": [
    "**3 вопрос (20 баллов)** <br>\n",
    "При помощи объединения таблиц, создайте DataFrame, состоящий из\n",
    "четырех столбцов: id, name, date, review. Рецепты без отзывов должны отсутствовать в данной\n",
    "таблице. Создайте новый DataFrame, состоящий их записей не старше 2015 года и состоящий\n",
    "из двух столбцов, где первый это id рецепта, а второй - столбец, хранящий количество отзывов на рецепт"
   ]
  },
  {
   "cell_type": "code",
   "execution_count": 726,
   "id": "91142cac-556b-47ee-92b0-1d42f241d82c",
   "metadata": {},
   "outputs": [],
   "source": [
    "import pandas as pd\n",
    "from datetime import datetime\n",
    "\n",
    "\n",
    "recipes = pd.DataFrame(data = {\n",
    "    'id': [1, 2, 3, 4, 5],\n",
    "    'name': ['Суп', 'Салат', 'Пирог', 'Рагу', 'Десерт'],\n",
    "    'date': ['2012-05-10', '2016-08-15', '2014-03-22', '2018-11-30', '2013-07-04']\n",
    "})\n",
    "\n",
    "recipes['date'] = pd.to_datetime(recipes['date'])\n",
    "\n",
    "\n",
    "reviews = pd.DataFrame(data = {\n",
    "    'id_recipe': [1, 1, 2, 3, 3, 3, 5],\n",
    "    'review': ['Отличный!', 'Вкусно', 'Нормально', 'Супер', 'Повторил', 'Лучший', 'Не очень']\n",
    "})"
   ]
  },
  {
   "cell_type": "code",
   "execution_count": 728,
   "id": "993609e8-6131-48c4-9f67-a131f993ced0",
   "metadata": {},
   "outputs": [
    {
     "data": {
      "text/html": [
       "<div>\n",
       "<style scoped>\n",
       "    .dataframe tbody tr th:only-of-type {\n",
       "        vertical-align: middle;\n",
       "    }\n",
       "\n",
       "    .dataframe tbody tr th {\n",
       "        vertical-align: top;\n",
       "    }\n",
       "\n",
       "    .dataframe thead th {\n",
       "        text-align: right;\n",
       "    }\n",
       "</style>\n",
       "<table border=\"1\" class=\"dataframe\">\n",
       "  <thead>\n",
       "    <tr style=\"text-align: right;\">\n",
       "      <th></th>\n",
       "      <th>id</th>\n",
       "      <th>name</th>\n",
       "      <th>date</th>\n",
       "      <th>review</th>\n",
       "    </tr>\n",
       "  </thead>\n",
       "  <tbody>\n",
       "    <tr>\n",
       "      <th>0</th>\n",
       "      <td>1</td>\n",
       "      <td>Суп</td>\n",
       "      <td>2012-05-10</td>\n",
       "      <td>Отличный!</td>\n",
       "    </tr>\n",
       "    <tr>\n",
       "      <th>1</th>\n",
       "      <td>1</td>\n",
       "      <td>Суп</td>\n",
       "      <td>2012-05-10</td>\n",
       "      <td>Вкусно</td>\n",
       "    </tr>\n",
       "    <tr>\n",
       "      <th>3</th>\n",
       "      <td>3</td>\n",
       "      <td>Пирог</td>\n",
       "      <td>2014-03-22</td>\n",
       "      <td>Супер</td>\n",
       "    </tr>\n",
       "    <tr>\n",
       "      <th>4</th>\n",
       "      <td>3</td>\n",
       "      <td>Пирог</td>\n",
       "      <td>2014-03-22</td>\n",
       "      <td>Повторил</td>\n",
       "    </tr>\n",
       "    <tr>\n",
       "      <th>5</th>\n",
       "      <td>3</td>\n",
       "      <td>Пирог</td>\n",
       "      <td>2014-03-22</td>\n",
       "      <td>Лучший</td>\n",
       "    </tr>\n",
       "    <tr>\n",
       "      <th>6</th>\n",
       "      <td>5</td>\n",
       "      <td>Десерт</td>\n",
       "      <td>2013-07-04</td>\n",
       "      <td>Не очень</td>\n",
       "    </tr>\n",
       "  </tbody>\n",
       "</table>\n",
       "</div>"
      ],
      "text/plain": [
       "   id    name       date     review\n",
       "0   1     Суп 2012-05-10  Отличный!\n",
       "1   1     Суп 2012-05-10     Вкусно\n",
       "3   3   Пирог 2014-03-22      Супер\n",
       "4   3   Пирог 2014-03-22   Повторил\n",
       "5   3   Пирог 2014-03-22     Лучший\n",
       "6   5  Десерт 2013-07-04   Не очень"
      ]
     },
     "execution_count": 728,
     "metadata": {},
     "output_type": "execute_result"
    }
   ],
   "source": [
    "merged_df = pd.merge(recipes, reviews, left_on='id', right_on='id_recipe')\n",
    "result_df = merged_df[['id', 'name', 'date', 'review']]\n",
    "result_df = result_df[result_df['date'].dt.year <= 2015]\n",
    "\n",
    "result_df"
   ]
  },
  {
   "cell_type": "code",
   "execution_count": 730,
   "id": "1b6c3eca-d94b-428e-9168-91d3d0577fd2",
   "metadata": {},
   "outputs": [
    {
     "data": {
      "text/html": [
       "<div>\n",
       "<style scoped>\n",
       "    .dataframe tbody tr th:only-of-type {\n",
       "        vertical-align: middle;\n",
       "    }\n",
       "\n",
       "    .dataframe tbody tr th {\n",
       "        vertical-align: top;\n",
       "    }\n",
       "\n",
       "    .dataframe thead th {\n",
       "        text-align: right;\n",
       "    }\n",
       "</style>\n",
       "<table border=\"1\" class=\"dataframe\">\n",
       "  <thead>\n",
       "    <tr style=\"text-align: right;\">\n",
       "      <th></th>\n",
       "      <th>id</th>\n",
       "      <th>review_count</th>\n",
       "    </tr>\n",
       "  </thead>\n",
       "  <tbody>\n",
       "    <tr>\n",
       "      <th>0</th>\n",
       "      <td>1</td>\n",
       "      <td>2</td>\n",
       "    </tr>\n",
       "    <tr>\n",
       "      <th>1</th>\n",
       "      <td>3</td>\n",
       "      <td>3</td>\n",
       "    </tr>\n",
       "    <tr>\n",
       "      <th>2</th>\n",
       "      <td>5</td>\n",
       "      <td>1</td>\n",
       "    </tr>\n",
       "  </tbody>\n",
       "</table>\n",
       "</div>"
      ],
      "text/plain": [
       "   id  review_count\n",
       "0   1             2\n",
       "1   3             3\n",
       "2   5             1"
      ]
     },
     "execution_count": 730,
     "metadata": {},
     "output_type": "execute_result"
    }
   ],
   "source": [
    "count = result_df.groupby('id').agg(\n",
    "    count = (\"review\", \"count\")\n",
    ").reset_index()\n",
    "\n",
    "final_df = count[['id', 'count']]\n",
    "final_df.columns = ['id', 'review_count']\n",
    "\n",
    "final_df"
   ]
  },
  {
   "cell_type": "markdown",
   "id": "48c7d2f5-425a-4e9d-987f-d76a2bfe8d88",
   "metadata": {},
   "source": [
    "# Билет №24"
   ]
  },
  {
   "cell_type": "markdown",
   "id": "02435232-a252-4f1a-be62-cd46657dcfb6",
   "metadata": {},
   "source": [
    "**1 вопрос (20 баллов)** <br>\n",
    "Формат XML и модель DОМ: общая характеристика, пример описания данных в XML и\n",
    "DOM, работа с ними с помощью библиотеки BeautifulSoup"
   ]
  },
  {
   "cell_type": "markdown",
   "id": "2e039b5b-0bb2-4d27-8254-fa8938629872",
   "metadata": {},
   "source": [
    "----\n",
    "\n",
    "**XML (eXtensible Markup Language):** Расширяемый язык разметки для структурированного представления данных <br>\n",
    "\n",
    "**Характеристики XML**:\n",
    "- Иерархическая структура\n",
    "- Самоописывающийся формат\n",
    "- Поддержка атрибутов и пространств имен\n",
    "- Строгий синтаксис\n",
    "\n",
    "----\n",
    "\n",
    "**Модель DOM (Document Object Model)**\n",
    "\n",
    "DOM представляет XML-документ как древовидную структуру объектов в памяти\n",
    "\n",
    "**Компоненты DOM:**\n",
    "- **Узлы** (nodes): элементы, атрибуты, текст\n",
    "- **Элементы** (elements): теги XML\n",
    "- **Атрибуты** (attributes): свойства элементов\n",
    "- **Дерево**: иерархическая структура\n",
    "\n",
    "----\n",
    "\n",
    "Библиотека **BeautifulSoup** (обычно используется для HTML), также поддерживает работу с XML, реализуя DOM-модель:"
   ]
  },
  {
   "cell_type": "code",
   "execution_count": 795,
   "id": "30af1cd3-069e-40b8-ac3e-3d602a8b8261",
   "metadata": {},
   "outputs": [
    {
     "name": "stdout",
     "output_type": "stream",
     "text": [
      "ID: 1 -> Егор изучает Machine Learning\n",
      "ID: 2 -> Анна изучает Data Science\n"
     ]
    }
   ],
   "source": [
    "from bs4 import BeautifulSoup\n",
    "\n",
    "xml_data = \"\"\"\n",
    "<students>\n",
    "    <student id=\"1\">\n",
    "        <name>Егор</name>\n",
    "        <age>19</age>\n",
    "        <course>Machine Learning</course>\n",
    "    </student>\n",
    "    <student id=\"2\">\n",
    "        <name>Анна</name>\n",
    "        <age>22</age>\n",
    "        <course>Data Science</course>\n",
    "    </student>\n",
    "</students>\n",
    "\"\"\"\n",
    "\n",
    "soup = BeautifulSoup(xml_data, \"xml\")\n",
    "\n",
    "\n",
    "students = soup.find_all(\"student\")\n",
    "\n",
    "for student in students:\n",
    "    name = student.find(\"name\").text\n",
    "    course = student.find(\"course\").text\n",
    "    student_id = student['id']\n",
    "    print(f\"ID: {student_id} -> {name} изучает {course}\")"
   ]
  },
  {
   "cell_type": "markdown",
   "id": "cb0ce5eb-a7c7-42e0-80a7-d0c6ef0d29d2",
   "metadata": {},
   "source": [
    "---"
   ]
  },
  {
   "cell_type": "markdown",
   "id": "c6cf3afc-99ab-497d-be1a-3ee37f70095b",
   "metadata": {},
   "source": [
    "**2 вопрос (20 баллов)** <br>\n",
    "Решить матричное уравнение $А*Х*В=-С$ - найти матрицу $X$. <br>\n",
    "<br>\n",
    "Где $A = \\begin{bmatrix}\n",
    "         -1,2,4\\\\\n",
    "         -3,1,2\\\\\n",
    "         -3,0,1\n",
    "         \\end{bmatrix}$,\n",
    "    $B = \\begin{bmatrix}\n",
    "          3,-1\\\\\n",
    "          2,1\n",
    "         \\end{bmatrix}$, \n",
    "    $C = \\begin{bmatrix}\n",
    "         7, 21\\\\\n",
    "         11,8\\\\\n",
    "         8,4\n",
    "         \\end{bmatrix}$"
   ]
  },
  {
   "cell_type": "code",
   "execution_count": 737,
   "id": "912269ac-61c6-4f31-9346-e1fba9ab717c",
   "metadata": {},
   "outputs": [
    {
     "data": {
      "text/plain": [
       "array([[ 1.00000000e+00,  5.32907052e-16],\n",
       "       [-2.00000000e+00,  1.00000000e+00],\n",
       "       [ 3.00000000e+00, -4.00000000e+00]])"
      ]
     },
     "execution_count": 737,
     "metadata": {},
     "output_type": "execute_result"
    }
   ],
   "source": [
    "import numpy as np\n",
    "\n",
    "\n",
    "A = np.array([\n",
    "    [-1,2,4],\n",
    "    [-3,1,2],\n",
    "    [-3,0,1]\n",
    "])\n",
    "\n",
    "B = np.array([\n",
    "    [3, -1],\n",
    "    [2, 1]\n",
    "])\n",
    "\n",
    "C = np.array([\n",
    "    [7, 21],\n",
    "    [11, 8],\n",
    "    [8, 4]\n",
    "])\n",
    "\n",
    "X = np.dot(np.dot(np.linalg.inv(A),-C), np.linalg.inv(B))\n",
    "\n",
    "X"
   ]
  },
  {
   "cell_type": "markdown",
   "id": "f5ffc80f-8a24-45af-a068-bbad374c22fe",
   "metadata": {},
   "source": [
    "**З вопрос (20 баллов)** <br>\n",
    "В файле 'average ratings.npy содержится информация о среднем рейтинге 3 рецептов за\n",
    "период с 01.01.2019 по 30.12,2021. При помощи пакста 'matplotlib и _одной системе\n",
    "коорлинат_ (на одной картинке) изобразите три временных ряда, соответствующих\n",
    "средним рейтингам этих рецептов."
   ]
  },
  {
   "cell_type": "code",
   "execution_count": 840,
   "id": "29988b0b-b200-4b11-9985-547eb71f740e",
   "metadata": {},
   "outputs": [
    {
     "data": {
      "image/png": "[encoded data removed]",
      "text/plain": [
       "<Figure size 1000x600 with 1 Axes>"
      ]
     },
     "metadata": {},
     "output_type": "display_data"
    }
   ],
   "source": [
    "import numpy as np\n",
    "import matplotlib.pyplot as plt\n",
    "\n",
    "ratings = np.load('data/average_ratings.npy')\n",
    "\n",
    "plt.figure(figsize=(10, 6))\n",
    "days = np.arange(ratings.shape[1])\n",
    "for i in range(3):\n",
    "    plt.plot(days, ratings[i], label=f\"recipe_{i}\", color=['red', 'blue', 'green'][i])\n",
    "\n",
    "plt.xlabel('Номер дня')\n",
    "plt.ylabel('Средний рейтинг')\n",
    "plt.title('Изменение среднего рейтинга трех рецептов')\n",
    "plt.legend()\n",
    "\n",
    "\n",
    "plt.show()"
   ]
  },
  {
   "cell_type": "markdown",
   "id": "407c5f1a-6bb1-44d9-b238-94445353537d",
   "metadata": {},
   "source": [
    "2. (20 баллов) Задан двухмерный массив arl размерности (25, 4), состоящий из\n",
    "случайных целых чисел в пределах от 0 до 15. Определить, в каких столбцах не\n",
    "менее 5 раз встречается значение, максимальное по своей строке (вывести индексы\n",
    "этих столбцов на экран с соответствующим комментарием). Для столбца, в котором\n",
    "таких значений наибольшее количество заменить максимумы по строке на значения\n",
    "-1.\n",
    "pandas. He\n",
    "Решить задачу средствами питру и/или pandas. Не использовать циклы и\n",
    "конструкции стандартного Python там, где можно использовать возможности\n",
    "данных библиотек."
   ]
  },
  {
   "cell_type": "code",
   "execution_count": 871,
   "id": "1fe1eb2b-085f-486d-b34f-120b8f53fc0a",
   "metadata": {},
   "outputs": [
    {
     "name": "stdout",
     "output_type": "stream",
     "text": [
      "Столбцы, где максимум по строке встречается не менее 5 раз: [0 1 2 3]\n",
      "Столбец с наибольшим количеством максимумов: 1\n",
      "Массив после замены:\n",
      "[[10  1 15  1]\n",
      " [ 2  2  6  1]\n",
      " [ 0 -1  2  7]\n",
      " [ 5 -1  5  3]\n",
      " [ 3 -1 13  3]\n",
      " [ 4  0 14 13]\n",
      " [ 1  1 12  6]\n",
      " [ 8 -1  4  1]\n",
      " [ 5  4 10  9]\n",
      " [ 0 -1  1  4]\n",
      " [ 7  5  2  7]\n",
      " [ 3  6 12  6]\n",
      " [10 -1  0  7]\n",
      " [ 9 -1  8  8]\n",
      " [12  1  5 15]\n",
      " [ 3  7 15  0]\n",
      " [ 6 -1  2 13]\n",
      " [ 0 -1  3  0]\n",
      " [15 14 10  6]\n",
      " [10  0  8 10]\n",
      " [13  8  5  3]\n",
      " [ 0  7  4 10]\n",
      " [ 2 -1  0  0]\n",
      " [13 11  3 11]\n",
      " [ 1  0  3  1]]\n"
     ]
    }
   ],
   "source": [
    "import numpy as np\n",
    "import pandas as pd\n",
    "\n",
    "\n",
    "arr = np.random.randint(0, 16, size=(25, 4))\n",
    "\n",
    "\n",
    "max_in_rows = arr.max(axis=1, keepdims=True)\n",
    "\n",
    "\n",
    "is_max = arr == max_in_rows\n",
    "\n",
    "\n",
    "max_counts = is_max.sum(axis=0)\n",
    "\n",
    "# Находим столбцы, где максимумов >= 5\n",
    "columns_with_5max = np.where(max_counts >= 5)[0]\n",
    "print(f\"Столбцы, где максимум по строке встречается не менее 5 раз: {columns_with_5max}\")\n",
    "\n",
    "# Находим столбец с наибольшим количеством максимумов\n",
    "if len(columns_with_5max) > 0:\n",
    "    max_col = max_counts.argmax()\n",
    "    print(f\"Столбец с наибольшим количеством максимумов: {max_col}\")\n",
    "    \n",
    "    # Заменяем максимумы по строкам в этом столбце на -1\n",
    "    arr[is_max[:, max_col], max_col] = -1\n",
    "    \n",
    "    print(\"Массив после замены:\")\n",
    "    print(arr)\n",
    "else:\n",
    "    print(\"Нет столбцов, удовлетворяющих условию\")"
   ]
  },
  {
   "cell_type": "code",
   "execution_count": null,
   "id": "8d895d75-5113-44ff-8801-66ac96d40304",
   "metadata": {},
   "outputs": [],
   "source": []
  }
 ],
 "metadata": {
  "kernelspec": {
   "display_name": "Python 3 (ipykernel)",
   "language": "python",
   "name": "python3"
  },
  "language_info": {
   "codemirror_mode": {
    "name": "ipython",
    "version": 3
   },
   "file_extension": ".py",
   "mimetype": "text/x-python",
   "name": "python",
   "nbconvert_exporter": "python",
   "pygments_lexer": "ipython3",
   "version": "3.12.4"
  }
 },
 "nbformat": 4,
 "nbformat_minor": 5
}
