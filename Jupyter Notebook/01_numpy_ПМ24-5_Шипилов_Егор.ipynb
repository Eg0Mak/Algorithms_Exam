{
 "cells": [
  {
   "cell_type": "code",
   "execution_count": 126,
   "metadata": {},
   "outputs": [],
   "source": [
    "import numpy as np"
   ]
  },
  {
   "cell_type": "markdown",
   "metadata": {},
   "source": [
    "# Numpy"
   ]
  },
  {
   "cell_type": "markdown",
   "metadata": {},
   "source": [
    "Материалы:\n",
    "* Макрушин С.В. \"Лекция 1: Библиотека Numpy\"\n",
    "* https://numpy.org/doc/stable/user/index.html\n",
    "* https://numpy.org/doc/stable/reference/index.html"
   ]
  },
  {
   "cell_type": "markdown",
   "metadata": {
    "jp-MarkdownHeadingCollapsed": true
   },
   "source": [
    "## Задачи для совместного разбора"
   ]
  },
  {
   "cell_type": "markdown",
   "metadata": {},
   "source": [
    "1. Сгенерировать двухмерный массив `arr` размерности (4, 7), состоящий из случайных действительных чисел, равномерно распределенных в диапазоне от 0 до 20. Нормализовать значения массива с помощью преобразования вида  $𝑎𝑥+𝑏$  так, что после нормализации максимальный элемент масcива будет равен 1.0, минимальный 0.0"
   ]
  },
  {
   "attachments": {
    "aabe76e9-7c28-49cd-b990-f54732e77c90.png": {
     "image/png": "[encoded data removed]"
    }
   },
   "cell_type": "markdown",
   "metadata": {},
   "source": [
    "![eq1.png](attachment:aabe76e9-7c28-49cd-b990-f54732e77c90.png)"
   ]
  },
  {
   "cell_type": "code",
   "execution_count": 133,
   "metadata": {},
   "outputs": [
    {
     "data": {
      "text/plain": [
       "(array([[ 0.6600961 ,  7.57350213,  2.15070299, 16.64000086, 18.81509014,\n",
       "         16.84870488,  5.22818493],\n",
       "        [10.87031074,  0.66172229, 18.11357758, 10.43111116,  3.22488078,\n",
       "         11.74115122, 13.77350205],\n",
       "        [12.95969425,  4.41576704, 15.17379068,  0.16894645,  4.42803402,\n",
       "         16.61550286,  3.80721204],\n",
       "        [ 1.30464962, 17.2831588 ,  8.6662108 , 19.65863115, 10.74780088,\n",
       "          7.7934344 ,  7.88777819]]),\n",
       " array([[0.02520049, 0.37992178, 0.10168233, 0.84511652, 0.95671859,\n",
       "         0.85582495, 0.25958545],\n",
       "        [0.54907837, 0.02528393, 0.92072455, 0.52654339, 0.15679753,\n",
       "         0.59376049, 0.69803877],\n",
       "        [0.65628295, 0.21790094, 0.76988645, 0.        , 0.21853035,\n",
       "         0.84385954, 0.18667647],\n",
       "        [0.05827201, 0.87811643, 0.43598778, 1.        , 0.54279249,\n",
       "         0.39120633, 0.39604703]]))"
      ]
     },
     "execution_count": 133,
     "metadata": {},
     "output_type": "execute_result"
    }
   ],
   "source": [
    "array = np.random.uniform(0, 20, (4,7))\n",
    "X = (array - np.min(array)) / (np.max(array) - np.min(array))\n",
    "array, X"
   ]
  },
  {
   "cell_type": "markdown",
   "metadata": {},
   "source": [
    "2. Создать матрицу 8 на 10 из случайных целых (используя модуль `numpy.random`) чисел из диапозона от 0 до 10 и найти в ней строку (ее индекс и вывести саму строку), в которой сумма значений минимальна."
   ]
  },
  {
   "cell_type": "code",
   "execution_count": 136,
   "metadata": {},
   "outputs": [
    {
     "data": {
      "text/plain": [
       "array([0.92323728, 2.68578777, 4.97184251, 1.55973304, 3.04476391,\n",
       "       2.84301019, 3.84900333, 2.41575667, 0.64275483, 8.34140637])"
      ]
     },
     "execution_count": 136,
     "metadata": {},
     "output_type": "execute_result"
    }
   ],
   "source": [
    "matrix = np.random.uniform(0, 10, size=(8,10))\n",
    "min_id = np.argmin(matrix.sum(axis=1))\n",
    "matrix[min_id]"
   ]
  },
  {
   "cell_type": "markdown",
   "metadata": {},
   "source": [
    "3. Найти евклидово расстояние между двумя одномерными векторами одинаковой размерности."
   ]
  },
  {
   "cell_type": "code",
   "execution_count": 139,
   "metadata": {},
   "outputs": [
    {
     "data": {
      "text/plain": [
       "9.0"
      ]
     },
     "execution_count": 139,
     "metadata": {},
     "output_type": "execute_result"
    }
   ],
   "source": [
    "a = np.random.randint(0, 10, size=(1,7))\n",
    "b = np.random.randint(0, 10, size=(1,7))\n",
    "\n",
    "evkl = np.sqrt(np.sum(np.square(a-b)))\n",
    "evkl"
   ]
  },
  {
   "cell_type": "markdown",
   "metadata": {},
   "source": [
    "4. Решить матричное уравнение `A*X*B=-C` - найти матрицу `X`. Где `A = [[-1, 2, 4], [-3, 1, 2], [-3, 0, 1]]`, `B=[[3, -1], [2, 1]]`, `C=[[7, 21], [11, 8], [8, 4]]`."
   ]
  },
  {
   "cell_type": "code",
   "execution_count": 142,
   "metadata": {},
   "outputs": [
    {
     "data": {
      "text/plain": [
       "array([[ 1.00000000e+00,  5.32907052e-16],\n",
       "       [-2.00000000e+00,  1.00000000e+00],\n",
       "       [ 3.00000000e+00, -4.00000000e+00]])"
      ]
     },
     "execution_count": 142,
     "metadata": {},
     "output_type": "execute_result"
    }
   ],
   "source": [
    "A = np.array([\n",
    "    [-1, 2, 4], \n",
    "    [-3, 1, 2], \n",
    "    [-3, 0, 1]\n",
    "])\n",
    "\n",
    "B = np.array([\n",
    "    [3, -1], \n",
    "    [2, 1]\n",
    "])\n",
    "\n",
    "C = np.array([\n",
    "    [7, 21], \n",
    "    [11, 8], \n",
    "    [8, 4]\n",
    "])\n",
    "\n",
    "\n",
    "X = np.dot(np.dot(np.linalg.inv(A),-C), np.linalg.inv(B))\n",
    "X"
   ]
  },
  {
   "cell_type": "markdown",
   "metadata": {},
   "source": [
    "## Лабораторная работа №1"
   ]
  },
  {
   "cell_type": "markdown",
   "metadata": {},
   "source": [
    "Замечание: при решении данных задач не подразумевается использования циклов или генераторов Python, если в задании не сказано обратного. Решение должно опираться на использования функционала библиотеки `numpy`."
   ]
  },
  {
   "cell_type": "markdown",
   "metadata": {},
   "source": [
    "1. Файл `minutes_n_ingredients.csv` содержит информацию об идентификаторе рецепта, времени его выполнения в минутах и количестве необходимых ингредиентов. Считайте данные из этого файла в виде массива `numpy` типа `int32`, используя `np.loadtxt`. Выведите на экран первые 5 строк массива."
   ]
  },
  {
   "cell_type": "code",
   "execution_count": 145,
   "metadata": {},
   "outputs": [
    {
     "data": {
      "text/plain": [
       "['id', 'minutes', 'n_ingredients']"
      ]
     },
     "execution_count": 145,
     "metadata": {},
     "output_type": "execute_result"
    }
   ],
   "source": [
    "with open(\"minutes_n_ingredients.csv\") as f:\n",
    "    headers = f.readline().replace(\"\\n\", \"\").split(\",\")\n",
    "headers"
   ]
  },
  {
   "cell_type": "code",
   "execution_count": 147,
   "metadata": {},
   "outputs": [
    {
     "data": {
      "text/plain": [
       "array([[127244,     60,     16],\n",
       "       [ 23891,     25,      7],\n",
       "       [ 94746,     10,      6],\n",
       "       [ 67660,      5,      6],\n",
       "       [162911,     60,     14]], dtype=int32)"
      ]
     },
     "execution_count": 147,
     "metadata": {},
     "output_type": "execute_result"
    }
   ],
   "source": [
    "arr = np.loadtxt(\"minutes_n_ingredients.csv\", delimiter=\",\", skiprows=1, dtype=np.int32)\n",
    "arr[:5, :]"
   ]
  },
  {
   "cell_type": "markdown",
   "metadata": {},
   "source": [
    "2. Вычислите среднее значение, минимум, максимум и медиану по каждому из столбцов, кроме первого."
   ]
  },
  {
   "cell_type": "code",
   "execution_count": 150,
   "metadata": {},
   "outputs": [
    {
     "data": {
      "text/plain": [
       "(21601.39799, 0, 2147483647, 40.0)"
      ]
     },
     "execution_count": 150,
     "metadata": {},
     "output_type": "execute_result"
    }
   ],
   "source": [
    "avg_col2 = np.mean(arr[:, 1], axis=0)\n",
    "minimum_col2 = np.min(arr[:, 1], axis=0)\n",
    "maximum_col2 = np.max(arr[:, 1], axis=0)\n",
    "median_col2 = np.median(arr[:, 1], axis=0)\n",
    "\n",
    "avg_col2, minimum_col2, maximum_col2, median_col2"
   ]
  },
  {
   "cell_type": "code",
   "execution_count": 152,
   "metadata": {},
   "outputs": [
    {
     "data": {
      "text/plain": [
       "(9.05528, 1, 39, 9.0)"
      ]
     },
     "execution_count": 152,
     "metadata": {},
     "output_type": "execute_result"
    }
   ],
   "source": [
    "avg_col3 = np.mean(arr[:, 2], axis=0)\n",
    "minimum_col3 = np.min(arr[:, 2], axis=0)\n",
    "maximum_col3 = np.max(arr[:, 2], axis=0)\n",
    "median_col3 = np.median(arr[:, 2], axis=0)\n",
    "\n",
    "avg_col3, minimum_col3, maximum_col3, median_col3"
   ]
  },
  {
   "cell_type": "markdown",
   "metadata": {},
   "source": [
    "3. Ограничьте сверху значения продолжительности выполнения рецепта значением квантиля $q_{0.75}$. "
   ]
  },
  {
   "cell_type": "code",
   "execution_count": 120,
   "metadata": {},
   "outputs": [
    {
     "data": {
      "text/plain": [
       "(65.0, array([60, 25, 10, ..., 65,  5, 65], dtype=int32))"
      ]
     },
     "execution_count": 120,
     "metadata": {},
     "output_type": "execute_result"
    }
   ],
   "source": [
    "quantile = np.quantile(arr[:, 1], 0.75)\n",
    "arr[:, 1] = np.where(arr[:, 1] > quantile, quantile, arr[:, 1])\n",
    "quantile, arr[:, 1]"
   ]
  },
  {
   "cell_type": "markdown",
   "metadata": {},
   "source": [
    "4. Посчитайте, для скольких рецептов указана продолжительность, равная нулю. Замените для таких строк значение в данном столбце на 1."
   ]
  },
  {
   "cell_type": "code",
   "execution_count": 118,
   "metadata": {},
   "outputs": [
    {
     "data": {
      "text/plain": [
       "479"
      ]
     },
     "execution_count": 118,
     "metadata": {},
     "output_type": "execute_result"
    }
   ],
   "source": [
    "cnt = np.sum(np.where(arr[:, 1] == 0, 1, 0))\n",
    "arr[:, 1] = np.where(arr[:, 1] == 0, 1, arr[:, 1])\n",
    "\n",
    "cnt"
   ]
  },
  {
   "cell_type": "markdown",
   "metadata": {},
   "source": [
    "5. Посчитайте, сколько уникальных рецептов находится в датасете."
   ]
  },
  {
   "cell_type": "code",
   "execution_count": 80,
   "metadata": {},
   "outputs": [
    {
     "data": {
      "text/plain": [
       "98252"
      ]
     },
     "execution_count": 80,
     "metadata": {},
     "output_type": "execute_result"
    }
   ],
   "source": [
    "cnt_unique = len(np.unique(arr[:, 0]))\n",
    "cnt_unique"
   ]
  },
  {
   "cell_type": "markdown",
   "metadata": {},
   "source": [
    "6. Сколько и каких различных значений кол-ва ингредиентов присутвует в рецептах из датасета?"
   ]
  },
  {
   "cell_type": "code",
   "execution_count": 29,
   "metadata": {},
   "outputs": [
    {
     "data": {
      "text/plain": [
       "([1,\n",
       "  2,\n",
       "  3,\n",
       "  4,\n",
       "  5,\n",
       "  6,\n",
       "  7,\n",
       "  8,\n",
       "  9,\n",
       "  10,\n",
       "  11,\n",
       "  12,\n",
       "  13,\n",
       "  14,\n",
       "  15,\n",
       "  16,\n",
       "  17,\n",
       "  18,\n",
       "  19,\n",
       "  20,\n",
       "  21,\n",
       "  22,\n",
       "  23,\n",
       "  24,\n",
       "  25,\n",
       "  26,\n",
       "  27,\n",
       "  28,\n",
       "  29,\n",
       "  30,\n",
       "  31,\n",
       "  32,\n",
       "  33,\n",
       "  34,\n",
       "  35,\n",
       "  37,\n",
       "  39],\n",
       " 37)"
      ]
     },
     "execution_count": 29,
     "metadata": {},
     "output_type": "execute_result"
    }
   ],
   "source": [
    "unique_ingr_count = list(np.unique(arr[:, 2]))\n",
    "unique_ingr_count, len(unique_ingr_count)"
   ]
  },
  {
   "cell_type": "markdown",
   "metadata": {},
   "source": [
    "7. Создайте версию массива, содержащую информацию только о рецептах, состоящих не более чем из 5 ингредиентов."
   ]
  },
  {
   "cell_type": "code",
   "execution_count": 78,
   "metadata": {},
   "outputs": [
    {
     "data": {
      "text/plain": [
       "array([[446597,     15,      5],\n",
       "       [204134,      5,      3],\n",
       "       [ 25623,      6,      4],\n",
       "       ...,\n",
       "       [ 52088,     60,      5],\n",
       "       [128811,     15,      4],\n",
       "       [380915,      5,      4]], dtype=int32)"
      ]
     },
     "execution_count": 78,
     "metadata": {},
     "output_type": "execute_result"
    }
   ],
   "source": [
    "new_arr = np.copy(arr)[arr[:, 2] <= 5]\n",
    "new_arr"
   ]
  },
  {
   "cell_type": "markdown",
   "metadata": {},
   "source": [
    "8. Для каждого рецепта посчитайте, сколько в среднем ингредиентов приходится на одну минуту рецепта. Найдите максимальное значение этой величины для всего датасета"
   ]
  },
  {
   "cell_type": "code",
   "execution_count": 76,
   "metadata": {},
   "outputs": [
    {
     "data": {
      "text/plain": [
       "(array([0.26666667, 0.28      , 0.6       , ..., 0.23076923, 0.8       ,\n",
       "        0.21538462]),\n",
       " 24.0)"
      ]
     },
     "execution_count": 76,
     "metadata": {},
     "output_type": "execute_result"
    }
   ],
   "source": [
    "ingr_per_min = arr[:,2] / arr[:,1]\n",
    "ingr_per_min, np.max(ingr_per_min)"
   ]
  },
  {
   "cell_type": "markdown",
   "metadata": {},
   "source": [
    "9. Вычислите среднее количество ингредиентов для топ-100 рецептов с наибольшей продолжительностью"
   ]
  },
  {
   "cell_type": "code",
   "execution_count": 74,
   "metadata": {},
   "outputs": [
    {
     "data": {
      "text/plain": [
       "9.75"
      ]
     },
     "execution_count": 74,
     "metadata": {},
     "output_type": "execute_result"
    }
   ],
   "source": [
    "sorted_idx = np.argsort(arr[:, 1])[::-1]\n",
    "np.mean(arr[sorted_idx][:100][:, 2])"
   ]
  },
  {
   "cell_type": "markdown",
   "metadata": {},
   "source": [
    "10. Выберите случайным образом и выведите информацию о 10 различных рецептах"
   ]
  },
  {
   "cell_type": "code",
   "execution_count": 37,
   "metadata": {},
   "outputs": [
    {
     "data": {
      "text/plain": [
       "array([[ 41677,     65,      9],\n",
       "       [330848,     11,      5],\n",
       "       [530160,     23,      3],\n",
       "       [378236,      5,      5],\n",
       "       [158399,     15,      4],\n",
       "       [280534,     65,      5],\n",
       "       [494910,     10,      7],\n",
       "       [254918,     30,      8],\n",
       "       [464766,     50,     12],\n",
       "       [ 15053,     60,      4]], dtype=int32)"
      ]
     },
     "execution_count": 37,
     "metadata": {},
     "output_type": "execute_result"
    }
   ],
   "source": [
    "idx = np.random.choice(arr.shape[0], size=10)\n",
    "arr[idx]"
   ]
  },
  {
   "cell_type": "markdown",
   "metadata": {},
   "source": [
    "11. Выведите процент рецептов, кол-во ингредиентов в которых меньше среднего."
   ]
  },
  {
   "cell_type": "code",
   "execution_count": 39,
   "metadata": {},
   "outputs": [
    {
     "name": "stdout",
     "output_type": "stream",
     "text": [
      "58.802%\n"
     ]
    }
   ],
   "source": [
    "avg_count_ing = np.mean(arr[:, 2])\n",
    "cnt = np.sum(np.where(arr[:, 2] < avg_count_ing, 1, 0))\n",
    "percentage = (cnt * 100) / len(arr[:, 0])\n",
    "print(f\"{percentage}%\")"
   ]
  },
  {
   "cell_type": "markdown",
   "metadata": {},
   "source": [
    "12. Назовем \"простым\" такой рецепт, длительность выполнения которого не больше 20 минут и кол-во ингредиентов в котором не больше 5. Создайте версию датасета с дополнительным столбцом, значениями которого являются 1, если рецепт простой, и 0 в противном случае."
   ]
  },
  {
   "cell_type": "code",
   "execution_count": 41,
   "metadata": {},
   "outputs": [
    {
     "data": {
      "text/plain": [
       "array([['id', 'minutes', 'n_ingredien'],\n",
       "       ['127244', '60', '16'],\n",
       "       ['23891', '25', '7'],\n",
       "       ...,\n",
       "       ['498432', '65', '15'],\n",
       "       ['380915', '5', '4'],\n",
       "       ['81993', '65', '14']], dtype='<U11')"
      ]
     },
     "execution_count": 41,
     "metadata": {},
     "output_type": "execute_result"
    }
   ],
   "source": [
    "arr_with_headers = np.vstack([headers, arr]).astype('<U11')\n",
    "arr_with_headers"
   ]
  },
  {
   "cell_type": "code",
   "execution_count": 42,
   "metadata": {},
   "outputs": [
    {
     "data": {
      "text/plain": [
       "array([['id', 'minutes', 'n_ingredien', 'Тип рецепта'],\n",
       "       ['127244', '60', '16', '0'],\n",
       "       ['23891', '25', '7', '0'],\n",
       "       ...,\n",
       "       ['498432', '65', '15', '0'],\n",
       "       ['380915', '5', '4', '1'],\n",
       "       ['81993', '65', '14', '0']], dtype='<U11')"
      ]
     },
     "execution_count": 42,
     "metadata": {},
     "output_type": "execute_result"
    }
   ],
   "source": [
    "simple_arr = np.where((arr[:, 1] <= 20) & (arr[:, 2] <= 5), 1, 0)\n",
    "dop = np.insert(simple_arr.astype('<U11'), 0, \"Тип рецепта:\").reshape(100001, 1)\n",
    "new_arr = np.hstack([arr_with_headers, dop])\n",
    "new_arr"
   ]
  },
  {
   "cell_type": "code",
   "execution_count": 43,
   "metadata": {},
   "outputs": [],
   "source": [
    "np.savetxt(\"new_arr.csv\", new_arr, delimiter = \",\", fmt='%s')"
   ]
  },
  {
   "cell_type": "markdown",
   "metadata": {},
   "source": [
    "13. Выведите процент \"простых\" рецептов в датасете"
   ]
  },
  {
   "cell_type": "code",
   "execution_count": 45,
   "metadata": {},
   "outputs": [
    {
     "data": {
      "text/plain": [
       "['id', 'minutes', 'n_ingredien', 'Тип рецепта']"
      ]
     },
     "execution_count": 45,
     "metadata": {},
     "output_type": "execute_result"
    }
   ],
   "source": [
    "with open(\"new_arr.csv\") as file:\n",
    "    headers = file.readline().replace(\"\\n\", \"\").split(\",\")\n",
    "headers"
   ]
  },
  {
   "cell_type": "code",
   "execution_count": 46,
   "metadata": {},
   "outputs": [
    {
     "name": "stdout",
     "output_type": "stream",
     "text": [
      "9.552%\n"
     ]
    }
   ],
   "source": [
    "data = np.loadtxt(\"new_arr.csv\", delimiter=\",\", skiprows=1, dtype=np.int32)\n",
    "cnt_simp = np.sum(data[:, 3])\n",
    "percentage_simp = (cnt_simp * 100) / len(data)\n",
    "print(f\"{percentage_simp}%\")"
   ]
  },
  {
   "cell_type": "markdown",
   "metadata": {},
   "source": [
    "14. Разделим рецепты на группы по следующему правилу. Назовем рецепты короткими, если их продолжительность составляет менее 10 минут; стандартными, если их продолжительность составляет более 10, но менее 20 минут; и длинными, если их продолжительность составляет не менее 20 минут. Создайте трехмерный массив, где нулевая ось отвечает за номер группы (короткий, стандартный или длинный рецепт), первая ось - за сам рецепт и вторая ось - за характеристики рецепта. Выберите максимальное количество рецептов из каждой группы таким образом, чтобы было возможно сформировать трехмерный массив. Выведите форму полученного массива."
   ]
  },
  {
   "cell_type": "code",
   "execution_count": 48,
   "metadata": {},
   "outputs": [
    {
     "data": {
      "text/plain": [
       "array([[[ 67660,      5,      6],\n",
       "        [366174,      7,      9],\n",
       "        [204134,      5,      3],\n",
       "        ...,\n",
       "        [420725,      5,      3],\n",
       "        [  4747,      1,      9],\n",
       "        [380915,      5,      4]],\n",
       "\n",
       "       [[ 94746,     10,      6],\n",
       "        [ 33941,     18,      9],\n",
       "        [446597,     15,      5],\n",
       "        ...,\n",
       "        [  9831,     15,      7],\n",
       "        [335859,     12,     14],\n",
       "        [256812,     10,      3]],\n",
       "\n",
       "       [[127244,     60,     16],\n",
       "        [ 23891,     25,      7],\n",
       "        [162911,     60,     14],\n",
       "        ...,\n",
       "        [168901,     25,      7],\n",
       "        [392339,     35,     13],\n",
       "        [206732,     45,     10]]], dtype=int32)"
      ]
     },
     "execution_count": 48,
     "metadata": {},
     "output_type": "execute_result"
    }
   ],
   "source": [
    "short = arr[arr[:, 1] < 10]                \n",
    "standard = arr[(arr[:, 1] >= 10) & (data[:, 1] < 20)]  \n",
    "long = arr[arr[:, 1] >= 20]            \n",
    "\n",
    "min_size = min(len(short), len(standard), len(long))\n",
    "\n",
    "\n",
    "short = short[:min_size]\n",
    "standard = standard[:min_size]\n",
    "long = long[:min_size]\n",
    "\n",
    "\n",
    "recipes_3d = np.array([short, standard, long])\n",
    "\n",
    "\n",
    "\n",
    "recipes_3d"
   ]
  }
 ],
 "metadata": {
  "kernelspec": {
   "display_name": "Python 3 (ipykernel)",
   "language": "python",
   "name": "python3"
  },
  "language_info": {
   "codemirror_mode": {
    "name": "ipython",
    "version": 3
   },
   "file_extension": ".py",
   "mimetype": "text/x-python",
   "name": "python",
   "nbconvert_exporter": "python",
   "pygments_lexer": "ipython3",
   "version": "3.12.4"
  }
 },
 "nbformat": 4,
 "nbformat_minor": 4
}
