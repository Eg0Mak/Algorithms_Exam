{
 "cells": [
  {
   "cell_type": "markdown",
   "metadata": {},
   "source": [
    "# Работа с файлами данных"
   ]
  },
  {
   "cell_type": "markdown",
   "metadata": {},
   "source": [
    "Материалы:\n",
    "* Макрушин С.В. \"Лекция 4: Форматы данных\"\n",
    "* https://docs.python.org/3/library/json.html\n",
    "* https://docs.python.org/3/library/pickle.html\n",
    "* https://www.crummy.com/software/BeautifulSoup/bs4/doc.ru/bs4ru.html\n",
    "* Уэс Маккини. Python и анализ данных\n",
    "\n",
    "v 0.2 05.10.22"
   ]
  },
  {
   "cell_type": "markdown",
   "metadata": {},
   "source": [
    "## Задачи для совместного разбора"
   ]
  },
  {
   "cell_type": "markdown",
   "metadata": {},
   "source": [
    "1. Вывести все адреса электронной почты, содержащиеся в адресной книге `addres-book.json`"
   ]
  },
  {
   "cell_type": "markdown",
   "metadata": {},
   "source": [
    "2. Вывести телефоны, содержащиеся в адресной книге `addres-book.json`"
   ]
  },
  {
   "cell_type": "markdown",
   "metadata": {},
   "source": [
    "3. По данным из файла `addres-book-q.xml` сформировать список словарей с телефонами каждого из людей. "
   ]
  },
  {
   "cell_type": "markdown",
   "metadata": {},
   "source": [
    "## Лабораторная работа №3.1"
   ]
  },
  {
   "cell_type": "markdown",
   "metadata": {},
   "source": [
    "### JSON"
   ]
  },
  {
   "cell_type": "code",
   "execution_count": 33,
   "metadata": {},
   "outputs": [],
   "source": [
    "import json\n",
    "import pandas as pd"
   ]
  },
  {
   "cell_type": "markdown",
   "metadata": {},
   "source": [
    "1.1 Считайте файл `contributors_sample.json`. Воспользовавшись модулем `json`, преобразуйте содержимое файла в соответствующие объекты python. Выведите на экран информацию о первых 3 пользователях."
   ]
  },
  {
   "cell_type": "code",
   "execution_count": 36,
   "metadata": {},
   "outputs": [
    {
     "data": {
      "text/plain": [
       "[{'username': 'uhebert',\n",
       "  'name': 'Lindsey Nguyen',\n",
       "  'sex': 'F',\n",
       "  'address': '01261 Cameron Spring\\nTaylorfurt, AK 97791',\n",
       "  'mail': 'jsalazar@gmail.com',\n",
       "  'jobs': ['Energy engineer',\n",
       "   'Engineer, site',\n",
       "   'Environmental health practitioner',\n",
       "   'Biomedical scientist',\n",
       "   'Jewellery designer'],\n",
       "  'id': 35193},\n",
       " {'username': 'vickitaylor',\n",
       "  'name': 'Cheryl Lewis',\n",
       "  'sex': 'F',\n",
       "  'address': '66992 Welch Brooks\\nMarshallshire, ID 56004',\n",
       "  'mail': 'bhudson@gmail.com',\n",
       "  'jobs': ['Music therapist',\n",
       "   'Volunteer coordinator',\n",
       "   'Designer, interior/spatial'],\n",
       "  'id': 91970},\n",
       " {'username': 'sheilaadams',\n",
       "  'name': 'Julia Allen',\n",
       "  'sex': 'F',\n",
       "  'address': 'Unit 1632 Box 2971\\nDPO AE 23297',\n",
       "  'mail': 'darren44@yahoo.com',\n",
       "  'jobs': ['Management consultant',\n",
       "   'Engineer, structural',\n",
       "   'Lecturer, higher education',\n",
       "   'Theatre manager',\n",
       "   'Designer, textile'],\n",
       "  'id': 1848091},\n",
       " {'username': 'nicole82',\n",
       "  'name': 'Gina Stevens',\n",
       "  'sex': 'F',\n",
       "  'address': '9880 Michelle Bridge\\nNew Kimberlybury, WY 02583',\n",
       "  'mail': 'stevensonsarah@hotmail.com',\n",
       "  'jobs': ['Mechanical engineer', 'Retail banker', 'Barrister'],\n",
       "  'id': 50969},\n",
       " {'username': 'jean67',\n",
       "  'name': 'Nicholas Harrington',\n",
       "  'sex': 'M',\n",
       "  'address': '9080 Monica Crescent Suite 820\\nNorth Deanbury, HI 28977',\n",
       "  'mail': 'denise42@gmail.com',\n",
       "  'jobs': ['Network engineer',\n",
       "   'Youth worker',\n",
       "   'Primary school teacher',\n",
       "   'Engineer, broadcasting (operations)'],\n",
       "  'id': 676820}]"
      ]
     },
     "execution_count": 36,
     "metadata": {},
     "output_type": "execute_result"
    }
   ],
   "source": [
    "with open(\"contributors_sample.json\", \"r\") as file:\n",
    "    data = json.load(file)\n",
    "data[:5]"
   ]
  },
  {
   "cell_type": "code",
   "execution_count": 80,
   "metadata": {},
   "outputs": [
    {
     "name": "stdout",
     "output_type": "stream",
     "text": [
      "{\n",
      "    \"username\": \"uhebert\",\n",
      "    \"name\": \"Lindsey Nguyen\",\n",
      "    \"sex\": \"F\",\n",
      "    \"address\": \"01261 Cameron Spring\\nTaylorfurt, AK 97791\",\n",
      "    \"mail\": \"jsalazar@gmail.com\",\n",
      "    \"jobs\": [\n",
      "        \"Energy engineer\",\n",
      "        \"Engineer, site\",\n",
      "        \"Environmental health practitioner\",\n",
      "        \"Biomedical scientist\",\n",
      "        \"Jewellery designer\"\n",
      "    ],\n",
      "    \"id\": 35193\n",
      "}\n",
      "{\n",
      "    \"username\": \"vickitaylor\",\n",
      "    \"name\": \"Cheryl Lewis\",\n",
      "    \"sex\": \"F\",\n",
      "    \"address\": \"66992 Welch Brooks\\nMarshallshire, ID 56004\",\n",
      "    \"mail\": \"bhudson@gmail.com\",\n",
      "    \"jobs\": [\n",
      "        \"Music therapist\",\n",
      "        \"Volunteer coordinator\",\n",
      "        \"Designer, interior/spatial\"\n",
      "    ],\n",
      "    \"id\": 91970\n",
      "}\n",
      "{\n",
      "    \"username\": \"sheilaadams\",\n",
      "    \"name\": \"Julia Allen\",\n",
      "    \"sex\": \"F\",\n",
      "    \"address\": \"Unit 1632 Box 2971\\nDPO AE 23297\",\n",
      "    \"mail\": \"darren44@yahoo.com\",\n",
      "    \"jobs\": [\n",
      "        \"Management consultant\",\n",
      "        \"Engineer, structural\",\n",
      "        \"Lecturer, higher education\",\n",
      "        \"Theatre manager\",\n",
      "        \"Designer, textile\"\n",
      "    ],\n",
      "    \"id\": 1848091\n",
      "}\n"
     ]
    }
   ],
   "source": [
    "for user in data[:3]:\n",
    "    print(json.dumps(user, indent=4, ensure_ascii=False)) "
   ]
  },
  {
   "cell_type": "markdown",
   "metadata": {},
   "source": [
    "1.2 Выведите уникальные почтовые домены, содержащиеся в почтовых адресах людей"
   ]
  },
  {
   "cell_type": "code",
   "execution_count": 41,
   "metadata": {},
   "outputs": [
    {
     "data": {
      "text/plain": [
       "{'gmail.com', 'hotmail.com', 'yahoo.com'}"
      ]
     },
     "execution_count": 41,
     "metadata": {},
     "output_type": "execute_result"
    }
   ],
   "source": [
    "unique_domains = set()\n",
    "for user in data:\n",
    "    mail = user['mail']\n",
    "    unique_domains.add(mail.split(\"@\")[-1])\n",
    "\n",
    "unique_domains"
   ]
  },
  {
   "cell_type": "markdown",
   "metadata": {},
   "source": [
    "1.3 Напишите функцию, которая по `username` ищет человека и выводит информацию о нем. Если пользователь с заданным `username` отсутствует, возбудите исключение `ValueError`"
   ]
  },
  {
   "cell_type": "code",
   "execution_count": 44,
   "metadata": {},
   "outputs": [],
   "source": [
    "def find_user(data, username):\n",
    "    for user in data:\n",
    "        if user['name'].strip().lower() == username.strip().lower():\n",
    "            return user\n",
    "    raise ValueError(f'Пользователь {username} не найден')"
   ]
  },
  {
   "cell_type": "code",
   "execution_count": 46,
   "metadata": {},
   "outputs": [
    {
     "ename": "ValueError",
     "evalue": "Пользователь Egor Shipilov не найден",
     "output_type": "error",
     "traceback": [
      "\u001b[0;31m---------------------------------------------------------------------------\u001b[0m",
      "\u001b[0;31mValueError\u001b[0m                                Traceback (most recent call last)",
      "Cell \u001b[0;32mIn[46], line 1\u001b[0m\n\u001b[0;32m----> 1\u001b[0m find_user(data, \u001b[38;5;124m\"\u001b[39m\u001b[38;5;124mEgor Shipilov\u001b[39m\u001b[38;5;124m\"\u001b[39m)\n",
      "Cell \u001b[0;32mIn[44], line 5\u001b[0m, in \u001b[0;36mfind_user\u001b[0;34m(data, username)\u001b[0m\n\u001b[1;32m      3\u001b[0m     \u001b[38;5;28;01mif\u001b[39;00m user[\u001b[38;5;124m'\u001b[39m\u001b[38;5;124mname\u001b[39m\u001b[38;5;124m'\u001b[39m]\u001b[38;5;241m.\u001b[39mstrip()\u001b[38;5;241m.\u001b[39mlower() \u001b[38;5;241m==\u001b[39m username\u001b[38;5;241m.\u001b[39mstrip()\u001b[38;5;241m.\u001b[39mlower():\n\u001b[1;32m      4\u001b[0m         \u001b[38;5;28;01mreturn\u001b[39;00m user\n\u001b[0;32m----> 5\u001b[0m \u001b[38;5;28;01mraise\u001b[39;00m \u001b[38;5;167;01mValueError\u001b[39;00m(\u001b[38;5;124mf\u001b[39m\u001b[38;5;124m'\u001b[39m\u001b[38;5;124mПользователь \u001b[39m\u001b[38;5;132;01m{\u001b[39;00musername\u001b[38;5;132;01m}\u001b[39;00m\u001b[38;5;124m не найден\u001b[39m\u001b[38;5;124m'\u001b[39m)\n",
      "\u001b[0;31mValueError\u001b[0m: Пользователь Egor Shipilov не найден"
     ]
    }
   ],
   "source": [
    "find_user(data, \"Egor Shipilov\")"
   ]
  },
  {
   "cell_type": "code",
   "execution_count": 48,
   "metadata": {},
   "outputs": [
    {
     "data": {
      "text/plain": [
       "{'username': 'sheilaadams',\n",
       " 'name': 'Julia Allen',\n",
       " 'sex': 'F',\n",
       " 'address': 'Unit 1632 Box 2971\\nDPO AE 23297',\n",
       " 'mail': 'darren44@yahoo.com',\n",
       " 'jobs': ['Management consultant',\n",
       "  'Engineer, structural',\n",
       "  'Lecturer, higher education',\n",
       "  'Theatre manager',\n",
       "  'Designer, textile'],\n",
       " 'id': 1848091}"
      ]
     },
     "execution_count": 48,
     "metadata": {},
     "output_type": "execute_result"
    }
   ],
   "source": [
    "find_user(data, \"Julia Allen\")"
   ]
  },
  {
   "cell_type": "markdown",
   "metadata": {},
   "source": [
    "1.4 Посчитайте, сколько мужчин и женщин присутсвует в этом наборе данных."
   ]
  },
  {
   "cell_type": "code",
   "execution_count": 51,
   "metadata": {},
   "outputs": [
    {
     "data": {
      "text/plain": [
       "{'F': 2136, 'M': 2064}"
      ]
     },
     "execution_count": 51,
     "metadata": {},
     "output_type": "execute_result"
    }
   ],
   "source": [
    "sex_cnt = {}\n",
    "for user in data: \n",
    "    if user['sex'] == \"F\":\n",
    "        sex_cnt['F'] = sex_cnt.get('F', 0) + 1\n",
    "    else:\n",
    "        sex_cnt['M'] = sex_cnt.get('M', 0) + 1\n",
    "\n",
    "sex_cnt"
   ]
  },
  {
   "cell_type": "markdown",
   "metadata": {},
   "source": [
    "1.5 Создайте `pd.DataFrame` `contributors`, имеющий столбцы `id`, `username` и `sex`."
   ]
  },
  {
   "cell_type": "code",
   "execution_count": 54,
   "metadata": {},
   "outputs": [
    {
     "data": {
      "text/html": [
       "<div>\n",
       "<style scoped>\n",
       "    .dataframe tbody tr th:only-of-type {\n",
       "        vertical-align: middle;\n",
       "    }\n",
       "\n",
       "    .dataframe tbody tr th {\n",
       "        vertical-align: top;\n",
       "    }\n",
       "\n",
       "    .dataframe thead th {\n",
       "        text-align: right;\n",
       "    }\n",
       "</style>\n",
       "<table border=\"1\" class=\"dataframe\">\n",
       "  <thead>\n",
       "    <tr style=\"text-align: right;\">\n",
       "      <th></th>\n",
       "      <th>username</th>\n",
       "      <th>sex</th>\n",
       "    </tr>\n",
       "    <tr>\n",
       "      <th>id</th>\n",
       "      <th></th>\n",
       "      <th></th>\n",
       "    </tr>\n",
       "  </thead>\n",
       "  <tbody>\n",
       "    <tr>\n",
       "      <th>35193</th>\n",
       "      <td>uhebert</td>\n",
       "      <td>F</td>\n",
       "    </tr>\n",
       "    <tr>\n",
       "      <th>91970</th>\n",
       "      <td>vickitaylor</td>\n",
       "      <td>F</td>\n",
       "    </tr>\n",
       "    <tr>\n",
       "      <th>1848091</th>\n",
       "      <td>sheilaadams</td>\n",
       "      <td>F</td>\n",
       "    </tr>\n",
       "    <tr>\n",
       "      <th>50969</th>\n",
       "      <td>nicole82</td>\n",
       "      <td>F</td>\n",
       "    </tr>\n",
       "    <tr>\n",
       "      <th>676820</th>\n",
       "      <td>jean67</td>\n",
       "      <td>M</td>\n",
       "    </tr>\n",
       "    <tr>\n",
       "      <th>64918</th>\n",
       "      <td>james67</td>\n",
       "      <td>F</td>\n",
       "    </tr>\n",
       "    <tr>\n",
       "      <th>113941</th>\n",
       "      <td>woodmarissa</td>\n",
       "      <td>M</td>\n",
       "    </tr>\n",
       "    <tr>\n",
       "      <th>398160</th>\n",
       "      <td>sampsontammy</td>\n",
       "      <td>M</td>\n",
       "    </tr>\n",
       "    <tr>\n",
       "      <th>35635</th>\n",
       "      <td>jonathan18</td>\n",
       "      <td>M</td>\n",
       "    </tr>\n",
       "    <tr>\n",
       "      <th>718054</th>\n",
       "      <td>michael53</td>\n",
       "      <td>M</td>\n",
       "    </tr>\n",
       "  </tbody>\n",
       "</table>\n",
       "</div>"
      ],
      "text/plain": [
       "             username sex\n",
       "id                       \n",
       "35193         uhebert   F\n",
       "91970     vickitaylor   F\n",
       "1848091   sheilaadams   F\n",
       "50969        nicole82   F\n",
       "676820         jean67   M\n",
       "64918         james67   F\n",
       "113941    woodmarissa   M\n",
       "398160   sampsontammy   M\n",
       "35635      jonathan18   M\n",
       "718054      michael53   M"
      ]
     },
     "execution_count": 54,
     "metadata": {},
     "output_type": "execute_result"
    }
   ],
   "source": [
    "contributors = pd.DataFrame(data, columns = [\"id\", \"username\", \"sex\"])\n",
    "contributors.set_index('id', inplace=True)\n",
    "contributors.head(10)"
   ]
  },
  {
   "cell_type": "markdown",
   "metadata": {},
   "source": [
    "1.6 Загрузите данные из файла `recipes_sample.csv` (__ЛР2__) в таблицу `recipes`. Объедините `recipes` с таблицей `contributors` с сохранением строк в том случае, если информация о человеке отсутствует в JSON-файле. Для скольких человек информация отсутствует? "
   ]
  },
  {
   "cell_type": "code",
   "execution_count": 57,
   "metadata": {},
   "outputs": [
    {
     "data": {
      "text/html": [
       "<div>\n",
       "<style scoped>\n",
       "    .dataframe tbody tr th:only-of-type {\n",
       "        vertical-align: middle;\n",
       "    }\n",
       "\n",
       "    .dataframe tbody tr th {\n",
       "        vertical-align: top;\n",
       "    }\n",
       "\n",
       "    .dataframe thead th {\n",
       "        text-align: right;\n",
       "    }\n",
       "</style>\n",
       "<table border=\"1\" class=\"dataframe\">\n",
       "  <thead>\n",
       "    <tr style=\"text-align: right;\">\n",
       "      <th></th>\n",
       "      <th>name</th>\n",
       "      <th>minutes</th>\n",
       "      <th>contributor_id</th>\n",
       "      <th>submitted</th>\n",
       "      <th>n_steps</th>\n",
       "      <th>description</th>\n",
       "      <th>n_ingredients</th>\n",
       "    </tr>\n",
       "    <tr>\n",
       "      <th>id</th>\n",
       "      <th></th>\n",
       "      <th></th>\n",
       "      <th></th>\n",
       "      <th></th>\n",
       "      <th></th>\n",
       "      <th></th>\n",
       "      <th></th>\n",
       "    </tr>\n",
       "  </thead>\n",
       "  <tbody>\n",
       "    <tr>\n",
       "      <th>44123</th>\n",
       "      <td>george s at the cove  black bean soup</td>\n",
       "      <td>90</td>\n",
       "      <td>35193</td>\n",
       "      <td>2002-10-25</td>\n",
       "      <td>NaN</td>\n",
       "      <td>an original recipe created by chef scott meska...</td>\n",
       "      <td>18.0</td>\n",
       "    </tr>\n",
       "    <tr>\n",
       "      <th>67664</th>\n",
       "      <td>healthy for them  yogurt popsicles</td>\n",
       "      <td>10</td>\n",
       "      <td>91970</td>\n",
       "      <td>2003-07-26</td>\n",
       "      <td>NaN</td>\n",
       "      <td>my children and their friends ask for my homem...</td>\n",
       "      <td>NaN</td>\n",
       "    </tr>\n",
       "    <tr>\n",
       "      <th>38798</th>\n",
       "      <td>i can t believe it s spinach</td>\n",
       "      <td>30</td>\n",
       "      <td>1533</td>\n",
       "      <td>2002-08-29</td>\n",
       "      <td>NaN</td>\n",
       "      <td>these were so go, it surprised even me.</td>\n",
       "      <td>8.0</td>\n",
       "    </tr>\n",
       "    <tr>\n",
       "      <th>35173</th>\n",
       "      <td>italian  gut busters</td>\n",
       "      <td>45</td>\n",
       "      <td>22724</td>\n",
       "      <td>2002-07-27</td>\n",
       "      <td>NaN</td>\n",
       "      <td>my sister-in-law made these for us at a family...</td>\n",
       "      <td>NaN</td>\n",
       "    </tr>\n",
       "    <tr>\n",
       "      <th>84797</th>\n",
       "      <td>love is in the air  beef fondue   sauces</td>\n",
       "      <td>25</td>\n",
       "      <td>4470</td>\n",
       "      <td>2004-02-23</td>\n",
       "      <td>4.0</td>\n",
       "      <td>i think a fondue is a very romantic casual din...</td>\n",
       "      <td>NaN</td>\n",
       "    </tr>\n",
       "  </tbody>\n",
       "</table>\n",
       "</div>"
      ],
      "text/plain": [
       "                                           name  minutes  contributor_id  \\\n",
       "id                                                                         \n",
       "44123     george s at the cove  black bean soup       90           35193   \n",
       "67664        healthy for them  yogurt popsicles       10           91970   \n",
       "38798              i can t believe it s spinach       30            1533   \n",
       "35173                      italian  gut busters       45           22724   \n",
       "84797  love is in the air  beef fondue   sauces       25            4470   \n",
       "\n",
       "        submitted  n_steps                                        description  \\\n",
       "id                                                                              \n",
       "44123  2002-10-25      NaN  an original recipe created by chef scott meska...   \n",
       "67664  2003-07-26      NaN  my children and their friends ask for my homem...   \n",
       "38798  2002-08-29      NaN            these were so go, it surprised even me.   \n",
       "35173  2002-07-27      NaN  my sister-in-law made these for us at a family...   \n",
       "84797  2004-02-23      4.0  i think a fondue is a very romantic casual din...   \n",
       "\n",
       "       n_ingredients  \n",
       "id                    \n",
       "44123           18.0  \n",
       "67664            NaN  \n",
       "38798            8.0  \n",
       "35173            NaN  \n",
       "84797            NaN  "
      ]
     },
     "execution_count": 57,
     "metadata": {},
     "output_type": "execute_result"
    }
   ],
   "source": [
    "recipes = pd.read_csv(\"recipes_sample.csv\")\n",
    "recipes.set_index('id', inplace=True)\n",
    "recipes.head()"
   ]
  },
  {
   "cell_type": "code",
   "execution_count": 59,
   "metadata": {},
   "outputs": [
    {
     "data": {
      "text/html": [
       "<div>\n",
       "<style scoped>\n",
       "    .dataframe tbody tr th:only-of-type {\n",
       "        vertical-align: middle;\n",
       "    }\n",
       "\n",
       "    .dataframe tbody tr th {\n",
       "        vertical-align: top;\n",
       "    }\n",
       "\n",
       "    .dataframe thead th {\n",
       "        text-align: right;\n",
       "    }\n",
       "</style>\n",
       "<table border=\"1\" class=\"dataframe\">\n",
       "  <thead>\n",
       "    <tr style=\"text-align: right;\">\n",
       "      <th></th>\n",
       "      <th>name</th>\n",
       "      <th>minutes</th>\n",
       "      <th>contributor_id</th>\n",
       "      <th>submitted</th>\n",
       "      <th>n_steps</th>\n",
       "      <th>description</th>\n",
       "      <th>n_ingredients</th>\n",
       "      <th>username</th>\n",
       "      <th>sex</th>\n",
       "    </tr>\n",
       "    <tr>\n",
       "      <th>id</th>\n",
       "      <th></th>\n",
       "      <th></th>\n",
       "      <th></th>\n",
       "      <th></th>\n",
       "      <th></th>\n",
       "      <th></th>\n",
       "      <th></th>\n",
       "      <th></th>\n",
       "      <th></th>\n",
       "    </tr>\n",
       "  </thead>\n",
       "  <tbody>\n",
       "    <tr>\n",
       "      <th>44123</th>\n",
       "      <td>george s at the cove  black bean soup</td>\n",
       "      <td>90</td>\n",
       "      <td>35193</td>\n",
       "      <td>2002-10-25</td>\n",
       "      <td>NaN</td>\n",
       "      <td>an original recipe created by chef scott meska...</td>\n",
       "      <td>18.0</td>\n",
       "      <td>NaN</td>\n",
       "      <td>NaN</td>\n",
       "    </tr>\n",
       "    <tr>\n",
       "      <th>67664</th>\n",
       "      <td>healthy for them  yogurt popsicles</td>\n",
       "      <td>10</td>\n",
       "      <td>91970</td>\n",
       "      <td>2003-07-26</td>\n",
       "      <td>NaN</td>\n",
       "      <td>my children and their friends ask for my homem...</td>\n",
       "      <td>NaN</td>\n",
       "      <td>NaN</td>\n",
       "      <td>NaN</td>\n",
       "    </tr>\n",
       "    <tr>\n",
       "      <th>38798</th>\n",
       "      <td>i can t believe it s spinach</td>\n",
       "      <td>30</td>\n",
       "      <td>1533</td>\n",
       "      <td>2002-08-29</td>\n",
       "      <td>NaN</td>\n",
       "      <td>these were so go, it surprised even me.</td>\n",
       "      <td>8.0</td>\n",
       "      <td>NaN</td>\n",
       "      <td>NaN</td>\n",
       "    </tr>\n",
       "    <tr>\n",
       "      <th>35173</th>\n",
       "      <td>italian  gut busters</td>\n",
       "      <td>45</td>\n",
       "      <td>22724</td>\n",
       "      <td>2002-07-27</td>\n",
       "      <td>NaN</td>\n",
       "      <td>my sister-in-law made these for us at a family...</td>\n",
       "      <td>NaN</td>\n",
       "      <td>NaN</td>\n",
       "      <td>NaN</td>\n",
       "    </tr>\n",
       "    <tr>\n",
       "      <th>84797</th>\n",
       "      <td>love is in the air  beef fondue   sauces</td>\n",
       "      <td>25</td>\n",
       "      <td>4470</td>\n",
       "      <td>2004-02-23</td>\n",
       "      <td>4.0</td>\n",
       "      <td>i think a fondue is a very romantic casual din...</td>\n",
       "      <td>NaN</td>\n",
       "      <td>NaN</td>\n",
       "      <td>NaN</td>\n",
       "    </tr>\n",
       "  </tbody>\n",
       "</table>\n",
       "</div>"
      ],
      "text/plain": [
       "                                           name  minutes  contributor_id  \\\n",
       "id                                                                         \n",
       "44123     george s at the cove  black bean soup       90           35193   \n",
       "67664        healthy for them  yogurt popsicles       10           91970   \n",
       "38798              i can t believe it s spinach       30            1533   \n",
       "35173                      italian  gut busters       45           22724   \n",
       "84797  love is in the air  beef fondue   sauces       25            4470   \n",
       "\n",
       "        submitted  n_steps                                        description  \\\n",
       "id                                                                              \n",
       "44123  2002-10-25      NaN  an original recipe created by chef scott meska...   \n",
       "67664  2003-07-26      NaN  my children and their friends ask for my homem...   \n",
       "38798  2002-08-29      NaN            these were so go, it surprised even me.   \n",
       "35173  2002-07-27      NaN  my sister-in-law made these for us at a family...   \n",
       "84797  2004-02-23      4.0  i think a fondue is a very romantic casual din...   \n",
       "\n",
       "       n_ingredients username  sex  \n",
       "id                                  \n",
       "44123           18.0      NaN  NaN  \n",
       "67664            NaN      NaN  NaN  \n",
       "38798            8.0      NaN  NaN  \n",
       "35173            NaN      NaN  NaN  \n",
       "84797            NaN      NaN  NaN  "
      ]
     },
     "execution_count": 59,
     "metadata": {},
     "output_type": "execute_result"
    }
   ],
   "source": [
    "df = recipes.merge(contributors, on=\"id\", how=\"left\")\n",
    "missing_info_cnt = (df['username'].isna().sum())\n",
    "\n",
    "df.head()"
   ]
  },
  {
   "cell_type": "code",
   "execution_count": 61,
   "metadata": {},
   "outputs": [
    {
     "data": {
      "text/plain": [
       "29830"
      ]
     },
     "execution_count": 61,
     "metadata": {},
     "output_type": "execute_result"
    }
   ],
   "source": [
    "missing_info_cnt"
   ]
  },
  {
   "cell_type": "markdown",
   "metadata": {},
   "source": [
    "### pickle"
   ]
  },
  {
   "cell_type": "code",
   "execution_count": 64,
   "metadata": {},
   "outputs": [],
   "source": [
    "import pickle\n",
    "import os"
   ]
  },
  {
   "cell_type": "markdown",
   "metadata": {},
   "source": [
    "2.1 На основе файла `contributors_sample.json` создайте словарь следующего вида: \n",
    "```\n",
    "{\n",
    "    должность: [список username людей, занимавших эту должность]\n",
    "}\n",
    "```"
   ]
  },
  {
   "cell_type": "code",
   "execution_count": 67,
   "metadata": {},
   "outputs": [],
   "source": [
    "jobs = set()\n",
    "for user in data: \n",
    "    for job in user['jobs']:\n",
    "        jobs.add(job)"
   ]
  },
  {
   "cell_type": "code",
   "execution_count": 69,
   "metadata": {},
   "outputs": [
    {
     "name": "stdout",
     "output_type": "stream",
     "text": [
      "Biomedical scientist: ['Lindsey Nguyen', 'Andrea Lawson', 'Diana Potter', 'Brent Johnson', 'Andre Dawson', 'Peter Mullins', 'Cindy Perez', 'Roger Hall', 'Andrew Perry', 'Kristy Reyes', 'Jennifer Castro', 'David Little', 'Eric Le', 'Dustin Sandoval', 'Gerald Thomas', 'Sydney Kane', 'Virginia Ortiz', 'Patricia Franklin', 'Alexander Rogers', 'Kara Owens', 'Jason Warren', 'Jennifer Crawford', 'Rebecca James']\n",
      "\n",
      "Energy engineer: ['Lindsey Nguyen', 'Richard Brown', 'Frank Cruz', 'Anna Yu', 'Brenda Young', 'Carrie Harris', 'Lauren Jones', 'Bernard Houston', 'Debra Berry', 'Joseph Davis', 'Emily Martin DDS', 'Kimberly Rodriguez', 'Bryce Martinez', 'Felicia Conley', 'Jessica Villarreal', 'Natalie Cline', 'Samantha Miller', 'Sandra Williamson', 'John Ritter', 'Christopher Lewis', 'Shannon Johnson']\n",
      "\n",
      "Jewellery designer: ['Lindsey Nguyen', 'Adam Watson', 'Cynthia Bryant', 'Jessica Myers', 'Matthew Bridges', 'Jamie Kelly', 'Alison Snyder', 'Joanna Webster', 'Megan Brewer', 'Madeline Murray', 'Angela Nguyen', 'Rachel Solis', 'Victoria Powell', 'Zachary Ramirez', 'David Snyder', 'Emily Abbott', 'Monique Wallace', 'Amy Adams', 'Gabriel Horton', 'Jessica Thomas', 'Jessica Garner', 'Mary Berry', 'Susan Thomas']\n",
      "\n",
      "Engineer, site: ['Lindsey Nguyen', 'Jesus Thomas', 'Noah Garcia', 'Autumn Parker', 'Katie James', 'Ashley Gill', 'Ashley Martin', 'Adam Short', 'Jonathan Sheppard', 'Teresa Novak', 'Jillian Knapp', 'Emily Williams', 'Alexander Becker', 'Bryan Casey', 'William Sandoval', 'Christopher Price', 'Noah Harper', 'Grace Day', 'Eric Smith', 'Samuel West', 'Chelsey Mitchell', 'Patricia Gross', 'Kimberly Holloway', 'Deborah Brown', 'David Powell', 'Daniel Rodriguez', 'Donna Lee']\n",
      "\n",
      "Environmental health practitioner: ['Lindsey Nguyen', 'Joyce Bennett', 'Jennifer Stewart', 'Kevin Smith', 'Patrick Shaw', 'Kaitlyn Berry', 'Dr. Anthony Dunlap', 'Aaron Caldwell', 'Rebecca Perry', 'Ronald King', 'Daniel Wall', 'Megan Patterson', 'Parker Howe', 'Traci Williams', 'Lawrence Wheeler Jr.', 'Kenneth Peck', 'Kevin Rodriguez', 'Roger Hayes', 'Devin Alexander', 'Joel Mcintyre', 'James Murillo', 'Dr. Regina Cross', 'Linda Phillips', 'Emily Shea', 'Louis Gibbs', 'Richard Roberts', 'Kristen Parrish', 'Stacey Johnson', 'Wesley Perry']\n",
      "\n"
     ]
    }
   ],
   "source": [
    "posts = dict()\n",
    "for user in data:\n",
    "    for job in jobs:\n",
    "        if job in user['jobs']:\n",
    "            if job not in posts:\n",
    "                posts[job] = []\n",
    "            posts[job].append(user[\"name\"])\n",
    "\n",
    "for key, value in list(posts.items())[:5]:\n",
    "    print(f\"{key}: {value}\\n\")"
   ]
  },
  {
   "cell_type": "markdown",
   "metadata": {},
   "source": [
    "2.2 Сохраните результаты в файл `job_people.pickle` и в файл `job_people.json` с использованием форматов pickle и JSON соответственно. Сравните объемы получившихся файлов. При сохранении в JSON укажите аргумент `indent`."
   ]
  },
  {
   "cell_type": "code",
   "execution_count": 72,
   "metadata": {},
   "outputs": [],
   "source": [
    "with open(\"job_people_new.json\", \"w\") as file_js:\n",
    "    json.dump(posts, file_js ,indent=4)"
   ]
  },
  {
   "cell_type": "code",
   "execution_count": 74,
   "metadata": {},
   "outputs": [],
   "source": [
    "with open(\"job_people_new.pickle\", \"wb\") as file_pk:\n",
    "    pickle.dump(posts, file_pk)"
   ]
  },
  {
   "cell_type": "code",
   "execution_count": 76,
   "metadata": {},
   "outputs": [
    {
     "data": {
      "text/plain": [
       "(146529, 446013)"
      ]
     },
     "execution_count": 76,
     "metadata": {},
     "output_type": "execute_result"
    }
   ],
   "source": [
    "pickle_size = os.path.getsize('job_people_new.pickle')\n",
    "json_size = os.path.getsize('job_people_new.json')\n",
    "\n",
    "pickle_size, json_size"
   ]
  },
  {
   "cell_type": "markdown",
   "metadata": {},
   "source": [
    "2.3 Считайте файл `job_people.pickle` и продемонстрируйте, что данные считались корректно. "
   ]
  },
  {
   "cell_type": "code",
   "execution_count": null,
   "metadata": {},
   "outputs": [],
   "source": [
    "with open('job_people_new.pickle', 'rb') as f:\n",
    "    loaded_data = pickle.load(f)\n",
    "\n",
    "for key, value in list(loaded_data.items())[:5]:\n",
    "    print(f\"{key}: {value}\\n\")"
   ]
  },
  {
   "cell_type": "markdown",
   "metadata": {},
   "source": [
    "## Лабораторная работа №3.2"
   ]
  },
  {
   "cell_type": "markdown",
   "metadata": {},
   "source": [
    "### XML"
   ]
  },
  {
   "cell_type": "code",
   "execution_count": null,
   "metadata": {},
   "outputs": [],
   "source": [
    "from bs4 import BeautifulSoup"
   ]
  },
  {
   "cell_type": "markdown",
   "metadata": {},
   "source": [
    "3.1 По данным файла `steps_sample.xml` сформируйте словарь с шагами по каждому рецепту вида `{id_рецепта: [\"шаг1\", \"шаг2\"]}`. Сохраните этот словарь в файл `steps_sample.json`"
   ]
  },
  {
   "cell_type": "code",
   "execution_count": null,
   "metadata": {},
   "outputs": [],
   "source": [
    "with open('steps_sample.xml', 'r', encoding='utf-8') as file:\n",
    "    soup = BeautifulSoup(file, 'xml')\n",
    "    \n",
    "recipes_sp = soup.find_all('recipe')"
   ]
  },
  {
   "cell_type": "code",
   "execution_count": null,
   "metadata": {},
   "outputs": [],
   "source": [
    "slov_steps = dict()\n",
    "\n",
    "for recipe in recipes_sp:\n",
    "    id = recipe.find(\"id\").text\n",
    "    steps = []\n",
    "    step_elements = recipe.find_all(\"step\")\n",
    "    for step in step_elements:\n",
    "        steps.append(step.text.strip())\n",
    "    slov_steps[id] = steps\n",
    "    \n",
    "for key, value in list(slov_steps.items())[:5]:\n",
    "    print(f\"{key}: {value}\\n\")  "
   ]
  },
  {
   "cell_type": "code",
   "execution_count": null,
   "metadata": {},
   "outputs": [],
   "source": [
    "with open(\"steps_sample.json\", \"w\") as file:\n",
    "    json.dump(slov_steps, file, ensure_ascii=False, indent=4)"
   ]
  },
  {
   "cell_type": "markdown",
   "metadata": {},
   "source": [
    "3.2 По данным файла `steps_sample.xml` сформируйте словарь следующего вида: `кол-во_шагов_в_рецепте: [список_id_рецептов]`"
   ]
  },
  {
   "cell_type": "code",
   "execution_count": null,
   "metadata": {},
   "outputs": [],
   "source": [
    "# 1 способ\n",
    "slov_count = dict()\n",
    "\n",
    "for recipe in recipes_sp:\n",
    "    id = recipe.find(\"id\").text\n",
    "    steps = []\n",
    "    count = 0\n",
    "    step_elements = recipe.find_all(\"step\")\n",
    "    for step in step_elements:\n",
    "        steps.append(step.text.strip())\n",
    "    slov_count[id] = len(steps)\n",
    "\n",
    "for key, value in list(slov_count.items())[:10]:\n",
    "    print(f\"{key}: {value}\")"
   ]
  },
  {
   "cell_type": "code",
   "execution_count": null,
   "metadata": {},
   "outputs": [],
   "source": [
    "# 2 способ\n",
    "count = dict()\n",
    "for key, value in slov_steps.items():\n",
    "    count[key] = len(value)\n",
    "\n",
    "for key, value in list(count.items())[:10]:\n",
    "    print(f\"{key}: {value}\")"
   ]
  },
  {
   "cell_type": "markdown",
   "metadata": {},
   "source": [
    "3.3 Получите список рецептов, в этапах выполнения которых есть информация о времени (часы или минуты). Для отбора подходящих рецептов обратите внимание на атрибуты соответствующих тэгов."
   ]
  },
  {
   "cell_type": "code",
   "execution_count": null,
   "metadata": {},
   "outputs": [],
   "source": [
    "with_time = []\n",
    "for recipe in recipes_sp:\n",
    "    id = recipe.find('id').text \n",
    "    has_time = False  \n",
    "    for step in recipe.find_all('step'):\n",
    "        if step.has_attr('has_minutes') or step.has_attr('has_hours'):\n",
    "            has_time = True\n",
    "            break\n",
    "    if has_time:\n",
    "        with_time.append(id)\n",
    "        \n",
    "with_time[:10]"
   ]
  },
  {
   "cell_type": "markdown",
   "metadata": {},
   "source": [
    "3.4 Загрузите данные из файла `recipes_sample.csv` (__ЛР2__) в таблицу `recipes`. Для строк, которые содержат пропуски в столбце `n_steps`, заполните этот столбец на основе файла  `steps_sample.xml`. Строки, в которых столбец `n_steps` заполнен, оставьте без изменений."
   ]
  },
  {
   "cell_type": "code",
   "execution_count": null,
   "metadata": {},
   "outputs": [],
   "source": [
    "data_recipes = pd.read_csv(\"recipes_sample.csv\")\n",
    "data_recipes.head()"
   ]
  },
  {
   "cell_type": "code",
   "execution_count": null,
   "metadata": {},
   "outputs": [],
   "source": [
    "data_recipes['n_steps'] = data_recipes.apply(\n",
    "    lambda row: count[str(row['id'])] if pd.isna(row['n_steps']) else row['n_steps'],\n",
    "    axis=1\n",
    ")"
   ]
  },
  {
   "cell_type": "code",
   "execution_count": null,
   "metadata": {},
   "outputs": [],
   "source": [
    "data_recipes.head()"
   ]
  },
  {
   "cell_type": "markdown",
   "metadata": {},
   "source": [
    "3.5 Проверьте, содержит ли столбец `n_steps` пропуски. Если нет, то преобразуйте его к целочисленному типу и сохраните результаты в файл `recipes_sample_with_filled_nsteps.csv`"
   ]
  },
  {
   "cell_type": "code",
   "execution_count": null,
   "metadata": {},
   "outputs": [],
   "source": [
    "miss_cnt = data_recipes['n_steps'].isna().sum()\n",
    "miss_cnt"
   ]
  },
  {
   "cell_type": "code",
   "execution_count": null,
   "metadata": {},
   "outputs": [],
   "source": [
    "data_recipes['n_steps'] = data_recipes['n_steps'].astype(\"int64\")\n",
    "data_recipes.head()"
   ]
  }
 ],
 "metadata": {
  "kernelspec": {
   "display_name": "Python 3 (ipykernel)",
   "language": "python",
   "name": "python3"
  },
  "language_info": {
   "codemirror_mode": {
    "name": "ipython",
    "version": 3
   },
   "file_extension": ".py",
   "mimetype": "text/x-python",
   "name": "python",
   "nbconvert_exporter": "python",
   "pygments_lexer": "ipython3",
   "version": "3.12.4"
  }
 },
 "nbformat": 4,
 "nbformat_minor": 4
}
