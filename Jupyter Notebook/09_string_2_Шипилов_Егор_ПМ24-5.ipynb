{
 "cells": [
  {
   "cell_type": "markdown",
   "metadata": {},
   "source": [
    "# Введение в обработку текста на естественном языке"
   ]
  },
  {
   "cell_type": "markdown",
   "metadata": {},
   "source": [
    "Материалы:\n",
    "* Макрушин С.В. Лекция 9: Введение в обработку текста на естественном языке\\\n",
    "* https://realpython.com/nltk-nlp-python/\n",
    "* https://scikit-learn.org/stable/modules/feature_extraction.html"
   ]
  },
  {
   "cell_type": "markdown",
   "metadata": {},
   "source": [
    "## Задачи для совместного разбора"
   ]
  },
  {
   "cell_type": "code",
   "execution_count": 46,
   "metadata": {},
   "outputs": [],
   "source": [
    "from sklearn.feature_extraction.text import CountVectorizer\n",
    "import pymorphy2"
   ]
  },
  {
   "cell_type": "markdown",
   "metadata": {},
   "source": [
    "1. Считайте слова из файла `litw-win.txt` и запишите их в список `words`. В заданном предложении исправьте все опечатки, заменив слова с опечатками на ближайшие (в смысле расстояния Левенштейна) к ним слова из списка `words`. Считайте, что в слове есть опечатка, если данное слово не содержится в списке `words`. "
   ]
  },
  {
   "cell_type": "code",
   "execution_count": 49,
   "metadata": {},
   "outputs": [],
   "source": [
    "text = '''с велечайшим усилием выбравшись из потока убегающих людей Кутузов со свитой уменьшевшейся вдвое поехал на звуки выстрелов русских орудий'''"
   ]
  },
  {
   "cell_type": "markdown",
   "metadata": {},
   "source": [
    "2. Разбейте текст из формулировки задания 1 на слова; проведите стемминг и лемматизацию слов."
   ]
  },
  {
   "cell_type": "markdown",
   "metadata": {},
   "source": [
    "3. Преобразуйте предложения из формулировки задания 1 в векторы при помощи `CountVectorizer`."
   ]
  },
  {
   "cell_type": "markdown",
   "metadata": {},
   "source": [
    "## Лабораторная работа 9"
   ]
  },
  {
   "cell_type": "code",
   "execution_count": 54,
   "metadata": {},
   "outputs": [
    {
     "name": "stderr",
     "output_type": "stream",
     "text": [
      "[nltk_data] Downloading package stopwords to\n",
      "[nltk_data]     /Users/egorsipilov/nltk_data...\n",
      "[nltk_data]   Package stopwords is already up-to-date!\n",
      "[nltk_data] Downloading package punkt to\n",
      "[nltk_data]     /Users/egorsipilov/nltk_data...\n",
      "[nltk_data]   Package punkt is already up-to-date!\n",
      "[nltk_data] Downloading package wordnet to\n",
      "[nltk_data]     /Users/egorsipilov/nltk_data...\n",
      "[nltk_data]   Package wordnet is already up-to-date!\n"
     ]
    },
    {
     "data": {
      "text/plain": [
       "True"
      ]
     },
     "execution_count": 54,
     "metadata": {},
     "output_type": "execute_result"
    }
   ],
   "source": [
    "import pandas as pd\n",
    "import random\n",
    "import re\n",
    "import numpy as np\n",
    "import nltk\n",
    "from nltk.metrics import edit_distance\n",
    "from nltk.tokenize import word_tokenize\n",
    "from nltk.metrics import edit_distance\n",
    "from nltk.corpus import stopwords\n",
    "from nltk.stem import SnowballStemmer, WordNetLemmatizer\n",
    "from collections import Counter\n",
    "from sklearn.feature_extraction.text import TfidfVectorizer\n",
    "from scipy.spatial.distance import cosine\n",
    "\n",
    "nltk.download('stopwords')\n",
    "nltk.download('punkt')\n",
    "nltk.download('wordnet')"
   ]
  },
  {
   "cell_type": "markdown",
   "metadata": {},
   "source": [
    "### Расстояние редактирования"
   ]
  },
  {
   "cell_type": "markdown",
   "metadata": {},
   "source": [
    "1.1 Загрузите предобработанные описания рецептов из файла `recipes_sample.csv`. Получите набор уникальных слов `words`, содержащихся в текстах описаний рецептов (воспользуйтесь `word_tokenize` из `nltk`). "
   ]
  },
  {
   "cell_type": "code",
   "execution_count": 58,
   "metadata": {},
   "outputs": [
    {
     "data": {
      "text/plain": [
       "['needles',\n",
       " 'hussard',\n",
       " 'munchers',\n",
       " 'grasp',\n",
       " 'moroccan',\n",
       " 'cuates',\n",
       " 'thrilling',\n",
       " 'preventing',\n",
       " 'woodruff',\n",
       " 'mocktails',\n",
       " 'sofrito',\n",
       " 'shelters',\n",
       " 'nimz',\n",
       " 'cork',\n",
       " 'prematurely',\n",
       " 'arugula',\n",
       " 'heh',\n",
       " 'eggrolls',\n",
       " 'addicts',\n",
       " 'sandwich']"
      ]
     },
     "execution_count": 58,
     "metadata": {},
     "output_type": "execute_result"
    }
   ],
   "source": [
    "recipes = pd.read_csv('recipes_sample.csv')\n",
    "\n",
    "descriptions = recipes['description'].dropna().str.lower()\n",
    "\n",
    "\n",
    "words = set()\n",
    "for desc in descriptions:\n",
    "    tokens = word_tokenize(desc)\n",
    "    words.update(w for w in tokens if re.match(r'^[a-zA-Z]+$', w))\n",
    "\n",
    "list(words)[:20]"
   ]
  },
  {
   "cell_type": "code",
   "execution_count": 60,
   "metadata": {},
   "outputs": [
    {
     "data": {
      "text/plain": [
       "21949"
      ]
     },
     "execution_count": 60,
     "metadata": {},
     "output_type": "execute_result"
    }
   ],
   "source": [
    "len(words)"
   ]
  },
  {
   "cell_type": "markdown",
   "metadata": {},
   "source": [
    "1.2 Сгенерируйте 5 пар случайно выбранных слов и посчитайте между ними расстояние редактирования."
   ]
  },
  {
   "cell_type": "code",
   "execution_count": 63,
   "metadata": {},
   "outputs": [
    {
     "name": "stdout",
     "output_type": "stream",
     "text": [
      "Пара 1: 'absorbs' и 'absorbing' -> Расстояние редактирования: 3\n",
      "Пара 2: 'crinkly' и 'damian' -> Расстояние редактирования: 7\n",
      "Пара 3: 'zaarite' и 'gentile' -> Расстояние редактирования: 5\n",
      "Пара 4: 'curies' и 'andrea' -> Расстояние редактирования: 5\n",
      "Пара 5: 'behavior' и 'tackling' -> Расстояние редактирования: 7\n"
     ]
    }
   ],
   "source": [
    "random.seed(42)\n",
    "word_list = list(words)\n",
    "pairs = [random.sample(word_list, 2) for _ in range(5)]\n",
    "\n",
    "for i, (word1, word2) in enumerate(pairs, 1):\n",
    "    distance = edit_distance(word1, word2)\n",
    "    print(f\"Пара {i}: '{word1}' и '{word2}' -> Расстояние редактирования: {distance}\")"
   ]
  },
  {
   "cell_type": "markdown",
   "metadata": {},
   "source": [
    "1.3 Напишите функцию, которая для заданного слова `word` возвращает `k` ближайших к нему слов из списка `words` (близость слов измеряется с помощью расстояния Левенштейна)"
   ]
  },
  {
   "cell_type": "code",
   "execution_count": 66,
   "metadata": {},
   "outputs": [],
   "source": [
    "def find_closest_words(word, words_list, k=5):\n",
    "    distances = [(w, edit_distance(word, w)) for w in words_list]\n",
    "    distances.sort(key=lambda x: x[1])\n",
    "    return distances[:k]"
   ]
  },
  {
   "cell_type": "code",
   "execution_count": 68,
   "metadata": {},
   "outputs": [
    {
     "name": "stdout",
     "output_type": "stream",
     "text": [
      "Слово: food, Расстояние: 0\n",
      "Слово: fold, Расстояние: 1\n",
      "Слово: fond, Расстояние: 1\n",
      "Слово: ford, Расстояние: 1\n",
      "Слово: flood, Расстояние: 1\n"
     ]
    }
   ],
   "source": [
    "test_word = \"food\"\n",
    "closest = find_closest_words(test_word, words, k=5)\n",
    "\n",
    "\n",
    "for w, dist in closest:\n",
    "    print(f\"Слово: {w}, Расстояние: {dist}\")"
   ]
  },
  {
   "cell_type": "markdown",
   "metadata": {},
   "source": [
    "### Стемминг, лемматизация"
   ]
  },
  {
   "cell_type": "markdown",
   "metadata": {},
   "source": [
    "2.1 На основе результатов 1.1 создайте `pd.DataFrame` со столбцами: \n",
    "    * word\n",
    "    * stemmed_word \n",
    "    * normalized_word \n",
    "\n",
    "Столбец `word` укажите в качестве индекса. \n",
    "\n",
    "Для стемминга воспользуйтесь `SnowballStemmer`, для нормализации слов - `WordNetLemmatizer`. Сравните результаты стемминга и лемматизации."
   ]
  },
  {
   "cell_type": "code",
   "execution_count": 72,
   "metadata": {},
   "outputs": [
    {
     "data": {
      "text/html": [
       "<div>\n",
       "<style scoped>\n",
       "    .dataframe tbody tr th:only-of-type {\n",
       "        vertical-align: middle;\n",
       "    }\n",
       "\n",
       "    .dataframe tbody tr th {\n",
       "        vertical-align: top;\n",
       "    }\n",
       "\n",
       "    .dataframe thead th {\n",
       "        text-align: right;\n",
       "    }\n",
       "</style>\n",
       "<table border=\"1\" class=\"dataframe\">\n",
       "  <thead>\n",
       "    <tr style=\"text-align: right;\">\n",
       "      <th></th>\n",
       "      <th>stemmed_word</th>\n",
       "      <th>normalized_word</th>\n",
       "    </tr>\n",
       "    <tr>\n",
       "      <th>word</th>\n",
       "      <th></th>\n",
       "      <th></th>\n",
       "    </tr>\n",
       "  </thead>\n",
       "  <tbody>\n",
       "    <tr>\n",
       "      <th>needles</th>\n",
       "      <td>needl</td>\n",
       "      <td>needle</td>\n",
       "    </tr>\n",
       "    <tr>\n",
       "      <th>hussard</th>\n",
       "      <td>hussard</td>\n",
       "      <td>hussard</td>\n",
       "    </tr>\n",
       "    <tr>\n",
       "      <th>munchers</th>\n",
       "      <td>muncher</td>\n",
       "      <td>muncher</td>\n",
       "    </tr>\n",
       "    <tr>\n",
       "      <th>grasp</th>\n",
       "      <td>grasp</td>\n",
       "      <td>grasp</td>\n",
       "    </tr>\n",
       "    <tr>\n",
       "      <th>moroccan</th>\n",
       "      <td>moroccan</td>\n",
       "      <td>moroccan</td>\n",
       "    </tr>\n",
       "    <tr>\n",
       "      <th>cuates</th>\n",
       "      <td>cuat</td>\n",
       "      <td>cuates</td>\n",
       "    </tr>\n",
       "    <tr>\n",
       "      <th>thrilling</th>\n",
       "      <td>thrill</td>\n",
       "      <td>thrilling</td>\n",
       "    </tr>\n",
       "    <tr>\n",
       "      <th>preventing</th>\n",
       "      <td>prevent</td>\n",
       "      <td>preventing</td>\n",
       "    </tr>\n",
       "    <tr>\n",
       "      <th>woodruff</th>\n",
       "      <td>woodruff</td>\n",
       "      <td>woodruff</td>\n",
       "    </tr>\n",
       "    <tr>\n",
       "      <th>mocktails</th>\n",
       "      <td>mocktail</td>\n",
       "      <td>mocktails</td>\n",
       "    </tr>\n",
       "    <tr>\n",
       "      <th>sofrito</th>\n",
       "      <td>sofrito</td>\n",
       "      <td>sofrito</td>\n",
       "    </tr>\n",
       "    <tr>\n",
       "      <th>shelters</th>\n",
       "      <td>shelter</td>\n",
       "      <td>shelter</td>\n",
       "    </tr>\n",
       "    <tr>\n",
       "      <th>nimz</th>\n",
       "      <td>nimz</td>\n",
       "      <td>nimz</td>\n",
       "    </tr>\n",
       "    <tr>\n",
       "      <th>cork</th>\n",
       "      <td>cork</td>\n",
       "      <td>cork</td>\n",
       "    </tr>\n",
       "    <tr>\n",
       "      <th>prematurely</th>\n",
       "      <td>prematur</td>\n",
       "      <td>prematurely</td>\n",
       "    </tr>\n",
       "  </tbody>\n",
       "</table>\n",
       "</div>"
      ],
      "text/plain": [
       "            stemmed_word normalized_word\n",
       "word                                    \n",
       "needles            needl          needle\n",
       "hussard          hussard         hussard\n",
       "munchers         muncher         muncher\n",
       "grasp              grasp           grasp\n",
       "moroccan        moroccan        moroccan\n",
       "cuates              cuat          cuates\n",
       "thrilling         thrill       thrilling\n",
       "preventing       prevent      preventing\n",
       "woodruff        woodruff        woodruff\n",
       "mocktails       mocktail       mocktails\n",
       "sofrito          sofrito         sofrito\n",
       "shelters         shelter         shelter\n",
       "nimz                nimz            nimz\n",
       "cork                cork            cork\n",
       "prematurely     prematur     prematurely"
      ]
     },
     "execution_count": 72,
     "metadata": {},
     "output_type": "execute_result"
    }
   ],
   "source": [
    "stemmer = SnowballStemmer(\"english\")\n",
    "lemmatizer = WordNetLemmatizer()\n",
    "\n",
    "\n",
    "data = {\n",
    "    'word': list(words),\n",
    "    'stemmed_word': [stemmer.stem(w) for w in words],\n",
    "    'normalized_word': [lemmatizer.lemmatize(w) for w in words]\n",
    "}\n",
    "\n",
    "\n",
    "df_words = pd.DataFrame(data).set_index('word')\n",
    "\n",
    "df_words.head(15)"
   ]
  },
  {
   "cell_type": "markdown",
   "metadata": {},
   "source": [
    "2.2. Удалите стоп-слова из описаний рецептов. Какую долю об общего количества слов составляли стоп-слова? Сравните топ-10 самых часто употребляемых слов до и после удаления стоп-слов."
   ]
  },
  {
   "cell_type": "code",
   "execution_count": 75,
   "metadata": {},
   "outputs": [
    {
     "name": "stdout",
     "output_type": "stream",
     "text": [
      "Доля стоп слов: 40.27%\n"
     ]
    }
   ],
   "source": [
    "stop_words = set(stopwords.words('english'))\n",
    "\n",
    "\n",
    "all_words = []\n",
    "for desc in recipes['description'].dropna().str.lower():\n",
    "    wd = word_tokenize(desc)\n",
    "    all_words.extend(wd)\n",
    "\n",
    "\n",
    "total_words = len(all_words)\n",
    "stop_words_count = sum(1 for w in all_words if w in stop_words)\n",
    "stop_words_proportion = stop_words_count / total_words\n",
    "\n",
    "word_cnt_before = Counter(all_words).most_common(10)\n",
    "\n",
    "filtered_tokens = [w for w in all_words if w not in stop_words]\n",
    "\n",
    "word_cnt_after = Counter(filtered_tokens).most_common(10)\n",
    "\n",
    "print(f\"Доля стоп слов: {stop_words_proportion:.2%}\")"
   ]
  },
  {
   "cell_type": "code",
   "execution_count": 77,
   "metadata": {},
   "outputs": [
    {
     "name": "stdout",
     "output_type": "stream",
     "text": [
      "'.': 66166\n",
      "'the': 40257\n",
      "',': 38544\n",
      "'a': 35030\n",
      "'and': 30425\n",
      "'i': 27799\n",
      "'this': 27132\n",
      "'to': 23508\n",
      "'it': 23212\n",
      "'is': 20501\n"
     ]
    }
   ],
   "source": [
    "for word, count in word_cnt_before:\n",
    "    print(f\"'{word}': {count}\")"
   ]
  },
  {
   "cell_type": "code",
   "execution_count": 79,
   "metadata": {},
   "outputs": [
    {
     "name": "stdout",
     "output_type": "stream",
     "text": [
      "'.': 66166\n",
      "',': 38544\n",
      "'!': 16054\n",
      "'recipe': 15122\n",
      "''s': 7688\n",
      "'make': 6367\n",
      "'time': 5198\n",
      "'n't': 4798\n",
      "'use': 4645\n",
      "')': 4587\n"
     ]
    }
   ],
   "source": [
    "for word, count in word_cnt_after:\n",
    "    print(f\"'{word}': {count}\")"
   ]
  },
  {
   "cell_type": "markdown",
   "metadata": {},
   "source": [
    "### Векторное представление текста"
   ]
  },
  {
   "cell_type": "markdown",
   "metadata": {},
   "source": [
    "3.1 Выберите случайным образом 5 рецептов из набора данных. Представьте описание каждого рецепта в виде числового вектора при помощи `TfidfVectorizer`"
   ]
  },
  {
   "cell_type": "code",
   "execution_count": 83,
   "metadata": {},
   "outputs": [],
   "source": [
    "random.seed(42)\n",
    "sample_recipes = recipes.dropna(subset=['description']).sample(5, random_state=42)\n",
    "\n",
    "vectorizer = TfidfVectorizer()\n",
    "\n",
    "tfidf_matrix = vectorizer.fit_transform(sample_recipes['description'])\n",
    "\n",
    "\n",
    "tfidf_df = pd.DataFrame(\n",
    "    tfidf_matrix.toarray(),\n",
    "    index=sample_recipes['name'],\n",
    "    columns=vectorizer.get_feature_names_out()\n",
    ")"
   ]
  },
  {
   "cell_type": "code",
   "execution_count": 85,
   "metadata": {},
   "outputs": [
    {
     "data": {
      "text/plain": [
       "array([[0.        , 0.        , 0.        , 0.        , 0.        ,\n",
       "        0.13129327, 0.        , 0.15816745, 0.        , 0.        ,\n",
       "        0.        , 0.        , 0.19604448, 0.19604448, 0.        ,\n",
       "        0.        , 0.        , 0.        , 0.19604448, 0.        ,\n",
       "        0.        , 0.        , 0.        , 0.19604448, 0.        ,\n",
       "        0.        , 0.        , 0.        , 0.        , 0.        ,\n",
       "        0.        , 0.        , 0.        , 0.19604448, 0.19604448,\n",
       "        0.        , 0.19604448, 0.        , 0.19604448, 0.        ,\n",
       "        0.        , 0.        , 0.        , 0.        , 0.        ,\n",
       "        0.        , 0.31633491, 0.        , 0.        , 0.        ,\n",
       "        0.        , 0.        , 0.        , 0.        , 0.15816745,\n",
       "        0.        , 0.        , 0.        , 0.        , 0.        ,\n",
       "        0.        , 0.        , 0.        , 0.        , 0.        ,\n",
       "        0.        , 0.        , 0.        , 0.        , 0.19604448,\n",
       "        0.        , 0.        , 0.        , 0.19604448, 0.        ,\n",
       "        0.19604448, 0.        , 0.        , 0.        , 0.        ,\n",
       "        0.19604448, 0.09341625, 0.        , 0.        , 0.        ,\n",
       "        0.        , 0.        , 0.        , 0.        , 0.        ,\n",
       "        0.11044804, 0.        , 0.        , 0.        , 0.        ,\n",
       "        0.        , 0.15816745, 0.19604448, 0.        , 0.19604448,\n",
       "        0.19604448, 0.        , 0.        , 0.        , 0.        ,\n",
       "        0.26258655, 0.        , 0.09341625, 0.13129327, 0.        ,\n",
       "        0.19604448, 0.19604448, 0.        , 0.        , 0.        ,\n",
       "        0.        , 0.        , 0.        , 0.        , 0.        ,\n",
       "        0.19604448, 0.        , 0.        , 0.        , 0.        ,\n",
       "        0.        , 0.        , 0.        ],\n",
       "       [0.11327136, 0.11327136, 0.        , 0.        , 0.09138662,\n",
       "        0.3034366 , 0.11327136, 0.        , 0.11327136, 0.11327136,\n",
       "        0.22654272, 0.        , 0.        , 0.        , 0.        ,\n",
       "        0.        , 0.11327136, 0.11327136, 0.        , 0.11327136,\n",
       "        0.        , 0.11327136, 0.        , 0.        , 0.11327136,\n",
       "        0.        , 0.        , 0.11327136, 0.11327136, 0.        ,\n",
       "        0.        , 0.        , 0.        , 0.        , 0.        ,\n",
       "        0.        , 0.        , 0.        , 0.        , 0.        ,\n",
       "        0.        , 0.        , 0.09138662, 0.11327136, 0.        ,\n",
       "        0.        , 0.        , 0.11327136, 0.        , 0.        ,\n",
       "        0.11327136, 0.        , 0.        , 0.        , 0.09138662,\n",
       "        0.        , 0.        , 0.        , 0.18277324, 0.06381511,\n",
       "        0.11327136, 0.        , 0.        , 0.        , 0.        ,\n",
       "        0.        , 0.        , 0.11327136, 0.18277324, 0.        ,\n",
       "        0.        , 0.11327136, 0.        , 0.        , 0.11327136,\n",
       "        0.        , 0.        , 0.        , 0.        , 0.22654272,\n",
       "        0.        , 0.05397441, 0.11327136, 0.11327136, 0.        ,\n",
       "        0.11327136, 0.11327136, 0.        , 0.        , 0.11327136,\n",
       "        0.06381511, 0.        , 0.        , 0.        , 0.        ,\n",
       "        0.        , 0.09138662, 0.        , 0.        , 0.        ,\n",
       "        0.        , 0.        , 0.        , 0.        , 0.        ,\n",
       "        0.37929575, 0.        , 0.05397441, 0.        , 0.09138662,\n",
       "        0.        , 0.        , 0.        , 0.33981408, 0.        ,\n",
       "        0.22654272, 0.        , 0.        , 0.11327136, 0.11327136,\n",
       "        0.        , 0.11327136, 0.        , 0.11327136, 0.        ,\n",
       "        0.        , 0.        , 0.11327136],\n",
       "       [0.        , 0.        , 0.        , 0.        , 0.        ,\n",
       "        0.        , 0.        , 0.        , 0.        , 0.        ,\n",
       "        0.        , 0.        , 0.        , 0.        , 0.        ,\n",
       "        0.        , 0.        , 0.        , 0.        , 0.        ,\n",
       "        0.        , 0.        , 0.19843799, 0.        , 0.        ,\n",
       "        0.        , 0.        , 0.        , 0.        , 0.        ,\n",
       "        0.19843799, 0.        , 0.16009852, 0.        , 0.        ,\n",
       "        0.        , 0.        , 0.        , 0.        , 0.        ,\n",
       "        0.        , 0.        , 0.        , 0.        , 0.        ,\n",
       "        0.        , 0.16009852, 0.        , 0.        , 0.        ,\n",
       "        0.        , 0.19843799, 0.        , 0.        , 0.        ,\n",
       "        0.19843799, 0.16009852, 0.19843799, 0.        , 0.22359301,\n",
       "        0.        , 0.19843799, 0.        , 0.        , 0.19843799,\n",
       "        0.        , 0.16009852, 0.        , 0.16009852, 0.        ,\n",
       "        0.39687599, 0.        , 0.16009852, 0.        , 0.        ,\n",
       "        0.        , 0.        , 0.        , 0.        , 0.        ,\n",
       "        0.        , 0.09455677, 0.        , 0.        , 0.        ,\n",
       "        0.        , 0.        , 0.19843799, 0.        , 0.        ,\n",
       "        0.1117965 , 0.        , 0.19843799, 0.19843799, 0.19843799,\n",
       "        0.        , 0.        , 0.        , 0.        , 0.        ,\n",
       "        0.        , 0.19843799, 0.19843799, 0.19843799, 0.        ,\n",
       "        0.        , 0.        , 0.09455677, 0.13289624, 0.        ,\n",
       "        0.        , 0.        , 0.        , 0.        , 0.19843799,\n",
       "        0.        , 0.        , 0.        , 0.        , 0.        ,\n",
       "        0.        , 0.        , 0.        , 0.        , 0.        ,\n",
       "        0.        , 0.        , 0.        ],\n",
       "       [0.        , 0.        , 0.        , 0.        , 0.        ,\n",
       "        0.41808942, 0.        , 0.        , 0.        , 0.        ,\n",
       "        0.        , 0.        , 0.        , 0.        , 0.        ,\n",
       "        0.        , 0.        , 0.        , 0.        , 0.        ,\n",
       "        0.20809424, 0.        , 0.        , 0.        , 0.        ,\n",
       "        0.        , 0.20809424, 0.        , 0.        , 0.20809424,\n",
       "        0.        , 0.20809424, 0.16788912, 0.        , 0.        ,\n",
       "        0.20809424, 0.        , 0.        , 0.        , 0.        ,\n",
       "        0.        , 0.        , 0.        , 0.        , 0.        ,\n",
       "        0.20809424, 0.        , 0.        , 0.        , 0.        ,\n",
       "        0.        , 0.        , 0.        , 0.20809424, 0.        ,\n",
       "        0.        , 0.        , 0.        , 0.16788912, 0.11723667,\n",
       "        0.        , 0.        , 0.20809424, 0.20809424, 0.        ,\n",
       "        0.16788912, 0.16788912, 0.        , 0.        , 0.        ,\n",
       "        0.        , 0.        , 0.        , 0.        , 0.        ,\n",
       "        0.        , 0.        , 0.        , 0.        , 0.        ,\n",
       "        0.        , 0.09915802, 0.        , 0.        , 0.20809424,\n",
       "        0.        , 0.        , 0.        , 0.        , 0.        ,\n",
       "        0.        , 0.        , 0.        , 0.        , 0.        ,\n",
       "        0.20809424, 0.        , 0.        , 0.20809424, 0.        ,\n",
       "        0.        , 0.        , 0.        , 0.        , 0.20809424,\n",
       "        0.        , 0.        , 0.19831604, 0.        , 0.        ,\n",
       "        0.        , 0.        , 0.        , 0.        , 0.        ,\n",
       "        0.        , 0.        , 0.        , 0.        , 0.        ,\n",
       "        0.        , 0.        , 0.20809424, 0.        , 0.20809424,\n",
       "        0.        , 0.        , 0.        ],\n",
       "       [0.        , 0.        , 0.17259585, 0.17259585, 0.13924925,\n",
       "        0.        , 0.        , 0.13924925, 0.        , 0.        ,\n",
       "        0.        , 0.17259585, 0.        , 0.        , 0.17259585,\n",
       "        0.17259585, 0.        , 0.        , 0.        , 0.        ,\n",
       "        0.        , 0.        , 0.        , 0.        , 0.        ,\n",
       "        0.17259585, 0.        , 0.        , 0.        , 0.        ,\n",
       "        0.        , 0.        , 0.        , 0.        , 0.        ,\n",
       "        0.        , 0.        , 0.17259585, 0.        , 0.17259585,\n",
       "        0.17259585, 0.17259585, 0.13924925, 0.        , 0.17259585,\n",
       "        0.        , 0.        , 0.        , 0.17259585, 0.17259585,\n",
       "        0.        , 0.        , 0.17259585, 0.        , 0.        ,\n",
       "        0.        , 0.13924925, 0.        , 0.        , 0.09723749,\n",
       "        0.        , 0.        , 0.        , 0.        , 0.        ,\n",
       "        0.13924925, 0.        , 0.        , 0.        , 0.        ,\n",
       "        0.        , 0.        , 0.13924925, 0.        , 0.        ,\n",
       "        0.        , 0.17259585, 0.17259585, 0.17259585, 0.        ,\n",
       "        0.        , 0.08224285, 0.        , 0.        , 0.        ,\n",
       "        0.        , 0.        , 0.        , 0.17259585, 0.        ,\n",
       "        0.09723749, 0.17259585, 0.        , 0.        , 0.        ,\n",
       "        0.        , 0.        , 0.        , 0.        , 0.        ,\n",
       "        0.        , 0.        , 0.        , 0.        , 0.        ,\n",
       "        0.23117891, 0.17259585, 0.1644857 , 0.11558946, 0.13924925,\n",
       "        0.        , 0.        , 0.17259585, 0.        , 0.        ,\n",
       "        0.        , 0.17259585, 0.17259585, 0.        , 0.        ,\n",
       "        0.        , 0.        , 0.        , 0.        , 0.        ,\n",
       "        0.17259585, 0.17259585, 0.        ]])"
      ]
     },
     "execution_count": 85,
     "metadata": {},
     "output_type": "execute_result"
    }
   ],
   "source": [
    "tfidf_matrix.toarray()"
   ]
  },
  {
   "cell_type": "code",
   "execution_count": 87,
   "metadata": {},
   "outputs": [
    {
     "data": {
      "text/html": [
       "<div>\n",
       "<style scoped>\n",
       "    .dataframe tbody tr th:only-of-type {\n",
       "        vertical-align: middle;\n",
       "    }\n",
       "\n",
       "    .dataframe tbody tr th {\n",
       "        vertical-align: top;\n",
       "    }\n",
       "\n",
       "    .dataframe thead th {\n",
       "        text-align: right;\n",
       "    }\n",
       "</style>\n",
       "<table border=\"1\" class=\"dataframe\">\n",
       "  <thead>\n",
       "    <tr style=\"text-align: right;\">\n",
       "      <th></th>\n",
       "      <th>add</th>\n",
       "      <th>adjust</th>\n",
       "      <th>ago</th>\n",
       "      <th>all</th>\n",
       "      <th>always</th>\n",
       "      <th>and</th>\n",
       "      <th>are</th>\n",
       "      <th>as</th>\n",
       "      <th>banana</th>\n",
       "      <th>bananas</th>\n",
       "      <th>...</th>\n",
       "      <th>very</th>\n",
       "      <th>walnuts</th>\n",
       "      <th>weekly</th>\n",
       "      <th>whole</th>\n",
       "      <th>with</th>\n",
       "      <th>without</th>\n",
       "      <th>woman</th>\n",
       "      <th>years</th>\n",
       "      <th>yeast</th>\n",
       "      <th>you</th>\n",
       "    </tr>\n",
       "    <tr>\n",
       "      <th>name</th>\n",
       "      <th></th>\n",
       "      <th></th>\n",
       "      <th></th>\n",
       "      <th></th>\n",
       "      <th></th>\n",
       "      <th></th>\n",
       "      <th></th>\n",
       "      <th></th>\n",
       "      <th></th>\n",
       "      <th></th>\n",
       "      <th></th>\n",
       "      <th></th>\n",
       "      <th></th>\n",
       "      <th></th>\n",
       "      <th></th>\n",
       "      <th></th>\n",
       "      <th></th>\n",
       "      <th></th>\n",
       "      <th></th>\n",
       "      <th></th>\n",
       "      <th></th>\n",
       "    </tr>\n",
       "  </thead>\n",
       "  <tbody>\n",
       "    <tr>\n",
       "      <th>never fail blender hollandaise sauce</th>\n",
       "      <td>0.000000</td>\n",
       "      <td>0.000000</td>\n",
       "      <td>0.000000</td>\n",
       "      <td>0.000000</td>\n",
       "      <td>0.000000</td>\n",
       "      <td>0.131293</td>\n",
       "      <td>0.000000</td>\n",
       "      <td>0.158167</td>\n",
       "      <td>0.000000</td>\n",
       "      <td>0.000000</td>\n",
       "      <td>...</td>\n",
       "      <td>0.000000</td>\n",
       "      <td>0.000000</td>\n",
       "      <td>0.196044</td>\n",
       "      <td>0.000000</td>\n",
       "      <td>0.000000</td>\n",
       "      <td>0.000000</td>\n",
       "      <td>0.000000</td>\n",
       "      <td>0.000000</td>\n",
       "      <td>0.000000</td>\n",
       "      <td>0.000000</td>\n",
       "    </tr>\n",
       "    <tr>\n",
       "      <th>banana bread from betty crocker</th>\n",
       "      <td>0.113271</td>\n",
       "      <td>0.113271</td>\n",
       "      <td>0.000000</td>\n",
       "      <td>0.000000</td>\n",
       "      <td>0.091387</td>\n",
       "      <td>0.303437</td>\n",
       "      <td>0.113271</td>\n",
       "      <td>0.000000</td>\n",
       "      <td>0.113271</td>\n",
       "      <td>0.113271</td>\n",
       "      <td>...</td>\n",
       "      <td>0.113271</td>\n",
       "      <td>0.113271</td>\n",
       "      <td>0.000000</td>\n",
       "      <td>0.113271</td>\n",
       "      <td>0.000000</td>\n",
       "      <td>0.113271</td>\n",
       "      <td>0.000000</td>\n",
       "      <td>0.000000</td>\n",
       "      <td>0.000000</td>\n",
       "      <td>0.113271</td>\n",
       "    </tr>\n",
       "    <tr>\n",
       "      <th>sweet potatoes supreme</th>\n",
       "      <td>0.000000</td>\n",
       "      <td>0.000000</td>\n",
       "      <td>0.000000</td>\n",
       "      <td>0.000000</td>\n",
       "      <td>0.000000</td>\n",
       "      <td>0.000000</td>\n",
       "      <td>0.000000</td>\n",
       "      <td>0.000000</td>\n",
       "      <td>0.000000</td>\n",
       "      <td>0.000000</td>\n",
       "      <td>...</td>\n",
       "      <td>0.000000</td>\n",
       "      <td>0.000000</td>\n",
       "      <td>0.000000</td>\n",
       "      <td>0.000000</td>\n",
       "      <td>0.000000</td>\n",
       "      <td>0.000000</td>\n",
       "      <td>0.000000</td>\n",
       "      <td>0.000000</td>\n",
       "      <td>0.000000</td>\n",
       "      <td>0.000000</td>\n",
       "    </tr>\n",
       "    <tr>\n",
       "      <th>lemon dill chicken patties with orzo</th>\n",
       "      <td>0.000000</td>\n",
       "      <td>0.000000</td>\n",
       "      <td>0.000000</td>\n",
       "      <td>0.000000</td>\n",
       "      <td>0.000000</td>\n",
       "      <td>0.418089</td>\n",
       "      <td>0.000000</td>\n",
       "      <td>0.000000</td>\n",
       "      <td>0.000000</td>\n",
       "      <td>0.000000</td>\n",
       "      <td>...</td>\n",
       "      <td>0.000000</td>\n",
       "      <td>0.000000</td>\n",
       "      <td>0.000000</td>\n",
       "      <td>0.000000</td>\n",
       "      <td>0.208094</td>\n",
       "      <td>0.000000</td>\n",
       "      <td>0.208094</td>\n",
       "      <td>0.000000</td>\n",
       "      <td>0.000000</td>\n",
       "      <td>0.000000</td>\n",
       "    </tr>\n",
       "    <tr>\n",
       "      <th>rice broccoli casserole w  nutritional yeast</th>\n",
       "      <td>0.000000</td>\n",
       "      <td>0.000000</td>\n",
       "      <td>0.172596</td>\n",
       "      <td>0.172596</td>\n",
       "      <td>0.139249</td>\n",
       "      <td>0.000000</td>\n",
       "      <td>0.000000</td>\n",
       "      <td>0.139249</td>\n",
       "      <td>0.000000</td>\n",
       "      <td>0.000000</td>\n",
       "      <td>...</td>\n",
       "      <td>0.000000</td>\n",
       "      <td>0.000000</td>\n",
       "      <td>0.000000</td>\n",
       "      <td>0.000000</td>\n",
       "      <td>0.000000</td>\n",
       "      <td>0.000000</td>\n",
       "      <td>0.000000</td>\n",
       "      <td>0.172596</td>\n",
       "      <td>0.172596</td>\n",
       "      <td>0.000000</td>\n",
       "    </tr>\n",
       "  </tbody>\n",
       "</table>\n",
       "<p>5 rows × 128 columns</p>\n",
       "</div>"
      ],
      "text/plain": [
       "                                                   add    adjust       ago  \\\n",
       "name                                                                         \n",
       "never fail blender hollandaise sauce          0.000000  0.000000  0.000000   \n",
       "banana bread from betty crocker               0.113271  0.113271  0.000000   \n",
       "sweet potatoes supreme                        0.000000  0.000000  0.000000   \n",
       "lemon dill chicken patties with orzo          0.000000  0.000000  0.000000   \n",
       "rice broccoli casserole w  nutritional yeast  0.000000  0.000000  0.172596   \n",
       "\n",
       "                                                   all    always       and  \\\n",
       "name                                                                         \n",
       "never fail blender hollandaise sauce          0.000000  0.000000  0.131293   \n",
       "banana bread from betty crocker               0.000000  0.091387  0.303437   \n",
       "sweet potatoes supreme                        0.000000  0.000000  0.000000   \n",
       "lemon dill chicken patties with orzo          0.000000  0.000000  0.418089   \n",
       "rice broccoli casserole w  nutritional yeast  0.172596  0.139249  0.000000   \n",
       "\n",
       "                                                   are        as    banana  \\\n",
       "name                                                                         \n",
       "never fail blender hollandaise sauce          0.000000  0.158167  0.000000   \n",
       "banana bread from betty crocker               0.113271  0.000000  0.113271   \n",
       "sweet potatoes supreme                        0.000000  0.000000  0.000000   \n",
       "lemon dill chicken patties with orzo          0.000000  0.000000  0.000000   \n",
       "rice broccoli casserole w  nutritional yeast  0.000000  0.139249  0.000000   \n",
       "\n",
       "                                               bananas  ...      very  \\\n",
       "name                                                    ...             \n",
       "never fail blender hollandaise sauce          0.000000  ...  0.000000   \n",
       "banana bread from betty crocker               0.113271  ...  0.113271   \n",
       "sweet potatoes supreme                        0.000000  ...  0.000000   \n",
       "lemon dill chicken patties with orzo          0.000000  ...  0.000000   \n",
       "rice broccoli casserole w  nutritional yeast  0.000000  ...  0.000000   \n",
       "\n",
       "                                               walnuts    weekly     whole  \\\n",
       "name                                                                         \n",
       "never fail blender hollandaise sauce          0.000000  0.196044  0.000000   \n",
       "banana bread from betty crocker               0.113271  0.000000  0.113271   \n",
       "sweet potatoes supreme                        0.000000  0.000000  0.000000   \n",
       "lemon dill chicken patties with orzo          0.000000  0.000000  0.000000   \n",
       "rice broccoli casserole w  nutritional yeast  0.000000  0.000000  0.000000   \n",
       "\n",
       "                                                  with   without     woman  \\\n",
       "name                                                                         \n",
       "never fail blender hollandaise sauce          0.000000  0.000000  0.000000   \n",
       "banana bread from betty crocker               0.000000  0.113271  0.000000   \n",
       "sweet potatoes supreme                        0.000000  0.000000  0.000000   \n",
       "lemon dill chicken patties with orzo          0.208094  0.000000  0.208094   \n",
       "rice broccoli casserole w  nutritional yeast  0.000000  0.000000  0.000000   \n",
       "\n",
       "                                                 years     yeast       you  \n",
       "name                                                                        \n",
       "never fail blender hollandaise sauce          0.000000  0.000000  0.000000  \n",
       "banana bread from betty crocker               0.000000  0.000000  0.113271  \n",
       "sweet potatoes supreme                        0.000000  0.000000  0.000000  \n",
       "lemon dill chicken patties with orzo          0.000000  0.000000  0.000000  \n",
       "rice broccoli casserole w  nutritional yeast  0.172596  0.172596  0.000000  \n",
       "\n",
       "[5 rows x 128 columns]"
      ]
     },
     "execution_count": 87,
     "metadata": {},
     "output_type": "execute_result"
    }
   ],
   "source": [
    "tfidf_df.head()"
   ]
  },
  {
   "cell_type": "markdown",
   "metadata": {},
   "source": [
    "3.2 Вычислите близость между каждой парой рецептов, выбранных в задании 3.1, используя косинусное расстояние (`scipy.spatial.distance.cosine`) Результаты оформите в виде таблицы `pd.DataFrame`. В качестве названий строк и столбцов используйте названия рецептов."
   ]
  },
  {
   "cell_type": "code",
   "execution_count": 90,
   "metadata": {},
   "outputs": [
    {
     "data": {
      "text/html": [
       "<div>\n",
       "<style scoped>\n",
       "    .dataframe tbody tr th:only-of-type {\n",
       "        vertical-align: middle;\n",
       "    }\n",
       "\n",
       "    .dataframe tbody tr th {\n",
       "        vertical-align: top;\n",
       "    }\n",
       "\n",
       "    .dataframe thead th {\n",
       "        text-align: right;\n",
       "    }\n",
       "</style>\n",
       "<table border=\"1\" class=\"dataframe\">\n",
       "  <thead>\n",
       "    <tr style=\"text-align: right;\">\n",
       "      <th></th>\n",
       "      <th>never fail blender hollandaise sauce</th>\n",
       "      <th>banana bread from betty crocker</th>\n",
       "      <th>sweet potatoes supreme</th>\n",
       "      <th>lemon dill chicken patties with orzo</th>\n",
       "      <th>rice broccoli casserole w  nutritional yeast</th>\n",
       "    </tr>\n",
       "  </thead>\n",
       "  <tbody>\n",
       "    <tr>\n",
       "      <th>never fail blender hollandaise sauce</th>\n",
       "      <td>0.000000</td>\n",
       "      <td>0.814522</td>\n",
       "      <td>0.901893</td>\n",
       "      <td>0.917319</td>\n",
       "      <td>0.868307</td>\n",
       "    </tr>\n",
       "    <tr>\n",
       "      <th>banana bread from betty crocker</th>\n",
       "      <td>0.814522</td>\n",
       "      <td>0.000000</td>\n",
       "      <td>0.939128</td>\n",
       "      <td>0.818913</td>\n",
       "      <td>0.848411</td>\n",
       "    </tr>\n",
       "    <tr>\n",
       "      <th>sweet potatoes supreme</th>\n",
       "      <td>0.901893</td>\n",
       "      <td>0.939128</td>\n",
       "      <td>0.000000</td>\n",
       "      <td>0.891901</td>\n",
       "      <td>0.884109</td>\n",
       "    </tr>\n",
       "    <tr>\n",
       "      <th>lemon dill chicken patties with orzo</th>\n",
       "      <td>0.917319</td>\n",
       "      <td>0.818913</td>\n",
       "      <td>0.891901</td>\n",
       "      <td>0.000000</td>\n",
       "      <td>0.924447</td>\n",
       "    </tr>\n",
       "    <tr>\n",
       "      <th>rice broccoli casserole w  nutritional yeast</th>\n",
       "      <td>0.868307</td>\n",
       "      <td>0.848411</td>\n",
       "      <td>0.884109</td>\n",
       "      <td>0.924447</td>\n",
       "      <td>0.000000</td>\n",
       "    </tr>\n",
       "  </tbody>\n",
       "</table>\n",
       "</div>"
      ],
      "text/plain": [
       "                                              never fail blender hollandaise sauce  \\\n",
       "never fail blender hollandaise sauce                                      0.000000   \n",
       "banana bread from betty crocker                                           0.814522   \n",
       "sweet potatoes supreme                                                    0.901893   \n",
       "lemon dill chicken patties with orzo                                      0.917319   \n",
       "rice broccoli casserole w  nutritional yeast                              0.868307   \n",
       "\n",
       "                                              banana bread from betty crocker  \\\n",
       "never fail blender hollandaise sauce                                 0.814522   \n",
       "banana bread from betty crocker                                      0.000000   \n",
       "sweet potatoes supreme                                               0.939128   \n",
       "lemon dill chicken patties with orzo                                 0.818913   \n",
       "rice broccoli casserole w  nutritional yeast                         0.848411   \n",
       "\n",
       "                                              sweet potatoes supreme  \\\n",
       "never fail blender hollandaise sauce                        0.901893   \n",
       "banana bread from betty crocker                             0.939128   \n",
       "sweet potatoes supreme                                      0.000000   \n",
       "lemon dill chicken patties with orzo                        0.891901   \n",
       "rice broccoli casserole w  nutritional yeast                0.884109   \n",
       "\n",
       "                                              lemon dill chicken patties with orzo  \\\n",
       "never fail blender hollandaise sauce                                      0.917319   \n",
       "banana bread from betty crocker                                           0.818913   \n",
       "sweet potatoes supreme                                                    0.891901   \n",
       "lemon dill chicken patties with orzo                                      0.000000   \n",
       "rice broccoli casserole w  nutritional yeast                              0.924447   \n",
       "\n",
       "                                              rice broccoli casserole w  nutritional yeast  \n",
       "never fail blender hollandaise sauce                                              0.868307  \n",
       "banana bread from betty crocker                                                   0.848411  \n",
       "sweet potatoes supreme                                                            0.884109  \n",
       "lemon dill chicken patties with orzo                                              0.924447  \n",
       "rice broccoli casserole w  nutritional yeast                                      0.000000  "
      ]
     },
     "execution_count": 90,
     "metadata": {},
     "output_type": "execute_result"
    }
   ],
   "source": [
    "recipe_names = sample_recipes['name'].values\n",
    "n = len(recipe_names)\n",
    "distance_matrix = np.zeros((n, n))\n",
    "\n",
    "\n",
    "for i in range(n):\n",
    "    for j in range(n):\n",
    "        if i != j:\n",
    "            distance_matrix[i, j] = cosine(tfidf_matrix[i].toarray()[0], tfidf_matrix[j].toarray()[0])\n",
    "        else:\n",
    "            distance_matrix[i, j] = 0.0\n",
    "\n",
    "\n",
    "distance_df = pd.DataFrame(distance_matrix, index=recipe_names, columns=recipe_names)\n",
    "\n",
    "\n",
    "\n",
    "distance_df"
   ]
  },
  {
   "cell_type": "markdown",
   "metadata": {},
   "source": [
    "3.3 Какие рецепты являются наиболее похожими? Прокомментируйте результат (словами)."
   ]
  },
  {
   "cell_type": "code",
   "execution_count": 93,
   "metadata": {},
   "outputs": [
    {
     "name": "stdout",
     "output_type": "stream",
     "text": [
      "Наиболее похожие рецепты: 'never fail blender hollandaise sauce' and 'banana bread from betty crocker'\n",
      "Косинусовое расстояние: 0.8145\n",
      "\n",
      "Описание 'never fail blender hollandaise sauce':\n",
      "from the best of bridge. this fantastic recipe has changed sunday morning eggs benny from a special occasion treat to a weekly tradition! so easy and as the name states-never fail!!!\n",
      "\n",
      "Описание 'banana bread from betty crocker':\n",
      "this is the recipe i always use for banana bread.  it is very forgiving and you can add more nuts, more bananas (just adjust the milk quantity so the batter has the consistency of muffin batter), and only need one bowl.  i use walnuts usually, but pecans are good too and i usually use the cheap 'whole and pieces' nuts without chopping further.\n"
     ]
    }
   ],
   "source": [
    "np.fill_diagonal(distance_df.values, np.inf)\n",
    "min_distance = distance_df.values.min()\n",
    "min_idx = np.unravel_index(distance_df.values.argmin(), distance_df.shape)\n",
    "recipe1, recipe2 = distance_df.index[min_idx[0]], distance_df.columns[min_idx[1]]\n",
    "\n",
    "\n",
    "desc1 = recipes[recipes['name'] == recipe1]['description'].values[0]\n",
    "desc2 = recipes[recipes['name'] == recipe2]['description'].values[0]\n",
    "\n",
    "\n",
    "print(f\"Наиболее похожие рецепты: '{recipe1}' and '{recipe2}'\")\n",
    "print(f\"Косинусовое расстояние: {min_distance:.4f}\")\n",
    "print(f\"\\nОписание '{recipe1}':\\n{desc1}\")\n",
    "print(f\"\\nОписание '{recipe2}':\\n{desc2}\")"
   ]
  },
  {
   "cell_type": "markdown",
   "metadata": {},
   "source": [
    "**Комментарий:** <br>\n",
    "Наиболее похожими рецептами являются 'never fail blender hollandaise sauce' и 'banana bread from betty crocker' с косинусным расстоянием 0.8145, что указывает на высокую схожесть их описаний. Их близость обусловлена акцентом на простоту и удобство приготовления. Это показано в Tfidf векторах, что делает их ближе друг к другу, чем к другим рецептам"
   ]
  }
 ],
 "metadata": {
  "kernelspec": {
   "display_name": "Python 3 (ipykernel)",
   "language": "python",
   "name": "python3"
  },
  "language_info": {
   "codemirror_mode": {
    "name": "ipython",
    "version": 3
   },
   "file_extension": ".py",
   "mimetype": "text/x-python",
   "name": "python",
   "nbconvert_exporter": "python",
   "pygments_lexer": "ipython3",
   "version": "3.12.4"
  }
 },
 "nbformat": 4,
 "nbformat_minor": 4
}
