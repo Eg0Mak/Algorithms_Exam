{
 "cells": [
  {
   "cell_type": "markdown",
   "id": "086749a2-fbcf-4b07-af9a-cb64ede46747",
   "metadata": {},
   "source": [
    "Оптимизация выполнения кода, векторизация, Numba\r\n",
    "Материалы:\r\n",
    "\r\n",
    "Макрушин С.В. Лекция 3: Оптимизация выполнения кода, векторизация, Numba\r\n",
    "IPython Cookbook, Second Edition (2018), глава 4\r\n",
    "https://numba.pydata.org/numba-doc/latest/user/5minguide.html\r"
   ]
  },
  {
   "cell_type": "code",
   "execution_count": 14,
   "id": "88213883-ce58-4039-83d3-7d974dfae02f",
   "metadata": {},
   "outputs": [],
   "source": [
    "import pandas as pd\n",
    "import numpy as np\n",
    "import string\n",
    "from collections import Counter\n",
    "from numba import jit"
   ]
  },
  {
   "cell_type": "markdown",
   "id": "230abb62-3f2c-4aad-a1bc-004bac278c81",
   "metadata": {},
   "source": [
    "# Разминка"
   ]
  },
  {
   "cell_type": "markdown",
   "id": "bbdeb169-49b0-4179-a41e-aff4fff77aac",
   "metadata": {},
   "source": [
    "1. Сгенерируйте массив A из N=1млн случайных целых чисел на отрезке от 0 до 1000. Пусть B[i] = A[i] + 100. Посчитайте среднее значение массива B."
   ]
  },
  {
   "cell_type": "code",
   "execution_count": 18,
   "id": "27a90642-099d-4e55-b300-e80ecf90a951",
   "metadata": {},
   "outputs": [
    {
     "name": "stdout",
     "output_type": "stream",
     "text": [
      "303 μs ± 2.31 μs per loop (mean ± std. dev. of 7 runs, 1,000 loops each)\n"
     ]
    }
   ],
   "source": [
    "N = 1000000\n",
    "A = np.random.randint(0, 1000 + 1, size=N)\n",
    "B = A + 100\n",
    "\n",
    "%timeit np.average(B)"
   ]
  },
  {
   "cell_type": "markdown",
   "id": "1518dd5b-0732-4ee2-a8ce-55127a45a6db",
   "metadata": {},
   "source": [
    "2. Создайте таблицу 2млн строк и с 4 столбцами, заполненными случайными числами. Добавьте столбец key, которые содержит элементы из множества английских букв. Выберите из таблицы подмножество строк, для которых в столбце key указаны первые 5 английских букв.\r\n"
   ]
  },
  {
   "cell_type": "code",
   "execution_count": 20,
   "id": "4d68390f-5fd8-4e83-b27c-5e6c55b25e92",
   "metadata": {},
   "outputs": [
    {
     "data": {
      "text/html": [
       "<div>\n",
       "<style scoped>\n",
       "    .dataframe tbody tr th:only-of-type {\n",
       "        vertical-align: middle;\n",
       "    }\n",
       "\n",
       "    .dataframe tbody tr th {\n",
       "        vertical-align: top;\n",
       "    }\n",
       "\n",
       "    .dataframe thead th {\n",
       "        text-align: right;\n",
       "    }\n",
       "</style>\n",
       "<table border=\"1\" class=\"dataframe\">\n",
       "  <thead>\n",
       "    <tr style=\"text-align: right;\">\n",
       "      <th></th>\n",
       "      <th>col1</th>\n",
       "      <th>col2</th>\n",
       "      <th>col3</th>\n",
       "      <th>col4</th>\n",
       "      <th>key</th>\n",
       "    </tr>\n",
       "  </thead>\n",
       "  <tbody>\n",
       "    <tr>\n",
       "      <th>0</th>\n",
       "      <td>0.441157</td>\n",
       "      <td>0.548922</td>\n",
       "      <td>0.607894</td>\n",
       "      <td>0.209414</td>\n",
       "      <td>d</td>\n",
       "    </tr>\n",
       "    <tr>\n",
       "      <th>1</th>\n",
       "      <td>0.100888</td>\n",
       "      <td>0.958953</td>\n",
       "      <td>0.964476</td>\n",
       "      <td>0.302508</td>\n",
       "      <td>u</td>\n",
       "    </tr>\n",
       "    <tr>\n",
       "      <th>2</th>\n",
       "      <td>0.259978</td>\n",
       "      <td>0.926910</td>\n",
       "      <td>0.176032</td>\n",
       "      <td>0.048809</td>\n",
       "      <td>h</td>\n",
       "    </tr>\n",
       "    <tr>\n",
       "      <th>3</th>\n",
       "      <td>0.972437</td>\n",
       "      <td>0.915568</td>\n",
       "      <td>0.758418</td>\n",
       "      <td>0.916820</td>\n",
       "      <td>k</td>\n",
       "    </tr>\n",
       "    <tr>\n",
       "      <th>4</th>\n",
       "      <td>0.206797</td>\n",
       "      <td>0.596889</td>\n",
       "      <td>0.110572</td>\n",
       "      <td>0.883218</td>\n",
       "      <td>u</td>\n",
       "    </tr>\n",
       "  </tbody>\n",
       "</table>\n",
       "</div>"
      ],
      "text/plain": [
       "       col1      col2      col3      col4 key\n",
       "0  0.441157  0.548922  0.607894  0.209414   d\n",
       "1  0.100888  0.958953  0.964476  0.302508   u\n",
       "2  0.259978  0.926910  0.176032  0.048809   h\n",
       "3  0.972437  0.915568  0.758418  0.916820   k\n",
       "4  0.206797  0.596889  0.110572  0.883218   u"
      ]
     },
     "execution_count": 20,
     "metadata": {},
     "output_type": "execute_result"
    }
   ],
   "source": [
    "M = 2000000\n",
    "df = pd.DataFrame(np.random.rand(M, 4), columns=['col1', 'col2', 'col3', 'col4'])\n",
    "df['key'] = np.random.choice(list(string.ascii_lowercase), size=M)\n",
    "\n",
    "df.head()"
   ]
  },
  {
   "cell_type": "code",
   "execution_count": 23,
   "id": "f4af17e4-dd4a-4728-b809-bbb6ee3358a1",
   "metadata": {},
   "outputs": [
    {
     "name": "stdout",
     "output_type": "stream",
     "text": [
      "44.7 ms ± 493 μs per loop (mean ± std. dev. of 7 runs, 10 loops each)\n"
     ]
    },
    {
     "data": {
      "text/plain": [
       "384738"
      ]
     },
     "execution_count": 23,
     "metadata": {},
     "output_type": "execute_result"
    }
   ],
   "source": [
    "%timeit len(df[df['key'].isin(list(string.ascii_lowercase[:5]))])\n",
    "\n",
    "len(df[df['key'].isin(list(string.ascii_lowercase[:5]))])"
   ]
  },
  {
   "cell_type": "markdown",
   "id": "9411f839-b18a-40c8-bf33-a50188c6244e",
   "metadata": {},
   "source": [
    "# Лабораторная работа №8"
   ]
  },
  {
   "cell_type": "markdown",
   "id": "48aa1999-833f-432b-b1f9-28f64dbe9d18",
   "metadata": {},
   "source": [
    "1. В файлах recipes_sample.csv и reviews_sample.csv находится информация об рецептах блюд и отзывах на эти рецепты соответственно. Загрузите данные из файлов в виде pd.DataFrame с названиями recipes и reviews. Обратите внимание на корректное считывание столбца(ов) с индексами. Приведите столбцы к нужным типам."
   ]
  },
  {
   "cell_type": "code",
   "execution_count": 27,
   "id": "03f7cb5f-eaa0-4b78-9378-8020796d288e",
   "metadata": {},
   "outputs": [],
   "source": [
    "recipes = pd.read_csv(\"recipes_sample.csv\")\n",
    "reviews = pd.read_csv(\"reviews_sample.csv\", index_col=0)"
   ]
  },
  {
   "cell_type": "code",
   "execution_count": 29,
   "id": "857a306c-612f-4648-bb74-5a70f7d1a5a6",
   "metadata": {},
   "outputs": [
    {
     "data": {
      "text/html": [
       "<div>\n",
       "<style scoped>\n",
       "    .dataframe tbody tr th:only-of-type {\n",
       "        vertical-align: middle;\n",
       "    }\n",
       "\n",
       "    .dataframe tbody tr th {\n",
       "        vertical-align: top;\n",
       "    }\n",
       "\n",
       "    .dataframe thead th {\n",
       "        text-align: right;\n",
       "    }\n",
       "</style>\n",
       "<table border=\"1\" class=\"dataframe\">\n",
       "  <thead>\n",
       "    <tr style=\"text-align: right;\">\n",
       "      <th></th>\n",
       "      <th>name</th>\n",
       "      <th>id</th>\n",
       "      <th>minutes</th>\n",
       "      <th>contributor_id</th>\n",
       "      <th>submitted</th>\n",
       "      <th>n_steps</th>\n",
       "      <th>description</th>\n",
       "      <th>n_ingredients</th>\n",
       "    </tr>\n",
       "  </thead>\n",
       "  <tbody>\n",
       "    <tr>\n",
       "      <th>0</th>\n",
       "      <td>george s at the cove  black bean soup</td>\n",
       "      <td>44123</td>\n",
       "      <td>90</td>\n",
       "      <td>35193</td>\n",
       "      <td>2002-10-25</td>\n",
       "      <td>NaN</td>\n",
       "      <td>an original recipe created by chef scott meska...</td>\n",
       "      <td>18.0</td>\n",
       "    </tr>\n",
       "    <tr>\n",
       "      <th>1</th>\n",
       "      <td>healthy for them  yogurt popsicles</td>\n",
       "      <td>67664</td>\n",
       "      <td>10</td>\n",
       "      <td>91970</td>\n",
       "      <td>2003-07-26</td>\n",
       "      <td>NaN</td>\n",
       "      <td>my children and their friends ask for my homem...</td>\n",
       "      <td>NaN</td>\n",
       "    </tr>\n",
       "    <tr>\n",
       "      <th>2</th>\n",
       "      <td>i can t believe it s spinach</td>\n",
       "      <td>38798</td>\n",
       "      <td>30</td>\n",
       "      <td>1533</td>\n",
       "      <td>2002-08-29</td>\n",
       "      <td>NaN</td>\n",
       "      <td>these were so go, it surprised even me.</td>\n",
       "      <td>8.0</td>\n",
       "    </tr>\n",
       "    <tr>\n",
       "      <th>3</th>\n",
       "      <td>italian  gut busters</td>\n",
       "      <td>35173</td>\n",
       "      <td>45</td>\n",
       "      <td>22724</td>\n",
       "      <td>2002-07-27</td>\n",
       "      <td>NaN</td>\n",
       "      <td>my sister-in-law made these for us at a family...</td>\n",
       "      <td>NaN</td>\n",
       "    </tr>\n",
       "    <tr>\n",
       "      <th>4</th>\n",
       "      <td>love is in the air  beef fondue   sauces</td>\n",
       "      <td>84797</td>\n",
       "      <td>25</td>\n",
       "      <td>4470</td>\n",
       "      <td>2004-02-23</td>\n",
       "      <td>4.0</td>\n",
       "      <td>i think a fondue is a very romantic casual din...</td>\n",
       "      <td>NaN</td>\n",
       "    </tr>\n",
       "  </tbody>\n",
       "</table>\n",
       "</div>"
      ],
      "text/plain": [
       "                                       name     id  minutes  contributor_id  \\\n",
       "0     george s at the cove  black bean soup  44123       90           35193   \n",
       "1        healthy for them  yogurt popsicles  67664       10           91970   \n",
       "2              i can t believe it s spinach  38798       30            1533   \n",
       "3                      italian  gut busters  35173       45           22724   \n",
       "4  love is in the air  beef fondue   sauces  84797       25            4470   \n",
       "\n",
       "    submitted  n_steps                                        description  \\\n",
       "0  2002-10-25      NaN  an original recipe created by chef scott meska...   \n",
       "1  2003-07-26      NaN  my children and their friends ask for my homem...   \n",
       "2  2002-08-29      NaN            these were so go, it surprised even me.   \n",
       "3  2002-07-27      NaN  my sister-in-law made these for us at a family...   \n",
       "4  2004-02-23      4.0  i think a fondue is a very romantic casual din...   \n",
       "\n",
       "   n_ingredients  \n",
       "0           18.0  \n",
       "1            NaN  \n",
       "2            8.0  \n",
       "3            NaN  \n",
       "4            NaN  "
      ]
     },
     "execution_count": 29,
     "metadata": {},
     "output_type": "execute_result"
    }
   ],
   "source": [
    "recipes.head()"
   ]
  },
  {
   "cell_type": "code",
   "execution_count": 31,
   "id": "8badda03-90a5-4eba-8dde-37ae74664618",
   "metadata": {},
   "outputs": [
    {
     "data": {
      "text/html": [
       "<div>\n",
       "<style scoped>\n",
       "    .dataframe tbody tr th:only-of-type {\n",
       "        vertical-align: middle;\n",
       "    }\n",
       "\n",
       "    .dataframe tbody tr th {\n",
       "        vertical-align: top;\n",
       "    }\n",
       "\n",
       "    .dataframe thead th {\n",
       "        text-align: right;\n",
       "    }\n",
       "</style>\n",
       "<table border=\"1\" class=\"dataframe\">\n",
       "  <thead>\n",
       "    <tr style=\"text-align: right;\">\n",
       "      <th></th>\n",
       "      <th>user_id</th>\n",
       "      <th>recipe_id</th>\n",
       "      <th>date</th>\n",
       "      <th>rating</th>\n",
       "      <th>review</th>\n",
       "    </tr>\n",
       "  </thead>\n",
       "  <tbody>\n",
       "    <tr>\n",
       "      <th>370476</th>\n",
       "      <td>21752</td>\n",
       "      <td>57993</td>\n",
       "      <td>2003-05-01</td>\n",
       "      <td>5</td>\n",
       "      <td>Last week whole sides of frozen salmon fillet ...</td>\n",
       "    </tr>\n",
       "    <tr>\n",
       "      <th>624300</th>\n",
       "      <td>431813</td>\n",
       "      <td>142201</td>\n",
       "      <td>2007-09-16</td>\n",
       "      <td>5</td>\n",
       "      <td>So simple and so tasty!  I used a yellow capsi...</td>\n",
       "    </tr>\n",
       "    <tr>\n",
       "      <th>187037</th>\n",
       "      <td>400708</td>\n",
       "      <td>252013</td>\n",
       "      <td>2008-01-10</td>\n",
       "      <td>4</td>\n",
       "      <td>Very nice breakfast HH, easy to make and yummy...</td>\n",
       "    </tr>\n",
       "    <tr>\n",
       "      <th>706134</th>\n",
       "      <td>2001852463</td>\n",
       "      <td>404716</td>\n",
       "      <td>2017-12-11</td>\n",
       "      <td>5</td>\n",
       "      <td>These are a favorite for the holidays and so e...</td>\n",
       "    </tr>\n",
       "    <tr>\n",
       "      <th>312179</th>\n",
       "      <td>95810</td>\n",
       "      <td>129396</td>\n",
       "      <td>2008-03-14</td>\n",
       "      <td>5</td>\n",
       "      <td>Excellent soup!  The tomato flavor is just gre...</td>\n",
       "    </tr>\n",
       "  </tbody>\n",
       "</table>\n",
       "</div>"
      ],
      "text/plain": [
       "           user_id  recipe_id        date  rating  \\\n",
       "370476       21752      57993  2003-05-01       5   \n",
       "624300      431813     142201  2007-09-16       5   \n",
       "187037      400708     252013  2008-01-10       4   \n",
       "706134  2001852463     404716  2017-12-11       5   \n",
       "312179       95810     129396  2008-03-14       5   \n",
       "\n",
       "                                                   review  \n",
       "370476  Last week whole sides of frozen salmon fillet ...  \n",
       "624300  So simple and so tasty!  I used a yellow capsi...  \n",
       "187037  Very nice breakfast HH, easy to make and yummy...  \n",
       "706134  These are a favorite for the holidays and so e...  \n",
       "312179  Excellent soup!  The tomato flavor is just gre...  "
      ]
     },
     "execution_count": 31,
     "metadata": {},
     "output_type": "execute_result"
    }
   ],
   "source": [
    "reviews.head()"
   ]
  },
  {
   "cell_type": "code",
   "execution_count": 30,
   "id": "4a71dd30-f5a7-4a14-8daf-1de564f7f426",
   "metadata": {},
   "outputs": [
    {
     "name": "stdout",
     "output_type": "stream",
     "text": [
      "user_id       int64\n",
      "recipe_id     int64\n",
      "date         object\n",
      "rating        int64\n",
      "review       object\n",
      "dtype: object\n",
      "\n",
      "name               object\n",
      "id                  int64\n",
      "minutes             int64\n",
      "contributor_id      int64\n",
      "submitted          object\n",
      "n_steps           float64\n",
      "description        object\n",
      "n_ingredients     float64\n",
      "dtype: object\n",
      "\n"
     ]
    },
    {
     "data": {
      "text/plain": [
       "(None, None)"
      ]
     },
     "execution_count": 30,
     "metadata": {},
     "output_type": "execute_result"
    }
   ],
   "source": [
    "print(f\"{reviews.dtypes}\\n\"), print(f\"{recipes.dtypes}\\n\")"
   ]
  },
  {
   "cell_type": "code",
   "execution_count": 89,
   "id": "32d13b9a-8e0e-4665-804d-0f9006d18e8f",
   "metadata": {},
   "outputs": [
    {
     "name": "stdout",
     "output_type": "stream",
     "text": [
      "256 μs ± 2.8 μs per loop (mean ± std. dev. of 7 runs, 1,000 loops each)\n",
      "258 μs ± 5.24 μs per loop (mean ± std. dev. of 7 runs, 1,000 loops each)\n",
      "2.92 ms ± 7.51 μs per loop (mean ± std. dev. of 7 runs, 100 loops each)\n"
     ]
    }
   ],
   "source": [
    "%timeit recipes[\"name\"] = recipes['name'].astype(\"str\")\n",
    "%timeit recipes[\"description\"] = recipes['description'].astype(\"str\")\n",
    "%timeit recipes[\"submitted\"] = pd.to_datetime(recipes[\"submitted\"])"
   ]
  },
  {
   "cell_type": "code",
   "execution_count": 90,
   "id": "4d3cccb2-2046-4ccd-aba0-856e1f55b9dc",
   "metadata": {},
   "outputs": [
    {
     "name": "stdout",
     "output_type": "stream",
     "text": [
      "2.8 ms ± 34.8 μs per loop (mean ± std. dev. of 7 runs, 100 loops each)\n",
      "2.96 ms ± 13.9 μs per loop (mean ± std. dev. of 7 runs, 100 loops each)\n"
     ]
    }
   ],
   "source": [
    "%timeit reviews[\"review\"] = reviews['review'].astype(\"str\")\n",
    "%timeit reviews[\"date\"] = pd.to_datetime(reviews[\"date\"])"
   ]
  },
  {
   "cell_type": "code",
   "execution_count": 93,
   "id": "df9e9ef1-eb60-4c47-91cf-47ac6b707f7a",
   "metadata": {},
   "outputs": [
    {
     "name": "stdout",
     "output_type": "stream",
     "text": [
      "user_id               int64\n",
      "recipe_id             int64\n",
      "date         datetime64[ns]\n",
      "rating                int64\n",
      "review               object\n",
      "dtype: object\n",
      "\n",
      "name                      object\n",
      "id                         int64\n",
      "minutes                    int64\n",
      "contributor_id             int64\n",
      "submitted         datetime64[ns]\n",
      "n_steps                  float64\n",
      "description               object\n",
      "n_ingredients            float64\n",
      "dtype: object\n",
      "\n"
     ]
    },
    {
     "data": {
      "text/plain": [
       "(None, None)"
      ]
     },
     "execution_count": 93,
     "metadata": {},
     "output_type": "execute_result"
    }
   ],
   "source": [
    "print(f\"{reviews.dtypes}\\n\"), print(f\"{recipes.dtypes}\\n\")"
   ]
  },
  {
   "cell_type": "markdown",
   "id": "3a628943-f6ed-4118-b7d7-f40562f83591",
   "metadata": {},
   "source": [
    "2. Реализуйте несколько вариантов функции подсчета среднего значения столбца rating из таблицы reviews для отзывов, оставленных в 2010 году.\r\n",
    "С использованием метода DataFrame.iterrows и без использования срезов таблицы\r\n",
    "С использованием метода DataFrame.iterrows и с использованием срезов таблицы\r\n",
    "С использованием метода DataFrame.mean\r\n",
    "Проверьте, что результаты работы всех написанных функций корректны и совпадают. Измерьте время выполнения всех вариантов."
   ]
  },
  {
   "cell_type": "code",
   "execution_count": 39,
   "id": "f4f035e1-5ec4-4261-bb09-46f21671afac",
   "metadata": {},
   "outputs": [],
   "source": [
    "def mean_rating_a(reviews):\n",
    "    total = 0\n",
    "    count = 0\n",
    "    for idx, row in reviews.iterrows():\n",
    "        if row['date'].year == 2010:\n",
    "            total += row['rating']\n",
    "            count += 1\n",
    "    return total / count if count else 0"
   ]
  },
  {
   "cell_type": "code",
   "execution_count": 41,
   "id": "54159146-722e-4472-b1fc-82b43526245a",
   "metadata": {},
   "outputs": [],
   "source": [
    "def mean_rating_b(reviews):\n",
    "    reviews_2010 = reviews[reviews['date'].dt.year == 2010]\n",
    "    total = 0\n",
    "    count = 0\n",
    "    for idx, row in reviews_2010.iterrows():\n",
    "        total += row['rating']\n",
    "        count += 1\n",
    "    return total / count if count else 0"
   ]
  },
  {
   "cell_type": "code",
   "execution_count": 43,
   "id": "15c728bd-6750-43d5-9a9d-d436aa4cc5bc",
   "metadata": {},
   "outputs": [],
   "source": [
    "def mean_rating_c(reviews):\n",
    "    return reviews[reviews['date'].dt.year == 2010]['rating'].mean()"
   ]
  },
  {
   "cell_type": "code",
   "execution_count": 45,
   "id": "d87f39f7-74e2-4814-b50a-3ffcd2a4dce2",
   "metadata": {},
   "outputs": [
    {
     "name": "stdout",
     "output_type": "stream",
     "text": [
      "1.38 s ± 7.47 ms per loop (mean ± std. dev. of 7 runs, 1 loop each)\n",
      "133 ms ± 578 μs per loop (mean ± std. dev. of 7 runs, 10 loops each)\n",
      "4.72 ms ± 104 μs per loop (mean ± std. dev. of 7 runs, 100 loops each)\n"
     ]
    }
   ],
   "source": [
    "mean_rating_a(reviews), mean_rating_b(reviews), mean_rating_c(reviews)\n",
    "\n",
    "%timeit mean_rating_a(reviews)\n",
    "%timeit mean_rating_b(reviews)\n",
    "%timeit mean_rating_c(reviews)"
   ]
  },
  {
   "cell_type": "markdown",
   "id": "ebc8e7ed-e318-4297-81c3-b013922774ae",
   "metadata": {},
   "source": [
    "3. Какая из созданных функций выполняется медленнее? Что наиболее сильно влияет на скорость выполнения? Для ответа использовать профайлер line_profiler. Сохраните результаты работы профайлера в отдельную текстовую ячейку и прокомментируйте результаты его работы.\r\n",
    "(*). Сможете ли вы ускорить работу функции 2В?"
   ]
  },
  {
   "cell_type": "code",
   "execution_count": 48,
   "id": "aa856f51-ed15-4347-8ac8-2093aee291e4",
   "metadata": {},
   "outputs": [],
   "source": [
    "#pip install line_profiler"
   ]
  },
  {
   "cell_type": "code",
   "execution_count": 50,
   "id": "1a9bdc12-04f5-45c3-a1c4-644327725c43",
   "metadata": {},
   "outputs": [],
   "source": [
    "%load_ext line_profiler"
   ]
  },
  {
   "cell_type": "code",
   "execution_count": 52,
   "id": "bcd6c69a-83cd-4304-87f3-0b84dca5eb15",
   "metadata": {},
   "outputs": [
    {
     "data": {
      "text/plain": [
       "Timer unit: 1e-09 s\n",
       "\n",
       "Total time: 4.25217 s\n",
       "File: /var/folders/v1/vr6ths610tx3bk4fxvnmy4wh0000gn/T/ipykernel_17069/3056816033.py\n",
       "Function: mean_rating_a at line 1\n",
       "\n",
       "Line #      Hits         Time  Per Hit   % Time  Line Contents\n",
       "==============================================================\n",
       "     1                                           def mean_rating_a(reviews):\n",
       "     2         1       3000.0   3000.0      0.0      total = 0\n",
       "     3         1          0.0      0.0      0.0      count = 0\n",
       "     4    126697 3782979000.0  29858.5     89.0      for idx, row in reviews.iterrows():\n",
       "     5    126696  431792000.0   3408.1     10.2          if row['date'].year == 2010:\n",
       "     6     12094   36278000.0   2999.7      0.9              total += row['rating']\n",
       "     7     12094    1121000.0     92.7      0.0              count += 1\n",
       "     8         1       1000.0   1000.0      0.0      return total / count if count else 0"
      ]
     },
     "metadata": {},
     "output_type": "display_data"
    }
   ],
   "source": [
    "%lprun -f mean_rating_a mean_rating_a(reviews)"
   ]
  },
  {
   "cell_type": "markdown",
   "id": "d1bf4d67-8244-4551-8403-f7a5b35ead2b",
   "metadata": {},
   "source": [
    "**Анализ:** Основное время тратится на итерацию `.iterrows()` и проверку года `row['date'].year == 2010`"
   ]
  },
  {
   "cell_type": "code",
   "execution_count": 55,
   "id": "1b1cc7d8-a2c8-4c38-8f30-4097424daf25",
   "metadata": {},
   "outputs": [
    {
     "data": {
      "text/plain": [
       "Timer unit: 1e-09 s\n",
       "\n",
       "Total time: 0.426339 s\n",
       "File: /var/folders/v1/vr6ths610tx3bk4fxvnmy4wh0000gn/T/ipykernel_17069/538476784.py\n",
       "Function: mean_rating_b at line 1\n",
       "\n",
       "Line #      Hits         Time  Per Hit   % Time  Line Contents\n",
       "==============================================================\n",
       "     1                                           def mean_rating_b(reviews):\n",
       "     2         1   16839000.0    2e+07      3.9      reviews_2010 = reviews[reviews['date'].dt.year == 2010]\n",
       "     3         1          0.0      0.0      0.0      total = 0\n",
       "     4         1          0.0      0.0      0.0      count = 0\n",
       "     5     12095  364498000.0  30136.3     85.5      for idx, row in reviews_2010.iterrows():\n",
       "     6     12094   43867000.0   3627.2     10.3          total += row['rating']\n",
       "     7     12094    1133000.0     93.7      0.3          count += 1\n",
       "     8         1       2000.0   2000.0      0.0      return total / count if count else 0"
      ]
     },
     "metadata": {},
     "output_type": "display_data"
    }
   ],
   "source": [
    "%lprun -f mean_rating_b mean_rating_b(reviews)"
   ]
  },
  {
   "cell_type": "markdown",
   "id": "fdb69598-20f8-4684-847a-3bda55ee6031",
   "metadata": {},
   "source": [
    "**Анализ:** Фильтрация `reviews_2010 = reviews[reviews['date'].dt.year == 2010]` выполняется быстрее предыдущих, так как использует векторизированные операции. Основное время тратится на `.iterrows()` и `total += row['rating']`"
   ]
  },
  {
   "cell_type": "code",
   "execution_count": 58,
   "id": "b5870791-5fc8-43e6-86c2-1af20f0357e8",
   "metadata": {},
   "outputs": [
    {
     "data": {
      "text/plain": [
       "Timer unit: 1e-09 s\n",
       "\n",
       "Total time: 0.018152 s\n",
       "File: /var/folders/v1/vr6ths610tx3bk4fxvnmy4wh0000gn/T/ipykernel_17069/3075400442.py\n",
       "Function: mean_rating_c at line 1\n",
       "\n",
       "Line #      Hits         Time  Per Hit   % Time  Line Contents\n",
       "==============================================================\n",
       "     1                                           def mean_rating_c(reviews):\n",
       "     2         1   18152000.0    2e+07    100.0      return reviews[reviews['date'].dt.year == 2010]['rating'].mean()"
      ]
     },
     "metadata": {},
     "output_type": "display_data"
    }
   ],
   "source": [
    "%lprun -f mean_rating_c mean_rating_c(reviews)"
   ]
  },
  {
   "cell_type": "markdown",
   "id": "668f1568-130f-4caf-ab5a-354c4d63302d",
   "metadata": {},
   "source": [
    "**Анализ:** Весь функционал производится с помощью векторизированных операций, поэтому нет циклов и `iterrows`, которые замедляют время"
   ]
  },
  {
   "cell_type": "markdown",
   "id": "b54c9525-cc0c-4b36-86cc-60a044b07e51",
   "metadata": {},
   "source": [
    "Самой медленной функцией оказалась `mean_rating_a`, а самой быстрой `mean_rating_c`"
   ]
  },
  {
   "cell_type": "markdown",
   "id": "62083c4d-e204-4444-827d-04c3d6c8f7c1",
   "metadata": {},
   "source": [
    "**Оптимизация функции B:**\n",
    "\n",
    "Заменяем `iterrows` на `.itertuples()` - работает быстрее, так как возвращает именованные кортежи"
   ]
  },
  {
   "cell_type": "code",
   "execution_count": 66,
   "id": "f0f87c52-1c40-4057-96b8-97b58d5542d1",
   "metadata": {},
   "outputs": [],
   "source": [
    "def mean_rating_b_optimized(reviews):\n",
    "    reviews_2010 = reviews[reviews['date'].dt.year == 2010]\n",
    "    total = 0\n",
    "    count = 0\n",
    "    for row in reviews_2010.itertuples():\n",
    "        total += row.rating\n",
    "        count += 1\n",
    "    return total / count if count else 0"
   ]
  },
  {
   "cell_type": "code",
   "execution_count": 68,
   "id": "307eb6c4-583f-41ee-9bb4-2503515c2768",
   "metadata": {},
   "outputs": [
    {
     "name": "stdout",
     "output_type": "stream",
     "text": [
      "136 ms ± 1.14 ms per loop (mean ± std. dev. of 7 runs, 10 loops each)\n",
      "14.7 ms ± 187 μs per loop (mean ± std. dev. of 7 runs, 100 loops each)\n"
     ]
    }
   ],
   "source": [
    "%timeit mean_rating_b(reviews)         \n",
    "%timeit mean_rating_b_optimized(reviews)"
   ]
  },
  {
   "cell_type": "markdown",
   "id": "4a176a2f-d1f5-4330-b41b-a6a152d5b752",
   "metadata": {},
   "source": [
    "4. Вам предлагается воспользоваться функцией, которая собирает информацию, сколько отзывов содержат то или иное слово. Измерьте время выполнения этой функции. Сможете ли вы найти узкие места в коде, используя профайлер? Выпишите (словами), что в имеющемся коде реализовано неоптимально. Оптимизируйте функцию и добейтесь значительного прироста в скорости выполнения."
   ]
  },
  {
   "cell_type": "code",
   "execution_count": 96,
   "id": "5df0dea6-e4c6-4852-b728-c131d31430bd",
   "metadata": {},
   "outputs": [],
   "source": [
    "def count_words(reviews):\n",
    "    word_counts = {}\n",
    "    for idx, row in reviews.iterrows():\n",
    "        for word in row['review'].split():\n",
    "            if word not in word_counts:\n",
    "                word_counts[word] = 0\n",
    "            word_counts[word] += 1\n",
    "    return word_counts"
   ]
  },
  {
   "cell_type": "code",
   "execution_count": 98,
   "id": "5500ef66-d06e-48a9-b6ea-bbdfde4c9005",
   "metadata": {},
   "outputs": [
    {
     "data": {
      "text/plain": [
       "Timer unit: 1e-09 s\n",
       "\n",
       "Total time: 6.98474 s\n",
       "File: /var/folders/v1/vr6ths610tx3bk4fxvnmy4wh0000gn/T/ipykernel_17069/3301249280.py\n",
       "Function: count_words at line 1\n",
       "\n",
       "Line #      Hits         Time  Per Hit   % Time  Line Contents\n",
       "==============================================================\n",
       "     1                                           def count_words(reviews):\n",
       "     2         1       2000.0   2000.0      0.0      word_counts = {}\n",
       "     3    126697 3886378000.0  30674.6     55.6      for idx, row in reviews.iterrows():\n",
       "     4   6716583 1288575000.0    191.8     18.4          for word in row['review'].split():\n",
       "     5   6589887  849259000.0    128.9     12.2              if word not in word_counts:\n",
       "     6    164272   43296000.0    263.6      0.6                  word_counts[word] = 0\n",
       "     7   6589887  917224000.0    139.2     13.1              word_counts[word] += 1\n",
       "     8         1       1000.0   1000.0      0.0      return word_counts"
      ]
     },
     "metadata": {},
     "output_type": "display_data"
    }
   ],
   "source": [
    "%lprun -f count_words count_words(reviews)"
   ]
  },
  {
   "cell_type": "code",
   "execution_count": 102,
   "id": "7b033076-0c27-4fb6-85a8-ba865f419556",
   "metadata": {},
   "outputs": [],
   "source": [
    "def count_words_optimized(reviews):\n",
    "    all_words = []\n",
    "    for review in reviews['review']:\n",
    "        all_words.extend(review.split())\n",
    "    return Counter(all_words)"
   ]
  },
  {
   "cell_type": "code",
   "execution_count": 104,
   "id": "3a9f3572-f73c-41c9-b963-b723d7964547",
   "metadata": {},
   "outputs": [
    {
     "data": {
      "text/plain": [
       "Timer unit: 1e-09 s\n",
       "\n",
       "Total time: 0.695688 s\n",
       "File: /var/folders/v1/vr6ths610tx3bk4fxvnmy4wh0000gn/T/ipykernel_17069/2534330936.py\n",
       "Function: count_words_optimized at line 1\n",
       "\n",
       "Line #      Hits         Time  Per Hit   % Time  Line Contents\n",
       "==============================================================\n",
       "     1                                           def count_words_optimized(reviews):\n",
       "     2         1       4000.0   4000.0      0.0      all_words = []\n",
       "     3    126697   18644000.0    147.2      2.7      for review in reviews['review']:\n",
       "     4    126696  252064000.0   1989.5     36.2          all_words.extend(review.split())\n",
       "     5         1  424976000.0    4e+08     61.1      return Counter(all_words)"
      ]
     },
     "metadata": {},
     "output_type": "display_data"
    }
   ],
   "source": [
    "%lprun -f count_words_optimized count_words_optimized(reviews)"
   ]
  },
  {
   "cell_type": "code",
   "execution_count": 106,
   "id": "9902aa13-6723-450c-bf04-f8b5f2156061",
   "metadata": {},
   "outputs": [
    {
     "name": "stdout",
     "output_type": "stream",
     "text": [
      "2.18 s ± 15.6 ms per loop (mean ± std. dev. of 7 runs, 1 loop each)\n",
      "656 ms ± 1.9 ms per loop (mean ± std. dev. of 7 runs, 1 loop each)\n"
     ]
    }
   ],
   "source": [
    "%timeit count_words(reviews)      \n",
    "%timeit count_words_optimized(reviews)"
   ]
  },
  {
   "cell_type": "markdown",
   "id": "256f3f77-67d9-4872-bbfc-b2dabcf7335f",
   "metadata": {},
   "source": [
    "В исходной функции:\n",
    "- `iterrows()` возвращает каждую строку как `pandas.Series`, что очень медленно\n",
    "- Внутри цикла происходит многократный доступ к `row['review']`, что также замедляет выполнение\n",
    "- Двойной цикл, который увеличивает время выполнения функции\n",
    "\n",
    "В оптимизированной функции: \n",
    "- `' '.join(...).split()` вместо вложенных циклов\n",
    "- `collections.Counter` работает быстрее чем `dict()` в `python`"
   ]
  },
  {
   "cell_type": "markdown",
   "id": "88df6294-cfde-4a2b-9530-1d89cf9995bc",
   "metadata": {},
   "source": [
    "5. Напишите несколько версий функции MAPE (см. MAPE) для расчета среднего процентного отклонения значения рейтинга для отзыва от среднего значения рейтинга для этого отзыва.\r\n",
    "Без использования массивов numpy и numba\r\n",
    "Без использования массивов numpy, но с использованием numba\r\n",
    "С использованием массивов numpy, но без использования numba\r\n",
    "C использованием массивов numpy и numba\r\n",
    "Измерьте время выполнения каждой из реализаций.\r\n",
    "\r\n",
    "Замечание: удалите из выборки отзывы с нулевым рейтингом."
   ]
  },
  {
   "cell_type": "markdown",
   "id": "dfe381f9-0395-4d1b-9292-127f4c6b01d8",
   "metadata": {},
   "source": [
    "$$MAPE = \\frac{1}{n} \\sum_{t=1}^{n} |\\frac{A_t - F_t}{A_t}| * 100$$\n",
    "\n",
    "$A_t$ - actual value <br>\n",
    "$F_t$ - forecast value"
   ]
  },
  {
   "cell_type": "code",
   "execution_count": 33,
   "id": "d41f5fca-6dd2-4e9e-835c-9ca1a48114cd",
   "metadata": {},
   "outputs": [],
   "source": [
    "filter_reviews = reviews[reviews['rating'] != 0]\n",
    "mean_rtg = filter_reviews.rating.mean()\n",
    "ratings = filter_reviews['rating'].values"
   ]
  },
  {
   "cell_type": "code",
   "execution_count": 35,
   "id": "05b87413-e30b-48ed-83da-6fbf47972028",
   "metadata": {},
   "outputs": [],
   "source": [
    "def mape_1(reviews, mean_rating):\n",
    "    errors = []\n",
    "    for idx, row in reviews.iterrows():\n",
    "        errors.append(abs(row['rating'] - mean_rating) / row['rating'])\n",
    "    return sum(errors) / len(errors) * 100"
   ]
  },
  {
   "cell_type": "code",
   "execution_count": 37,
   "id": "0a6dafb8-c40f-492d-aba9-392c2d1920e8",
   "metadata": {},
   "outputs": [],
   "source": [
    "@jit(nopython=True)\n",
    "def mape_2(ratings, mean_rating):\n",
    "    errors = np.empty(len(ratings))\n",
    "    for i in range(len(ratings)):\n",
    "        errors[i] = abs(ratings[i] - mean_rating) / ratings[i]\n",
    "    return np.mean(errors) * 100"
   ]
  },
  {
   "cell_type": "code",
   "execution_count": 39,
   "id": "939a222a-da50-4f52-aada-e35848e19aa1",
   "metadata": {},
   "outputs": [],
   "source": [
    "def mape_3(ratings, mean_rating):\n",
    "    return np.mean(np.abs(ratings - mean_rating) / ratings) * 100"
   ]
  },
  {
   "cell_type": "code",
   "execution_count": 41,
   "id": "93382399-41a1-4ee1-b391-011c64b9383c",
   "metadata": {},
   "outputs": [],
   "source": [
    "@jit(nopython=True)\n",
    "def mape_4(ratings, mean_rating):\n",
    "    return np.mean(np.abs(ratings - mean_rating) / ratings) * 100"
   ]
  },
  {
   "cell_type": "code",
   "execution_count": 57,
   "id": "49710f99-2f9c-491d-a99f-c7c314e17c4d",
   "metadata": {},
   "outputs": [
    {
     "name": "stdout",
     "output_type": "stream",
     "text": [
      "1.4 s ± 9.85 ms per loop (mean ± std. dev. of 7 runs, 1 loop each)\n",
      "165 μs ± 1.25 μs per loop (mean ± std. dev. of 7 runs, 10,000 loops each)\n",
      "134 μs ± 3.04 μs per loop (mean ± std. dev. of 7 runs, 10,000 loops each)\n",
      "131 μs ± 163 ns per loop (mean ± std. dev. of 7 runs, 10,000 loops each)\n"
     ]
    }
   ],
   "source": [
    "%timeit mape_1(filter_reviews, mean_rtg)\n",
    "%timeit mape_2(ratings, mean_rtg)\n",
    "%timeit mape_3(ratings, mean_rtg)\n",
    "%timeit mape_4(ratings, mean_rtg)"
   ]
  },
  {
   "cell_type": "code",
   "execution_count": 59,
   "id": "ffd9e5af-1db1-4b54-968a-c51ac73941c0",
   "metadata": {},
   "outputs": [
    {
     "data": {
      "text/plain": [
       "(16.26666333876162, 16.26666333876162, 16.266663338799717, 16.26666333876162)"
      ]
     },
     "execution_count": 59,
     "metadata": {},
     "output_type": "execute_result"
    }
   ],
   "source": [
    "mape_1(filter_reviews, mean_rtg), mape_2(ratings, mean_rtg), mape_3(ratings, mean_rtg), mape_4(ratings, mean_rtg)"
   ]
  }
 ],
 "metadata": {
  "kernelspec": {
   "display_name": "Python 3 (ipykernel)",
   "language": "python",
   "name": "python3"
  },
  "language_info": {
   "codemirror_mode": {
    "name": "ipython",
    "version": 3
   },
   "file_extension": ".py",
   "mimetype": "text/x-python",
   "name": "python",
   "nbconvert_exporter": "python",
   "pygments_lexer": "ipython3",
   "version": "3.12.4"
  }
 },
 "nbformat": 4,
 "nbformat_minor": 5
}
