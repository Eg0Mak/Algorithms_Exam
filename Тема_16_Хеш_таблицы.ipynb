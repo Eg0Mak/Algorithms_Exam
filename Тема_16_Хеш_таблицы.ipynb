{
 "cells": [
  {
   "cell_type": "markdown",
   "metadata": {
    "id": "JEAwM7pYquk9"
   },
   "source": [
    "## <font color='Teal'>**Тема 16. Хеш-таблицы**"
   ]
  },
  {
   "cell_type": "markdown",
   "metadata": {
    "id": "gtWdOpK9ESc8"
   },
   "source": [
    "Хеш-таблицы представляют собой ассоциативные структуры данных, позволяющие эффективно сопоставлять ключи и значения. Основная идея заключается в использовании хеш-функции, преобразующей ключ в индекс массива, где и размещается соответствующее значение. Такая организация обеспечивает высокую скорость выполнения основных операций, что делает хеш-таблицы незаменимыми в задачах, требующих быстрого доступа к данным.\n",
    "\n",
    "В рамках темы последовательно рассматриваются основные механизмы устройства хеш-таблиц: построение и выбор хеш-функций, типы коллизий и способы их разрешения, особенности загрузки таблицы и влияния коэффициента заполнения. Анализируются методы цепочек и открытой адресации, включая линейное, квадратичное и двойное пробирование, а также обсуждается идея универсального хеширования. Примеры на Python иллюстрируют не только принципы работы, но и практические аспекты реализации, дополненные визуализацией и анализом поведения таблицы в различных сценариях."
   ]
  },
  {
   "cell_type": "markdown",
   "metadata": {
    "id": "Ki6vLBPh-A8u"
   },
   "source": [
    "### <font color='Teal'>Ассоциативный массив. Таблица с прямой адресацией"
   ]
  },
  {
   "cell_type": "markdown",
   "metadata": {
    "id": "IeNT6yGGlJAc"
   },
   "source": [
    "**Ассоциативный массив** представляет собой структуру, в которой каждому уникальному ключу сопоставляется определённое значение, образующее с ним пару вида «ключ–значение». Такой подход позволяет обращаться к данным не по позиционному индексу, как в обычном списке, а по ключу, который может быть строкой, числом, кортежем и даже объектом, если он допускает <u>хеширование</u>. Подобная структура используется в языке Python под именем `dict` и является универсальным средством хранения разреженных или именованных данных, где необходимость в последовательном доступе по индексам заменяется обращением по смысловым меткам."
   ]
  },
  {
   "cell_type": "markdown",
   "metadata": {
    "id": "8ap3ozszlV_T"
   },
   "source": [
    "Ключевая особенность словаря в Python заключается в том, что операции вставки, поиска и удаления осуществляются за амортизированное постоянное время. Это становится возможным благодаря внутренней реализации словаря в виде хеш-таблицы. Каждое значение ключа преобразуется при помощи хеш-функции в индекс, по которому осуществляется доступ к ячейке памяти. Если возникает коллизия, то есть несколько различных ключей имеют одинаковое хеш-значение, применяется специальная стратегия разрешения, позволяющая корректно различать и обрабатывать такие случаи."
   ]
  },
  {
   "cell_type": "markdown",
   "metadata": {
    "id": "8IMmxmtYmPlv"
   },
   "source": [
    "В языке Python тип `dict` поддерживает весь необходимый набор операций, включая создание пустого словаря, добавление и извлечение элементов, проверку наличия ключа, удаление по ключу, а также получение всех ключей или значений. Пример базового использования словаря:"
   ]
  },
  {
   "cell_type": "code",
   "execution_count": null,
   "metadata": {
    "id": "txKUtz6nmi9k"
   },
   "outputs": [],
   "source": [
    "d1 = dict()"
   ]
  },
  {
   "cell_type": "code",
   "execution_count": null,
   "metadata": {
    "id": "qpZ6FFknmky5"
   },
   "outputs": [],
   "source": [
    "d1['abc'] = 79"
   ]
  },
  {
   "cell_type": "code",
   "execution_count": null,
   "metadata": {
    "colab": {
     "base_uri": "https://localhost:8080/"
    },
    "id": "VrKc1icBmpAR",
    "outputId": "4010280a-143c-49bb-b5ce-4770f1895e24"
   },
   "outputs": [
    {
     "name": "stdout",
     "output_type": "stream",
     "text": [
      "79\n"
     ]
    }
   ],
   "source": [
    "v = d1['abc']\n",
    "print(v)"
   ]
  },
  {
   "cell_type": "code",
   "execution_count": null,
   "metadata": {
    "colab": {
     "base_uri": "https://localhost:8080/"
    },
    "id": "JAyQk9_RmtcW",
    "outputId": "372fdca7-68d0-4d6b-e628-5f32bf80963f"
   },
   "outputs": [
    {
     "name": "stdout",
     "output_type": "stream",
     "text": [
      "False\n"
     ]
    }
   ],
   "source": [
    "b = 'xyz' in d1\n",
    "print(b)"
   ]
  },
  {
   "cell_type": "code",
   "execution_count": null,
   "metadata": {
    "colab": {
     "base_uri": "https://localhost:8080/"
    },
    "id": "QJhwvnwSmw9Y",
    "outputId": "34407134-1c6c-40ff-803d-dea7b21f4c34"
   },
   "outputs": [
    {
     "name": "stdout",
     "output_type": "stream",
     "text": [
      "['abc']\n"
     ]
    }
   ],
   "source": [
    "it = iter(d1)\n",
    "print(list(it))"
   ]
  },
  {
   "cell_type": "code",
   "execution_count": null,
   "metadata": {
    "colab": {
     "base_uri": "https://localhost:8080/"
    },
    "id": "jAaQ2c7sm0Me",
    "outputId": "cd75791d-a18b-4e10-96f9-9b82c6e067e6"
   },
   "outputs": [
    {
     "name": "stdout",
     "output_type": "stream",
     "text": [
      "1\n"
     ]
    }
   ],
   "source": [
    "l = len(d1)\n",
    "print(l)"
   ]
  },
  {
   "cell_type": "code",
   "execution_count": null,
   "metadata": {
    "id": "tzH_TueKm2Se"
   },
   "outputs": [],
   "source": [
    "del d1['abc']"
   ]
  },
  {
   "cell_type": "markdown",
   "metadata": {
    "id": "KCipU0AUnBA2"
   },
   "source": [
    "Этот пример демонстрирует основные операции: создание словаря, добавление пары `'abc': 79`, извлечение значения по ключу, проверка присутствия ключа `'xyz'` (в данном случае возвращается логическое значение `False`), получение списка всех ключей и определение размера структуры. В завершение выполняется удаление элемента по ключу."
   ]
  },
  {
   "cell_type": "markdown",
   "metadata": {
    "id": "kYIeAfODnMoF"
   },
   "source": [
    "Такая последовательность показывает, насколько удобен и гибок интерфейс словаря. Однако за простотой операций скрывается сложная внутренняя реализация, связанная с хешированием и размещением элементов в памяти. Чтобы перейти к пониманию этой реализации, важно рассмотреть подходы к организации таблиц с прямой адресацией и хеш-таблиц, которые обеспечивают базовую структуру для ассоциативных массивов."
   ]
  },
  {
   "cell_type": "markdown",
   "metadata": {
    "id": "7D7vbDwqosdX"
   },
   "source": [
    "Показательный способ хранения пар ключ–значение — таблица с прямой адресацией. Такая структура может использоваться в ситуациях, когда количество допустимых ключей ограничено, и каждому ключу можно сопоставить отдельную ячейку в массиве. В этом случае обращение по ключу сводится к индексированию массива, что обеспечивает доступ к элементу за постоянное время.\n",
    "\n",
    "Допустим, требуется хранить значения, индексируемые ключами из диапазона $\\{0, 1, 2, \\ldots, m-1\\}$, где $m$ — некоторое небольшое целое число. В этом случае можно выделить массив длины $m$, где каждый элемент напрямую соответствует одному значению ключа. Преимущество такого подхода — в моментальном обращении по индексу, без поиска или перебора. Однако он требует, чтобы все ключи можно было интерпретировать как целые числа, подходящие в качестве индексов массива."
   ]
  },
  {
   "cell_type": "markdown",
   "metadata": {
    "id": "noDZCBrJxlO8"
   },
   "source": [
    "Чтобы расширить этот подход на произвольные объекты, например, строки, необходимо ввести функцию отображения, то есть преобразователь ключа в допустимый индекс. Рассмотрим простую функцию `to_key`, преобразующую символ в число по его позиции в английском алфавите:"
   ]
  },
  {
   "cell_type": "code",
   "execution_count": null,
   "metadata": {
    "id": "eRfk2leUxtup"
   },
   "outputs": [],
   "source": [
    "def to_key(s=None):\n",
    "    if s is None:\n",
    "        s = 'z'\n",
    "    return ord(s) - ord('a')"
   ]
  },
  {
   "cell_type": "markdown",
   "metadata": {
    "id": "zIW6EOrbxxZS"
   },
   "source": [
    "После выполнения следующих вызовов функции будут выведены значения, соответствующие индексам символов:"
   ]
  },
  {
   "cell_type": "code",
   "execution_count": null,
   "metadata": {
    "colab": {
     "base_uri": "https://localhost:8080/"
    },
    "id": "SNu4gYpbxwwr",
    "outputId": "a028df1d-117f-4998-833e-a151765144a8"
   },
   "outputs": [
    {
     "data": {
      "text/plain": [
       "0"
      ]
     },
     "execution_count": 9,
     "metadata": {},
     "output_type": "execute_result"
    }
   ],
   "source": [
    "to_key('a')"
   ]
  },
  {
   "cell_type": "code",
   "execution_count": null,
   "metadata": {
    "colab": {
     "base_uri": "https://localhost:8080/"
    },
    "id": "LQJ-prLMx4sB",
    "outputId": "ffd12d89-da4d-4ed5-cf74-fafefaefe817"
   },
   "outputs": [
    {
     "data": {
      "text/plain": [
       "2"
      ]
     },
     "execution_count": 10,
     "metadata": {},
     "output_type": "execute_result"
    }
   ],
   "source": [
    "to_key('c')"
   ]
  },
  {
   "cell_type": "code",
   "execution_count": null,
   "metadata": {
    "colab": {
     "base_uri": "https://localhost:8080/"
    },
    "id": "Otng6sIzx6iR",
    "outputId": "6b505f9a-69c7-4fba-c414-5495a1ed2cae"
   },
   "outputs": [
    {
     "data": {
      "text/plain": [
       "25"
      ]
     },
     "execution_count": 11,
     "metadata": {},
     "output_type": "execute_result"
    }
   ],
   "source": [
    "to_key()"
   ]
  },
  {
   "cell_type": "markdown",
   "metadata": {
    "id": "xqlZpU86x83h"
   },
   "source": [
    "Если же ключи представлены не одиночными символами, а последовательностями символов, то описанной выше функции недостаточно. В этом случае требуется иное преобразование, позволяющее каждой строке сопоставить уникальное числовое значение. Одним из подходов является использование позиционной системы счисления: каждый символ строки трактуется как цифра в системе с основанием 26, соответствующей количеству допустимых символов алфавита. Функция, реализующая такое отображение:"
   ]
  },
  {
   "cell_type": "code",
   "execution_count": null,
   "metadata": {
    "id": "kc-E3WsfyJ6c"
   },
   "outputs": [],
   "source": [
    "def seq_to_key(seq):\n",
    "    res = 0\n",
    "    n = to_key()\n",
    "    for i, el in enumerate(seq):\n",
    "        assert 0 <= to_key(el) <= n\n",
    "        res += to_key(el) * n ** i\n",
    "    return res"
   ]
  },
  {
   "cell_type": "markdown",
   "metadata": {
    "id": "6SC7f4-WyN37"
   },
   "source": [
    "Это определение позволяет рассматривать строку как число в позиционной системе счисления с основанием, равным количеству допустимых символов, в данном случае $n = 26$."
   ]
  },
  {
   "cell_type": "code",
   "execution_count": null,
   "metadata": {
    "colab": {
     "base_uri": "https://localhost:8080/"
    },
    "id": "ILwLuhdByO3Q",
    "outputId": "caa928f2-2286-4a08-9732-1903e4d4be68"
   },
   "outputs": [
    {
     "data": {
      "text/plain": [
       "0"
      ]
     },
     "execution_count": 31,
     "metadata": {},
     "output_type": "execute_result"
    }
   ],
   "source": [
    "seq_to_key('a')"
   ]
  },
  {
   "cell_type": "code",
   "execution_count": null,
   "metadata": {
    "colab": {
     "base_uri": "https://localhost:8080/"
    },
    "id": "YPoePMheyQzj",
    "outputId": "c59518fa-f493-4ab7-fa64-ebbacfca9469"
   },
   "outputs": [
    {
     "data": {
      "text/plain": [
       "25"
      ]
     },
     "execution_count": 32,
     "metadata": {},
     "output_type": "execute_result"
    }
   ],
   "source": [
    "seq_to_key('z')"
   ]
  },
  {
   "cell_type": "code",
   "execution_count": null,
   "metadata": {
    "colab": {
     "base_uri": "https://localhost:8080/"
    },
    "id": "AAmw0Jv1yWLL",
    "outputId": "b80666e5-117e-4216-c941-ea319b8baed0"
   },
   "outputs": [
    {
     "data": {
      "text/plain": [
       "26"
      ]
     },
     "execution_count": 33,
     "metadata": {},
     "output_type": "execute_result"
    }
   ],
   "source": [
    "seq_to_key('bb')"
   ]
  },
  {
   "cell_type": "code",
   "execution_count": null,
   "metadata": {
    "colab": {
     "base_uri": "https://localhost:8080/"
    },
    "id": "N-A1Qdf5yrWI",
    "outputId": "252cb199-fa05-4a42-9aef-bff3a05758f2"
   },
   "outputs": [
    {
     "data": {
      "text/plain": [
       "1275"
      ]
     },
     "execution_count": 34,
     "metadata": {},
     "output_type": "execute_result"
    }
   ],
   "source": [
    "seq_to_key('abc')"
   ]
  },
  {
   "cell_type": "code",
   "execution_count": null,
   "metadata": {
    "colab": {
     "base_uri": "https://localhost:8080/"
    },
    "id": "ofjkyrrTyuOU",
    "outputId": "ef8c121c-9431-4603-ca68-b8a5cef7b4e7"
   },
   "outputs": [
    {
     "data": {
      "text/plain": [
       "0"
      ]
     },
     "execution_count": 35,
     "metadata": {},
     "output_type": "execute_result"
    }
   ],
   "source": [
    "seq_to_key('aa') # проблема!"
   ]
  },
  {
   "cell_type": "markdown",
   "metadata": {
    "id": "KXwsv7g9yYsC"
   },
   "source": [
    "Такое отображение не является однозначным: строка 'aa' получает тот же числовой код, что и 'a', поскольку ведущие нули не влияют на итоговое значение. В условиях прямой адресации и хеширования это недопустимо, так как приводит к перезаписи значений и нарушению целостности структуры.\n",
    "\n",
    "Чтобы устранить эту проблему, функция `to_key` изменяется: теперь она возвращает не значение от `0` до `25`, а от `1` до `26`. Это позволяет избежать нулей и гарантирует, что, например, `'aa'` и `'a'` будут кодироваться по-разному:"
   ]
  },
  {
   "cell_type": "code",
   "execution_count": null,
   "metadata": {
    "id": "UkiMVR2Hyl5j"
   },
   "outputs": [],
   "source": [
    "def to_key(s=None):\n",
    "    if s is None:\n",
    "        s = 'z'\n",
    "    return ord(s) - ord('a') + 1"
   ]
  },
  {
   "cell_type": "markdown",
   "metadata": {
    "id": "wql5T-PIynbS"
   },
   "source": [
    "После этой корректировки становится возможным различать строки, даже если они содержат ведущие символы `'a'`. Попробуем вызвать функцию `seq_to_key` с обновлённой версией `to_key` для разных строк:"
   ]
  },
  {
   "cell_type": "code",
   "execution_count": null,
   "metadata": {
    "colab": {
     "base_uri": "https://localhost:8080/"
    },
    "id": "U6SsMpkq4yw9",
    "outputId": "eba59168-482f-4503-de2d-0872228742e5"
   },
   "outputs": [
    {
     "data": {
      "text/plain": [
       "[0, 1, 26, 27, 53, 702, 703]"
      ]
     },
     "execution_count": 38,
     "metadata": {},
     "output_type": "execute_result"
    }
   ],
   "source": [
    "[seq_to_key(x) for x in ['', 'a', 'z', 'aa', 'ab', 'zz', 'aaa']]"
   ]
  },
  {
   "cell_type": "markdown",
   "metadata": {
    "id": "LBh3HX4l4uj9"
   },
   "source": [
    "В результате каждая строка получает уникальное положительное числовое представление. Такое отображение исключает коллизии между строками различной длины и содержимого, включая те, которые ранее приводили к одинаковому значению, например, `'a'` и `'aa'`. Это обеспечивает корректное поведение при использовании функции в качестве преобразователя ключей. Подобный подход полезен, когда пространство ключей можно жёстко ограничить и контролировать. Это характерно, например, для систем, работающих с короткими идентификаторами фиксированного формата, таблиц переходов в конечных автоматах или в задачах, где все допустимые строки известны заранее и их число сравнительно невелико."
   ]
  },
  {
   "cell_type": "markdown",
   "metadata": {
    "id": "flEMDz-DUEBL"
   },
   "source": [
    "Рассмотрим реализацию ассоциативного массива, в котором в качестве ключей используются строки фиксированной длины, составленные из латинских букв от `'a'` до `'z'`. Для этого создаётся структура `DirectStrTable`, позволяющая выполнять прямое отображение строк в индексы массива и обратно, обеспечивая тем самым эффективное хранение и быстрый доступ к значениям по строковым ключам.\n",
    "\n",
    "```python\n",
    "class DirectStrTable:\n",
    "    def __init__(self, str_len):\n",
    "        self._str_len = str_len\n",
    "        self._n = self._to_key()\n",
    "        self._none = object()\n",
    "        total = 0\n",
    "        for i in range(self._str_len + 1):\n",
    "            total *= self._n\n",
    "            total += 1\n",
    "        self._table = [self._none] * total\n",
    "        self._len = 0\n",
    "```\n",
    "\n",
    "Конструктор принимает один аргумент — максимальную длину строки, которая может использоваться в качестве ключа. Внутри конструктора вычисляется общее количество возможных строк (с учётом всех длин от 0 до `str_len`) и создаётся список нужной длины. Все ячейки инициализируются специальным значением `_none`, служащим индикатором пустоты."
   ]
  },
  {
   "cell_type": "markdown",
   "metadata": {
    "id": "ciTTzIbEUP_n"
   },
   "source": [
    "```python\n",
    "    def _to_key(self, s=None):\n",
    "        if s is None:\n",
    "            s = 'z'\n",
    "        return ord(s) - ord('a') + 1\n",
    "\n",
    "    def _from_key(self, k):\n",
    "        return chr(k + ord('a') - 1)\n",
    "```\n",
    "\n",
    "Метод `_to_key` преобразует символ в число от `1` до `26`, соответствующее его позиции в алфавите. Метод `_from_key` выполняет обратное преобразование, превращая число обратно в символ."
   ]
  },
  {
   "cell_type": "markdown",
   "metadata": {
    "id": "1cH8uF-_UXpq"
   },
   "source": [
    "```python\n",
    "    def _str_to_key(self, seq):\n",
    "        res = 0\n",
    "        assert len(seq) <= self._str_len\n",
    "        for i, el in enumerate(seq):\n",
    "            assert 0 < self._to_key(el) <= self._n\n",
    "            res += self._to_key(el) * self._n ** i\n",
    "        return res\n",
    "```\n",
    "\n",
    "Метод `_str_to_key` отображает строку в уникальный числовой индекс. Он работает аналогично системе счисления с основанием `n`, где `n` — количество допустимых символов. Каждый символ рассматривается как цифра, и итоговое значение формируется по позиционной формуле. Таким образом, каждая строка получает собственный ключ в пределах допустимого диапазона."
   ]
  },
  {
   "cell_type": "markdown",
   "metadata": {
    "id": "2vo3w0dcUgnj"
   },
   "source": [
    "```python\n",
    "    def _key_to_str(self, k):\n",
    "        s = ''\n",
    "        while k > 0:\n",
    "            k, m = divmod(k, self._n)\n",
    "            if m == 0:\n",
    "                s += self._from_key(self._n)\n",
    "                k -= 1\n",
    "            else:\n",
    "                s += self._from_key(m)\n",
    "        return s\n",
    "```\n",
    "\n",
    "Метод `_key_to_str` позволяет восстановить строку по её числовому представлению. Он реализует обратное преобразование, извлекая символы из индекса в соответствии с основанием `n`."
   ]
  },
  {
   "cell_type": "markdown",
   "metadata": {
    "id": "Uf_ratwPUq3S"
   },
   "source": [
    "Следующие методы реализуют интерфейс словаря, используя описанное выше прямое отображение строк в индексы:\n",
    "\n",
    "```python\n",
    "    def __len__(self):\n",
    "        return self._len\n",
    "\n",
    "    def __getitem__(self, str_key):\n",
    "        k = self._str_to_key(str_key)\n",
    "        if self._table[k] is self._none:\n",
    "            raise KeyError(f'Key Error: {repr(str_key)}')\n",
    "        else:\n",
    "            return self._table[k]\n",
    "\n",
    "    def __contains__(self, str_key):\n",
    "        k = self._str_to_key(str_key)\n",
    "        return self._table[k] is not self._none\n",
    "```\n",
    "\n",
    "Методы `__len__`, `__getitem__` и `__contains__` реализуют стандартные операции: получение количества элементов, извлечение значения по ключу и проверку на наличие ключа в таблице. При отсутствии значения в соответствующей ячейке возбуждается исключение `KeyError`."
   ]
  },
  {
   "cell_type": "markdown",
   "metadata": {
    "id": "hAHU3gKaU1A3"
   },
   "source": [
    "```python\n",
    "    def __setitem__(self, str_key, val):\n",
    "        k = self._str_to_key(str_key)\n",
    "        if self._table[k] is self._none:\n",
    "            self._table[k] = val\n",
    "            self._len += 1\n",
    "        else:\n",
    "            self._table[k] = val\n",
    "\n",
    "    def __delitem__(self, str_key):\n",
    "        k = self._str_to_key(str_key)\n",
    "        if self._table[k] is self._none:\n",
    "            raise KeyError(f'Key Error: {repr(str_key)}')\n",
    "        else:\n",
    "            self._table[k] = self._none\n",
    "            self._len -= 1\n",
    "```\n",
    "\n",
    "Методы `__setitem__` и `__delitem__` обеспечивают вставку и удаление значений. Если ключ ранее не использовался, то длина таблицы увеличивается. Удаление сбрасывает значение в `_none` и уменьшает счётчик."
   ]
  },
  {
   "cell_type": "markdown",
   "metadata": {
    "id": "8XO9tj1IVB9R"
   },
   "source": [
    "```python\n",
    "    def _raw_iter(self):\n",
    "        for rk, val in enumerate(self._table):\n",
    "            if val is not self._none:\n",
    "                yield rk, val\n",
    "\n",
    "    def __iter__(self):\n",
    "        for rk, val in self._raw_iter():\n",
    "            yield self._key_to_str(rk)\n",
    "\n",
    "    def items(self):\n",
    "        for rk, val in self._raw_iter():\n",
    "            yield self._key_to_str(rk), val\n",
    "\n",
    "    def values(self):\n",
    "        for val in self._table:\n",
    "            if val is not self._none:\n",
    "                yield val\n",
    "```\n",
    "\n",
    "Методы `__iter__`, `items` и `values` предоставляют удобные способы обхода таблицы: по ключам, по парам ключ–значение и по значениям. Используется внутренний генератор `_raw_iter`, перебирающий все непустые элементы таблицы."
   ]
  },
  {
   "cell_type": "markdown",
   "metadata": {
    "id": "6oyNvODfVHgY"
   },
   "source": [
    "```python\n",
    "    def stat(self):\n",
    "        return (f'Хранится элементов: {self._len}\\n'\n",
    "                f'Размер таблицы: {len(self._table)}\\n'\n",
    "                f'Доля используемых элементов таблицы: '\n",
    "                f'{self._len / len(self._table):.5f}')\n",
    "```\n",
    "\n",
    "Метод `stat` выводит краткую статистику о состоянии таблицы: общее число сохранённых элементов, полный размер массива и долю занятых ячеек. Это позволяет оценить эффективность распределения данных и при необходимости скорректировать параметры хранения."
   ]
  },
  {
   "cell_type": "markdown",
   "metadata": {
    "id": "FHxxQIvJVlOq"
   },
   "source": [
    "Полный код класса `DirectStrTable`, реализующего прямую адресацию строк фиксированной длины, приведён ниже. Этот фрагмент демонстрирует все аспекты работы: преобразование строк в числовые ключи и обратно, хранение данных в массиве, доступ по ключу, итерацию и получение статистики."
   ]
  },
  {
   "cell_type": "code",
   "execution_count": null,
   "metadata": {
    "id": "TZsopgOaVxUW"
   },
   "outputs": [],
   "source": [
    "class DirectStrTable:\n",
    "    def __init__(self, str_len):\n",
    "        self._str_len = str_len\n",
    "        self._n = self._to_key()\n",
    "        self._none = object()\n",
    "        total = 0\n",
    "        for i in range(self._str_len + 1):\n",
    "            total *= self._n\n",
    "            total += 1\n",
    "        self._table = [self._none] * total\n",
    "        self._len = 0\n",
    "\n",
    "    def _to_key(self, s=None):\n",
    "        if s is None:\n",
    "            s = 'z'\n",
    "        return ord(s) - ord('a') + 1\n",
    "\n",
    "    def _from_key(self, k):\n",
    "        return chr(k + ord('a') - 1)\n",
    "\n",
    "    def _str_to_key(self, seq):\n",
    "        res = 0\n",
    "        assert len(seq) <= self._str_len\n",
    "        for i, el in enumerate(seq):\n",
    "            assert 0 < self._to_key(el) <= self._n\n",
    "            res += self._to_key(el) * self._n ** i\n",
    "        return res\n",
    "\n",
    "    def _key_to_str(self, k):\n",
    "        s = ''\n",
    "        while k > 0:\n",
    "            k, m = divmod(k, self._n)\n",
    "            if m == 0:\n",
    "                s += self._from_key(self._n)\n",
    "                k -= 1\n",
    "            else:\n",
    "                s += self._from_key(m)\n",
    "        return s\n",
    "\n",
    "    def __len__(self):\n",
    "        return self._len\n",
    "\n",
    "    def __getitem__(self, str_key):\n",
    "        k = self._str_to_key(str_key)\n",
    "        if self._table[k] is self._none:\n",
    "            raise KeyError(f'Key Error: {repr(str_key)}')\n",
    "        else:\n",
    "            return self._table[k]\n",
    "\n",
    "    def __contains__(self, str_key):\n",
    "        k = self._str_to_key(str_key)\n",
    "        if self._table[k] is self._none:\n",
    "            return False\n",
    "        else:\n",
    "            return True\n",
    "\n",
    "    def __setitem__(self, str_key, val):\n",
    "        k = self._str_to_key(str_key)\n",
    "        if self._table[k] is self._none:\n",
    "            self._table[k] = val\n",
    "            self._len += 1\n",
    "        else:\n",
    "            self._table[k] = val\n",
    "\n",
    "    def __delitem__(self, str_key):\n",
    "        k = self._str_to_key(str_key)\n",
    "        if self._table[k] is self._none:\n",
    "            raise KeyError(f'Key Error: {repr(str_key)}')\n",
    "        else:\n",
    "            self._table[k] = self._none\n",
    "            self._len -= 1\n",
    "\n",
    "    def _raw_iter(self):\n",
    "        for rk, val in enumerate(self._table):\n",
    "            if val is not self._none:\n",
    "                yield rk, val\n",
    "\n",
    "    def __iter__(self):\n",
    "        for rk, val in self._raw_iter():\n",
    "            yield self._key_to_str(rk)\n",
    "\n",
    "    def items(self):\n",
    "        for rk, val in self._raw_iter():\n",
    "            yield self._key_to_str(rk), val\n",
    "\n",
    "    def values(self):\n",
    "        for val in self._table:\n",
    "            if val is not self._none:\n",
    "                yield val\n",
    "\n",
    "    def stat(self):\n",
    "        return (f'Хранится элементов: {self._len}\\n'\n",
    "                f'Размер таблицы: {len(self._table)}\\n'\n",
    "                f'Доля используемых элементов таблицы: '\n",
    "                f'{self._len / len(self._table):.5f}')"
   ]
  },
  {
   "cell_type": "markdown",
   "metadata": {
    "id": "0fr2KtzQWBKR"
   },
   "source": [
    "Чтобы убедиться в работоспособности описанного механизма, рассмотрим последовательность операций над объектом класса `DirectStrTable`, отражающую типичные действия со структурой прямой адресации.\n",
    "\n",
    "Создаётся объект `dst1 = DirectStrTable(3)`, что означает возможность хранения строк длиной не более трёх символов. Изначально таблица пуста, поэтому `len(dst1)` возвращает `0`."
   ]
  },
  {
   "cell_type": "code",
   "execution_count": null,
   "metadata": {
    "colab": {
     "base_uri": "https://localhost:8080/"
    },
    "id": "iX0BUkknXYRI",
    "outputId": "d298a640-10d6-4962-d0a1-ca89bd922a2b"
   },
   "outputs": [
    {
     "data": {
      "text/plain": [
       "0"
      ]
     },
     "execution_count": 79,
     "metadata": {},
     "output_type": "execute_result"
    }
   ],
   "source": [
    "dst1 = DirectStrTable(3)\n",
    "len(dst1)"
   ]
  },
  {
   "cell_type": "markdown",
   "metadata": {
    "id": "xRgtwn4EXakN"
   },
   "source": [
    "Добавляется первая пара ключ–значение: строке `'ab'` сопоставляется число `11`. После этого количество элементов увеличивается, и результат вызова `len(dst1)` становится равен `1`. Извлечение значения по ключу `'ab'` подтверждает корректность вставки."
   ]
  },
  {
   "cell_type": "code",
   "execution_count": null,
   "metadata": {
    "colab": {
     "base_uri": "https://localhost:8080/"
    },
    "id": "If20LZ1FXkAK",
    "outputId": "61331eec-8298-44b3-b30e-8b5ed4afc6d5"
   },
   "outputs": [
    {
     "data": {
      "text/plain": [
       "1"
      ]
     },
     "execution_count": 80,
     "metadata": {},
     "output_type": "execute_result"
    }
   ],
   "source": [
    "dst1['ab'] = 11\n",
    "len(dst1)"
   ]
  },
  {
   "cell_type": "code",
   "execution_count": null,
   "metadata": {
    "colab": {
     "base_uri": "https://localhost:8080/"
    },
    "id": "DdLRbZi5Xf0E",
    "outputId": "112ae384-2dc3-483c-a14e-cf17c0395b12"
   },
   "outputs": [
    {
     "data": {
      "text/plain": [
       "11"
      ]
     },
     "execution_count": 81,
     "metadata": {},
     "output_type": "execute_result"
    }
   ],
   "source": [
    "dst1['ab']"
   ]
  },
  {
   "cell_type": "markdown",
   "metadata": {
    "id": "ObEP9FxsXoop"
   },
   "source": [
    "Выполняется проверка на наличие ключей `'ab'` и `'a'` в таблице. Результат `True` для `'ab'` и `False` для `'a'` показывает, что только первый ключ был явно добавлен."
   ]
  },
  {
   "cell_type": "code",
   "execution_count": null,
   "metadata": {
    "colab": {
     "base_uri": "https://localhost:8080/"
    },
    "id": "NB0rJFxiXrjU",
    "outputId": "9214480d-aff7-450f-b3fb-facfac51e87a"
   },
   "outputs": [
    {
     "data": {
      "text/plain": [
       "True"
      ]
     },
     "execution_count": 82,
     "metadata": {},
     "output_type": "execute_result"
    }
   ],
   "source": [
    "'ab' in dst1"
   ]
  },
  {
   "cell_type": "code",
   "execution_count": null,
   "metadata": {
    "colab": {
     "base_uri": "https://localhost:8080/"
    },
    "id": "obe7A-e1XtgG",
    "outputId": "82360b54-e27f-4f72-f3c3-a5aef4402e7b"
   },
   "outputs": [
    {
     "data": {
      "text/plain": [
       "False"
      ]
     },
     "execution_count": 83,
     "metadata": {},
     "output_type": "execute_result"
    }
   ],
   "source": [
    "'a' in dst1"
   ]
  },
  {
   "cell_type": "markdown",
   "metadata": {
    "id": "MiW7e9klXvZd"
   },
   "source": [
    "Добавляются ещё две строки: `'abc'` со значением `7` и `'zz'` со значением `77`. После каждой операции можно убедиться в изменении количества хранимых пар. Затем ключ `'zz'` удаляется из таблицы, и общее число элементов снова уменьшается."
   ]
  },
  {
   "cell_type": "code",
   "execution_count": null,
   "metadata": {
    "colab": {
     "base_uri": "https://localhost:8080/"
    },
    "id": "LVq-fyGfXz7U",
    "outputId": "f84b02b0-d9cf-42b6-a84f-8b42e87e632a"
   },
   "outputs": [
    {
     "data": {
      "text/plain": [
       "3"
      ]
     },
     "execution_count": 84,
     "metadata": {},
     "output_type": "execute_result"
    }
   ],
   "source": [
    "dst1['abc'] = 7\n",
    "dst1['zz'] = 77\n",
    "len(dst1)"
   ]
  },
  {
   "cell_type": "code",
   "execution_count": null,
   "metadata": {
    "colab": {
     "base_uri": "https://localhost:8080/"
    },
    "id": "SzqXtce1X2iQ",
    "outputId": "1799acc4-c9ce-4dfa-f66e-9ccf6d50232e"
   },
   "outputs": [
    {
     "data": {
      "text/plain": [
       "2"
      ]
     },
     "execution_count": 85,
     "metadata": {},
     "output_type": "execute_result"
    }
   ],
   "source": [
    "del dst1['zz']\n",
    "len(dst1)"
   ]
  },
  {
   "cell_type": "markdown",
   "metadata": {
    "id": "1UvsSGYWX4Wz"
   },
   "source": [
    "В таблицу поочерёдно добавляются несколько новых строк: `'x'`, `'z'`, `'aa'`, `'ab'`, `'zz'`, `'aaa'`, `'abc'`, `'zzz'`. Каждая строка получает своё числовое значение. После вставок вызывается `len(dst1)`, чтобы получить актуальное количество элементов, и `list(dst1)`, чтобы увидеть все строковые ключи, хранящиеся в таблице."
   ]
  },
  {
   "cell_type": "code",
   "execution_count": null,
   "metadata": {
    "id": "8SrcI8FHX8L3"
   },
   "outputs": [],
   "source": [
    "dst1['x'] = 1\n",
    "dst1['z'] = 5\n",
    "dst1['aa'] = 6\n",
    "dst1['ab'] = 7\n",
    "dst1['zz'] = 8\n",
    "dst1['aaa'] = 9"
   ]
  },
  {
   "cell_type": "code",
   "execution_count": null,
   "metadata": {
    "colab": {
     "base_uri": "https://localhost:8080/"
    },
    "id": "xGer813XX-l0",
    "outputId": "39f9a378-63e8-48a9-fac8-bd792c595640"
   },
   "outputs": [
    {
     "data": {
      "text/plain": [
       "7"
      ]
     },
     "execution_count": 87,
     "metadata": {},
     "output_type": "execute_result"
    }
   ],
   "source": [
    "len(dst1)"
   ]
  },
  {
   "cell_type": "code",
   "execution_count": null,
   "metadata": {
    "colab": {
     "base_uri": "https://localhost:8080/"
    },
    "id": "gIeUCY6OYCoy",
    "outputId": "6e783c84-ef71-440c-fe19-5b48da242e44"
   },
   "outputs": [
    {
     "data": {
      "text/plain": [
       "['x', 'z', 'aa', 'ab', 'zz', 'aaa', 'abc']"
      ]
     },
     "execution_count": 88,
     "metadata": {},
     "output_type": "execute_result"
    }
   ],
   "source": [
    "list(dst1)"
   ]
  },
  {
   "cell_type": "markdown",
   "metadata": {
    "id": "Rx8N1XomYHnc"
   },
   "source": [
    "Получить доступ к внутреннему представлению таблицы можно с помощью метода `_raw_iter()`, который возвращает пары числовых ключей и значений. Это полезно для анализа распределения строк по массиву."
   ]
  },
  {
   "cell_type": "code",
   "execution_count": null,
   "metadata": {
    "colab": {
     "base_uri": "https://localhost:8080/"
    },
    "id": "38L-nVHuYKKt",
    "outputId": "6223ab84-b0cf-4d8d-8155-9403abc9199a"
   },
   "outputs": [
    {
     "data": {
      "text/plain": [
       "[(24, 1), (26, 5), (27, 6), (53, 7), (702, 8), (703, 9), (2081, 7)]"
      ]
     },
     "execution_count": 89,
     "metadata": {},
     "output_type": "execute_result"
    }
   ],
   "source": [
    "list(dst1._raw_iter())"
   ]
  },
  {
   "cell_type": "markdown",
   "metadata": {
    "id": "v05FOtZjYQEk"
   },
   "source": [
    "Чтобы вернуть пары ключ–значение в обычном строковом виде, используется метод `items()`. Метод `values()` позволяет получить только значения. Оба метода демонстрируют интерфейс, аналогичный встроенному словарю."
   ]
  },
  {
   "cell_type": "code",
   "execution_count": null,
   "metadata": {
    "colab": {
     "base_uri": "https://localhost:8080/"
    },
    "id": "nfnYVZEAYSwD",
    "outputId": "bddf3a71-f348-44b7-b1fc-06bd3ae36231"
   },
   "outputs": [
    {
     "data": {
      "text/plain": [
       "[('x', 1), ('z', 5), ('aa', 6), ('ab', 7), ('zz', 8), ('aaa', 9), ('abc', 7)]"
      ]
     },
     "execution_count": 90,
     "metadata": {},
     "output_type": "execute_result"
    }
   ],
   "source": [
    "list(dst1.items())"
   ]
  },
  {
   "cell_type": "code",
   "execution_count": null,
   "metadata": {
    "colab": {
     "base_uri": "https://localhost:8080/"
    },
    "id": "_xqzT0gBYUqa",
    "outputId": "d1d2fa95-3c6b-4a8c-e376-ae7acab38bfa"
   },
   "outputs": [
    {
     "data": {
      "text/plain": [
       "[1, 5, 6, 7, 8, 9, 7]"
      ]
     },
     "execution_count": 91,
     "metadata": {},
     "output_type": "execute_result"
    }
   ],
   "source": [
    "list(dst1.values())"
   ]
  },
  {
   "cell_type": "markdown",
   "metadata": {
    "id": "5-Cj_dyNYXWW"
   },
   "source": [
    "Для сравнения создаётся обычный словарь с двумя парами. Он также преобразуется в список ключей и значений, чтобы показать схожесть в использовании."
   ]
  },
  {
   "cell_type": "code",
   "execution_count": null,
   "metadata": {
    "id": "p1R_R-6WYaaX"
   },
   "outputs": [],
   "source": [
    "d1 = dict([('ab', 11), ('abc', 7)])"
   ]
  },
  {
   "cell_type": "code",
   "execution_count": null,
   "metadata": {
    "colab": {
     "base_uri": "https://localhost:8080/"
    },
    "id": "3b2LkY57YeE_",
    "outputId": "72504bde-25f5-4c19-ad39-7cd7ee174455"
   },
   "outputs": [
    {
     "data": {
      "text/plain": [
       "['ab', 'abc']"
      ]
     },
     "execution_count": 93,
     "metadata": {},
     "output_type": "execute_result"
    }
   ],
   "source": [
    "list(d1)"
   ]
  },
  {
   "cell_type": "code",
   "execution_count": null,
   "metadata": {
    "colab": {
     "base_uri": "https://localhost:8080/"
    },
    "id": "yXKjIgDgYfBL",
    "outputId": "c11f22d5-b1c1-4ff2-e86b-f56d8be67bbc"
   },
   "outputs": [
    {
     "data": {
      "text/plain": [
       "[11, 7]"
      ]
     },
     "execution_count": 94,
     "metadata": {},
     "output_type": "execute_result"
    }
   ],
   "source": [
    "list(d1.values())"
   ]
  },
  {
   "cell_type": "markdown",
   "metadata": {
    "id": "tprkLFCdYhpq"
   },
   "source": [
    "И наконец, метод `stat()` предоставляет сведения о внутреннем устройстве таблицы: количество элементов, размер резервированного массива и долю занятых ячеек. Этот вывод помогает оценить эффективность использования памяти."
   ]
  },
  {
   "cell_type": "code",
   "execution_count": null,
   "metadata": {
    "colab": {
     "base_uri": "https://localhost:8080/"
    },
    "id": "C7R50i6IYkwK",
    "outputId": "c964867a-8de0-4717-d8a2-9804b3ed8fa8"
   },
   "outputs": [
    {
     "name": "stdout",
     "output_type": "stream",
     "text": [
      "Хранится элементов: 7\n",
      "Размер таблицы: 18279\n",
      "Доля используемых элементов таблицы: 0.00038\n"
     ]
    }
   ],
   "source": [
    "print(dst1.stat())"
   ]
  },
  {
   "cell_type": "markdown",
   "metadata": {
    "id": "-8-bJPLoaU43"
   },
   "source": [
    "В данном случае размер таблицы равен `18279`, поскольку при максимальной длине строки `3` и алфавите из `26` символов общее число возможных строк вычисляется как $26^1 + 26^2 + 26^3 = 26 + 676 + 17576 = 18278$, а дополнительная ячейка резервируется под пустую строку, что даёт $18278 + 1 = 18279$; при этом фактически добавлено только `7` элементов, и отношение числа занятых ячеек к размеру таблицы составляет $7 / 18279 \\approx 0.00038$, то есть заполнено менее одной десятитысячной части доступного пространства."
   ]
  },
  {
   "cell_type": "markdown",
   "metadata": {
    "id": "oaXEmfifaVLq"
   },
   "source": [
    "Прямая адресация демонстрирует высокую производительность, поскольку каждому допустимому значению ключа сопоставляется уникальная позиция в таблице. Это обеспечивает операции вставки, поиска и удаления за постоянное время. Однако такая эффективность достигается ценой значительного объёма памяти, который требуется для поддержки всего пространства ключей, независимо от того, сколько значений в нём фактически используется."
   ]
  },
  {
   "cell_type": "markdown",
   "metadata": {
    "id": "FrirAiHwhp6k"
   },
   "source": [
    "Главная трудность заключается в том, что для корректной работы таблицы необходимо заранее зарезервировать память под все возможные комбинации строк фиксированной длины. При использовании алфавита из `26` символов и максимальной длине строки, равной `3`, требуется выделить `18279` ячеек. При этом если в таблицу будет занесено всего несколько десятков или даже сотен строк, подавляющее большинство ячеек останется пустым. Это приводит к резкому снижению плотности хранения и неэффективному использованию памяти, особенно при масштабировании на более длинные строки или расширении допустимого алфавита.\n",
    "\n",
    "Такой дисбаланс между числом потенциальных и реально используемых ключей делает прямую адресацию непрактичной в обобщённой постановке задачи. Даже если производительность операций остаётся высокой, объём памяти, необходимый для поддержки таблицы, может значительно превысить доступные ресурсы системы. Особенно остро это проявляется при работе с ограниченными устройствами или при необходимости обработки больших наборов данных."
   ]
  },
  {
   "cell_type": "markdown",
   "metadata": {
    "id": "BXkj5mXjiAUk"
   },
   "source": [
    "Несмотря на издержки, таблицы с прямой адресацией остаются полезным инструментом в задачах с небольшим и строго ограниченным пространством ключей, где важна максимальная скорость доступа и отсутствуют жёсткие ограничения по памяти. Однако в большинстве практических случаев требуется более универсальный механизм, который сочетает эффективность и гибкость. Таким решением становятся хеш-таблицы."
   ]
  },
  {
   "cell_type": "markdown",
   "metadata": {
    "id": "lHW6_PKsi0T_"
   },
   "source": [
    "### <font color='Teal'>Хеш-таблица и хеш-функция"
   ]
  },
  {
   "cell_type": "markdown",
   "metadata": {
    "id": "tnAStB6ovWcv"
   },
   "source": [
    "**Хеш-таблица** представляет собой эффективную структуру данных для реализации словарей. В отличие от связанного списка, в котором время поиска элемента может достигать линейного в худшем случае, то есть $O(n)$, хеш-таблица при определённых условиях обеспечивает амортизированное время доступа $O(1)$. На практике хеширование оказывается крайне результативным, особенно при наличии математических допущений, гарантирующих равномерное распределение ключей."
   ]
  },
  {
   "cell_type": "markdown",
   "metadata": {
    "id": "AuqXbLgC01DX"
   },
   "source": [
    "По своей сути хеш-таблица является обобщением массива. Когда множество всех возможных ключей велико, а реально используемых ключей значительно меньше, применение обычного массива с прямой адресацией становится крайне неэффективным. В отличие от него, хеш-таблица использует массив меньшего размера, пропорциональный количеству фактически хранимых элементов. Индекс ячейки в массиве вычисляется не напрямую по ключу, а на основе его преобразования специальной функцией — **хеш-функцией**. Таким образом, хеш-таблица опирается на концепцию отображения ключа $k$ в целочисленный **хеш-адрес** $h(k)$, который и используется в качестве индекса в массиве."
   ]
  },
  {
   "cell_type": "markdown",
   "metadata": {
    "id": "M7SRIfHd1C1t"
   },
   "source": [
    "Если обозначить множество допустимых ключей через $U$, а массив хеш-таблицы — как $T[0, \\ldots, m - 1]$, где $m$ — размер таблицы, то хеш-функция $h$ задаёт отображение:\n",
    "\n",
    "$$\n",
    "h\\colon U \\to \\{0, 1, \\ldots, m - 1\\}.\n",
    "$$\n",
    "\n",
    "Говорят, что элемент с ключом $k$ ***хешируется*** в ячейку с индексом $h(k)$, и результат вычисления $h(k)$ называется ***хеш-значением*** ключа $k$."
   ]
  },
  {
   "cell_type": "markdown",
   "metadata": {
    "id": "QZDZ72GN1OMG"
   },
   "source": [
    "Хеш-таблица содержит ***слоты*** (или ***ячейки***), каждая из которых может либо быть пустой, либо содержать пару ключ–значение. В Python такая структура обычно реализуется как список, заполненный значениями `None` или их заменителями, если возникает необходимость хранить и `None`.\n",
    "\n",
    "На этапе инициализации все ячейки хеш-таблицы считаются пустыми. В случае прямой адресации, как уже рассматривалось ранее, элемент с ключом $k$ помещается в ячейку с индексом $k$. При хешировании же элемент размещается в ячейке с индексом $h(k)$, где хеш-функция $h$ служит преобразователем ключа в допустимый индекс таблицы."
   ]
  },
  {
   "cell_type": "markdown",
   "metadata": {
    "id": "UhJdOFTW1jKW"
   },
   "source": [
    "Рассмотрим конкретный пример: хеш-таблица имеет размер $m = 11$, а в качестве хеш-функции используется взятие остатка от деления ключа $k$ на $11$:\n",
    "\n",
    "$$\n",
    "h(k) = k \\bmod 11.\n",
    "$$\n",
    "\n",
    "Таким образом, каждому целому ключу $k$ сопоставляется индекс таблицы, равный остатку от деления $k$ на $11$, то есть $k \\mapsto k \\bmod 11$. На рис. 1 представлена хеш-таблица, содержащая $11$ слотов, каждый из которых проинициализирован значением `None`."
   ]
  },
  {
   "cell_type": "markdown",
   "metadata": {
    "id": "CgJ5zSku1tbd"
   },
   "source": [
    "![изображение.png](data:image/png;base64,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)\n",
    "\n",
    "*Рисунок 1 — Пустая хеш-таблица размером 11, подготовленная к вставке элементов*"
   ]
  },
  {
   "cell_type": "markdown",
   "metadata": {
    "id": "nFjkSqm811CV"
   },
   "source": [
    "Для наглядной демонстрации работы хеш-функции определим функцию `h(k)`, которая принимает на вход целое значение `k` и возвращает остаток от деления этого значения на $11$:"
   ]
  },
  {
   "cell_type": "code",
   "execution_count": null,
   "metadata": {
    "id": "FrK7IXoZ3Luz"
   },
   "outputs": [],
   "source": [
    "def h(k):\n",
    "    return k % 11"
   ]
  },
  {
   "cell_type": "markdown",
   "metadata": {
    "id": "9LAJmVF93Otc"
   },
   "source": [
    "Затем задаётся список ключей `keys1`, содержащий значения `[54, 26, 93, 17, 77, 31]`. С помощью генератора списка для каждого значения `k` из списка `keys1` вызывается хеш-функция `h(k)`:"
   ]
  },
  {
   "cell_type": "code",
   "execution_count": null,
   "metadata": {
    "id": "BuhnyA7q3She"
   },
   "outputs": [],
   "source": [
    "keys1 = [54, 26, 93, 17, 77, 31]"
   ]
  },
  {
   "cell_type": "code",
   "execution_count": null,
   "metadata": {
    "colab": {
     "base_uri": "https://localhost:8080/"
    },
    "id": "SnkBtZ-K3VwX",
    "outputId": "09e10bd3-ab34-4aa6-d822-ea7c7ca78ae1"
   },
   "outputs": [
    {
     "data": {
      "text/plain": [
       "[10, 4, 5, 6, 0, 9]"
      ]
     },
     "execution_count": 98,
     "metadata": {},
     "output_type": "execute_result"
    }
   ],
   "source": [
    "[h(k) for k in keys1]"
   ]
  },
  {
   "cell_type": "markdown",
   "metadata": {
    "id": "YiOtqDo53eJn"
   },
   "source": [
    "Каждое из этих значений указывает на индекс в хеш-таблице, в который должен быть помещён соответствующий ключ. Это позволяет распределить элементы по таблице согласно их хеш-значениям (рис. 2)."
   ]
  },
  {
   "cell_type": "markdown",
   "metadata": {
    "id": "77X85jQj3ivF"
   },
   "source": [
    "![изображение.png](data:image/png;base64,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)\n",
    "\n",
    "*Рисунок 2 — Хеш-таблица после вставки шести элементов*"
   ]
  },
  {
   "cell_type": "markdown",
   "metadata": {
    "id": "JpKfUE-53rCL"
   },
   "source": [
    "Однако при построении хеш-таблиц возникает принципиальная проблема — возможность возникновения ***коллизий***. Коллизия возникает в том случае, когда два различных ключа получают одинаковое хеш-значение и, следовательно, должны быть помещены в одну и ту же ячейку."
   ]
  },
  {
   "cell_type": "markdown",
   "metadata": {
    "id": "buRl2g5l31SN"
   },
   "source": [
    "Приведём пример. Пусть имеются два ключа: $12$ и $23$. Используя ту же хеш-функцию $h(k) = k \\bmod 11$, получим:\n",
    "\n",
    "$$\n",
    "h(12) = 1, \\quad h(23) = 1.\n",
    "$$\n",
    "\n",
    "Оба ключа хешируются в ячейку с индексом $1$, и возникает коллизия."
   ]
  },
  {
   "cell_type": "markdown",
   "metadata": {
    "id": "hx_Fg0Ti34W7"
   },
   "source": [
    "Это происходит потому, что хеш-функция является детерминированной: для одного и того же значения ключа она всегда возвращает одно и то же хеш-значение. Таким образом, если количество возможных ключей (множество $U$) больше, чем количество доступных ячеек в таблице (размер $m$), то, согласно <u>принципу Дирихле</u>, обязательно найдутся по меньшей мере два различных ключа $k_1$ и $k_2$, для которых $h(k_1) = h(k_2)$. Следовательно, полностью избежать коллизий невозможно в принципе."
   ]
  },
  {
   "cell_type": "markdown",
   "metadata": {
    "id": "Rqs9syS15_Hv"
   },
   "source": [
    "Существуют два основных подхода к решению этой проблемы. Первый заключается в выборе такой хеш-функции, которая минимизирует вероятность возникновения коллизий. Это достигается путём использования более сложных или приближённых к случайным функций отображения.\n",
    "\n",
    "Второй подход связан с разработкой и применением алгоритмов разрешения коллизий. Один из таких алгоритмов — <u>метод цепочек</u>, при котором в каждой ячейке таблицы хранится список всех элементов, хешированных в неё. Это позволяет сохранить несколько ключей с одинаковым хеш-значением без потери информации."
   ]
  },
  {
   "cell_type": "markdown",
   "metadata": {
    "id": "Q-iWn4eA6N06"
   },
   "source": [
    "Для обеспечения минимального количества коллизий хеш-функция должна приближённо удовлетворять <u>предположению простого равномерного хеширования</u>. Это означает, что для каждого ключа из допустимого множества $U$ хеш-функция должна равновероятно распределять его в одну из $m$ ячеек хеш-таблицы, независимо от значений других ключей. Другими словами, независимо от того, какие именно ключи вставляются в таблицу, хеш-функция должна стремиться к тому, чтобы избежать их скучивания в одних и тех же слотах и равномерно распределять по всей таблице."
   ]
  },
  {
   "cell_type": "markdown",
   "metadata": {
    "id": "Q1AmCcOBSI1l"
   },
   "source": [
    "Однако на практике выполнение этого условия не всегда возможно проверить. Во-первых, часто неизвестно распределение ключей, которые будут использоваться в реальной задаче. Во-вторых, даже если оно известно, хеш-функция должна быть устойчива к различным закономерностям в данных и не допускать ситуаций, когда определённый класс ключей систематически попадает в один и тот же диапазон хеш-значений. Это актуально при работе с автоматически сгенерированными или пользовательскими данными, в которых может наблюдаться высокая степень регулярности.\n",
    "\n",
    "В связи с этим при построении хеш-функции важным является её <u>невосприимчивость к структуре исходных данных</u>. Желательно, чтобы даже небольшие изменения в значении ключа приводили к значительным изменениям в хеш-значении. Такое поведение напоминает свойство [лавинного эффекта](https://ru.wikipedia.org/wiki/%D0%9B%D0%B0%D0%B2%D0%B8%D0%BD%D0%BD%D1%8B%D0%B9_%D1%8D%D1%84%D1%84%D0%B5%D0%BA%D1%82) в криптографических хешах: небольшое изменение на входе полностью меняет выход. Конечно, в задачах хеш-таблиц не требуется криптостойкость, но стремление к непредсказуемости распределения ключей остаётся важным."
   ]
  },
  {
   "cell_type": "markdown",
   "metadata": {
    "id": "hjAu_LjqSxSm"
   },
   "source": [
    "Так, хорошей практикой при разработке хеш-функции является <u>исключение линейной зависимости между значениями ключей и получаемыми хеш-значениями</u>. Например, простая функция вида $h(k) = k \\bmod m$ при неудачном выборе $m$ может приводить к множественным коллизиям. Если, скажем, $m$ — степень двойки, а входные значения кратны этому числу, то все они будут попадать в одну и ту же ячейку. Чтобы избежать этого, $m$ часто выбирается в виде простого числа, а сама функция может включать дополнительные преобразования: умножение на большое нечётное число, циклические сдвиги битов, применение побитовых операций и другие методы, улучшающие распределение."
   ]
  },
  {
   "cell_type": "markdown",
   "metadata": {
    "id": "rA8hPBd9TAol"
   },
   "source": [
    "Важно отметить, что в некоторых задачах требуется иное поведение: например, в задачах пространственной локальности может быть полезно, если близкие значения ключей хешируются в соседние ячейки. Такое свойство называется <u>непрерывностью</u> и противоположно лавинному эффекту. Оно используется, например, в локальных кешах или алгоритмах с геометрической структурой данных, где важно, чтобы близкие элементы обрабатывались вместе."
   ]
  },
  {
   "cell_type": "markdown",
   "metadata": {
    "id": "sutBbClXTakE"
   },
   "source": [
    "Обычно предполагается, что хеш-функция возвращает значения из диапазона $\\{0, 1, \\ldots, m - 1\\}$. Это позволяет напрямую использовать результат хеширования в качестве индекса массива. Часто удобно выбирать размер таблицы $m$ равным степени двойки, $m = 2^n$, чтобы результат хеширования можно было без дополнительных вычислений получить из старших или младших битов машинного слова. Это ускоряет работу и упрощает реализацию, особенно на низком уровне.\n",
    "\n",
    "Таким образом, <u>качество хеш-функции</u> напрямую влияет на эффективность всей хеш-таблицы. При правильном подборе функции даже простая структура может обеспечивать амортизированное постоянное время доступа и вставки. В то же время неудачная функция способна свести на нет все преимущества хеширования, вызвав резкое увеличение количества коллизий и снижение производительности. Поэтому выбор и анализ хеш-функций является важным этапом при проектировании ассоциативных структур."
   ]
  },
  {
   "cell_type": "markdown",
   "metadata": {
    "id": "J453kdXZihQC"
   },
   "source": [
    "\n",
    "\n",
    "---\n",
    "\n"
   ]
  },
  {
   "cell_type": "markdown",
   "metadata": {
    "id": "gFd-hF6kUrWr"
   },
   "source": [
    "**Метод деления** — один из простейших и наиболее широко применяемых способов построения хеш-функции. Его основная идея заключается в том, чтобы сопоставить каждому ключу $k$ индекс ячейки хеш-таблицы, вычисляя остаток от деления этого ключа на число $m$, равное количеству доступных ячеек. Это позволяет свести произвольное значение ключа к диапазону допустимых индексов, ограниченному числами от $0$ до $m - 1$. Математически метод деления записывается в виде:\n",
    "\n",
    "$$\n",
    "h(k) = k \\bmod m,\n",
    "$$\n",
    "\n",
    "где $h(k)$ — результат хеш-функции, $k$ — исходное значение ключа, $m$ — размер таблицы."
   ]
  },
  {
   "cell_type": "markdown",
   "metadata": {
    "id": "Z4iFQPGQVxEM"
   },
   "source": [
    "Благодаря своей простоте, метод деления легко реализуется и работает быстро. Однако выбор параметра $m$ требует особого внимания. Если $m$ выбрано как степень двойки (например, $m = 2^n$), то операция $k \\bmod m$ фактически извлекает только $n$ младших битов из числа $k$. Это может привести к серьёзному нарушению равномерности распределения, особенно в тех случаях, когда старшие биты ключей несут основную энтропию, а младшие — схожи или даже одинаковы. Подобное поведение может вызвать избыточное накопление значений в одних и тех же ячейках, резко увеличивая количество коллизий.\n",
    "\n",
    "Чтобы избежать таких эффектов, на практике в качестве модуля $m$ часто выбирают <u>простое число</u>, причём не слишком близкое к степени двойки. Простые числа обладают рядом распределительных свойств, которые позволяют более равномерно распределять значения ключей по таблице, даже если они исходно обладают некоторой регулярностью. Это важно, если структура ключей заранее неизвестна или подвержена изменениям."
   ]
  },
  {
   "cell_type": "markdown",
   "metadata": {
    "id": "WO2fjz8xWLDK"
   },
   "source": [
    "Рассмотрим реализацию простой хеш-функции, построенной по методу деления, применительно к строковым данным:"
   ]
  },
  {
   "cell_type": "code",
   "execution_count": null,
   "metadata": {
    "id": "BqbCPjcRWOol"
   },
   "outputs": [],
   "source": [
    "def str_h(s, m=701):\n",
    "    return sum(ord(symb) for symb in s) % m"
   ]
  },
  {
   "cell_type": "code",
   "execution_count": null,
   "metadata": {
    "id": "UGpUeNS6WQgZ"
   },
   "outputs": [],
   "source": [
    "s1 = '''Хеш-функция выполняет преобразование массива входных\n",
    "данных произвольной длины (ключа, сообщения) в (выходную) битовую\n",
    "строку установленной длины (хеш, хеш-код, хеш-сумму).'''"
   ]
  },
  {
   "cell_type": "code",
   "execution_count": null,
   "metadata": {
    "id": "MjiRbipkWWus"
   },
   "outputs": [],
   "source": [
    "s1_cod = [(s, str_h(s)) for s in s1.split()]"
   ]
  },
  {
   "cell_type": "code",
   "execution_count": null,
   "metadata": {
    "colab": {
     "base_uri": "https://localhost:8080/"
    },
    "id": "sCQ0ZgiPWYyp",
    "outputId": "a6f41768-52d8-4266-e21d-6014a9623599"
   },
   "outputs": [
    {
     "data": {
      "text/plain": [
       "[('Хеш-функция', 391),\n",
       " ('выполняет', 671),\n",
       " ('преобразование', 403),\n",
       " ('массива', 550),\n",
       " ('входных', 596),\n",
       " ('данных', 201),\n",
       " ('произвольной', 397),\n",
       " ('длины', 516),\n",
       " ('(ключа,', 611),\n",
       " ('сообщения)', 3),\n",
       " ('в', 373),\n",
       " ('(выходную)', 375),\n",
       " ('битовую', 586),\n",
       " ('строку', 217),\n",
       " ('установленной', 64),\n",
       " ('длины', 516),\n",
       " ('(хеш,', 546),\n",
       " ('хеш-код,', 290),\n",
       " ('хеш-сумму).', 425)]"
      ]
     },
     "execution_count": 102,
     "metadata": {},
     "output_type": "execute_result"
    }
   ],
   "source": [
    "s1_cod"
   ]
  },
  {
   "cell_type": "markdown",
   "metadata": {
    "id": "jb7uRfjZWcM6"
   },
   "source": [
    "В этом примере определяется функция `str_h`, которая принимает два аргумента: строку `s`, выступающую в роли ключа, и значение `m`, задающее размер хеш-таблицы. По умолчанию `m=701`, что является простым числом. Внутри функции вычисляется сумма числовых кодов символов строки. Для получения числового представления каждого символа используется встроенная функция `ord()`, возвращающая Unicode-код. После вычисления суммы осуществляется взятие остатка от деления на $m$, в соответствии с методом деления.\n",
    "\n",
    "Следом формируется текстовая переменная `s1`, содержащая несколько слов, разделённых пробелами. Метод `split()` разбивает строку на отдельные слова. Далее для каждого слова из этого списка вызывается функция `str_h`, в результате чего формируется список кортежей вида `(слово, хеш-значение)` — это и есть отображение слов на значения хеш-функции. Присваивание результата переменной `s1_cod` позволяет сохранить все пары слово–хеш, которые затем можно использовать для сортировки, анализа распределения или построения хеш-таблицы.\n",
    "\n",
    "Таким образом, данный пример иллюстрирует, как метод деления может быть адаптирован для работы со строками, а также подчёркивает важность выбора параметра $m$. Выбранное значение (простое число `701`) обеспечивает более равномерное распределение хеш-значений, снижая вероятность коллизий и улучшая поведение таблицы в случае хранения большого количества данных."
   ]
  },
  {
   "cell_type": "markdown",
   "metadata": {
    "id": "i4b2KBHmhDvE"
   },
   "source": [
    "Метод деления остаётся одним из наиболее популярных способов построения хеш-функций благодаря своей простоте, скорости и способности обеспечивать равномерное распределение при правильном выборе параметра. Его эффективность во многом определяется качеством модуля $m$: при использовании подходящих значений, например, достаточно больших простых чисел, удаётся достичь приемлемой плотности распределения и существенно снизить вероятность коллизий. Несмотря на свою простоту, метод деления служит основой для многих практических реализаций хеширования и остаётся надёжным выбором в широком классе задач."
   ]
  },
  {
   "cell_type": "markdown",
   "metadata": {
    "id": "4D7ls1umikYj"
   },
   "source": [
    "\n",
    "\n",
    "---\n",
    "\n"
   ]
  },
  {
   "cell_type": "markdown",
   "metadata": {
    "id": "R-SMKHZailS-"
   },
   "source": [
    "**Метод MAD** (Multiply–Add–and–Divide) представляет собой параметрическую хеш-функцию, задаваемую формулой\n",
    "\n",
    "$$\n",
    "h_{a,b}(k) = ((a \\cdot k + b) \\bmod p) \\bmod m,\n",
    "$$\n",
    "\n",
    "где $k$ — ключ, $p$ — большое простое число, превышающее возможные значения ключей, $m$ — это число ячеек в хеш-таблице, а параметры $a \\in \\{1, 2, \\ldots, p - 1\\}$ и $b \\in \\{0, 1, \\ldots, p - 1\\}$ выбираются случайным образом."
   ]
  },
  {
   "cell_type": "markdown",
   "metadata": {
    "id": "l7t_1Nkhi0xu"
   },
   "source": [
    "Одним из достоинств метода MAD является возможность использовать необязательно простые значения $m$, включая составные числа. Это выгодно отличает его от метода деления, где выбор модуля существенно влияет на равномерность распределения. Кроме того, общее число различных хеш-функций в семействе составляет $(p - 1) \\cdot p$.\n",
    "\n",
    "Метод MAD широко применяется в контексте <u>универсального хеширования</u> — подхода, при котором хеш-функция выбирается случайным образом из заданного семейства $H$. Такое семейство считается универсальным, если для любых двух различных ключей $x \\ne y$ вероятность коллизии не превышает\n",
    "\n",
    "$$\n",
    "\\Pr_{h \\in H}[h(x) = h(y)] \\leq \\frac{1}{m}.\n",
    "$$\n",
    "\n",
    "Это ограничение обеспечивает низкую вероятность коллизий при случайном выборе функции. [Теоретически доказано](https://www.sciencedirect.com/science/article/pii/0022000079900448), что если параметры $a$ и $b$ в методе MAD выбираются равномерно и независимо, то получающееся семейство хеш-функций действительно является универсальным. Это делает MAD надёжным и теоретически обоснованным выбором при построении хеш-таблиц с гарантированными свойствами распределения."
   ]
  },
  {
   "cell_type": "markdown",
   "metadata": {
    "id": "-ofpV2PEjE3R"
   },
   "source": [
    "Рассмотрим реализацию метода MAD в виде класса `MadHash`, где используется заранее выбранное большое простое число `mad_p`:"
   ]
  },
  {
   "cell_type": "code",
   "execution_count": null,
   "metadata": {
    "id": "__nrfm27jKzX"
   },
   "outputs": [],
   "source": [
    "import random"
   ]
  },
  {
   "cell_type": "code",
   "execution_count": null,
   "metadata": {
    "id": "aJ4z7Um1jSzu"
   },
   "outputs": [],
   "source": [
    "mad_p = 4294967311"
   ]
  },
  {
   "cell_type": "code",
   "execution_count": null,
   "metadata": {
    "id": "5PZs4ffzjWAC"
   },
   "outputs": [],
   "source": [
    "class MadHash:\n",
    "    def __init__(self, m):\n",
    "        self.m = m\n",
    "        self.p = mad_p\n",
    "        assert self.p > self.m\n",
    "        self.a = random.randint(1, self.p)\n",
    "        self.b = random.randint(0, self.p)\n",
    "\n",
    "    def h(self, k):\n",
    "        return ((self.a * k + self.b) % self.p) % self.m"
   ]
  },
  {
   "cell_type": "markdown",
   "metadata": {
    "id": "5Mfwj30Hjb0S"
   },
   "source": [
    "Класс `MadHash` реализует хеш-функцию по методу MAD. В конструкторе `__init__()` происходит инициализация параметров: задаётся число ячеек `m`, сохраняется глобально определённое простое число `mad_p`, а параметры `a` и `b` случайно выбираются из допустимого диапазона. Метод `h()` реализует формулу метода MAD и возвращает хеш-значение для заданного ключа `k`."
   ]
  },
  {
   "cell_type": "markdown",
   "metadata": {
    "id": "Ysxo74fSjjti"
   },
   "source": [
    "Далее создаётся объект класса `MadHash` с числом ячеек $m = 2^8 = 256$:"
   ]
  },
  {
   "cell_type": "code",
   "execution_count": null,
   "metadata": {
    "id": "eQEt1qL9jn1H"
   },
   "outputs": [],
   "source": [
    "mh = MadHash(2**8)"
   ]
  },
  {
   "cell_type": "code",
   "execution_count": null,
   "metadata": {
    "colab": {
     "base_uri": "https://localhost:8080/"
    },
    "id": "2TYv2y1IjvIS",
    "outputId": "f510d173-ec48-4e86-cc5a-bdee4ee2ce7f"
   },
   "outputs": [
    {
     "name": "stdout",
     "output_type": "stream",
     "text": [
      "a = 2773881057, b = 367415411\n"
     ]
    }
   ],
   "source": [
    "print(f'a = {mh.a}, b = {mh.b}')"
   ]
  },
  {
   "cell_type": "markdown",
   "metadata": {
    "id": "zxJx1fXrj92p"
   },
   "source": [
    "После вызова `mh.a` и `mh.b` можно получить конкретные значения параметров, которые были сгенерированы для текущего объекта. Затем для всех целых чисел от $0$ до $127$ вычисляются хеш-значения с помощью метода `h`:"
   ]
  },
  {
   "cell_type": "code",
   "execution_count": null,
   "metadata": {
    "id": "JwCf7ImmkA1l"
   },
   "outputs": [],
   "source": [
    "hr1 = [mh.h(v) for v in range(128)]"
   ]
  },
  {
   "cell_type": "code",
   "execution_count": null,
   "metadata": {
    "colab": {
     "base_uri": "https://localhost:8080/"
    },
    "collapsed": true,
    "id": "yo_xrW1lkEQJ",
    "jupyter": {
     "outputs_hidden": true
    },
    "outputId": "0bd05ce8-2802-4d73-b369-0f6d03ffa11e"
   },
   "outputs": [
    {
     "name": "stdout",
     "output_type": "stream",
     "text": [
      "0 115\n",
      "1 84\n",
      "2 38\n",
      "3 248\n",
      "4 217\n",
      "5 171\n",
      "6 140\n",
      "7 94\n",
      "8 48\n",
      "9 17\n",
      "10 227\n",
      "11 181\n",
      "12 150\n",
      "13 104\n",
      "14 58\n",
      "15 27\n",
      "16 237\n",
      "17 191\n",
      "18 160\n",
      "19 114\n",
      "20 68\n",
      "21 37\n",
      "22 247\n",
      "23 216\n",
      "24 170\n",
      "25 124\n",
      "26 93\n",
      "27 47\n",
      "28 1\n",
      "29 226\n",
      "30 180\n",
      "31 134\n",
      "32 103\n",
      "33 57\n",
      "34 11\n",
      "35 236\n",
      "36 190\n",
      "37 159\n",
      "38 113\n",
      "39 67\n",
      "40 36\n",
      "41 246\n",
      "42 200\n",
      "43 169\n",
      "44 123\n",
      "45 77\n",
      "46 46\n",
      "47 0\n",
      "48 210\n",
      "49 179\n",
      "50 133\n",
      "51 87\n",
      "52 56\n",
      "53 10\n",
      "54 235\n",
      "55 189\n",
      "56 143\n",
      "57 112\n",
      "58 66\n",
      "59 20\n",
      "60 245\n",
      "61 199\n",
      "62 153\n",
      "63 122\n",
      "64 76\n",
      "65 30\n",
      "66 255\n",
      "67 209\n",
      "68 163\n",
      "69 132\n",
      "70 86\n",
      "71 55\n",
      "72 9\n",
      "73 219\n",
      "74 188\n",
      "75 142\n",
      "76 96\n",
      "77 65\n",
      "78 19\n",
      "79 229\n",
      "80 198\n",
      "81 152\n",
      "82 106\n",
      "83 75\n",
      "84 29\n",
      "85 254\n",
      "86 208\n",
      "87 162\n",
      "88 131\n",
      "89 85\n",
      "90 39\n",
      "91 8\n",
      "92 218\n",
      "93 172\n",
      "94 141\n",
      "95 95\n",
      "96 49\n",
      "97 18\n",
      "98 228\n",
      "99 182\n",
      "100 151\n",
      "101 105\n",
      "102 74\n",
      "103 28\n",
      "104 238\n",
      "105 207\n",
      "106 161\n",
      "107 115\n",
      "108 84\n",
      "109 38\n",
      "110 248\n",
      "111 217\n",
      "112 171\n",
      "113 125\n",
      "114 94\n",
      "115 48\n",
      "116 2\n",
      "117 227\n",
      "118 181\n",
      "119 150\n",
      "120 104\n",
      "121 58\n",
      "122 27\n",
      "123 237\n",
      "124 191\n",
      "125 160\n",
      "126 114\n",
      "127 68\n"
     ]
    }
   ],
   "source": [
    "for i, h in enumerate(hr1):\n",
    "    print(i, h)"
   ]
  },
  {
   "cell_type": "markdown",
   "metadata": {
    "id": "Ay06yFlTkIoj"
   },
   "source": [
    "В результате формируется список хеш-значений `hr1` для первых 128 чисел. Эти значения можно использовать для анализа распределения и оценки числа коллизий. Чтобы проверить наличие дубликатов среди хеш-значений, выполняется сортировка и попарное сравнение соседних элементов:"
   ]
  },
  {
   "cell_type": "code",
   "execution_count": null,
   "metadata": {
    "id": "A9FVyTk_kNV7"
   },
   "outputs": [],
   "source": [
    "hr1s = sorted(hr1)"
   ]
  },
  {
   "cell_type": "code",
   "execution_count": null,
   "metadata": {
    "colab": {
     "base_uri": "https://localhost:8080/"
    },
    "collapsed": true,
    "id": "ebljlsSokPnw",
    "jupyter": {
     "outputs_hidden": true
    },
    "outputId": "7732a41a-8293-4f39-d29c-59a959603ee7"
   },
   "outputs": [
    {
     "data": {
      "text/plain": [
       "[(0, False),\n",
       " (1, False),\n",
       " (2, False),\n",
       " (8, False),\n",
       " (9, False),\n",
       " (10, False),\n",
       " (11, False),\n",
       " (17, False),\n",
       " (18, False),\n",
       " (19, False),\n",
       " (20, False),\n",
       " (27, True),\n",
       " (27, False),\n",
       " (28, False),\n",
       " (29, False),\n",
       " (30, False),\n",
       " (36, False),\n",
       " (37, False),\n",
       " (38, True),\n",
       " (38, False),\n",
       " (39, False),\n",
       " (46, False),\n",
       " (47, False),\n",
       " (48, True),\n",
       " (48, False),\n",
       " (49, False),\n",
       " (55, False),\n",
       " (56, False),\n",
       " (57, False),\n",
       " (58, True),\n",
       " (58, False),\n",
       " (65, False),\n",
       " (66, False),\n",
       " (67, False),\n",
       " (68, True),\n",
       " (68, False),\n",
       " (74, False),\n",
       " (75, False),\n",
       " (76, False),\n",
       " (77, False),\n",
       " (84, True),\n",
       " (84, False),\n",
       " (85, False),\n",
       " (86, False),\n",
       " (87, False),\n",
       " (93, False),\n",
       " (94, True),\n",
       " (94, False),\n",
       " (95, False),\n",
       " (96, False),\n",
       " (103, False),\n",
       " (104, True),\n",
       " (104, False),\n",
       " (105, False),\n",
       " (106, False),\n",
       " (112, False),\n",
       " (113, False),\n",
       " (114, True),\n",
       " (114, False),\n",
       " (115, True),\n",
       " (115, False),\n",
       " (122, False),\n",
       " (123, False),\n",
       " (124, False),\n",
       " (125, False),\n",
       " (131, False),\n",
       " (132, False),\n",
       " (133, False),\n",
       " (134, False),\n",
       " (140, False),\n",
       " (141, False),\n",
       " (142, False),\n",
       " (143, False),\n",
       " (150, True),\n",
       " (150, False),\n",
       " (151, False),\n",
       " (152, False),\n",
       " (153, False),\n",
       " (159, False),\n",
       " (160, True),\n",
       " (160, False),\n",
       " (161, False),\n",
       " (162, False),\n",
       " (163, False),\n",
       " (169, False),\n",
       " (170, False),\n",
       " (171, True),\n",
       " (171, False),\n",
       " (172, False),\n",
       " (179, False),\n",
       " (180, False),\n",
       " (181, True),\n",
       " (181, False),\n",
       " (182, False),\n",
       " (188, False),\n",
       " (189, False),\n",
       " (190, False),\n",
       " (191, True),\n",
       " (191, False),\n",
       " (198, False),\n",
       " (199, False),\n",
       " (200, False),\n",
       " (207, False),\n",
       " (208, False),\n",
       " (209, False),\n",
       " (210, False),\n",
       " (216, False),\n",
       " (217, True),\n",
       " (217, False),\n",
       " (218, False),\n",
       " (219, False),\n",
       " (226, False),\n",
       " (227, True),\n",
       " (227, False),\n",
       " (228, False),\n",
       " (229, False),\n",
       " (235, False),\n",
       " (236, False),\n",
       " (237, True),\n",
       " (237, False),\n",
       " (238, False),\n",
       " (245, False),\n",
       " (246, False),\n",
       " (247, False),\n",
       " (248, True),\n",
       " (248, False),\n",
       " (254, False)]"
      ]
     },
     "execution_count": 111,
     "metadata": {},
     "output_type": "execute_result"
    }
   ],
   "source": [
    "list(zip(hr1s, [x0 == x1 for x0, x1 in zip(hr1s[:-1], hr1s[1:])]))"
   ]
  },
  {
   "cell_type": "markdown",
   "metadata": {
    "id": "m2GlWAUhkZFH"
   },
   "source": [
    "После выполнения этого кода для каждой пары соседних элементов в отсортированном списке будет указано, равны ли они между собой. Это позволяет выявить случаи коллизий. Если результат содержит пары, в которых второе значение — `True`, значит, по крайней мере два различных ключа получили одинаковое хеш-значение."
   ]
  },
  {
   "cell_type": "markdown",
   "metadata": {
    "id": "pPiZFC0FkmE5"
   },
   "source": [
    "Таким образом, метод MAD предоставляет гибкий и надёжный способ построения хеш-функций, особенно эффективный в контексте универсального хеширования. Возможность случайного выбора параметров $a$ и $b$ делает этот метод устойчивым к систематическим смещениям во входных данных и позволяет достичь хорошего качества распределения без необходимости подбирать специальные значения модуля."
   ]
  },
  {
   "cell_type": "markdown",
   "metadata": {
    "id": "TSybyELCmOJw"
   },
   "source": [
    "\n",
    "\n",
    "---\n",
    "\n"
   ]
  },
  {
   "cell_type": "markdown",
   "metadata": {
    "id": "AtWmgDMkmQnc"
   },
   "source": [
    "Хеш-функция часто строится как композиция двух этапов: сначала вычисляется хеш-код, преобразующий ключ $k$ в некоторое целое число, затем применяется функция компрессии, которая сужает полученное значение до заданного диапазона, соответствующего размеру хеш-таблицы. Эта общая схема представлена на рис. 3."
   ]
  },
  {
   "cell_type": "markdown",
   "metadata": {
    "id": "Wx-iK6u9meoa"
   },
   "source": [
    "![изображение.png](data:image/png;base64,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)\n",
    "\n",
    "*Рисунок 3 — Схема построения хеш-функции на базе двух шагов*"
   ]
  },
  {
   "cell_type": "markdown",
   "metadata": {
    "id": "QCHfGlt8mtGK"
   },
   "source": [
    "На первом этапе (hash code) выполняется преобразование ключа в целое число. Если ключ уже представлен в числовом виде, то хеш-код может совпадать с самим ключом. Однако в более сложных случаях, например, при работе со строками, графами или другими объектами, хеш-код вычисляется с помощью специальных функций, извлекающих числовое представление из структурированных данных. При этом основное требование к хеш-коду — согласованность: для одного и того же ключа всегда должен возвращаться один и тот же хеш-код."
   ]
  },
  {
   "cell_type": "markdown",
   "metadata": {
    "id": "kpzGp_Bmm73T"
   },
   "source": [
    "На втором этапе (compression) хеш-код преобразуется в значение из диапазона $[0, m - 1]$, где $m$ — размер хеш-таблицы. Это делается для того, чтобы хеш-значение можно было использовать как индекс массива. Функция компрессии должна быть детерминированной и равномерно распределять значения по диапазону, чтобы минимизировать вероятность коллизий. При этом одно и то же правило компрессии может применяться к разным хеш-кодам, в зависимости от текущего размера таблицы. Поэтому важно, чтобы компрессия была отделена от вычисления хеш-кода: это позволяет адаптироваться к изменению размеров таблицы без пересмотра всего алгоритма хеширования."
   ]
  },
  {
   "cell_type": "markdown",
   "metadata": {
    "id": "HASwK_57nFFg"
   },
   "source": [
    "Разделение на два этапа удобно ещё и тем, что функции компрессии можно выбирать из числа простейших арифметических выражений, например, остатка от деления, а вычисление хеш-кода может быть реализовано сложным образом, соответствующим типу входных данных. В результате достигается универсальность: можно создавать хеш-функции для ключей произвольной природы и гибко управлять диапазоном значений.\n",
    "\n",
    "Метод MAD, рассмотренный выше, может использоваться как на этапе вычисления хеш-кода, так и на этапе компрессии, поскольку удовлетворяет требованиям детерминированности и равномерного распределения значений. Благодаря этому, MAD оказывается универсальным средством построения хеш-функций как для числовых, так и для структурированных ключей."
   ]
  },
  {
   "cell_type": "markdown",
   "metadata": {
    "id": "SU9BjQOYos4N"
   },
   "source": [
    "\n",
    "\n",
    "---\n",
    "\n"
   ]
  },
  {
   "cell_type": "markdown",
   "metadata": {
    "id": "pUGgULXtnQZx"
   },
   "source": [
    "**Полиномиальные хеш-функции** вводятся как способ устранения недостатков, связанных с простыми методами суммирования значений символов строки. Ранее был рассмотрен пример, в котором строки `stop`, `tops`, `post` и `spot` давали одинаковое значение хеш-кода при суммировании `ord()`-значений всех символов, несмотря на различие в порядке символов. Это связано с тем, что такой подход не учитывает позицию символа внутри строки. Он лишь фиксирует общий состав, а не структуру последовательности. Подобное поведение может привести к множественным коллизиям при использовании хеш-таблицы."
   ]
  },
  {
   "cell_type": "markdown",
   "metadata": {
    "id": "vozmG8IZo4uj"
   },
   "source": [
    "Для устранения этой проблемы применяется полиномиальный хеш-код — способ, в котором каждый символ строки интерпретируется как коэффициент одночлена, а вся строка — как значение многочлена, вычисленного в некоторой фиксированной точке $a$. Формально, если строка представлена как последовательность значений $(x_0, x_1, \\ldots, x_{n-1})$, то полиномиальный хеш-код вычисляется по формуле:\n",
    "\n",
    "$$\n",
    "x_0 \\cdot a^{n-1} + x_1 \\cdot a^{n-2} + \\cdots + x_{n-2} \\cdot a + x_{n-1},\n",
    "$$\n",
    "\n",
    "где $a$ — целое число, фиксированная база полинома, обычно выбираемая из диапазона $a \\geq 2$, и не равная $0$ или $1$. Такая форма записи делает хеш-функцию чувствительной к перестановке символов: даже незначительное изменение порядка приводит к совершенно иному значению хеш-кода."
   ]
  },
  {
   "cell_type": "markdown",
   "metadata": {
    "id": "6oRr8ug-pHOP"
   },
   "source": [
    "Для практического применения этой формулы необходимо либо добавить функцию компрессии, чтобы перевести полученное значение в заданный диапазон $[0, m - 1]$, либо использовать вычисление по [схеме Горнера](https://ru.wikipedia.org/wiki/%D0%A1%D1%85%D0%B5%D0%BC%D0%B0_%D0%93%D0%BE%D1%80%D0%BD%D0%B5%D1%80%D0%B0). Эта схема упрощает расчёт полинома, позволяя избежать многократного возведения в степень. Выражение переписывается в форме:\n",
    "\n",
    "$$\n",
    "x_0 \\cdot a^{n-1} + x_1 \\cdot a^{n-2} + \\cdots + x_{n-2} \\cdot a + x_{n-1} = ((\\cdots((x_0 \\cdot a + x_1) \\cdot a + x_2) \\cdot a + \\cdots) \\cdot a + x_{n-1}),\n",
    "$$\n",
    "\n",
    "что даёт следующий алгоритм вычисления:\n",
    "\n",
    "```python\n",
    "res = 0\n",
    "for x in input_data:\n",
    "    res = a * res + x\n",
    "```\n",
    "\n",
    "Этот способ эффективен, так как использует только умножение и сложение, упрощая реализацию и ускоряя выполнение. Кроме того, он обеспечивает компактную и последовательную обработку входных данных."
   ]
  },
  {
   "cell_type": "markdown",
   "metadata": {
    "id": "d1sHkvH2pZlK"
   },
   "source": [
    "Преимущество полиномиального хеш-кода особенно проявляется при работе со строками, состоящими из одинакового набора символов, но в разном порядке. Каждая позиция в строке влияет на результат, и благодаря этому можно избежать ситуаций, когда строка `stop` и `post` дают одинаковый хеш. Таким образом, используется не только состав, но и структура данных. Это делает полиномиальный хеш-код надёжным инструментом при построении хеш-функций, где важна устойчивость к коллизиям и учёт структуры входных данных."
   ]
  },
  {
   "cell_type": "markdown",
   "metadata": {
    "id": "KGzjtgKoi0fa"
   },
   "source": [
    "### <font color='Teal'>Функция `hash` в Python"
   ]
  },
  {
   "cell_type": "markdown",
   "metadata": {
    "id": "iUPLlIEXzQXW"
   },
   "source": [
    "В языке Python **функция `hash()`** используется для получения хеш-кода объекта — целого числа, которое вычисляется на основе его содержимого и служит для быстрой идентификации объекта при работе со структурами данных. Хеш-коды важны при реализации хеш-таблиц, так как позволяют организовать быстрый доступ по ключу, минуя последовательный перебор элементов.\n",
    "\n",
    "Функция `hash()` принимает единственный аргумент `x` и возвращает его хеш-код. Этот код является неизменным в течение жизни объекта, при условии, что сам объект не изменяется. Именно поэтому функция `hash()` применима только к объектам <u>неизменяемых типов</u>, которые в Python называются <u>хешируемыми</u>. К таким типам относятся целые и вещественные числа, строки, кортежи, содержащие исключительно хешируемые элементы, объект `None`, а также неизменяемые множества (`frozenset`).\n",
    "\n",
    "Ниже показаны различные вызовы функции `hash()`:"
   ]
  },
  {
   "cell_type": "code",
   "execution_count": null,
   "metadata": {
    "colab": {
     "base_uri": "https://localhost:8080/"
    },
    "id": "iA-CnrD8ztna",
    "outputId": "69b23b3a-c21d-43b6-f323-c9a75a0a811b"
   },
   "outputs": [
    {
     "data": {
      "text/plain": [
       "2271959769169686658"
      ]
     },
     "execution_count": 112,
     "metadata": {},
     "output_type": "execute_result"
    }
   ],
   "source": [
    "hash('Hello world!')"
   ]
  },
  {
   "cell_type": "code",
   "execution_count": null,
   "metadata": {
    "colab": {
     "base_uri": "https://localhost:8080/"
    },
    "id": "qSCaS6dAzzZw",
    "outputId": "87f312ca-70f9-432e-bd6b-5ea7c0c30e19"
   },
   "outputs": [
    {
     "data": {
      "text/plain": [
       "37"
      ]
     },
     "execution_count": 115,
     "metadata": {},
     "output_type": "execute_result"
    }
   ],
   "source": [
    "hash(37)"
   ]
  },
  {
   "cell_type": "code",
   "execution_count": null,
   "metadata": {
    "colab": {
     "base_uri": "https://localhost:8080/"
    },
    "id": "HgCQFm38z59z",
    "outputId": "d9fd0653-f2bf-404e-d39e-401f970b2244"
   },
   "outputs": [
    {
     "data": {
      "text/plain": [
       "325123864299130883"
      ]
     },
     "execution_count": 116,
     "metadata": {},
     "output_type": "execute_result"
    }
   ],
   "source": [
    "hash(3.141)"
   ]
  },
  {
   "cell_type": "code",
   "execution_count": null,
   "metadata": {
    "colab": {
     "base_uri": "https://localhost:8080/"
    },
    "id": "SqiDdB5Oz8CQ",
    "outputId": "23b80ee2-d6a4-445d-c1a2-d82007f5a909"
   },
   "outputs": [
    {
     "data": {
      "text/plain": [
       "-3550055125485641917"
      ]
     },
     "execution_count": 117,
     "metadata": {},
     "output_type": "execute_result"
    }
   ],
   "source": [
    "hash((1, 2))"
   ]
  },
  {
   "cell_type": "code",
   "execution_count": null,
   "metadata": {
    "colab": {
     "base_uri": "https://localhost:8080/"
    },
    "id": "u7EwrEAfz-Ga",
    "outputId": "731bdc8a-7725-4f63-e3da-4670c52887c2"
   },
   "outputs": [
    {
     "data": {
      "text/plain": [
       "605712"
      ]
     },
     "execution_count": 120,
     "metadata": {},
     "output_type": "execute_result"
    }
   ],
   "source": [
    "hash(None)"
   ]
  },
  {
   "cell_type": "code",
   "execution_count": null,
   "metadata": {
    "colab": {
     "base_uri": "https://localhost:8080/"
    },
    "id": "itg2Lkm90EA7",
    "outputId": "9ec598d4-b375-4414-883c-f47634ca1f38"
   },
   "outputs": [
    {
     "data": {
      "text/plain": [
       "-1826646154956904602"
      ]
     },
     "execution_count": 121,
     "metadata": {},
     "output_type": "execute_result"
    }
   ],
   "source": [
    "hash(frozenset([1, 2]))"
   ]
  },
  {
   "cell_type": "markdown",
   "metadata": {
    "id": "fJne9oif0JAa"
   },
   "source": [
    "Для всех перечисленных выше случаев возвращается уникальное целочисленное значение — хеш-код объекта. Эти значения могут использоваться, например, как индексы в хеш-таблице или для сравнения объектов в ассоциативных структурах."
   ]
  },
  {
   "cell_type": "markdown",
   "metadata": {
    "id": "UzAwHKlf0L79"
   },
   "source": [
    "Попытка вычислить хеш от изменяемого объекта, например, списка, приводит к ошибке. Это объясняется тем, что если бы хеш-код объекта можно было вычислить до его изменения, а затем изменить сам объект, это нарушило бы внутреннюю логику хеш-таблицы. Пример:"
   ]
  },
  {
   "cell_type": "code",
   "execution_count": null,
   "metadata": {
    "colab": {
     "base_uri": "https://localhost:8080/"
    },
    "id": "QY09sD0i0OsA",
    "outputId": "c96efaf8-25b0-423d-c06e-1e7653f36f36"
   },
   "outputs": [
    {
     "name": "stdout",
     "output_type": "stream",
     "text": [
      "Ошибка: unhashable type: 'list'\n"
     ]
    }
   ],
   "source": [
    "try:\n",
    "    print(hash([1, 2]))\n",
    "except TypeError as e:\n",
    "    print(f'Ошибка: {e}')"
   ]
  },
  {
   "cell_type": "markdown",
   "metadata": {
    "id": "3oUxXb2S0xiP"
   },
   "source": [
    "Результатом будет сообщение TypeError: unhashable type: 'list', указывающее на то, что список не может быть использован в качестве хешируемого объекта."
   ]
  },
  {
   "cell_type": "markdown",
   "metadata": {
    "id": "MDVuZLsE03Vp"
   },
   "source": [
    "Хешируемость объектов — важное условие при использовании их в качестве ключей словаря (`dict`) или элементов множества (`set`). Эти структуры полагаются на стабильность хеш-кода: для корректной работы он должен оставаться постоянным на протяжении всего времени существования объекта.\n",
    "\n",
    "Функция `hash()` реализована в Python с учётом особенностей различных типов. Для встроенных числовых и строковых типов она обеспечивает быстрое и согласованное вычисление значения. В случае с пользовательскими классами поведение `hash()` может быть переопределено через метод `__hash__`, что позволяет управлять способом хеширования экземпляров, но при этом необходимо также обеспечить корректную реализацию метода `__eq__`, чтобы хеш-коды совпадали для объектов, считающихся равными."
   ]
  },
  {
   "cell_type": "markdown",
   "metadata": {
    "id": "z_KaAcnq1cL7"
   },
   "source": [
    "Функция `hash()` играет важную роль не только при работе с базовыми типами данных, но и при определении поведения пользовательских объектов, особенно в контексте хеш-таблиц и структур данных, использующих хеши (например, `dict` и `set`). Одним из ключевых требований к реализации хеш-функций является соблюдение <u>согласованности между равенством объектов и их хеш-кодами</u>. Формально это означает следующее: если два объекта `x` и `y` считаются равными (`x == y`), то их хеш-коды также должны совпадать (`hash(x) == hash(y)`).\n",
    "\n",
    "Это правило необходимо для обеспечения корректной работы хеш-таблиц, в которых используется сначала хеш-код, а затем проверка на равенство для поиска значения по ключу. Если два равных объекта будут иметь разные хеши, то доступ к элементу может быть нарушен, так как хеш-таблица начнёт искать его в другой ячейке."
   ]
  },
  {
   "cell_type": "markdown",
   "metadata": {
    "id": "8PyrAkr51w2_"
   },
   "source": [
    "Важно понимать, что обратное утверждение не является истинным: два различных объекта могут иметь одинаковый хеш-код. Это явление называется ***коллизией***. Коллизии неизбежны при конечном числе возможных хеш-значений и произвольном множестве входных объектов. Однако хорошая хеш-функция должна минимизировать вероятность таких совпадений.\n",
    "\n",
    "Для иллюстрации принципа согласованности можно рассмотреть следующий пример:"
   ]
  },
  {
   "cell_type": "code",
   "execution_count": null,
   "metadata": {
    "colab": {
     "base_uri": "https://localhost:8080/"
    },
    "id": "Pxj_8fPq1-02",
    "outputId": "18b75305-5c8f-4ae9-e235-9268ddbf8231"
   },
   "outputs": [
    {
     "data": {
      "text/plain": [
       "True"
      ]
     },
     "execution_count": 123,
     "metadata": {},
     "output_type": "execute_result"
    }
   ],
   "source": [
    "42 == 42.0"
   ]
  },
  {
   "cell_type": "code",
   "execution_count": null,
   "metadata": {
    "colab": {
     "base_uri": "https://localhost:8080/"
    },
    "id": "8ZT2D-vT2BXo",
    "outputId": "59343929-9203-4dc5-aeab-a06e0401b8ee"
   },
   "outputs": [
    {
     "data": {
      "text/plain": [
       "42"
      ]
     },
     "execution_count": 124,
     "metadata": {},
     "output_type": "execute_result"
    }
   ],
   "source": [
    "hash(42)"
   ]
  },
  {
   "cell_type": "code",
   "execution_count": null,
   "metadata": {
    "colab": {
     "base_uri": "https://localhost:8080/"
    },
    "id": "P9YCVLux2Dve",
    "outputId": "21d7e928-ef79-4f2c-f525-057c0699a30e"
   },
   "outputs": [
    {
     "data": {
      "text/plain": [
       "42"
      ]
     },
     "execution_count": 126,
     "metadata": {},
     "output_type": "execute_result"
    }
   ],
   "source": [
    "hash(42.0)"
   ]
  },
  {
   "cell_type": "code",
   "execution_count": null,
   "metadata": {
    "colab": {
     "base_uri": "https://localhost:8080/"
    },
    "id": "JZITdb6R2G_Z",
    "outputId": "faf917d9-1af2-451a-92a6-02246216e722"
   },
   "outputs": [
    {
     "data": {
      "text/plain": [
       "230584303658"
      ]
     },
     "execution_count": 127,
     "metadata": {},
     "output_type": "execute_result"
    }
   ],
   "source": [
    "hash(42.0000001)"
   ]
  },
  {
   "cell_type": "markdown",
   "metadata": {
    "id": "W76vHFR52JVz"
   },
   "source": [
    "Здесь видно, что целое число `42` и число с плавающей точкой `42.0` считаются равными, и их хеш-коды совпадают. Это соответствует описанному правилу. Однако значение `42.0000001`, хотя и очень близкое, уже не равно `42.0`, и его хеш отличается. Это подтверждает, что хеш-функция учитывает точное значение объекта и возвращает одинаковый хеш только в случае строгого равенства."
   ]
  },
  {
   "cell_type": "markdown",
   "metadata": {
    "id": "F5OhtPTO2RFv"
   },
   "source": [
    "Такое поведение позволяет использовать как целые числа, так и числа с плавающей точкой в качестве ключей в словарях и других структурах, основанных на хешировании, при условии, что они корректно реализуют метод `__eq__()` (для проверки равенства) и `__hash__()` (для получения хеш-кода)."
   ]
  },
  {
   "cell_type": "markdown",
   "metadata": {
    "id": "TQmbL1l03qOb"
   },
   "source": [
    "В дополнение к встроенным типам, поддерживающим хеширование, в языке Python предусмотрена возможность переопределения поведения хеш-функции для пользовательских классов. Это делается с помощью метода `__hash__()`, который должен возвращать целочисленный хеш-код объекта. Чтобы обеспечить корректную работу объектов в хеш-таблицах, обязательно требуется реализовать также метод `__eq__()`, отвечающий за проверку равенства. Эти два метода должны быть <u>согласованы</u>: если два объекта считаются равными (то есть `x == y`), то и их хеш-коды должны совпадать (`hash(x) == hash(y)`).\n",
    "\n",
    "Нарушение этого свойства приводит к ошибочному поведению при использовании объектов в структурах данных, например, `dict` и `set`, которые сначала вычисляют хеш, а затем сравнивают значения. Поэтому при проектировании хешируемых пользовательских классов следует учитывать не только внутреннее представление объекта, но и правила, по которым два экземпляра признаются равными."
   ]
  },
  {
   "cell_type": "markdown",
   "metadata": {
    "id": "w1VK2blB4QS8"
   },
   "source": [
    "Ниже приведён пример класса `Color`, моделирующего цвет в формате RGB. Каждый компонент цвета (`red`, `green`, `blue`) задаётся целым числом от 0 до 255, и все три компонента влияют на идентичность и хеш-код объекта."
   ]
  },
  {
   "cell_type": "code",
   "execution_count": null,
   "metadata": {
    "id": "HxhbxUCO4T_d"
   },
   "outputs": [],
   "source": [
    "class Color:\n",
    "    def __init__(self, r, g, b):\n",
    "        assert type(r) is int\n",
    "        assert 0 <= r <= 255\n",
    "        self.__red = r\n",
    "\n",
    "        assert type(g) is int\n",
    "        assert 0 <= g <= 255\n",
    "        self.__green = g\n",
    "\n",
    "        assert type(b) is int\n",
    "        assert 0 <= b <= 255\n",
    "        self.__blue = b\n",
    "\n",
    "    @property\n",
    "    def red(self):\n",
    "        return self.__red\n",
    "\n",
    "    @property\n",
    "    def green(self):\n",
    "        return self.__green\n",
    "\n",
    "    @property\n",
    "    def blue(self):\n",
    "        return self.__blue\n",
    "\n",
    "    def __hash__(self):\n",
    "        return hash((self.__red, self.__green, self.__blue))\n",
    "\n",
    "    def __eq__(self, other):\n",
    "        return (\n",
    "            self.__red == other.red and\n",
    "            self.__green == other.green and\n",
    "            self.__blue == other.blue\n",
    "        )"
   ]
  },
  {
   "cell_type": "markdown",
   "metadata": {
    "id": "NPvwTwro4ckG"
   },
   "source": [
    "Конструктор класса принимает значения трёх компонент и проверяет, что каждое значение действительно является целым числом, а также находится в допустимых границах. Такие проверки реализуются через утверждения `assert`, что делает поведение класса устойчивым к некорректным входным данным и исключает возможность создания объекта с недопустимым состоянием. После прохождения проверок значения сохраняются во внутренние атрибуты `__red`, `__green` и `__blue`, к которым впоследствии обращаются только через свойства.\n",
    "\n",
    "Свойства `red`, `green` и `blue` оформлены через декоратор `@property`, что обеспечивает доступ к компонентам цвета снаружи класса без прямого изменения этих значений. Это важный элемент инкапсуляции, при котором внутреннее состояние объекта остаётся защищённым, а интерфейс — удобным и предсказуемым.\n",
    "\n",
    "Метод `__hash__()` переопределяет поведение встроенной функции `hash()` для объектов данного класса. Он возвращает хеш кортежа из трёх компонент цвета. Такой подход гарантирует, что при одинаковых значениях всех трёх компонент объекты будут иметь одинаковый хеш-код, а при различиях хотя бы в одном компоненте хеш-функция, с высокой вероятностью, даст другое значение. Это позволяет использовать объекты класса `Color` в качестве ключей в словарях и элементами в множествах.\n",
    "\n",
    "Метод `__eq__()` определяет правило сравнения двух объектов. Возвращаемое значение `True` указывает на то, что значения всех трёх компонент совпадают. Сравнение реализуется не напрямую по закрытым атрибутам, а через свойства `red`, `green` и `blue` второго объекта, что подчёркивает правильное использование интерфейса класса даже внутри него самого. Совместное определение методов `__hash__()` и `__eq__()` обеспечивает согласованное поведение: если два объекта равны по значению, то их хеш-коды также совпадают, что необходимо для корректной работы хеш-таблиц."
   ]
  },
  {
   "cell_type": "markdown",
   "metadata": {
    "id": "b_kQ-7i65HNJ"
   },
   "source": [
    "Если создать два объекта `Color`, например, с компонентами `(2, 2, 115)`, то они будут логически равны, поскольку представляют один и тот же цвет:"
   ]
  },
  {
   "cell_type": "code",
   "execution_count": null,
   "metadata": {
    "id": "3wRq5GLm5pII"
   },
   "outputs": [],
   "source": [
    "c1 = Color(2, 2, 115)\n",
    "c2 = Color(2, 2, 115)"
   ]
  },
  {
   "cell_type": "code",
   "execution_count": null,
   "metadata": {
    "colab": {
     "base_uri": "https://localhost:8080/"
    },
    "id": "c7LD9rBw5wI_",
    "outputId": "e7187889-7133-4027-a3db-9ecaa05579c3"
   },
   "outputs": [
    {
     "data": {
      "text/plain": [
       "True"
      ]
     },
     "execution_count": 131,
     "metadata": {},
     "output_type": "execute_result"
    }
   ],
   "source": [
    "c1 == c2"
   ]
  },
  {
   "cell_type": "code",
   "execution_count": null,
   "metadata": {
    "colab": {
     "base_uri": "https://localhost:8080/"
    },
    "id": "qbVS3nkf5xAX",
    "outputId": "a580ee4d-2d3a-46df-8fcf-8d5ed7c42192"
   },
   "outputs": [
    {
     "data": {
      "text/plain": [
       "True"
      ]
     },
     "execution_count": 132,
     "metadata": {},
     "output_type": "execute_result"
    }
   ],
   "source": [
    "hash(c1) == hash(c2)"
   ]
  },
  {
   "cell_type": "markdown",
   "metadata": {
    "id": "V7wwcRnM5tyZ"
   },
   "source": [
    "Они не только равны по значению, но и имеют одинаковые хеш-коды, что важно при работе со структурами данных, основанными на хешировании. В этом случае объект `c2` воспринимается системой как эквивалент ключа `c1` и позволяет, например, извлекать данные из словаря по вновь созданному, но равному объекту:"
   ]
  },
  {
   "cell_type": "code",
   "execution_count": null,
   "metadata": {
    "id": "7HrqPYZY56cd"
   },
   "outputs": [],
   "source": [
    "dc = dict()"
   ]
  },
  {
   "cell_type": "code",
   "execution_count": null,
   "metadata": {
    "id": "faZRKmqy58cQ"
   },
   "outputs": [],
   "source": [
    "dc[c1] = 110"
   ]
  },
  {
   "cell_type": "code",
   "execution_count": null,
   "metadata": {
    "colab": {
     "base_uri": "https://localhost:8080/"
    },
    "id": "il8iTyAx5-I2",
    "outputId": "1270a0aa-0da7-46ac-bf1c-74964f3b7438"
   },
   "outputs": [
    {
     "data": {
      "text/plain": [
       "110"
      ]
     },
     "execution_count": 135,
     "metadata": {},
     "output_type": "execute_result"
    }
   ],
   "source": [
    "dc[c2]"
   ]
  },
  {
   "cell_type": "markdown",
   "metadata": {
    "id": "C2LFSOfU6AJ1"
   },
   "source": [
    "Несмотря на то, что `c2` создаётся отдельно, он распознаётся как совпадающий с `c1`, поскольку их хеши совпадают, и они считаются равными. Такое поведение возможно только при согласованной реализации методов `__hash__()` и `__eq__()`. Пример с классом `Color` наглядно демонстрирует, как за счёт хеширования по неизменяемым значениям и определения логического равенства по содержимому можно добиться корректной и предсказуемой работы пользовательских объектов в ассоциативных структурах Python."
   ]
  },
  {
   "cell_type": "markdown",
   "metadata": {
    "id": "um8SkbDs6a0J"
   },
   "source": [
    "Таким образом, функция `hash()` в Python представляет собой не просто инструмент для получения числового представления объекта, но важнейший механизм, лежащий в основе ассоциативного хранения данных. Её корректное поведение обеспечивает быстрый доступ и точное сопоставление элементов в структурах, использующих хеш-адресацию. Применительно к встроенным типам хеширование работает автоматически, но при проектировании пользовательских классов требуется явное определение логики сравнения и хеширования. Именно согласованная реализация методов `__eq__()` и `__hash__()` позволяет создавать объекты, способные надёжно участвовать в работе словарей и множеств, сохраняя логическую целостность и эффективность операций. Хеш-функция, построенная на неизменяемых значениях, и сравнение по содержанию обеспечивают предсказуемую и корректную интеграцию пользовательских объектов в хеш-таблицы, тем самым расширяя возможности языка для построения устойчивых и выразительных структур данных."
   ]
  },
  {
   "cell_type": "markdown",
   "metadata": {
    "id": "IisDzAaCi0oK"
   },
   "source": [
    "### <font color='Teal'>Методы разрешения коллизий"
   ]
  },
  {
   "cell_type": "markdown",
   "metadata": {
    "id": "l53lv9eg64i-"
   },
   "source": [
    "В хеш-таблицах коллизии неизбежны: различные ключи могут иметь одинаковые хеш-значения и попадать в одну ячейку. Для обработки таких ситуаций применяются специальные методы разрешения коллизий, каждый из которых определяет способ хранения и доступа к элементам с совпадающим хешем. Одним из таких подходов является **метод цепочек**."
   ]
  },
  {
   "cell_type": "markdown",
   "metadata": {
    "id": "6vlVyK1l9PEs"
   },
   "source": [
    "Метод цепочек основан на идее хранения всех элементов, хешированных в одну и ту же ячейку, в виде <u>связанного списка</u>. Таким образом, каждая ячейка массива либо пуста (например, содержит значение `None`), либо содержит указатель на начало списка объектов, чьи хеш-значения совпадают. Такой подход сохраняет простоту доступа по хешу и обеспечивает расширяемость — в одну и ту же ячейку можно поместить произвольное количество значений, не изменяя структуру самой таблицы."
   ]
  },
  {
   "cell_type": "markdown",
   "metadata": {
    "id": "aBxKdioM9ifp"
   },
   "source": [
    "Рассмотрим конкретный пример, демонстрирующий работу метода цепочек. В качестве хеш-функции используется функция, возвращающая остаток от деления ключа `k` на `11`:"
   ]
  },
  {
   "cell_type": "code",
   "execution_count": null,
   "metadata": {
    "id": "OI-zyzVn9lb-"
   },
   "outputs": [],
   "source": [
    "def h(k):\n",
    "    return k % 11"
   ]
  },
  {
   "cell_type": "markdown",
   "metadata": {
    "id": "v2IXwjDj9pqy"
   },
   "source": [
    "Список ключей:"
   ]
  },
  {
   "cell_type": "code",
   "execution_count": null,
   "metadata": {
    "id": "ldcQ6DzZ9nkU"
   },
   "outputs": [],
   "source": [
    "keys1 = [54, 26, 93, 17, 77, 31, 44, 20, 55]"
   ]
  },
  {
   "cell_type": "markdown",
   "metadata": {
    "id": "_V66-3YU9sIK"
   },
   "source": [
    "Результаты применения хеш-функции `h(k)` к каждому ключу:"
   ]
  },
  {
   "cell_type": "code",
   "execution_count": null,
   "metadata": {
    "colab": {
     "base_uri": "https://localhost:8080/"
    },
    "id": "0ji0RZq2-GnZ",
    "outputId": "64137452-d481-4001-dc9b-fc6d35d6f12a"
   },
   "outputs": [
    {
     "data": {
      "text/plain": [
       "[10, 4, 5, 6, 0, 9]"
      ]
     },
     "execution_count": 137,
     "metadata": {},
     "output_type": "execute_result"
    }
   ],
   "source": [
    "[h(k) for k in keys1]"
   ]
  },
  {
   "cell_type": "markdown",
   "metadata": {
    "id": "SklwHm-o-Lnz"
   },
   "source": [
    "Как видно из полученного списка хешей, ключи `77`, `44` и `55` отображаются в ячейку с индексом `0`, а ключи `31` и `20` — в ячейку `9`. Это приводит к возникновению коллизий. Метод цепочек позволяет корректно обработать такие случаи, добавляя значения в связный список внутри соответствующей ячейки. На рис. 4 представлено, как в результирующей таблице ячейка `0` указывает на начало списка `77 → 44 → 55`, а ячейка `9` — на список `31 → 20`. Все остальные ячейки содержат либо по одному элементу, либо остаются пустыми (`None`)."
   ]
  },
  {
   "cell_type": "markdown",
   "metadata": {
    "id": "REEEJoju-UVn"
   },
   "source": [
    "![изображение.png](data:image/png;base64,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)\n",
    "\n",
    "*Рисунок 4 — Хеш-таблица с разрешением коллизий методом цепочек*"
   ]
  },
  {
   "cell_type": "markdown",
   "metadata": {
    "id": "D9bwd65F-Z2z"
   },
   "source": [
    "Такой подход делает структуру таблицы динамически расширяемой: в каждую ячейку можно поместить столько элементов, сколько потребуется, при этом сохраняется общая логика хеш-адресации. Кроме того, время вставки нового элемента остаётся эффективным — в среднем оно составляет $O(1)$, если таблица сбалансирована и количество элементов в списках невелико. В наихудшем случае, когда все элементы попадают в одну ячейку, время вставки и поиска возрастает до $O(n)$, где $n$ — общее число элементов. Тем не менее, при хорошем выборе хеш-функции и разумном соотношении размера таблицы к числу элементов метод цепочек работает стабильно и быстро."
   ]
  },
  {
   "cell_type": "markdown",
   "metadata": {
    "id": "YJnZmI50-ra6"
   },
   "source": [
    "Удаление элемента также может быть выполнено за время, пропорциональное длине списка в ячейке. Для этого достаточно найти нужный элемент в связном списке, а затем изменить ссылки так, чтобы исключить его из структуры. Поддержка операций вставки, удаления и поиска делает метод цепочек универсальным и надёжным выбором для многих практических реализаций хеш-таблиц."
   ]
  },
  {
   "cell_type": "markdown",
   "metadata": {
    "id": "hWrDFFVT_i9A"
   },
   "source": [
    "Реализация хеш-таблицы с методом цепочек может быть организована с помощью списка, каждая ячейка которого содержит отдельную цепочку — список пар вида (ключ, значение). В классической постановке цепочки представляют собой связанные списки, однако в языке Python естественно использовать встроенный тип `list`, который обеспечивает необходимую функциональность и удобочитаемость. При вставке новый элемент помещается в конец соответствующей цепочки, либо заменяет уже существующий, если такой ключ в списке уже присутствует.\n",
    "\n",
    "Ниже приведён класс `HashTable`, реализующий подобное поведение:"
   ]
  },
  {
   "cell_type": "code",
   "execution_count": null,
   "metadata": {
    "id": "9LIDAa-a_pCj"
   },
   "outputs": [],
   "source": [
    "class HashTable:\n",
    "    def __init__(self, size=11):\n",
    "        self.size = size\n",
    "        self.table = [[] for _ in range(size)]\n",
    "\n",
    "    def _hash(self, key):\n",
    "        return key % self.size\n",
    "\n",
    "    def insert(self, key, value):\n",
    "        index = self._hash(key)\n",
    "        for i, (k, _) in enumerate(self.table[index]):\n",
    "            if k == key:\n",
    "                self.table[index][i] = (key, value)\n",
    "                return\n",
    "        self.table[index].append((key, value))\n",
    "\n",
    "    def get(self, key):\n",
    "        index = self._hash(key)\n",
    "        for k, v in self.table[index]:\n",
    "            if k == key:\n",
    "                return v\n",
    "        raise KeyError(f'Ключ {key} не найден')\n",
    "\n",
    "    def delete(self, key):\n",
    "        index = self._hash(key)\n",
    "        for i, (k, _) in enumerate(self.table[index]):\n",
    "            if k == key:\n",
    "                del self.table[index][i]\n",
    "                return\n",
    "        raise KeyError(f'Ключ {key} не найден')\n",
    "\n",
    "    def display(self):\n",
    "        for index, chain in enumerate(self.table):\n",
    "            if chain:\n",
    "                entries = ' → '.join(f'{k}:{v}' for k, v in chain)\n",
    "                print(f'{index}: {entries}')\n",
    "            else:\n",
    "                print(f'{index}: ∅')"
   ]
  },
  {
   "cell_type": "markdown",
   "metadata": {
    "id": "EOTvml_O_3KQ"
   },
   "source": [
    "Метод `__init__` принимает аргумент `size`, задающий количество ячеек в таблице, по умолчанию — `11`. В качестве структуры хранения используется список списков: `self.table` — это массив длины `size`, в каждой ячейке которого изначально находится пустой список. Именно этот список впоследствии будет использоваться в качестве цепочки. Таким образом, таблица создаётся заранее, но каждая цепочка наполняется по мере вставки элементов. Такая инициализация позволяет сразу задать фиксированное число ячеек и избежать перераспределения памяти на первом этапе.\n",
    "\n",
    "Метод `_hash` реализует простейшую хеш-функцию — остаток от деления ключа на размер таблицы. Эта функция отображает ключ в допустимый диапазон индексов таблицы от `0` до `self.size - 1`. Она используется во всех основных операциях для определения ячейки, в которую должен быть помещён или из которой должен быть извлечён элемент.\n",
    "\n",
    "Метод `insert` отвечает за добавление пары ключ–значение в таблицу. Сначала вычисляется хеш-значение ключа и определяется индекс цепочки. Затем происходит перебор всех пар в данной цепочке. Если среди них уже присутствует пара с тем же ключом, её значение заменяется на новое, а операция завершается. В противном случае в конец цепочки добавляется новая пара. Такое поведение обеспечивает корректную перезапись значения при повторной вставке того же ключа и поддерживает однозначное соответствие между ключами и значениями.\n",
    "\n",
    "Метод `get` реализует поиск значения по ключу. По вычисленному индексу цепочки производится последовательный перебор всех пар. Если ключ совпадает с искомым, возвращается соответствующее значение. Если ни одна пара не удовлетворяет условию, возбуждается исключение `KeyError`. Это соответствует стандартному поведению словарей в Python, где отсутствие ключа в таблице считается ошибкой доступа.\n",
    "\n",
    "Метод `delete` позволяет удалить элемент по ключу. Поиск осуществляется аналогично методу `get`: по хешу выбирается цепочка, затем выполняется последовательный просмотр. При нахождении совпадающего ключа соответствующая пара удаляется из списка. Если ключ в цепочке отсутствует, возбуждается исключение `KeyError`, сообщающее о невозможности удаления несуществующего элемента.\n",
    "\n",
    "Для наглядного отображения содержимого таблицы может быть использован вспомогательный метод `display`. Он проходит по всем ячейкам таблицы и для каждой выводит либо символ пустоты, если цепочка пуста, либо последовательность пар ключ–значение, записанных через стрелку. Цепочки оформляются в читаемом виде: пары соединяются символом «→», а каждая строка начинается с номера соответствующей ячейки."
   ]
  },
  {
   "cell_type": "markdown",
   "metadata": {
    "id": "9Bhw5oZDAnat"
   },
   "source": [
    "Для проверки работы структуры можно создать объект таблицы и добавить в неё последовательность пар ключ–значение, например, с теми же значениями ключей, что использовались ранее:"
   ]
  },
  {
   "cell_type": "code",
   "execution_count": null,
   "metadata": {
    "id": "gBLXGSsiAq9s"
   },
   "outputs": [],
   "source": [
    "ht = HashTable()"
   ]
  },
  {
   "cell_type": "code",
   "execution_count": null,
   "metadata": {
    "id": "i6Bu-pzIAs2B"
   },
   "outputs": [],
   "source": [
    "for key, value in zip([54, 26, 93, 17, 77, 31, 44, 20, 55], 'abcdefghi'):\n",
    "    ht.insert(key, value)"
   ]
  },
  {
   "cell_type": "code",
   "execution_count": null,
   "metadata": {
    "colab": {
     "base_uri": "https://localhost:8080/"
    },
    "id": "O9mKc-RDCZBQ",
    "outputId": "57fd5cbc-1168-4e6e-8c0a-d723da372c50"
   },
   "outputs": [
    {
     "name": "stdout",
     "output_type": "stream",
     "text": [
      "0: 77:e → 44:g → 55:i\n",
      "1: ∅\n",
      "2: ∅\n",
      "3: ∅\n",
      "4: 26:b\n",
      "5: 93:c\n",
      "6: 17:d\n",
      "7: ∅\n",
      "8: ∅\n",
      "9: 31:f → 20:h\n",
      "10: 54:a\n"
     ]
    }
   ],
   "source": [
    "ht.display()"
   ]
  },
  {
   "cell_type": "markdown",
   "metadata": {
    "id": "elBBNL1DBGri"
   },
   "source": [
    "После добавления всех пар возможен вызов:"
   ]
  },
  {
   "cell_type": "code",
   "execution_count": null,
   "metadata": {
    "colab": {
     "base_uri": "https://localhost:8080/",
     "height": 35
    },
    "id": "rYPaZwQWBHv4",
    "outputId": "5c24803e-3089-4581-cbdb-7cc8adcac376"
   },
   "outputs": [
    {
     "data": {
      "application/vnd.google.colaboratory.intrinsic+json": {
       "type": "string"
      },
      "text/plain": [
       "'e'"
      ]
     },
     "execution_count": 149,
     "metadata": {},
     "output_type": "execute_result"
    }
   ],
   "source": [
    "ht.get(77)"
   ]
  },
  {
   "cell_type": "markdown",
   "metadata": {
    "id": "fJnS7atmBMZW"
   },
   "source": [
    "Можно выполнить удаление элемента с этим ключом:"
   ]
  },
  {
   "cell_type": "code",
   "execution_count": null,
   "metadata": {
    "id": "UiYjoR_tBRr9"
   },
   "outputs": [],
   "source": [
    "ht.delete(77)"
   ]
  },
  {
   "cell_type": "code",
   "execution_count": null,
   "metadata": {
    "colab": {
     "base_uri": "https://localhost:8080/"
    },
    "id": "hd4ZdcBXCgPR",
    "outputId": "43b0c05e-c16c-4284-c2c5-1ba891e3de68"
   },
   "outputs": [
    {
     "name": "stdout",
     "output_type": "stream",
     "text": [
      "0: 44:g → 55:i\n",
      "1: ∅\n",
      "2: ∅\n",
      "3: ∅\n",
      "4: 26:b\n",
      "5: 93:c\n",
      "6: 17:d\n",
      "7: ∅\n",
      "8: ∅\n",
      "9: 31:f → 20:h\n",
      "10: 54:a\n"
     ]
    }
   ],
   "source": [
    "ht.display()"
   ]
  },
  {
   "cell_type": "markdown",
   "metadata": {
    "id": "XcoIWPyLBQyl"
   },
   "source": [
    "После удаления вызов `ht.get(77)` приведёт к исключению, поскольку элемент больше не содержится в таблице. Повторная вставка элемента с тем же ключом приведёт к замещению значения, так как метод `insert` сначала проверяет наличие совпадающего ключа в цепочке и при необходимости обновляет соответствующую пару:"
   ]
  },
  {
   "cell_type": "code",
   "execution_count": null,
   "metadata": {
    "id": "vU7l7u4gBY-j"
   },
   "outputs": [],
   "source": [
    "ht.insert(77, 'новое значение')"
   ]
  },
  {
   "cell_type": "code",
   "execution_count": null,
   "metadata": {
    "colab": {
     "base_uri": "https://localhost:8080/"
    },
    "id": "C6z56jyRCmFO",
    "outputId": "3ee599ac-1c43-425a-c50a-89495063d452"
   },
   "outputs": [
    {
     "name": "stdout",
     "output_type": "stream",
     "text": [
      "0: 44:g → 55:i → 77:новое значение\n",
      "1: ∅\n",
      "2: ∅\n",
      "3: ∅\n",
      "4: 26:b\n",
      "5: 93:c\n",
      "6: 17:d\n",
      "7: ∅\n",
      "8: ∅\n",
      "9: 31:f → 20:h\n",
      "10: 54:a\n"
     ]
    }
   ],
   "source": [
    "ht.display()"
   ]
  },
  {
   "cell_type": "markdown",
   "metadata": {
    "id": "SVsgkwmXBbZA"
   },
   "source": [
    "Таким образом, метод цепочек обеспечивает устойчивую работу хеш-таблицы при возникновении коллизий, позволяя хранить произвольное количество элементов в каждой ячейке без перераспределения массива. Все операции — вставка, поиск и удаление — выполняются в пределах локальной цепочки, что делает структуру гибкой и удобной в реализации. При умеренной загрузке и хорошей хеш-функции этот подход сохраняет высокую производительность и остаётся одним из наиболее надёжных способов организации ассоциативного хранения данных."
   ]
  },
  {
   "cell_type": "markdown",
   "metadata": {
    "id": "MtKQ_QBUEn-m"
   },
   "source": [
    "\n",
    "\n",
    "---\n",
    "\n"
   ]
  },
  {
   "cell_type": "markdown",
   "metadata": {
    "id": "Kj7m-cJhEow6"
   },
   "source": [
    "В другом подходе к размещению элементов — **методе открытой адресации** — все данные сохраняются непосредственно в ячейках основной таблицы. Каждая ячейка может содержать либо элемент множества, либо специальное значение, обозначающее пустую позицию (например, None или логический маркер). В случае коллизии новая позиция определяется по заданному правилу обхода, без привлечения внешних структур."
   ]
  },
  {
   "cell_type": "markdown",
   "metadata": {
    "id": "lmtS-FexEyjW"
   },
   "source": [
    "Поиск элемента в таблице с открытой адресацией осуществляется последовательной проверкой ячеек по определённой схеме. Начав с ячейки, соответствующей хеш-значению ключа, алгоритм проходит по таблице, переходя к следующей ячейке, если текущая либо пуста, либо содержит другой ключ. Процесс продолжается до тех пор, пока не будет найден искомый элемент или не будет достигнута пустая ячейка, что означает его отсутствие."
   ]
  },
  {
   "cell_type": "markdown",
   "metadata": {
    "id": "dW1WH0VKFaqN"
   },
   "source": [
    "Одним из ограничений этого метода является то, что таблица может быть полностью заполнена — в отличие от метода цепочек, где количество элементов не ограничено фиксированным размером основного массива. Поэтому в методе открытой адресации критическим становится <u>коэффициент заполнения</u>, то есть отношение числа фактически размещённых элементов к общему числу ячеек. В такой таблице он не может превышать 1, поскольку каждый элемент занимает отдельную ячейку. При приближении коэффициента заполнения к единице производительность операций резко падает, а при полном заполнении вставка становится невозможной.\n",
    "\n",
    "К достоинствам открытой адресации относится то, что разрешение коллизий происходит без дополнительных структур и указателей. Вместо этого вычисляется последовательность индексов, по которой осуществляется проверка. Это позволяет сэкономить память, а при большом размере таблицы и разумной стратегии обхода — сократить количество коллизий и ускорить доступ к данным. Метод открытой адресации, несмотря на свои ограничения, широко используется в практических реализациях хеш-таблиц, особенно в тех случаях, когда требуется хранение всех данных в одном массиве."
   ]
  },
  {
   "cell_type": "markdown",
   "metadata": {
    "id": "dYr0nQfuIYAT"
   },
   "source": [
    "Вставка элемента при использовании метода открытой адресации осуществляется последовательным исследованием ячеек хеш-таблицы до тех пор, пока не будет найдена свободная позиция. В отличие от метода цепочек, где коллизии обрабатываются с помощью внешних структур, здесь все действия выполняются внутри таблицы. При возникновении коллизии предпринимается новая попытка с другим индексом, определяемым расширенной хеш-функцией, в которую включается номер текущей попытки вставки.\n",
    "\n",
    "Для этого базовая хеш-функция дополняется вторым параметром — счётчиком попыток — и принимает вид $h(k, i)$, где $k$ — ключ, $i$ — номер шага, а возвращаемое значение — индекс ячейки таблицы. Функция должна быть организована так, чтобы вся таблица могла быть последовательно просмотрена: для любого $k$ последовательность $h(k, 0), h(k, 1), \\dots, h(k, m - 1)$ должна быть перестановкой индексов от $0$ до $m - 1$. Это требование необходимо для гарантии завершения вставки при наличии хотя бы одной свободной ячейки.\n",
    "\n",
    "Процесс вставки реализуется согласно следующему алгоритму. На первом шаге переменная $i$ инициализируется нулём. Затем на каждом шаге вычисляется индекс $j = h(k, i)$. Если ячейка с этим индексом свободна (например, содержит значение `None`), ключ записывается туда, и операция завершается. Если ячейка занята, значение $i$ увеличивается, и процедура повторяется. При достижении значения $i = m$ делается вывод, что таблица переполнена, так как не осталось доступных ячеек для вставки."
   ]
  },
  {
   "cell_type": "markdown",
   "metadata": {
    "id": "mip9BDZPI4QK"
   },
   "source": [
    "Аналогично строится алгоритм поиска элемента по ключу. Последовательно вычисляются значения $h(k, i)$ и проверяется содержимое соответствующих ячеек. Если найден элемент с совпадающим ключом, он возвращается. Если встречена пустая ячейка (`None`), делается вывод, что элемент в таблице отсутствует. Поиск продолжается до тех пор, пока не выполнено хотя бы одно из двух условий: либо найден нужный ключ, либо просмотрены все возможные позиции."
   ]
  },
  {
   "cell_type": "markdown",
   "metadata": {
    "id": "wlHNF4vFI_Ny"
   },
   "source": [
    "Удаление элемента при использовании метода открытой адресации требует особого подхода. Прямое удаление путём замены содержимого ячейки на `None` может привести к логической ошибке: при последующем поиске элемент с тем же хешем, вставленный позже, может быть пропущен из-за преждевременной остановки при встрече пустой ячейки. Чтобы избежать этой ситуации, применяется специальное значение-маркер `DELETED`, обозначающее логически удалённый, но технически занятый слот. При вставке такие ячейки считаются свободными, а при поиске — не приводят к остановке и не используются для заключения об отсутствии элемента.\n",
    "\n",
    "Следует учитывать, что накопление пометок `DELETED` снижает эффективность работы таблицы. С ростом числа удалённых элементов увеличивается среднее число шагов, необходимых для поиска, что напрямую влияет на производительность. Для восстановления исходной эффективности периодически выполняется переупаковка таблицы, при которой элементы перехешируются и размещаются в новую структуру без промежуточных маркеров. Выбор конкретной стратегии удаления зависит от требований к производительности, допустимой сложности реализации и объёма доступной памяти."
   ]
  },
  {
   "cell_type": "markdown",
   "metadata": {
    "id": "Nwe_qMc_JKlP"
   },
   "source": [
    "Метод открытой адресации, несмотря на указанные сложности, остаётся надёжным и широко применяемым способом организации хеш-таблиц. Его эффективность в значительной степени определяется качеством хеш-функции и стратегией пробирования (линейное, квадратичное, двойное хеширование)."
   ]
  },
  {
   "cell_type": "markdown",
   "metadata": {
    "id": "sYayhJO7Kw2w"
   },
   "source": [
    "Рассмотрим пример реализации хеш-таблицы с методом открытой адресации, включающей операции вставки, поиска, удаления, а также метод `display`, позволяющий отобразить текущее состояние таблицы. Используется линейное пробирование как простейшая стратегия обхода (стратегии пробирования будут расмотрены ниже):"
   ]
  },
  {
   "cell_type": "code",
   "execution_count": null,
   "metadata": {
    "id": "k4QL2y2KLvUh"
   },
   "outputs": [],
   "source": [
    "class OpenAddressingHashTable:\n",
    "    def __init__(self, size=11):\n",
    "        self.size = size\n",
    "        self.table = [None] * size\n",
    "        self.DELETED = object()\n",
    "\n",
    "    def _hash(self, key, i):\n",
    "        return (key + i) % self.size\n",
    "\n",
    "    def insert(self, key, value):\n",
    "        for i in range(self.size):\n",
    "            j = self._hash(key, i)\n",
    "            if self.table[j] is None or self.table[j] is self.DELETED:\n",
    "                self.table[j] = (key, value)\n",
    "                return\n",
    "            if self.table[j][0] == key:\n",
    "                self.table[j] = (key, value)\n",
    "                return\n",
    "        raise Exception('Хеш-таблица переполнена')\n",
    "\n",
    "    def get(self, key):\n",
    "        for i in range(self.size):\n",
    "            j = self._hash(key, i)\n",
    "            if self.table[j] is None:\n",
    "                break\n",
    "            if self.table[j] is not self.DELETED and self.table[j][0] == key:\n",
    "                return self.table[j][1]\n",
    "        raise KeyError(f'Ключ {key} не найден')\n",
    "\n",
    "    def delete(self, key):\n",
    "        for i in range(self.size):\n",
    "            j = self._hash(key, i)\n",
    "            if self.table[j] is None:\n",
    "                break\n",
    "            if self.table[j] is not self.DELETED and self.table[j][0] == key:\n",
    "                self.table[j] = self.DELETED\n",
    "                return\n",
    "        raise KeyError(f'Ключ {key} не найден')\n",
    "\n",
    "    def display(self):\n",
    "        for i, slot in enumerate(self.table):\n",
    "            if slot is None:\n",
    "                print(f'{i}: ∅')\n",
    "            elif slot is self.DELETED:\n",
    "                print(f'{i}: DEL')\n",
    "            else:\n",
    "                print(f'{i}: {slot[0]}:{slot[1]}')"
   ]
  },
  {
   "cell_type": "markdown",
   "metadata": {
    "id": "3OQPGW-hL-9q"
   },
   "source": [
    "Метод `__init__` принимает аргумент `size`, определяющий размер таблицы. По умолчанию используется значение `11`. Таблица инициализируется списком длины `size`, заполненным значениями `None`. Специальный объект `self.DELETED` используется как уникальный маркер для логически удалённых ячеек, чтобы их можно было отличать от действительно пустых. Эта мера необходима для корректной реализации поиска и повторной вставки.\n",
    "\n",
    "Метод `_hash` реализует хеш-функцию с линейным пробированием: при каждой новой попытке вставки или поиска к начальному хеш-значению прибавляется номер текущей попытки $i$, а результат берётся по модулю от размера таблицы. Формально это соответствует выражению $h(k, i) = (k + i) \\bmod m$. Такая стратегия обеспечивает просмотр всех ячеек таблицы в случае коллизий.\n",
    "\n",
    "Метод `insert` выполняет вставку пары ключ–значение. Он перебирает значения $i$ от 0 до размера таблицы, вычисляя соответствующий индекс $j = h(k, i)$. Если в позиции $j$ находится пустая ячейка (`None`) или ранее удалённая (`DELETED`), то в неё помещается новая пара, и операция завершается. Если ячейка содержит элемент с тем же ключом, его значение заменяется. Если все ячейки оказались заняты, возбуждается исключение — таблица переполнена.\n",
    "\n",
    "Метод `get` реализует поиск по ключу. Последовательно вычисляются индексы $h(k, i)$. Если на какой-либо итерации найдена пустая ячейка, делается вывод, что ключ отсутствует в таблице. Если найдена пара с совпадающим ключом, возвращается соответствующее значение. Если ячейка содержит маркер `DELETED`, поиск продолжается. Это поведение обеспечивает корректность при наличии удалённых элементов.\n",
    "\n",
    "Метод `delete` организует логическое удаление элемента. Как и в случае поиска, последовательно проверяются ячейки. Если находится пара с нужным ключом, она заменяется маркером `DELETED`. Если ключ не найден, возбуждается исключение `KeyError`. Прямое удаление с установкой `None` не применяется, чтобы не нарушить корректность обхода при открытой адресации.\n",
    "\n",
    "Метод `display` предназначен для визуального отображения текущего состояния таблицы. Каждая строка содержит индекс ячейки и её содержимое. Пустые ячейки обозначаются символом `∅`, удалённые — `DEL`, а занятые отображаются в виде пары `ключ:значение`. Такой вывод позволяет наглядно проследить структуру размещения элементов и последствия операций вставки и удаления."
   ]
  },
  {
   "cell_type": "markdown",
   "metadata": {
    "id": "h_U22cliL_O0"
   },
   "source": [
    "Пример использования:"
   ]
  },
  {
   "cell_type": "code",
   "execution_count": null,
   "metadata": {
    "id": "XFd1xFgXL_62"
   },
   "outputs": [],
   "source": [
    "ht = OpenAddressingHashTable()"
   ]
  },
  {
   "cell_type": "code",
   "execution_count": null,
   "metadata": {
    "id": "qR7bM2neMCRp"
   },
   "outputs": [],
   "source": [
    "for key, value in zip([54, 26, 93, 17, 77, 31, 44, 20, 55], 'abcdefghi'):\n",
    "    ht.insert(key, value)"
   ]
  },
  {
   "cell_type": "code",
   "execution_count": null,
   "metadata": {
    "colab": {
     "base_uri": "https://localhost:8080/"
    },
    "id": "Pas8wQgpMF6f",
    "outputId": "183cba04-e476-4663-ee45-b21ae5cbe15b"
   },
   "outputs": [
    {
     "name": "stdout",
     "output_type": "stream",
     "text": [
      "0: 77:e\n",
      "1: 44:g\n",
      "2: 20:h\n",
      "3: 55:i\n",
      "4: 26:b\n",
      "5: 93:c\n",
      "6: 17:d\n",
      "7: ∅\n",
      "8: ∅\n",
      "9: 31:f\n",
      "10: 54:a\n"
     ]
    }
   ],
   "source": [
    "ht.display()"
   ]
  },
  {
   "cell_type": "code",
   "execution_count": null,
   "metadata": {
    "id": "bfoBEqe0MW7M"
   },
   "outputs": [],
   "source": [
    "ht.delete(93)"
   ]
  },
  {
   "cell_type": "code",
   "execution_count": null,
   "metadata": {
    "colab": {
     "base_uri": "https://localhost:8080/"
    },
    "id": "m1lia3vDMZVX",
    "outputId": "b0d31e3b-fed6-4051-a22f-3b3bd60be5dd"
   },
   "outputs": [
    {
     "name": "stdout",
     "output_type": "stream",
     "text": [
      "0: 77:e\n",
      "1: 44:g\n",
      "2: 20:h\n",
      "3: 55:i\n",
      "4: 26:b\n",
      "5: DEL\n",
      "6: 17:d\n",
      "7: ∅\n",
      "8: ∅\n",
      "9: 31:f\n",
      "10: 54:a\n"
     ]
    }
   ],
   "source": [
    "ht.display()"
   ]
  },
  {
   "cell_type": "code",
   "execution_count": null,
   "metadata": {
    "id": "cx3v3zLhMeJe"
   },
   "outputs": [],
   "source": [
    "ht.insert(88, 'f')"
   ]
  },
  {
   "cell_type": "code",
   "execution_count": null,
   "metadata": {
    "colab": {
     "base_uri": "https://localhost:8080/"
    },
    "id": "Sreb-i0DMezr",
    "outputId": "0d0efb9c-c484-4fda-f42b-46d8408cca5d"
   },
   "outputs": [
    {
     "name": "stdout",
     "output_type": "stream",
     "text": [
      "0: 77:e\n",
      "1: 44:g\n",
      "2: 20:h\n",
      "3: 55:i\n",
      "4: 26:b\n",
      "5: 88:f\n",
      "6: 17:d\n",
      "7: ∅\n",
      "8: ∅\n",
      "9: 31:f\n",
      "10: 54:a\n"
     ]
    }
   ],
   "source": [
    "ht.display()"
   ]
  },
  {
   "cell_type": "markdown",
   "metadata": {
    "id": "lGI8zHQmMFCi"
   },
   "source": [
    "Этот код демонстрирует, как работает хеш-таблица с открытой адресацией при вставке, удалении и повторном использовании ячеек. При необходимости, можно реализовать <u>альтернативные</u> стратегии пробирования, изменяя определение метода `_hash`."
   ]
  },
  {
   "cell_type": "markdown",
   "metadata": {
    "id": "ieCrHAipOaYk"
   },
   "source": [
    "Таким образом, метод открытой адресации позволяет эффективно размещать элементы прямо в структуре таблицы, не прибегая к дополнительным указателям или внешним спискам. Он чувствителен к выбору хеш-функции и стратегии пробирования, так как именно они определяют порядок обхода ячеек при вставке, поиске и удалении. Для сохранения высокой производительности при росте числа элементов требуется не только контролировать коэффициент заполнения, но и тщательно подбирать способ обхода таблицы. Далее рассматриваются различные стратегии пробирования, определяющие, как именно формируется последовательность ячеек при разрешении коллизий."
   ]
  },
  {
   "cell_type": "markdown",
   "metadata": {
    "id": "SUJ4sqjxOgR7"
   },
   "source": [
    "\n",
    "\n",
    "---\n",
    "\n"
   ]
  },
  {
   "cell_type": "markdown",
   "metadata": {
    "id": "Zv8I5N6uOiSs"
   },
   "source": [
    "Одной из базовых стратегий разрешения коллизий в рамках открытой адресации является **линейное пробирование**. Эта стратегия задаёт последовательный просмотр ячеек таблицы с постоянным шагом и используется при каждой новой попытке вставки, поиска или удаления элемента после возникновения коллизии."
   ]
  },
  {
   "cell_type": "markdown",
   "metadata": {
    "id": "Iegnceq-Q34-"
   },
   "source": [
    "В общем виде процесс пробирования в хеш-таблицах — это способ последовательного перебора ячеек таблицы с целью размещения нового элемента или поиска существующего при совпадении хеш-значений. При этом последовательность проверяемых индексов строится в зависимости от номера текущей попытки и параметров хеш-функции. В случае линейного пробирования используются равномерные шаги между ячейками, что обеспечивает простую и однозначную траекторию движения по таблице.\n",
    "\n",
    "Пусть $h'(k)$ — исходная хеш-функция, сопоставляющая ключу $k$ значение из диапазона $\\{0, 1, \\dots, m - 1\\}$, где $m$ — размер таблицы. Тогда при линейном пробировании итоговая хеш-функция определяется выражением:\n",
    "\n",
    "$$\n",
    "h(k, i) = (h'(k) + i) \\bmod m,\n",
    "$$\n",
    "\n",
    "где $i$ — номер шага в процессе вставки или поиска. Эта формула означает, что при каждой новой попытке используется индекс, смещённый на $i$ позиций от исходного хеш-значения. Оператор взятия по модулю гарантирует, что все вычисленные индексы остаются в пределах допустимого диапазона и последовательность может быть замкнута."
   ]
  },
  {
   "cell_type": "markdown",
   "metadata": {
    "id": "b4-KcKobRGtB"
   },
   "source": [
    "Линейное пробирование интуитивно просто и обеспечивает полный просмотр таблицы при необходимости. Однако у этого метода есть важный недостаток, связанный с явлением <u>первичной кластеризации</u>. Оно заключается в том, что группы смежных заполненных ячеек имеют тенденцию к слиянию, образуя длинные последовательности занятых ячеек. Такие кластеры возникают потому, что любой новый элемент, сталкивающийся с заполненной ячейкой, будет помещён в ближайшую свободную, тем самым увеличивая размер группы. В результате при последующих вставках и поисках количество шагов увеличивается, а производительность таблицы снижается."
   ]
  },
  {
   "cell_type": "markdown",
   "metadata": {
    "id": "jEMDasXSRttL"
   },
   "source": [
    "![изображение.png](data:image/png;base64,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)\n",
    "\n",
    "*Рисунок 5 — Хеш-таблица с открытой адресацией и линейным пробированием*"
   ]
  },
  {
   "cell_type": "markdown",
   "metadata": {
    "id": "yCePXr-GRcIZ"
   },
   "source": [
    "На рис. 5 представлена хеш-таблица с открытой адресацией и линейным пробированием, построенная на основе последовательности ключей `[54, 26, 93, 17, 77, 31, 44, 55, 20]` при использовании хеш-функции $h(k) = k \\bmod 11$. При возникновении коллизии применяется линейное пробирование: последовательно проверяются ячейки таблицы до первой свободной. Например, ключ `77` хешируется в ячейку `0`, `44` — также в `0`, но занимает следующую свободную ячейку `1`, а `55` — ячейку `2`. Ключ `20` должен попасть в ячейку `9`, однако она занята, как и последующие `10`, `0`, `1`, `2`, поэтому `20` размещается лишь в ячейке `3`. Подобная последовательность смещений приводит к образованию группы смежных занятых ячеек — примера первичной кластеризации, характерного для линейного пробирования."
   ]
  },
  {
   "cell_type": "markdown",
   "metadata": {
    "id": "gEPFbj-HXBSQ"
   },
   "source": [
    "Для уменьшения первичной кластеризации, характерной для линейного пробирования, применяется **квадратичное пробирование**. В этой стратегии последовательность проверяемых ячеек формируется с квадратично возрастающим смещением, что позволяет более равномерно распределять элементы по таблице и снижать вероятность длительных последовательностей занятых позиций."
   ]
  },
  {
   "cell_type": "markdown",
   "metadata": {
    "id": "5SmJsXxkXKvD"
   },
   "source": [
    "Для определения последовательности проверяемых ячеек применяется хеш-функция следующего вида:\n",
    "\n",
    "$$\n",
    "h(k, i) = \\left(h'(k) + c_1 i + c_2 i^2\\right) \\bmod m,\n",
    "$$\n",
    "\n",
    "где $h'(k)$ — первичная хеш-функция, $c_1$ и $c_2$ — дополнительные целочисленные параметры, а $m$ — размер таблицы. Параметр $i$ принимает значения от $0$ до $m - 1$ и задаёт номер текущей попытки размещения элемента."
   ]
  },
  {
   "cell_type": "markdown",
   "metadata": {
    "id": "uIytaJpfXRRx"
   },
   "source": [
    "При этом первая проверяемая ячейка совпадает с $h'(k)$, а последующие вычисляются с учётом квадратичного смещения: $h'(k) + 1$, $h'(k) + 4$, $h'(k) + 9$, и т.д. (модулярно по $m$). Такой метод улучшает распределение значений по таблице, снижая вероятность образования длинных кластеров. Однако при неудачном выборе параметров $c_1$, $c_2$ и $m$ может случиться, что не все ячейки таблицы окажутся достижимыми, даже если в таблице есть свободные позиции. Поэтому важно выбирать значения этих параметров так, чтобы обеспечивалась перестановка всех индексов таблицы.\n",
    "\n",
    "Достоинством квадратичного пробирования является более равномерное распределение ключей и уменьшение числа последовательных коллизий, особенно при заполнении значительной части таблицы. Однако этот метод сложнее в реализации и требует аккуратного подбора параметров, особенно в случае таблиц фиксированного размера."
   ]
  },
  {
   "cell_type": "markdown",
   "metadata": {
    "id": "l_TyOp0-Xb_J"
   },
   "source": [
    "Одной из наиболее универсальных стратегий пробирования является **двойное хеширование**, в котором для расчёта каждого следующего индекса используется вторая хеш-функция. Такой подход обеспечивает перестановку всех индексов таблицы и сводит к минимуму вероятность образования кластеров, особенно при высокой загрузке. В результате последовательность адресов имеет вид:\n",
    "\n",
    "$$\n",
    "h(k, i) = \\left(h_1(k) + i \\cdot h_2(k)\\right) \\bmod m,\n",
    "$$\n",
    "\n",
    "где $h_1(k)$ и $h_2(k)$ — две независимые хеш-функции. Вторая функция $h_2(k)$ должна быть таковой, чтобы гарантировать покрытие всех ячеек таблицы, то есть $h_2(k)$ и $m$ должны быть взаимно простыми. Это обеспечивает перестановку индексов таблицы и позволяет просматривать все позиции при возникновении коллизий.\n",
    "\n",
    "Преимущество двойного хеширования заключается в том, что при правильном выборе хеш-функций достигается высокая степень равномерности распределения, близкая к идеальной. Такой подход снижает вероятность кластеризации и сохраняет эффективность даже при значительном заполнении таблицы. Двойное хеширование считается одной из наиболее универсальных стратегий пробирования при реализации хеш-таблиц с открытой адресацией."
   ]
  },
  {
   "cell_type": "markdown",
   "metadata": {
    "id": "o2krnTbzXwAY"
   },
   "source": [
    "При реализации хеш-таблицы с открытой адресацией выше использовалась стратегия линейного пробирования. В этом случае в методе `_hash` при каждой новой попытке к начальному хеш-значению прибавлялось значение счётчика $i$, что реализует стратегию линейного пробирования — последовательного смещения на один шаг. Этот подход прост, но подвержен эффекту первичной кластеризации. Рассмотрим примеры реализации методов хеширования, соответствующих другим стратегиям (квадратичному пробированию и двойному хешированию), которые могут быть использованы в классе хеш-таблицы в качестве альтернатив `_hash`."
   ]
  },
  {
   "cell_type": "markdown",
   "metadata": {
    "id": "QIYbs3gpYtYc"
   },
   "source": [
    "Для квадратичного пробирования можно использовать следующую реализацию метода хеширования:\n",
    "\n",
    "```python\n",
    "def _hash(self, key, i):\n",
    "    c1, c2 = 1, 3\n",
    "    return (hash(key) + c1 * i + c2 * i * i) % self.size\n",
    "```\n",
    "\n",
    "Здесь используются две целочисленные константы `c1` и `c2`, которые определяют форму квадратичного смещения. Выбор значений влияет на покрытие индексов таблицы. Для обеспечения корректности следует удостовериться, что при любом `key` и `0 ≤ i < size` функция `_hash` даёт возможность обойти все ячейки, если это потребуется."
   ]
  },
  {
   "cell_type": "markdown",
   "metadata": {
    "id": "vtko6CkjY0wa"
   },
   "source": [
    "Для двойного хеширования метод `_hash` принимает следующий вид:\n",
    "\n",
    "```python\n",
    "def _hash(self, key, i):\n",
    "    h1 = hash(key) % self.size\n",
    "    h2 = 1 + (hash(key) % (self.size - 1))\n",
    "    return (h1 + i * h2) % self.size\n",
    "```\n",
    "\n",
    "Здесь `h1` — первичная хеш-функция, `h2` — вторая функция, определяющая шаг обхода. Использование $h_2(k) = 1 + (k \\bmod (m - 1))$ гарантирует, что значение шага всегда положительно и взаимно просто с размером таблицы (при $m$ — простом числе), что необходимо для полного покрытия таблицы. Эта реализация обеспечивает перестановку индексов таблицы и демонстрирует ключевое преимущество двойного хеширования — равномерное распределение даже при высоком коэффициенте заполнения."
   ]
  },
  {
   "cell_type": "markdown",
   "metadata": {
    "id": "NKiQMX42Y-wV"
   },
   "source": [
    "Выбор конкретной стратегии пробирования может быть реализован через изменение метода `_hash`, сохраняя остальную структуру класса без изменений. Это позволяет гибко адаптировать поведение хеш-таблицы в зависимости от требований к производительности и устойчивости к кластеризации."
   ]
  },
  {
   "cell_type": "markdown",
   "metadata": {
    "id": "wCH31GPbZwHL"
   },
   "source": [
    "В конечном итоге производительность хеш-таблицы напрямую зависит от способа разрешения коллизий, который определяет поведение всех операций в условиях плотного заполнения. Метод цепочек сохраняет гибкость за счёт внешних списков, метод открытой адресации требует точного управления стратегией пробирования. Линейный, квадратичный и двойной обход определяют, насколько устойчива таблица к кластеризации и как равномерно будут распределены элементы. Эффективная реализация достигается согласованным выбором хеш-функции, стратегии обхода и контролем за загрузкой таблицы."
   ]
  },
  {
   "cell_type": "markdown",
   "metadata": {
    "id": "WE9qRW3kjVeg"
   },
   "source": [
    "### <font color='Teal'>Примеры решения задач"
   ]
  },
  {
   "cell_type": "markdown",
   "metadata": {
    "id": "orP8JYUFrUjV"
   },
   "source": [
    "Практическое применение хеш-таблиц охватывает широкий круг задач, связанных с эффективным хранением и быстрым доступом к объектам по ключу. Ниже приводятся примеры, иллюстрирующие использование пользовательских структур и реализацию хеш-таблиц с различными стратегиями разрешения коллизий. Каждый пример строится вокруг типовой задачи: создание классов, организация хеш-таблицы, выполнение основных операций и интерпретация результата."
   ]
  },
  {
   "cell_type": "markdown",
   "metadata": {
    "id": "fqqbLe7_sd0G"
   },
   "source": [
    "**Пример 1.** Создать класс «Животное» с полями «Вид», «Кличка», «Пол» и «Возраст». Создать хеш-таблицу для хранения объектов класса «Животное» по ключу — номеру чипа."
   ]
  },
  {
   "cell_type": "markdown",
   "metadata": {
    "id": "zs6wdMrSshI6"
   },
   "source": [
    "**Решение.** Для хранения данных о животных используется пользовательский класс `Animal`, а связанная с ним хеш-таблица реализуется с помощью метода цепочек. В качестве ключей используется уникальный номер чипа, а значениями являются экземпляры класса. Таблица позволяет добавлять, удалять и извлекать объекты по ключу."
   ]
  },
  {
   "cell_type": "code",
   "execution_count": null,
   "metadata": {
    "id": "1LltUF0gs028"
   },
   "outputs": [],
   "source": [
    "class Animal:\n",
    "    def __init__(self, species, name, gender, age):\n",
    "        self.species = species\n",
    "        self.name = name\n",
    "        self.gender = gender\n",
    "        self.age = age\n",
    "\n",
    "    def __str__(self):\n",
    "        return (f\"Кличка: {self.name} ({self.species}), \"\n",
    "                f\"пол: {self.gender}, возраст: {self.age}\")"
   ]
  },
  {
   "cell_type": "markdown",
   "metadata": {
    "id": "dh6EwsUcs80X"
   },
   "source": [
    "Класс `Animal` описывает объект-животное с четырьмя основными полями: вид животного (`species`), кличка (`name`), пол (`gender`) и возраст (`age`). Метод `__str__` переопределён для удобного текстового представления объекта."
   ]
  },
  {
   "cell_type": "markdown",
   "metadata": {
    "id": "XkOtcx8buCOp"
   },
   "source": [
    "Класс `HashTable` реализует хеш-таблицу с методом цепочек для разрешения коллизий. Его основное назначение — эффективное хранение и доступ к элементам по заданному ключу, в данном случае — по уникальному номеру чипа животного. Класс поддерживает основные операции, необходимые для работы с ассоциативной структурой: вставку, удаление, поиск и визуализацию."
   ]
  },
  {
   "cell_type": "code",
   "execution_count": null,
   "metadata": {
    "id": "A_s2Qtb1tBe7"
   },
   "outputs": [],
   "source": [
    "class HashTable:\n",
    "    def __init__(self, size=10):\n",
    "        self.size = size\n",
    "        self.table = [[] for _ in range(self.size)]\n",
    "\n",
    "    def _hash(self, chip_number):\n",
    "        return hash(str(chip_number)) % self.size\n",
    "\n",
    "    def add(self, chip_number, animal):\n",
    "        index = self._hash(chip_number)\n",
    "        for item in self.table[index]:\n",
    "            if item[0] == chip_number:\n",
    "                item[1] = animal\n",
    "                return\n",
    "        self.table[index].append([chip_number, animal])\n",
    "\n",
    "    def remove(self, chip_number):\n",
    "        index = self._hash(chip_number)\n",
    "        for i, item in enumerate(self.table[index]):\n",
    "            if item[0] == chip_number:\n",
    "                del self.table[index][i]\n",
    "                return\n",
    "\n",
    "    def get(self, chip_number):\n",
    "        index = self._hash(chip_number)\n",
    "        for item in self.table[index]:\n",
    "            if item[0] == chip_number:\n",
    "                return item[1]\n",
    "        return None\n",
    "\n",
    "    def display(self):\n",
    "        for i, chain in enumerate(self.table):\n",
    "            if chain:\n",
    "                entries = ' → '.join(f'{key}: {value.name}' for key, value in chain)\n",
    "                print(f'{i}: {entries}')\n",
    "            else:\n",
    "                print(f'{i}: ∅')"
   ]
  },
  {
   "cell_type": "markdown",
   "metadata": {
    "id": "flEj3MOfuJDI"
   },
   "source": [
    "Конструктор `__init__` принимает необязательный параметр `size`, задающий количество ячеек в таблице (по умолчанию — 10). Каждая ячейка инициализируется пустым списком, представляющим цепочку, в которой будут храниться пары ключ–значение. В результате `self.table` становится списком списков, где каждая внутренняя структура представляет собой цепочку для разрешения коллизий.\n",
    "\n",
    "Метод `_hash` определяет хеш-функцию, преобразующую ключ `chip_number` в индекс таблицы. Для этого ключ сначала приводится к строке, чтобы обеспечить одинаковое поведение при использовании различных числовых типов (например, `int` и `str`). Далее применяется встроенная функция `hash`, и результат берётся по модулю `self.size`, чтобы получить допустимый индекс.\n",
    "\n",
    "Метод `add` добавляет элемент в таблицу. Сначала вычисляется индекс хеш-таблицы по номеру чипа, затем просматривается соответствующая цепочка. Если ключ уже присутствует, значение обновляется (то есть происходит замена объекта `animal` на новый). Если ключ отсутствует, пара `[chip_number, animal]` добавляется в конец цепочки.\n",
    "\n",
    "Метод `remove` отвечает за удаление элемента по ключу. По вычисленному индексу происходит перебор всех элементов в цепочке. При совпадении ключа соответствующий элемент удаляется из цепочки с помощью `del`. Если элемент не найден, никаких действий не происходит.\n",
    "\n",
    "Метод `get` реализует доступ к элементу по ключу. Вычисляется индекс таблицы и производится перебор цепочки в этой ячейке. Если найден элемент с совпадающим ключом, возвращается связанный с ним объект (в рассматриваемом примере — объект класса `Animal`). Если элемент не найден, возвращается `None`, что позволяет использовать метод в условных выражениях для проверки наличия ключа.\n",
    "\n",
    "Метод `display` выводит текущее состояние таблицы. Каждая строка начинается с номера ячейки, после чего следует либо символ `∅`, если цепочка пуста, либо последовательность пар `ключ:имя`, соединённых символом `→`."
   ]
  },
  {
   "cell_type": "markdown",
   "metadata": {
    "id": "Lyg27vGKu6-q"
   },
   "source": [
    "Создаётся объект таблицы и список животных:"
   ]
  },
  {
   "cell_type": "code",
   "execution_count": null,
   "metadata": {
    "id": "1FbPH2BAu8Pg"
   },
   "outputs": [],
   "source": [
    "animals = HashTable()"
   ]
  },
  {
   "cell_type": "code",
   "execution_count": null,
   "metadata": {
    "id": "wmFbwnghu-X-"
   },
   "outputs": [],
   "source": [
    "list_of_animals = [\n",
    "    Animal(\"собака\", \"Рекс\", \"муж.\", 5),\n",
    "    Animal(\"кошка\", \"Матильда\", \"жен.\", 7),\n",
    "    Animal(\"собака\", \"Белла\", \"жен.\", 3),\n",
    "    Animal(\"хомяк\", \"Кузьма\", \"муж.\", 1),\n",
    "    Animal(\"попугай\", \"Раджа\", \"муж.\", 2)\n",
    "    ]"
   ]
  },
  {
   "cell_type": "code",
   "execution_count": null,
   "metadata": {
    "colab": {
     "base_uri": "https://localhost:8080/"
    },
    "id": "XgYqcR7SvEXC",
    "outputId": "1f661624-6739-4c18-fba7-d1612da59b36"
   },
   "outputs": [
    {
     "name": "stdout",
     "output_type": "stream",
     "text": [
      "Кличка: Рекс (собака), пол: муж., возраст: 5\n",
      "Кличка: Матильда (кошка), пол: жен., возраст: 7\n",
      "Кличка: Белла (собака), пол: жен., возраст: 3\n",
      "Кличка: Кузьма (хомяк), пол: муж., возраст: 1\n",
      "Кличка: Раджа (попугай), пол: муж., возраст: 2\n"
     ]
    }
   ],
   "source": [
    "for animal in list_of_animals:\n",
    "    print(animal)"
   ]
  },
  {
   "cell_type": "markdown",
   "metadata": {
    "id": "h9uaD014vKRf"
   },
   "source": [
    "Животным присваиваются случайные номера чипов, и они добавляются в таблицу. Одновременно отображаются соответствия ключей:"
   ]
  },
  {
   "cell_type": "code",
   "execution_count": null,
   "metadata": {
    "id": "3yI1BaKVvLyH"
   },
   "outputs": [],
   "source": [
    "import random"
   ]
  },
  {
   "cell_type": "code",
   "execution_count": null,
   "metadata": {
    "id": "U-MbpegAvNjs"
   },
   "outputs": [],
   "source": [
    "chip_ids = []"
   ]
  },
  {
   "cell_type": "code",
   "execution_count": null,
   "metadata": {
    "colab": {
     "base_uri": "https://localhost:8080/"
    },
    "id": "1t6H0E8LvTY7",
    "outputId": "7f8e11e1-f789-4017-f991-69739ed5fd74"
   },
   "outputs": [
    {
     "name": "stdout",
     "output_type": "stream",
     "text": [
      "Номера чипов:\n",
      "622253200 — Рекс\n",
      "895335047 — Матильда\n",
      "333187080 — Белла\n",
      "591555609 — Кузьма\n",
      "654130903 — Раджа\n"
     ]
    }
   ],
   "source": [
    "print('Номера чипов:')\n",
    "for animal in list_of_animals:\n",
    "    chip_number = random.randint(100000000, 999999999)\n",
    "    chip_ids.append(chip_number)\n",
    "    print(f'{chip_number} — {animal.name}')\n",
    "    animals.add(chip_number, animal)"
   ]
  },
  {
   "cell_type": "markdown",
   "metadata": {
    "id": "sm46WZfqvct0"
   },
   "source": [
    "Вывод содержимого таблицы позволяет визуально оценить размещение элементов по ячейкам и увидеть цепочки:"
   ]
  },
  {
   "cell_type": "code",
   "execution_count": null,
   "metadata": {
    "colab": {
     "base_uri": "https://localhost:8080/"
    },
    "id": "0752ZjeyvXdp",
    "outputId": "275b7977-3233-4049-cbaa-8cab7f232264"
   },
   "outputs": [
    {
     "name": "stdout",
     "output_type": "stream",
     "text": [
      "Состояние хеш-таблицы после вставки:\n",
      "0: 622253200: Рекс → 591555609: Кузьма\n",
      "1: 654130903: Раджа\n",
      "2: ∅\n",
      "3: ∅\n",
      "4: ∅\n",
      "5: 895335047: Матильда\n",
      "6: ∅\n",
      "7: ∅\n",
      "8: 333187080: Белла\n",
      "9: ∅\n"
     ]
    }
   ],
   "source": [
    "print('Состояние хеш-таблицы после вставки:')\n",
    "animals.display()"
   ]
  },
  {
   "cell_type": "markdown",
   "metadata": {
    "id": "Zkjq_A4FvyQC"
   },
   "source": [
    "Далее осуществляется поиск двух животных по их номерам чипов:"
   ]
  },
  {
   "cell_type": "code",
   "execution_count": null,
   "metadata": {
    "colab": {
     "base_uri": "https://localhost:8080/"
    },
    "id": "lDDG7tNzvzdw",
    "outputId": "e2efe79e-583f-4d6f-f02b-049e249bd55c"
   },
   "outputs": [
    {
     "name": "stdout",
     "output_type": "stream",
     "text": [
      "Поиск по номеру чипа:\n",
      "Кличка: Рекс (собака), пол: муж., возраст: 5\n",
      "Кличка: Матильда (кошка), пол: жен., возраст: 7\n"
     ]
    }
   ],
   "source": [
    "print('Поиск по номеру чипа:')\n",
    "print(animals.get(chip_ids[0]))\n",
    "print(animals.get(chip_ids[1]))"
   ]
  },
  {
   "cell_type": "markdown",
   "metadata": {
    "id": "m16RsBHvwGjM"
   },
   "source": [
    "Один из объектов удаляется:"
   ]
  },
  {
   "cell_type": "code",
   "execution_count": null,
   "metadata": {
    "id": "7eUOE4lhwHXN"
   },
   "outputs": [],
   "source": [
    "animals.remove(chip_ids[1])"
   ]
  },
  {
   "cell_type": "markdown",
   "metadata": {
    "id": "VsaovIRix-ms"
   },
   "source": [
    "Повторная проверка убеждается, что животное удалено:"
   ]
  },
  {
   "cell_type": "code",
   "execution_count": null,
   "metadata": {
    "id": "1-OdO5sLyApF"
   },
   "outputs": [],
   "source": [
    "result = animals.get(chip_ids[1])"
   ]
  },
  {
   "cell_type": "code",
   "execution_count": null,
   "metadata": {
    "colab": {
     "base_uri": "https://localhost:8080/"
    },
    "id": "TkoSpkSUyHH7",
    "outputId": "61bab91f-9e4d-48c3-b9c5-ac6a248b6237"
   },
   "outputs": [
    {
     "name": "stdout",
     "output_type": "stream",
     "text": [
      "Животного с данным номером чипа нет в хеш-таблице\n"
     ]
    }
   ],
   "source": [
    "print(result if result else \"Животного с данным номером чипа нет в хеш-таблице\")"
   ]
  },
  {
   "cell_type": "markdown",
   "metadata": {
    "id": "6G3Q9W3CyOef"
   },
   "source": [
    "А таблица визуализируется повторно:"
   ]
  },
  {
   "cell_type": "code",
   "execution_count": null,
   "metadata": {
    "colab": {
     "base_uri": "https://localhost:8080/"
    },
    "id": "E5c9UfFyyPN_",
    "outputId": "55890637-971b-450e-944f-6272c6425856"
   },
   "outputs": [
    {
     "name": "stdout",
     "output_type": "stream",
     "text": [
      "Состояние хеш-таблицы после удаления:\n",
      "0: 622253200: Рекс → 591555609: Кузьма\n",
      "1: 654130903: Раджа\n",
      "2: ∅\n",
      "3: ∅\n",
      "4: ∅\n",
      "5: ∅\n",
      "6: ∅\n",
      "7: ∅\n",
      "8: 333187080: Белла\n",
      "9: ∅\n"
     ]
    }
   ],
   "source": [
    "print('Состояние хеш-таблицы после удаления:')\n",
    "animals.display()"
   ]
  },
  {
   "cell_type": "markdown",
   "metadata": {
    "id": "ngdGQYowya8U"
   },
   "source": [
    "Пример демонстрирует полную реализацию хеш-таблицы с методом цепочек для хранения информации о животных. Использование номеров чипов в качестве ключей обеспечивает уникальность доступа. Добавление, удаление и извлечение элементов выполняются эффективно, а метод `display` делает структуру наглядной."
   ]
  },
  {
   "cell_type": "markdown",
   "metadata": {
    "id": "zhICeOBL3JHX"
   },
   "source": [
    "\n",
    "\n",
    "---\n",
    "\n"
   ]
  },
  {
   "cell_type": "markdown",
   "metadata": {
    "id": "2ga9CiJgzDih"
   },
   "source": [
    "**Пример 2.** Для анализа данных, хранящихся в хеш-таблице, часто требуется определить статистически значимую информацию, например, наиболее часто встречающееся значение по определённому признаку. В контексте примера с животными, занесёнными в таблицу по номеру чипа, интерес может представлять определение того, какой вид животных встречается чаще всего."
   ]
  },
  {
   "cell_type": "markdown",
   "metadata": {
    "id": "oNsxk7k0zYgm"
   },
   "source": [
    "**Решение.** Для решения такой задачи вводится функция `most_common_species`, которая перебирает все элементы таблицы и ведёт подсчёт частоты встречаемости значений по полю `species`, то есть определяет, к какому виду относится каждое животное. Функция реализует словарь `species_count`, в котором ключами являются виды, а значениями — число их вхождений в таблицу. После прохождения всей таблицы из словаря извлекается ключ с максимальным значением — это и будет наиболее часто встречающийся вид."
   ]
  },
  {
   "cell_type": "code",
   "execution_count": null,
   "metadata": {
    "id": "YV-biPuGziVA"
   },
   "outputs": [],
   "source": [
    "def most_common_species(hash_table):\n",
    "    species_count = {}\n",
    "    for slot in hash_table.table:\n",
    "        for _, animal in slot:\n",
    "            if animal.species in species_count:\n",
    "                species_count[animal.species] += 1\n",
    "            else:\n",
    "                species_count[animal.species] = 1\n",
    "    return max(species_count, key=species_count.get)"
   ]
  },
  {
   "cell_type": "markdown",
   "metadata": {
    "id": "nw1jReUzzk0p"
   },
   "source": [
    "Для каждого объекта `animal` извлекается значение поля `species`. Далее происходит обновление счётчика в словаре `species_count`: если вид уже присутствует в словаре, значение увеличивается на `1`; если нет — инициализируется с нуля. Использование словаря позволяет реализовать эффективный подсчёт за время, пропорциональное числу элементов в таблице. По завершении используется функция `max` с ключом `species_count.get`, что позволяет получить тот вид, который встречается чаще всего."
   ]
  },
  {
   "cell_type": "markdown",
   "metadata": {
    "id": "KzGO4c6VzwuK"
   },
   "source": [
    "Теперь продемонстрируем применение этой функции к ранее созданной таблице `animals`, в которую были занесены несколько объектов класса `Animal`. Таблица уже содержит данные, и остаётся только вызвать функцию и вывести результат:"
   ]
  },
  {
   "cell_type": "code",
   "execution_count": null,
   "metadata": {
    "colab": {
     "base_uri": "https://localhost:8080/"
    },
    "id": "GE_AKEBpzzqb",
    "outputId": "0d0a4357-2c0e-4479-c41f-10c9ecebd01a"
   },
   "outputs": [
    {
     "name": "stdout",
     "output_type": "stream",
     "text": [
      "Наиболее часто в хеш-таблице встречается вид: собака\n"
     ]
    }
   ],
   "source": [
    "print(f'Наиболее часто в хеш-таблице встречается '\n",
    "      f'вид: {most_common_species(animals)}')"
   ]
  },
  {
   "cell_type": "markdown",
   "metadata": {
    "id": "4CLCVCmtz8mh"
   },
   "source": [
    "В результате выполнения будет выведено название вида, который встречается среди животных чаще остальных. Данный пример показывает, как на базе уже построенной хеш-таблицы можно выполнять аналитические запросы, не изменяя её структуру и не нарушая принципов инкапсуляции. Подход может быть расширен и адаптирован для других задач статистической обработки данных, например, поиска максимального или минимального значения, фильтрации по условиям, группировки и т.д."
   ]
  },
  {
   "cell_type": "markdown",
   "metadata": {
    "id": "D1N73L_E3MLw"
   },
   "source": [
    "\n",
    "\n",
    "---\n",
    "\n"
   ]
  },
  {
   "cell_type": "markdown",
   "metadata": {
    "id": "ZZubXvjG1BUR"
   },
   "source": [
    "**Пример 3.** Реализовать хеш-таблицу для хранения информации о пользователях системы. Ключом является логин пользователя, значением — объект, содержащий сведения о пользователе (имя, фамилия, пароль, права доступа и т.д.). Использовать метод разрешения коллизий методом открытой адресации с двойным хешированием и реализовать возможность добавления, удаления и изменения информации о пользователях."
   ]
  },
  {
   "cell_type": "markdown",
   "metadata": {
    "id": "TsMfacKp1HPv"
   },
   "source": [
    "**Решение.** Для представления информации о пользователях вводится класс `User`, содержащий ключевые поля, необходимые в информационных системах. Хеш-таблица реализуется в виде массива фиксированного размера, где элементы располагаются непосредственно внутри таблицы. Для разрешения коллизий используется двойное хеширование: при совпадении хеш-значений используется дополнительная хеш-функция, определяющая шаг обхода."
   ]
  },
  {
   "cell_type": "code",
   "execution_count": null,
   "metadata": {
    "id": "iR444NDC1OIN"
   },
   "outputs": [],
   "source": [
    "class User:\n",
    "    def __init__(self, name, login, password, access_rights):\n",
    "        self.name = name\n",
    "        self.login = login\n",
    "        self.password = password\n",
    "        self.access_rights = access_rights\n",
    "\n",
    "    def __str__(self):\n",
    "        return (f'user: {self.name}\\n'\n",
    "                f'login: {self.login}\\n'\n",
    "                f'password: {self.password}\\n'\n",
    "                f'access_rights: {self.access_rights}')"
   ]
  },
  {
   "cell_type": "markdown",
   "metadata": {
    "id": "z3U96uve1RXo"
   },
   "source": [
    "ласс `User` содержит четыре поля: имя пользователя, логин, пароль и уровень доступа. Метод `__str__` возвращает удобочитаемое представление объекта и используется при выводе данных на экран."
   ]
  },
  {
   "cell_type": "markdown",
   "metadata": {
    "id": "jNDBXqxQ1UrL"
   },
   "source": [
    "Следующий класс реализует хеш-таблицу с открытой адресацией. В основе лежит два массива — `keys` и `values`, каждый из которых имеет длину `size`. При вставке и поиске используется пара хеш-функций: первая определяет начальное положение, а вторая — шаг при возникновении коллизии."
   ]
  },
  {
   "cell_type": "code",
   "execution_count": null,
   "metadata": {
    "id": "Pidb9Tyc1Yy3"
   },
   "outputs": [],
   "source": [
    "class HashTable:\n",
    "    def __init__(self, size):\n",
    "        self.size = size\n",
    "        self.keys = [None] * self.size\n",
    "        self.values = [None] * self.size\n",
    "\n",
    "    def hash_function(self, key):\n",
    "        return hash(key) % self.size\n",
    "\n",
    "    def double_hash_function(self, key):\n",
    "        return 1 + (hash(key) % (self.size - 2))\n",
    "\n",
    "    def add(self, key, value):\n",
    "        hash_value = self.hash_function(key)\n",
    "        if self.keys[hash_value] is None:\n",
    "            self.keys[hash_value] = key\n",
    "            self.values[hash_value] = value\n",
    "        elif self.keys[hash_value] == key:\n",
    "            self.values[hash_value] = value\n",
    "        else:\n",
    "            i = 1\n",
    "            while True:\n",
    "                new_hash_value = (hash_value + i * self.double_hash_function(key)) % self.size\n",
    "                if self.keys[new_hash_value] is None:\n",
    "                    self.keys[new_hash_value] = key\n",
    "                    self.values[new_hash_value] = value\n",
    "                    break\n",
    "                elif self.keys[new_hash_value] == key:\n",
    "                    self.values[new_hash_value] = value\n",
    "                    break\n",
    "                else:\n",
    "                    i += 1\n",
    "\n",
    "    def get(self, key):\n",
    "        hash_value = self.hash_function(key)\n",
    "        if self.keys[hash_value] == key:\n",
    "            return self.values[hash_value]\n",
    "        else:\n",
    "            i = 1\n",
    "            while True:\n",
    "                new_hash_value = (hash_value + i * self.double_hash_function(key)) % self.size\n",
    "                if self.keys[new_hash_value] == key:\n",
    "                    return self.values[new_hash_value]\n",
    "                elif self.keys[new_hash_value] is None:\n",
    "                    return None\n",
    "                else:\n",
    "                    i += 1\n",
    "\n",
    "    def remove(self, key):\n",
    "        hash_value = self.hash_function(key)\n",
    "        if self.keys[hash_value] == key:\n",
    "            self.keys[hash_value] = None\n",
    "            self.values[hash_value] = None\n",
    "        else:\n",
    "            i = 1\n",
    "            while True:\n",
    "                new_hash_value = (hash_value + i * self.double_hash_function(key)) % self.size\n",
    "                if self.keys[new_hash_value] == key:\n",
    "                    self.keys[new_hash_value] = None\n",
    "                    self.values[new_hash_value] = None\n",
    "                    break\n",
    "                elif self.keys[new_hash_value] is None:\n",
    "                    break\n",
    "                else:\n",
    "                    i += 1\n",
    "\n",
    "    def display(self):\n",
    "        for i in range(self.size):\n",
    "            if self.keys[i] is None:\n",
    "                print(f'{i}: ∅')\n",
    "            else:\n",
    "                print(f'{i}: {self.keys[i]} → {self.values[i].access_rights}')"
   ]
  },
  {
   "cell_type": "markdown",
   "metadata": {
    "id": "tp6UpXP41kZl"
   },
   "source": [
    "Конструктор `__init__` принимает обязательный параметр `size`, задающий количество ячеек в таблице. Инициализируются два массива длины `size`: `self.keys` — для хранения ключей, и `self.values` — для хранения соответствующих значений. Все элементы этих массивов изначально заполнены значением `None`, что означает, что таблица пуста.\n",
    "\n",
    "Метод `hash_function` реализует первичную хеш-функцию, которая преобразует строковый или числовой ключ в индекс ячейки. Для этого используется встроенная функция `hash`, а затем результат приводится к диапазону допустимых индексов с помощью операции взятия остатка по модулю `self.size`.\n",
    "\n",
    "Метод `double_hash_function` задаёт вторичную хеш-функцию, используемую при двойном хешировании для определения шага между проверяемыми ячейками при коллизии. Значение шага вычисляется так, чтобы оно всегда было положительным и не делилось на размер таблицы. Это условие гарантирует, что при вставке или поиске можно обойти все ячейки таблицы, если в ней остались свободные позиции. Формула корректно работает при условии, что размер таблицы — простое число.\n",
    "\n",
    "Метод `add` реализует вставку пары ключ–значение. Сначала определяется начальная позиция `hash_value` с помощью первичной хеш-функции. Если ячейка пуста или содержит тот же ключ, туда помещается новая пара или происходит обновление значения. В противном случае происходит последовательный просмотр таблицы по формуле двойного хеширования до нахождения либо свободной ячейки, либо ячейки с совпадающим ключом, в которую значение обновляется.\n",
    "\n",
    "Метод `get` осуществляет поиск значения по заданному ключу. Начальная позиция определяется по первичной хеш-функции. Если в этой ячейке находится нужный ключ, возвращается соответствующее значение. Если нет — происходит последовательный просмотр таблицы по формуле двойного хеширования до тех пор, пока не будет найден нужный ключ или не встретится пустая ячейка, что означает отсутствие ключа в таблице.\n",
    "\n",
    "Метод `remove` реализует удаление элемента по ключу. Сначала проверяется ячейка, соответствующая значению первичной хеш-функции. Если она содержит искомый ключ — ключ и значение обнуляются. В противном случае используется стратегия двойного хеширования для последовательного просмотра. Если в процессе найден нужный ключ, он удаляется. Если встречается пустая ячейка, поиск завершается — элемент отсутствует.\n",
    "\n",
    "Метод `display` предназначен для визуального отображения текущего состояния таблицы. Для каждой ячейки выводится её индекс и либо символ `∅`, если ячейка пуста, либо пара `ключ → права`, где `права` — это значение поля `access_rights` объекта, связанного с данным ключом."
   ]
  },
  {
   "cell_type": "markdown",
   "metadata": {
    "id": "KwmQu8dN1kuf"
   },
   "source": [
    "Создаётся список объектов класса `User` и таблица на 17 элементов:"
   ]
  },
  {
   "cell_type": "code",
   "execution_count": null,
   "metadata": {
    "id": "UyhHXeNo1onL"
   },
   "outputs": [],
   "source": [
    "users = HashTable(17)"
   ]
  },
  {
   "cell_type": "code",
   "execution_count": null,
   "metadata": {
    "id": "w4dmC3_51rId"
   },
   "outputs": [],
   "source": [
    "list_of_users = [\n",
    "    User(\"Александр Иванов\", \"alex_ivanov\", \"password123\", \"admin\"),\n",
    "    User(\"Екатерина Петрова\", \"kate_petrova\", \"secret321\", \"user\"),\n",
    "    User(\"Дмитрий Сидоров\", \"dima_sidorov\", \"qwerty\", \"user\"),\n",
    "    User(\"Анна Кузнецова\", \"anna_kuznetsova\", \"password\", \"admin\"),\n",
    "    User(\"Илья Шевченко\", \"ilya_shevchenko\", \"letmein\", \"user\"),\n",
    "    User(\"Наталья Ковалева\", \"natalia_kovaleva\", \"pastry123\", \"user\"),\n",
    "    User(\"Максим Федоров\", \"max_fedorov\", \"123456\", \"user\"),\n",
    "    User(\"Ольга Макарова\", \"olga_makarova\", \"password123\", \"admin\"),\n",
    "    User(\"Артем Григорьев\", \"artem_grigorev\", \"password123\", \"user\"),\n",
    "    User(\"Мария Смирнова\", \"maria_smirnova\", \"ilovecats\", \"user\")\n",
    "    ]"
   ]
  },
  {
   "cell_type": "markdown",
   "metadata": {
    "id": "zikTdcKB129f"
   },
   "source": [
    "Добавим пользователей в таблицу. При этом автоматически разрешаются возможные коллизии."
   ]
  },
  {
   "cell_type": "code",
   "execution_count": null,
   "metadata": {
    "id": "HYM5pEPP1-dN"
   },
   "outputs": [],
   "source": [
    "for user in list_of_users:\n",
    "    users.add(user.login, user)"
   ]
  },
  {
   "cell_type": "markdown",
   "metadata": {
    "id": "NvRJ01ie2CNC"
   },
   "source": [
    "Проверим содержимое таблицы после добавления данных:"
   ]
  },
  {
   "cell_type": "code",
   "execution_count": null,
   "metadata": {
    "colab": {
     "base_uri": "https://localhost:8080/"
    },
    "id": "WfxS6vbI2DSp",
    "outputId": "70f65c24-fb4d-4377-ecd9-c8f53c2b1475"
   },
   "outputs": [
    {
     "name": "stdout",
     "output_type": "stream",
     "text": [
      "Состояние таблицы после вставки:\n",
      "0: ∅\n",
      "1: max_fedorov → user\n",
      "2: maria_smirnova → user\n",
      "3: kate_petrova → user\n",
      "4: dima_sidorov → user\n",
      "5: ∅\n",
      "6: alex_ivanov → superadmin\n",
      "7: artem_grigorev → user\n",
      "8: ilya_shevchenko → user\n",
      "9: anna_kuznetsova → admin\n",
      "10: ∅\n",
      "11: ∅\n",
      "12: olga_makarova → admin\n",
      "13: natalia_kovaleva → user\n",
      "14: ∅\n",
      "15: ∅\n",
      "16: ∅\n"
     ]
    }
   ],
   "source": [
    "print('Состояние таблицы после вставки:')\n",
    "users.display()"
   ]
  },
  {
   "cell_type": "markdown",
   "metadata": {
    "id": "8RN1tNP32KFG"
   },
   "source": [
    "Произведём доступ к информации по ключу:"
   ]
  },
  {
   "cell_type": "code",
   "execution_count": null,
   "metadata": {
    "colab": {
     "base_uri": "https://localhost:8080/"
    },
    "id": "un5Pkjc92K0x",
    "outputId": "fb2b45e2-4be3-4cd1-a580-a0e0ab08831a"
   },
   "outputs": [
    {
     "name": "stdout",
     "output_type": "stream",
     "text": [
      "Получение информации по логину:\n",
      "user: Александр Иванов\n",
      "login: alex_ivanov\n",
      "password: password123\n",
      "access_rights: superadmin\n"
     ]
    }
   ],
   "source": [
    "print('Получение информации по логину:')\n",
    "user_info = users.get(\"alex_ivanov\")\n",
    "print(user_info)"
   ]
  },
  {
   "cell_type": "markdown",
   "metadata": {
    "id": "YOHqVQ502PyA"
   },
   "source": [
    "Изменим права доступа выбранного пользователя:"
   ]
  },
  {
   "cell_type": "code",
   "execution_count": null,
   "metadata": {
    "colab": {
     "base_uri": "https://localhost:8080/"
    },
    "id": "ZyfxrtBJ2QzC",
    "outputId": "c12e8482-e0bb-49e0-b2dd-60e742aae216"
   },
   "outputs": [
    {
     "name": "stdout",
     "output_type": "stream",
     "text": [
      "Обновлённый пользователь:\n",
      "user: Александр Иванов\n",
      "login: alex_ivanov\n",
      "password: password123\n",
      "access_rights: superadmin\n"
     ]
    }
   ],
   "source": [
    "user_info.access_rights = \"superadmin\"\n",
    "print('Обновлённый пользователь:')\n",
    "print(user_info)"
   ]
  },
  {
   "cell_type": "code",
   "execution_count": null,
   "metadata": {
    "id": "m2MdDy3R2WZ4"
   },
   "outputs": [],
   "source": [
    "users.add(user_info.login, user_info)"
   ]
  },
  {
   "cell_type": "markdown",
   "metadata": {
    "id": "7mo8gvC32ViA"
   },
   "source": [
    "Удалим одного из пользователей из таблицы:"
   ]
  },
  {
   "cell_type": "code",
   "execution_count": null,
   "metadata": {
    "id": "Y52YhYO92aW6"
   },
   "outputs": [],
   "source": [
    "users.remove(\"maria_smirnova\")"
   ]
  },
  {
   "cell_type": "markdown",
   "metadata": {
    "id": "mf7sy8R-2d4d"
   },
   "source": [
    "Проверим, что пользователь действительно удалён:"
   ]
  },
  {
   "cell_type": "code",
   "execution_count": null,
   "metadata": {
    "id": "pc5h0Vyq2evk"
   },
   "outputs": [],
   "source": [
    "result = users.get(\"maria_smirnova\")"
   ]
  },
  {
   "cell_type": "code",
   "execution_count": null,
   "metadata": {
    "colab": {
     "base_uri": "https://localhost:8080/"
    },
    "id": "gYGeRRZx2iVP",
    "outputId": "30b311ad-a414-4923-eac3-5b7a40ef23a0"
   },
   "outputs": [
    {
     "name": "stdout",
     "output_type": "stream",
     "text": [
      "Такого пользователя нет в хеш-таблице\n"
     ]
    }
   ],
   "source": [
    "print(result if result else \"Такого пользователя нет в хеш-таблице\")"
   ]
  },
  {
   "cell_type": "markdown",
   "metadata": {
    "id": "YlsZaNrK2kbI"
   },
   "source": [
    "И, наконец, отобразим таблицу после изменений:"
   ]
  },
  {
   "cell_type": "code",
   "execution_count": null,
   "metadata": {
    "colab": {
     "base_uri": "https://localhost:8080/"
    },
    "id": "Z_p_pIQ52mcF",
    "outputId": "2c080d44-7a0b-4559-9c97-55001656099d"
   },
   "outputs": [
    {
     "name": "stdout",
     "output_type": "stream",
     "text": [
      "Состояние таблицы после удаления:\n",
      "0: ∅\n",
      "1: max_fedorov → user\n",
      "2: ∅\n",
      "3: kate_petrova → user\n",
      "4: dima_sidorov → user\n",
      "5: ∅\n",
      "6: alex_ivanov → superadmin\n",
      "7: artem_grigorev → user\n",
      "8: ilya_shevchenko → user\n",
      "9: anna_kuznetsova → admin\n",
      "10: ∅\n",
      "11: ∅\n",
      "12: olga_makarova → admin\n",
      "13: natalia_kovaleva → user\n",
      "14: ∅\n",
      "15: ∅\n",
      "16: ∅\n"
     ]
    }
   ],
   "source": [
    "print('Состояние таблицы после удаления:')\n",
    "users.display()"
   ]
  },
  {
   "cell_type": "markdown",
   "metadata": {
    "id": "Gogn26K12uEj"
   },
   "source": [
    "В данном примере реализована хеш-таблица с методом открытой адресации и двойным хешированием для хранения информации о пользователях. Двойное хеширование обеспечивает надёжное разрешение коллизий за счёт гибкой схемы обхода. Структура позволяет эффективно выполнять основные операции: добавление, обновление, поиск и удаление, сохраняя данные непосредственно в массиве таблицы."
   ]
  }
 ],
 "metadata": {
  "colab": {
   "collapsed_sections": [
    "Ki6vLBPh-A8u",
    "lHW6_PKsi0T_",
    "KGzjtgKoi0fa",
    "IisDzAaCi0oK",
    "WE9qRW3kjVeg"
   ],
   "provenance": []
  },
  "kernelspec": {
   "display_name": "Python 3 (ipykernel)",
   "language": "python",
   "name": "python3"
  },
  "language_info": {
   "codemirror_mode": {
    "name": "ipython",
    "version": 3
   },
   "file_extension": ".py",
   "mimetype": "text/x-python",
   "name": "python",
   "nbconvert_exporter": "python",
   "pygments_lexer": "ipython3",
   "version": "3.12.4"
  }
 },
 "nbformat": 4,
 "nbformat_minor": 4
}
