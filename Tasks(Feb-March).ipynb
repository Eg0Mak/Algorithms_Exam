{
 "cells": [
  {
   "cell_type": "markdown",
   "id": "64d72f6a-4040-4307-bf11-532b751135b2",
   "metadata": {
    "jp-MarkdownHeadingCollapsed": true
   },
   "source": [
    "### Task 25\n",
    "10. Класс – параллелепипед. Методы – расчет площади поверхности и объема параллелепипеда. Поля – ребра $a$, $b$, $c$, площадь и объем."
   ]
  },
  {
   "cell_type": "code",
   "execution_count": 476,
   "id": "ff879942-57b6-4ce0-bc6b-28ec2cd4f1b8",
   "metadata": {},
   "outputs": [],
   "source": [
    "class Parallipiped:\n",
    "    def __init__(self, a, b, c):\n",
    "        self.a = a\n",
    "        self.b = b\n",
    "        self.c = c\n",
    "        self.s = 0\n",
    "        self.v = 0\n",
    "        \n",
    "    def find_surface(self):\n",
    "        self.s = 2 * (self.a * self.b + self.a * self.c + self.b * self.c)\n",
    "        return f\"Площадь: {self.s}\"\n",
    "\n",
    "    def find_volume(self):\n",
    "        self.v = self.a * self.b * self.c\n",
    "        return f\"Объем: {self.v}\""
   ]
  },
  {
   "cell_type": "code",
   "execution_count": 478,
   "id": "ba75bccd-c42d-45cf-aced-85a39b3d274f",
   "metadata": {},
   "outputs": [
    {
     "data": {
      "text/plain": [
       "('Площадь: 52', 'Объем: 24')"
      ]
     },
     "execution_count": 478,
     "metadata": {},
     "output_type": "execute_result"
    }
   ],
   "source": [
    "p = Parallipiped(2, 3, 4)\n",
    "p.find_surface(), p.find_volume()"
   ]
  },
  {
   "cell_type": "markdown",
   "id": "f9ebfdde-869c-4503-b4e3-0848817d7cf2",
   "metadata": {
    "jp-MarkdownHeadingCollapsed": true
   },
   "source": [
    "### Task 26\n",
    "10. Опишите класс `Account`. Для банковского счета задаются фамилия владельца, номер счёта, процент начисления за год и сумма в рублях. Включите в описание класса методы: пополнения счёта, снятия денег со счёта, перевода суммы в доллары и в евро, а также свойство, позволяющее начислить процент за заданное количество месяцев."
   ]
  },
  {
   "cell_type": "code",
   "execution_count": 176,
   "id": "e5262ba7-5356-42bd-bb86-5cf3e0236d72",
   "metadata": {},
   "outputs": [],
   "source": [
    "class Account:\n",
    "    \n",
    "    def __init__(self, surname, acc_num, percentage, balance):\n",
    "        self.surname = surname\n",
    "        self.acc_num = acc_num\n",
    "        self.percentage = percentage\n",
    "        self.balance = balance\n",
    "        self.slov = {\"euro\": 101.22, \"usd\": 97.28}\n",
    "\n",
    "    @property\n",
    "    def full_info(self):\n",
    "        print(f\"Фамилия владельца: {self.surname}\\nНомер счета: {self.acc_num} \\nCумма в рублях: {self.balance} рублей \\nПроцент начисления за год: {self.percentage}%\")\n",
    "\n",
    "    \n",
    "    def refill_account(self, ammount):\n",
    "        self.balance += ammount\n",
    "        return self.balance\n",
    "        \n",
    "    def withdraw_money(self, ammount):\n",
    "        self.balance -= ammount\n",
    "        return self.balance\n",
    "\n",
    "\n",
    "    def converter(self, currency):\n",
    "        for key, value in self.slov.items():\n",
    "            if key == currency:\n",
    "                return f\"{round(self.balance / value if value > 0 else \"Ошибка\", 2)} {currency}\"\n",
    "            else:\n",
    "                continue\n",
    "        else:\n",
    "            return \"Ошибка: вадюта не найдена\""
   ]
  },
  {
   "cell_type": "code",
   "execution_count": 178,
   "id": "52007217-696f-4c65-9762-595accbb74f8",
   "metadata": {},
   "outputs": [],
   "source": [
    "def apply_percentage(object, months):\n",
    "        if months > 0:\n",
    "            monthly_rate = object.percentage / 12 / 100\n",
    "            object.balance *= (1 + monthly_rate) ** months\n",
    "        else:\n",
    "            print(\"Количество месяцев должно быть положительным.\")"
   ]
  },
  {
   "cell_type": "code",
   "execution_count": 180,
   "id": "95099796-f6b5-447e-b0e7-881352f0b7b6",
   "metadata": {},
   "outputs": [
    {
     "data": {
      "text/plain": [
       "600"
      ]
     },
     "execution_count": 180,
     "metadata": {},
     "output_type": "execute_result"
    }
   ],
   "source": [
    "acc = Account(\"Shipilov\", 8456234, 15, 1000)\n",
    "acc.refill_account(500)\n",
    "acc.withdraw_money(900)"
   ]
  },
  {
   "cell_type": "code",
   "execution_count": 182,
   "id": "651acf99-a63b-4153-85ce-d5a7b28b5f52",
   "metadata": {},
   "outputs": [
    {
     "name": "stdout",
     "output_type": "stream",
     "text": [
      "Фамилия владельца: Shipilov\n",
      "Номер счета: 8456234 \n",
      "Cумма в рублях: 600 рублей \n",
      "Процент начисления за год: 15%\n"
     ]
    }
   ],
   "source": [
    "acc.full_info"
   ]
  },
  {
   "cell_type": "code",
   "execution_count": 184,
   "id": "d560e97c-c83a-4ed1-9ece-3a96ed7c832b",
   "metadata": {},
   "outputs": [
    {
     "data": {
      "text/plain": [
       "'5.93 euro'"
      ]
     },
     "execution_count": 184,
     "metadata": {},
     "output_type": "execute_result"
    }
   ],
   "source": [
    "acc.converter(\"euro\")"
   ]
  },
  {
   "cell_type": "code",
   "execution_count": 186,
   "id": "2a699eb7-d51f-40ee-a53b-b36ec2696abe",
   "metadata": {},
   "outputs": [
    {
     "data": {
      "text/plain": [
       "600"
      ]
     },
     "execution_count": 186,
     "metadata": {},
     "output_type": "execute_result"
    }
   ],
   "source": [
    "acc.balance"
   ]
  },
  {
   "cell_type": "code",
   "execution_count": 188,
   "id": "c55b3a22-8d63-4203-8a9c-f65e94ef75ea",
   "metadata": {},
   "outputs": [
    {
     "data": {
      "text/plain": [
       "696.4527106337988"
      ]
     },
     "execution_count": 188,
     "metadata": {},
     "output_type": "execute_result"
    }
   ],
   "source": [
    "apply_percentage(acc, 12)\n",
    "acc.balance"
   ]
  },
  {
   "cell_type": "markdown",
   "id": "9f938ab4-3d43-47e8-91b2-8fbf949b0497",
   "metadata": {},
   "source": [
    "### Task 27\n",
    "10. Создайте класс ИГРУШКА с методами, позволяющими вывести на экран информацию о товаре, а также определить соответствие игрушки критерию поиска. Создайте дочерние классы КУБИК (цвет, цена, материал, размер ребра), МЯЧ (цена, цвет, диаметр, материал), МАШИНКА (название, цена, производитель, цвет) со своими методами вывода информации на экран и определения соответствия заданному цвету. Создайте список из $n$ игрушек, выведите полную информацию из базы на экран, а также организуйте поиск игрушек заданного цвета."
   ]
  },
  {
   "cell_type": "code",
   "execution_count": 191,
   "id": "56cf8543-39ed-470a-a63d-6e047ffc4081",
   "metadata": {},
   "outputs": [],
   "source": [
    "class Toy:\n",
    "    def __init__(self, color, price):\n",
    "        self.color = color \n",
    "        self.price = price\n",
    "        \n",
    "    def display_info(self):\n",
    "        return f\"Цвет: {self.color}; Цена: {self.price}\"\n",
    "        \n",
    "    def matches_color(self, find_color):\n",
    "        return self.color.lower() == find_color.lower()\n",
    "\n",
    "class Cube(Toy):\n",
    "    def __init__(self, color, price, material, size_of_edge):\n",
    "        super().__init__(color, price)\n",
    "        self.material = material\n",
    "        self.size_of_edge = size_of_edge\n",
    "\n",
    "    def display_info(self):\n",
    "        return f\"Куб - Цвет: {self.color}; Цена: {self.price}; Материал: {self.material}; Размер ребра: {self.size_of_edge}\"\n",
    "\n",
    "class Ball(Toy):\n",
    "    def __init__(self, color, price, diameter, material):\n",
    "        super().__init__(color, price)\n",
    "        self.diameter = diameter\n",
    "        self.material = material\n",
    "         \n",
    "    def display_info(self):\n",
    "        return f\"Мячик - Цвет: {self.color}; Цена: {self.price}; Материал: {self.material};  Диаметр: {self.diameter}\"\n",
    "\n",
    "\n",
    "class Car(Toy):\n",
    "    def __init__(self, color, price, manufacturers, name):\n",
    "        super().__init__(color, price)\n",
    "        self.manufacturers = manufacturers\n",
    "        self.name = name\n",
    "         \n",
    "    def display_info(self):\n",
    "        return f\"Машинка - Цвет: {self.color}; Цена: {self.price}; Название: {self.name};  Производитель: {self.manufacturers}\"\n"
   ]
  },
  {
   "cell_type": "code",
   "execution_count": 193,
   "id": "1fcab656-9361-482b-8d17-bf66232d42a3",
   "metadata": {},
   "outputs": [],
   "source": [
    "toys = [\n",
    "    Cube(\"Красный\", 500, \"Дерево\", 52), \n",
    "    Ball(\"Белый\", 153, 25, \"Резина\"), \n",
    "    Car(\"Темно-синий\", 1500, \"Hasbro\", \"Porsche 911 turbo s\")\n",
    "]"
   ]
  },
  {
   "cell_type": "code",
   "execution_count": 195,
   "id": "6710a3a3-4e6f-4a2d-9f88-636001c25fba",
   "metadata": {},
   "outputs": [
    {
     "name": "stdout",
     "output_type": "stream",
     "text": [
      "Куб - Цвет: Красный; Цена: 500; Материал: Дерево; Размер ребра: 52\n",
      "Мячик - Цвет: Белый; Цена: 153; Материал: Резина;  Диаметр: 25\n",
      "Машинка - Цвет: Темно-синий; Цена: 1500; Название: Porsche 911 turbo s;  Производитель: Hasbro\n"
     ]
    }
   ],
   "source": [
    "for toy in toys:\n",
    "    print(toy.display_info())"
   ]
  },
  {
   "cell_type": "code",
   "execution_count": 197,
   "id": "634ac042-99d1-46c7-af44-ee3e6bebe8b4",
   "metadata": {},
   "outputs": [
    {
     "name": "stdout",
     "output_type": "stream",
     "text": [
      "Куб - Цвет: Красный; Цена: 500; Материал: Дерево; Размер ребра: 52\n"
     ]
    }
   ],
   "source": [
    "find_color = \"Красный\"\n",
    "for toy in toys:\n",
    "    if toy.matches_color(find_color):\n",
    "        print(toy.display_info())"
   ]
  },
  {
   "cell_type": "markdown",
   "id": "f52e3e49-d84f-4429-86ce-8fcd66a1e2f8",
   "metadata": {
    "jp-MarkdownHeadingCollapsed": true
   },
   "source": [
    "### Task 28\n",
    "10. <br>а) Вывести ряд Фибоначчи до n чисел, используя лямбда-функцию.<br>б) Найти следующее после заданного число, полученное перестановкой цифр заданного числа. _Примеры_: `12` → `21`, `10` → `False`, `201` → `210`, `102` → `120`, `445` → `454`.<br>в) Напишите программу для поиска элементов заданного списка строк, содержащих определённую подстроку, используя лямбда-функцию. _Пример_: `['red', 'black', 'white', 'green', 'orange']`; `ack` → `['black']`; `abc` → `[]`."
   ]
  },
  {
   "cell_type": "markdown",
   "id": "97f86a89-ceba-4c0c-887f-274f44532e61",
   "metadata": {},
   "source": [
    "#### Пункт а"
   ]
  },
  {
   "attachments": {
    "a37d6749-f101-4ea1-a065-4e04459ddd4b.jpg": {
     "image/jpeg": "[encoded data removed]"
    }
   },
   "cell_type": "markdown",
   "id": "95aa5341-3310-4155-9e46-940bbab50941",
   "metadata": {},
   "source": [
    "![posledovatelnost-fibonachchi1.jpg](attachment:a37d6749-f101-4ea1-a065-4e04459ddd4b.jpg)"
   ]
  },
  {
   "cell_type": "code",
   "execution_count": 236,
   "id": "11e6300f-00e8-40ec-bc1b-8067061cda8d",
   "metadata": {},
   "outputs": [
    {
     "data": {
      "text/plain": [
       "[0, 1, 1, 2, 3, 5, 8, 13, 21, 34, 55, 89]"
      ]
     },
     "execution_count": 236,
     "metadata": {},
     "output_type": "execute_result"
    }
   ],
   "source": [
    "from functools import reduce\n",
    "\n",
    "\n",
    "\n",
    "fib = lambda n: reduce(lambda x, _: x+[x[-1]+x[-2]], range(n-2), [0, 1])\n",
    "fib(12)"
   ]
  },
  {
   "cell_type": "markdown",
   "id": "a6a0e865-f1e2-4e62-ba36-a16e7f6f39a4",
   "metadata": {},
   "source": [
    "#### Пункт б"
   ]
  },
  {
   "cell_type": "code",
   "execution_count": 238,
   "id": "1005beb4-34e9-48c2-9662-10659ee13acb",
   "metadata": {},
   "outputs": [
    {
     "data": {
      "text/plain": [
       "(21, False, 210)"
      ]
     },
     "execution_count": 238,
     "metadata": {},
     "output_type": "execute_result"
    }
   ],
   "source": [
    "from itertools import permutations\n",
    "\n",
    "res = lambda n: next((x for x in sorted(set(int(\"\".join(p)) for p in permutations(str(n)))) if x > n), False)\n",
    "res(12), res(10), res(201)"
   ]
  },
  {
   "cell_type": "markdown",
   "id": "ea6cc6f5-6446-474a-bf01-698ba98fb23e",
   "metadata": {
    "jp-MarkdownHeadingCollapsed": true
   },
   "source": [
    "#### Пункт в"
   ]
  },
  {
   "cell_type": "code",
   "execution_count": 244,
   "id": "36bd9477-8388-4c1a-9255-f993ad621622",
   "metadata": {},
   "outputs": [
    {
     "data": {
      "text/plain": [
       "['red']"
      ]
     },
     "execution_count": 244,
     "metadata": {},
     "output_type": "execute_result"
    }
   ],
   "source": [
    "colors = ['red', 'black', 'white', 'green', 'orange']\n",
    "find = lambda x: [clr for clr in colors if x in clr]\n",
    "find(\"ed\")"
   ]
  },
  {
   "cell_type": "markdown",
   "id": "b4a03326-cbde-4f14-b47f-77bdad4d0246",
   "metadata": {
    "jp-MarkdownHeadingCollapsed": true
   },
   "source": [
    "### Task 29 \n",
    "\n",
    "10. <br>а) Преобразуйте заданный список кортежей в список строк с помощью функции `map()`. _Пример_: `[('red', 'pink'), ('white', 'black'), ('orange', 'green')]` → `['red pink', 'white black', 'orange green']`; `[('Sheridan', 'Gentry'); ('Laila', 'Mckee'), ('Ahsan', 'Rivas'), ('Conna', 'Gonzalez')]` → `['Sheridan Gentry', 'Laila Mckee', 'Ahsan Rivas', 'Conna Gonzalez']`.<br>б) Сгенерировать список целых чисел. С помощью функции `filter()` выбрать из списка все числа кратные 3 и упорядочить их по возрастанию. Используя функцию `reduce()`, найти их произведение."
   ]
  },
  {
   "cell_type": "markdown",
   "id": "e474b527-8df1-4930-907d-30c415885259",
   "metadata": {
    "jp-MarkdownHeadingCollapsed": true
   },
   "source": [
    "#### Пункт а) "
   ]
  },
  {
   "cell_type": "code",
   "execution_count": 246,
   "id": "3762aa1a-906c-4cec-9b85-3da9fa7448d3",
   "metadata": {},
   "outputs": [
    {
     "data": {
      "text/plain": [
       "['Sheridan Gentry', 'Laila Mckee', 'Ahsan Rivas', 'Conna Gonzalez']"
      ]
     },
     "execution_count": 246,
     "metadata": {},
     "output_type": "execute_result"
    }
   ],
   "source": [
    "def task_a(x):\n",
    "    return x[0] + \" \" + x[1]\n",
    "\n",
    "arr = [('Sheridan', 'Gentry'), ('Laila', 'Mckee'), ('Ahsan', 'Rivas'), ('Conna', 'Gonzalez')]\n",
    "\n",
    "res = list(map(task_a, arr))\n",
    "res"
   ]
  },
  {
   "cell_type": "markdown",
   "id": "d4af3b26-e9de-4896-bd5a-0693d44bce17",
   "metadata": {
    "jp-MarkdownHeadingCollapsed": true
   },
   "source": [
    "#### Пункт б) "
   ]
  },
  {
   "cell_type": "code",
   "execution_count": 248,
   "id": "c86131b3-76a8-403d-9576-48b0678939ee",
   "metadata": {},
   "outputs": [
    {
     "data": {
      "text/plain": [
       "(50386050, [99, 87, 78, 75])"
      ]
     },
     "execution_count": 248,
     "metadata": {},
     "output_type": "execute_result"
    }
   ],
   "source": [
    "import numpy as np\n",
    "\n",
    "arr = list(np.random.randint(1, 100, size = (10, )))\n",
    "\n",
    "def task_b(x):\n",
    "    return x % 3 == 0\n",
    "\n",
    "fileterd = list(filter(task_b, arr))\n",
    "prod = reduce(lambda x, y: x * y, fileterd)\n",
    "prod, fileterd"
   ]
  },
  {
   "cell_type": "markdown",
   "id": "275b8cab-7996-479d-a7d4-5b01130e4532",
   "metadata": {
    "jp-MarkdownHeadingCollapsed": true
   },
   "source": [
    "### Task 30\n",
    "\n",
    "\n",
    "10. <br>а) Создайте декоратор, который будет проверять возвращаемое значение функции на корректность и заменять его на предопределенное значение при обнаружении некорректных данных.<br>б) Создайте декоратор, который будет заменять значение аргумента на заданное значение только если оно удовлетворяет определенному условию."
   ]
  },
  {
   "cell_type": "code",
   "execution_count": 81,
   "id": "88f5b584-6ca2-40b9-b55f-5da7d2234453",
   "metadata": {},
   "outputs": [
    {
     "name": "stdout",
     "output_type": "stream",
     "text": [
      "5\n",
      "Некорректное значение: -5. Заменяем на 0\n",
      "0\n"
     ]
    }
   ],
   "source": [
    "# Пункт а\n",
    "from functools import wraps\n",
    "\n",
    "def validate_output(validator, default_value):\n",
    "    def decorator(func):\n",
    "        @wraps(func) # Сохраняет метаданные функции\n",
    "        def wrapper(*args, **kwargs):\n",
    "            result = func(*args, **kwargs)\n",
    "            if not validator(result):\n",
    "                print(f\"Некорректное значение: {result}. Заменяем на {default_value}\")\n",
    "                return default_value\n",
    "            return result\n",
    "        return wrapper\n",
    "    return decorator\n",
    "\n",
    "\n",
    "@validate_output(lambda x: x >= 0, 0)\n",
    "def compute(x):\n",
    "    return x - 10\n",
    "\n",
    "print(compute(15))  \n",
    "print(compute(5)) "
   ]
  },
  {
   "cell_type": "code",
   "execution_count": 83,
   "id": "08fdbe00-c222-4f32-a64d-863a18bca68d",
   "metadata": {},
   "outputs": [
    {
     "name": "stdout",
     "output_type": "stream",
     "text": [
      "Обрабатываем: 5\n",
      "Аргумент -3 заменён на 0\n",
      "Обрабатываем: 0\n"
     ]
    }
   ],
   "source": [
    "# Пункт б \n",
    "def replace_argument_if(condition, replacement_value):\n",
    "    def decorator(func):\n",
    "        @wraps(func)\n",
    "        def wrapper(arg, *args, **kwargs):\n",
    "            if condition(arg):\n",
    "                print(f\"Аргумент {arg} заменён на {replacement_value}\")\n",
    "                arg = replacement_value\n",
    "            return func(arg, *args, **kwargs)\n",
    "        return wrapper\n",
    "    return decorator\n",
    "\n",
    "\n",
    "@replace_argument_if(lambda x: x < 0, 0)\n",
    "def process(value):\n",
    "    print(f\"Обрабатываем: {value}\")\n",
    "\n",
    "process(5)   \n",
    "process(-3)"
   ]
  },
  {
   "cell_type": "markdown",
   "id": "10035d9d-23fe-4e31-ba40-cc19c1c25d7c",
   "metadata": {
    "jp-MarkdownHeadingCollapsed": true
   },
   "source": [
    "### Task 31\n",
    "10. <br>а) Написать функцию-генератор, которая создает все возможные варианты расположения заданных элементов на круговой доске.\n",
    "<br>б) Написать функцию-генератор, которая создает все возможные варианты расположения изображений на сайте.\n",
    "<br>в) Создать список всех возможных перестановок элементов заданного списка, используя выражение-генератор.\n",
    "<br>г) Отсортировать список чисел в порядке возрастания, используя выражение-генератор."
   ]
  },
  {
   "cell_type": "code",
   "execution_count": 14,
   "id": "7e5e202e-f18a-446a-a2ca-fb128f89fa2b",
   "metadata": {},
   "outputs": [],
   "source": [
    "from itertools import permutations"
   ]
  },
  {
   "cell_type": "code",
   "execution_count": 85,
   "id": "75f8bf68-e86c-4901-a65f-3cd5c48137b3",
   "metadata": {},
   "outputs": [
    {
     "name": "stdout",
     "output_type": "stream",
     "text": [
      "(1, 2, 3, 4)\n",
      "(1, 2, 4, 3)\n",
      "(1, 3, 2, 4)\n",
      "(1, 3, 4, 2)\n",
      "(1, 4, 2, 3)\n",
      "(1, 4, 3, 2)\n"
     ]
    }
   ],
   "source": [
    "# Пункт а\n",
    "def circular_permutations(elements):\n",
    "    if not elements:\n",
    "        return\n",
    "    first = elements[0]\n",
    "    for perm in permutations(elements[1:]):  \n",
    "        yield (first,) + perm \n",
    "\n",
    "\n",
    "for arrangement in circular_permutations([1, 2, 3, 4]):\n",
    "    print(arrangement)"
   ]
  },
  {
   "cell_type": "code",
   "execution_count": 89,
   "id": "3b175ea7-faf1-4015-9fba-2d3bf4228c87",
   "metadata": {},
   "outputs": [
    {
     "name": "stdout",
     "output_type": "stream",
     "text": [
      "('img1.jpg', 'img2.jpg', 'img3.jpg')\n",
      "('img1.jpg', 'img3.jpg', 'img2.jpg')\n",
      "('img2.jpg', 'img1.jpg', 'img3.jpg')\n",
      "('img2.jpg', 'img3.jpg', 'img1.jpg')\n",
      "('img3.jpg', 'img1.jpg', 'img2.jpg')\n",
      "('img3.jpg', 'img2.jpg', 'img1.jpg')\n"
     ]
    }
   ],
   "source": [
    "# Пункт б \n",
    "def image_layouts(images):\n",
    "    yield from permutations(images)\n",
    "\n",
    "\n",
    "for layout in image_layouts([\"img1.jpg\", \"img2.jpg\", \"img3.jpg\"]):\n",
    "    print(layout)"
   ]
  },
  {
   "cell_type": "code",
   "execution_count": 93,
   "id": "f2d4fd67-9ba1-424c-8e0a-a844fa805061",
   "metadata": {},
   "outputs": [
    {
     "data": {
      "text/plain": [
       "[(1, 2, 3, 5),\n",
       " (1, 2, 5, 3),\n",
       " (1, 3, 2, 5),\n",
       " (1, 3, 5, 2),\n",
       " (1, 5, 2, 3),\n",
       " (1, 5, 3, 2),\n",
       " (2, 1, 3, 5),\n",
       " (2, 1, 5, 3),\n",
       " (2, 3, 1, 5),\n",
       " (2, 3, 5, 1),\n",
       " (2, 5, 1, 3),\n",
       " (2, 5, 3, 1),\n",
       " (3, 1, 2, 5),\n",
       " (3, 1, 5, 2),\n",
       " (3, 2, 1, 5),\n",
       " (3, 2, 5, 1),\n",
       " (3, 5, 1, 2),\n",
       " (3, 5, 2, 1),\n",
       " (5, 1, 2, 3),\n",
       " (5, 1, 3, 2),\n",
       " (5, 2, 1, 3),\n",
       " (5, 2, 3, 1),\n",
       " (5, 3, 1, 2),\n",
       " (5, 3, 2, 1)]"
      ]
     },
     "execution_count": 93,
     "metadata": {},
     "output_type": "execute_result"
    }
   ],
   "source": [
    "# Пункт в\n",
    "elements = [1, 2, 3, 5]\n",
    "permutations_list = list(permutation for permutation in permutations(elements))\n",
    "\n",
    "permutations_list"
   ]
  },
  {
   "cell_type": "code",
   "execution_count": 97,
   "id": "2b747efc-8f92-46f2-a439-a8c87d000ad5",
   "metadata": {},
   "outputs": [
    {
     "data": {
      "text/plain": [
       "[1, 2, 4, 5, 9]"
      ]
     },
     "execution_count": 97,
     "metadata": {},
     "output_type": "execute_result"
    }
   ],
   "source": [
    "# Пункт г\n",
    "numbers = [5, 2, 9, 1, 4]\n",
    "sorted_numbers = [num for num in sorted(numbers)]\n",
    "\n",
    "sorted_numbers"
   ]
  },
  {
   "cell_type": "markdown",
   "id": "78806421-535c-4d93-a5f2-153d78e87ed9",
   "metadata": {},
   "source": [
    "### Task 32\n",
    "10. Используя модуль `array` и  библиотеку `numpy`, решить следующие задачи:<br>а) Дан массив $A$ размера $N$. Сформировать новый массив B того же размера по следующему правилу: элемент BK равен сумме элементов массива $A$ с номерами от $K$ до $N$.<br>б) Дана матрица размера $M×N$. Упорядочить ее строки так, чтобы их первые элементы образовывали возрастающую последовательность."
   ]
  },
  {
   "cell_type": "code",
   "execution_count": 3,
   "id": "9c93488f-3c91-4444-8e7e-fc4c1f26b786",
   "metadata": {},
   "outputs": [],
   "source": [
    "import numpy as np"
   ]
  },
  {
   "cell_type": "code",
   "execution_count": 13,
   "id": "5c05ba5c-2882-4903-9f40-34206d4536e4",
   "metadata": {},
   "outputs": [
    {
     "data": {
      "text/plain": [
       "array([15, 14, 12,  9,  5])"
      ]
     },
     "execution_count": 13,
     "metadata": {},
     "output_type": "execute_result"
    }
   ],
   "source": [
    "def create_array_b(a):\n",
    "    n = len(a)\n",
    "    b = np.zeros(n, dtype=a.dtype)\n",
    "    for k in range(n):\n",
    "        b[k] = np.sum(a[k:]) \n",
    "    return b\n",
    "\n",
    "A = np.array([1, 2, 3, 4, 5])\n",
    "B = create_array_b(A)\n",
    "B"
   ]
  },
  {
   "cell_type": "code",
   "execution_count": 15,
   "id": "837ad20b-c6c6-464a-8bab-a35f547a78c3",
   "metadata": {},
   "outputs": [
    {
     "data": {
      "text/plain": [
       "array([[1, 2, 3],\n",
       "       [2, 4, 6],\n",
       "       [3, 5, 7],\n",
       "       [4, 5, 6]])"
      ]
     },
     "execution_count": 15,
     "metadata": {},
     "output_type": "execute_result"
    }
   ],
   "source": [
    "# пункт б\n",
    "\n",
    "def sort_matrix(matrix):\n",
    "    sorted_indices = np.argsort(matrix[:, 0])\n",
    "    return matrix[sorted_indices]\n",
    "\n",
    "\n",
    "M = np.array([\n",
    "    [3, 5, 7],\n",
    "    [1, 2, 3],\n",
    "    [4, 5, 6],\n",
    "    [2, 4, 6]\n",
    "])\n",
    "\n",
    "sorted_M = sort_matrix(M)\n",
    "sorted_M"
   ]
  }
 ],
 "metadata": {
  "kernelspec": {
   "display_name": "Python 3 (ipykernel)",
   "language": "python",
   "name": "python3"
  },
  "language_info": {
   "codemirror_mode": {
    "name": "ipython",
    "version": 3
   },
   "file_extension": ".py",
   "mimetype": "text/x-python",
   "name": "python",
   "nbconvert_exporter": "python",
   "pygments_lexer": "ipython3",
   "version": "3.12.4"
  }
 },
 "nbformat": 4,
 "nbformat_minor": 5
}
